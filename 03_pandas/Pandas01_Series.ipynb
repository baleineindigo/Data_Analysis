{
 "cells": [
  {
   "cell_type": "code",
   "execution_count": 1,
   "metadata": {
    "scrolled": true
   },
   "outputs": [
    {
     "data": {
      "text/plain": [
       "'\\nPandas는 Panel Datas의 약자로 파이썬을 이용한 데이터 분석에서 가장 많이 사용되는 라이브러리\\nnumpy를 기반으로 한 라이브러리. 데이터 분석을 위한 효율적인 자료 구조를 제공\\n1) series(1차원) : vector\\n2) DataFrame(2차원) : Metrix\\n3) Panel(3차원)\\n\\n2차원 배열구조가 가장 빈번하게 쓰인다.\\n엑셀과 같은 테이블 형식의 데이터.\\n1) 프로그램이 아니다\\n2) 라이브러리가 없다...Numpy, pandas, Matplot\\n--> 데이터 분석을 위한 Python 강력한 라이브러리\\n'"
      ]
     },
     "execution_count": 1,
     "metadata": {},
     "output_type": "execute_result"
    }
   ],
   "source": [
    "'''\n",
    "Pandas는 Panel Datas의 약자로 파이썬을 이용한 데이터 분석에서 가장 많이 사용되는 라이브러리\n",
    "numpy를 기반으로 한 라이브러리. 데이터 분석을 위한 효율적인 자료 구조를 제공\n",
    "1) series(1차원) : vector\n",
    "2) DataFrame(2차원) : Metrix\n",
    "3) Panel(3차원)\n",
    "\n",
    "2차원 배열구조가 가장 빈번하게 쓰인다.\n",
    "엑셀과 같은 테이블 형식의 데이터.\n",
    "1) 프로그램이 아니다\n",
    "2) 라이브러리가 없다...Numpy, pandas, Matplot\n",
    "--> 데이터 분석을 위한 Python 강력한 라이브러리\n",
    "'''"
   ]
  },
  {
   "cell_type": "markdown",
   "metadata": {},
   "source": [
    "## Series\n",
    "### 시리즈 생성, 구조확인"
   ]
  },
  {
   "cell_type": "code",
   "execution_count": 14,
   "metadata": {},
   "outputs": [],
   "source": [
    "import numpy as np\n",
    "import pandas as pd\n",
    "from pandas import Series, DataFrame\n",
    "\n",
    "import matplotlib.pyplot as plt"
   ]
  },
  {
   "cell_type": "code",
   "execution_count": 15,
   "metadata": {},
   "outputs": [
    {
     "name": "stdout",
     "output_type": "stream",
     "text": [
      "Index(['a', 'b', 'c', 'd', 'e'], dtype='object')\n",
      "[15 10 13 13 17]\n",
      "int32\n"
     ]
    }
   ],
   "source": [
    "# 시리즈 생성\n",
    "# 시리즈는 인덱스를 명시적으로 지정하지 않으면 자동으로 0~N -1까지의 정수로 지정\n",
    "np.random.seed(0)\n",
    "ser1=Series(np.random.randint(10,20,5),index=list('abcde'))\n",
    "print(ser1.index)\n",
    "print(ser1.values)# 시리즈는 np배열...동일한 자료형만 담을 수 있다.\n",
    "print(ser1.dtype)"
   ]
  },
  {
   "cell_type": "markdown",
   "metadata": {},
   "source": [
    "## 시리즈의 값을 조회"
   ]
  },
  {
   "cell_type": "code",
   "execution_count": 16,
   "metadata": {},
   "outputs": [
    {
     "name": "stdout",
     "output_type": "stream",
     "text": [
      "10\n",
      "************************************************************\n",
      "10\n",
      "************************************************************\n",
      "b    10\n",
      "c    13\n",
      "d    13\n",
      "dtype: int32\n",
      "************************************************************\n",
      "b    10\n",
      "c    13\n",
      "d    13\n",
      "dtype: int32\n"
     ]
    }
   ],
   "source": [
    "'''\n",
    "단일한 값, 여러값을 선택할 때\n",
    "1) 인덱스로 지정 -- [1: 4] >> 마지막 숫자를 포함.\n",
    "2) 라벨로 지정 -- ['a':'c'] >> 마지막 숫자를 포함 안함.\n",
    "\n",
    "'''\n",
    "print(ser1[1])\n",
    "print(\"*\"*60)\n",
    "print(ser1['b'])\n",
    "print(\"*\"*60)\n",
    "print(ser1[1:4])\n",
    "print(\"*\"*60)\n",
    "print(ser1['b':'d'])"
   ]
  },
  {
   "cell_type": "markdown",
   "metadata": {},
   "source": [
    "## 응용해서 조회하기"
   ]
  },
  {
   "cell_type": "code",
   "execution_count": 17,
   "metadata": {},
   "outputs": [
    {
     "name": "stdout",
     "output_type": "stream",
     "text": [
      "e    17\n",
      "d    13\n",
      "c    13\n",
      "b    10\n",
      "a    15\n",
      "dtype: int32\n",
      "e    17\n",
      "c    13\n",
      "a    15\n",
      "dtype: int32\n"
     ]
    }
   ],
   "source": [
    "ser1=ser1[::-1]\n",
    "print(ser1)\n",
    "ser1_1=ser1[::2]\n",
    "print(ser1_1)"
   ]
  },
  {
   "cell_type": "markdown",
   "metadata": {},
   "source": [
    "## 시리즈간의 연산과 누락데이터 처리"
   ]
  },
  {
   "cell_type": "code",
   "execution_count": 13,
   "metadata": {},
   "outputs": [
    {
     "data": {
      "text/plain": [
       "a    30.0\n",
       "b     NaN\n",
       "c    26.0\n",
       "d     NaN\n",
       "e    34.0\n",
       "dtype: float64"
      ]
     },
     "execution_count": 13,
     "metadata": {},
     "output_type": "execute_result"
    }
   ],
   "source": [
    "# 시리즈간의 연산\n",
    "# 인덱스가 없는 시리즈의 연산은 NaN 출력....누락데이터\n",
    "result=ser1+ser1_1\n",
    "result"
   ]
  },
  {
   "cell_type": "code",
   "execution_count": 18,
   "metadata": {},
   "outputs": [
    {
     "name": "stdout",
     "output_type": "stream",
     "text": [
      "a    False\n",
      "b     True\n",
      "c    False\n",
      "d     True\n",
      "e    False\n",
      "dtype: bool\n",
      "##################################################\n",
      "2\n",
      "##################################################\n",
      "3\n",
      "##################################################\n",
      "b   NaN\n",
      "d   NaN\n",
      "dtype: float64\n",
      "##################################################\n",
      "a    30.0\n",
      "c    26.0\n",
      "e    34.0\n",
      "dtype: float64\n"
     ]
    },
    {
     "data": {
      "text/plain": [
       "'\\n시리즈는 넘파이 배열과 같음. 따라서 배열안에 있는 요소의 자료형이 같아야 함.\\nNaN의 자료형은 float. 따라서 int만 넣고 연산해도 Nan이 있으면 isnull할 때 float형으로 나옴.\\n'"
      ]
     },
     "execution_count": 18,
     "metadata": {},
     "output_type": "execute_result"
    }
   ],
   "source": [
    "# 2. 누락데이터 조회하는 함수...isnull() notnull()\n",
    "result\n",
    "\n",
    "print(result.isnull())\n",
    "print('#'*50)\n",
    "print(result.isnull().sum())# 누락데이터 개수 알아보기\n",
    "print('#'*50)\n",
    "print(result.notnull().sum())\n",
    "print('#'*50)\n",
    "print(result[result.isnull()])\n",
    "print('#'*50)\n",
    "print(result[result.notnull()])\n",
    "\n",
    "'''\n",
    "시리즈는 넘파이 배열과 같음. 따라서 배열안에 있는 요소의 자료형이 같아야 함.\n",
    "NaN의 자료형은 float. 따라서 int만 넣고 연산해도 Nan이 있으면 isnull할 때 float형으로 나옴.\n",
    "'''\n"
   ]
  },
  {
   "cell_type": "markdown",
   "metadata": {},
   "source": [
    "## 시리즈 값을 이용한 시각화"
   ]
  },
  {
   "cell_type": "code",
   "execution_count": 87,
   "metadata": {},
   "outputs": [
    {
     "data": {
      "image/png": "[encoded data removed]",
      "text/plain": [
       "<Figure size 432x288 with 1 Axes>"
      ]
     },
     "metadata": {
      "needs_background": "light"
     },
     "output_type": "display_data"
    }
   ],
   "source": [
    "'''\n",
    "위에서 했던 작업을 최종적으로 시각화\n",
    "우리가 다룬 데이터 중에서 누락 데이터를 제외한 데이터의 분포를 확인하는 그래프\n",
    "'''\n",
    "result[result.notnull()].plot(kind=\"bar\", color=\"magenta\")\n",
    "plt.show()"
   ]
  },
  {
   "cell_type": "code",
   "execution_count": 69,
   "metadata": {},
   "outputs": [
    {
     "data": {
      "image/png": "[encoded data removed]",
      "text/plain": [
       "<Figure size 432x288 with 1 Axes>"
      ]
     },
     "metadata": {
      "needs_background": "light"
     },
     "output_type": "display_data"
    }
   ],
   "source": [
    "result[result.notnull()].plot(kind=\"barh\", color=\"lightpink\",title=\"Hello World\")\n",
    "plt.show()"
   ]
  },
  {
   "cell_type": "code",
   "execution_count": null,
   "metadata": {},
   "outputs": [],
   "source": []
  },
  {
   "cell_type": "code",
   "execution_count": null,
   "metadata": {},
   "outputs": [],
   "source": []
  },
  {
   "cell_type": "code",
   "execution_count": null,
   "metadata": {},
   "outputs": [],
   "source": []
  },
  {
   "cell_type": "code",
   "execution_count": null,
   "metadata": {},
   "outputs": [],
   "source": []
  },
  {
   "cell_type": "code",
   "execution_count": null,
   "metadata": {},
   "outputs": [],
   "source": []
  },
  {
   "cell_type": "code",
   "execution_count": null,
   "metadata": {},
   "outputs": [],
   "source": []
  },
  {
   "cell_type": "code",
   "execution_count": null,
   "metadata": {},
   "outputs": [],
   "source": []
  },
  {
   "cell_type": "code",
   "execution_count": null,
   "metadata": {},
   "outputs": [],
   "source": []
  },
  {
   "cell_type": "code",
   "execution_count": null,
   "metadata": {},
   "outputs": [],
   "source": []
  },
  {
   "cell_type": "code",
   "execution_count": null,
   "metadata": {},
   "outputs": [],
   "source": []
  },
  {
   "cell_type": "code",
   "execution_count": null,
   "metadata": {},
   "outputs": [],
   "source": []
  }
 ],
 "metadata": {
  "kernelspec": {
   "display_name": "Python 3",
   "language": "python",
   "name": "python3"
  },
  "language_info": {
   "codemirror_mode": {
    "name": "ipython",
    "version": 3
   },
   "file_extension": ".py",
   "mimetype": "text/x-python",
   "name": "python",
   "nbconvert_exporter": "python",
   "pygments_lexer": "ipython3",
   "version": "3.7.6"
  }
 },
 "nbformat": 4,
 "nbformat_minor": 4
}
