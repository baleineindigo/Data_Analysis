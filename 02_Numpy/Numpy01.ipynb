{
 "cells": [
  {
   "cell_type": "code",
   "execution_count": 2,
   "metadata": {},
   "outputs": [],
   "source": [
    "import numpy as np #Alising numpy as np"
   ]
  },
  {
   "cell_type": "code",
   "execution_count": 10,
   "metadata": {},
   "outputs": [],
   "source": [
    "array1=np.array([2,3,5,7,11,13,17,19,23,31])\n",
    "array2=np.array([[2,3,5,7],[11,13,17,19],[23,31,37,41]])"
   ]
  },
  {
   "cell_type": "code",
   "execution_count": 3,
   "metadata": {},
   "outputs": [
    {
     "name": "stdout",
     "output_type": "stream",
     "text": [
      "<class 'numpy.ndarray'>\n",
      "<class 'numpy.ndarray'>\n"
     ]
    }
   ],
   "source": [
    "print(type(array1))\n",
    "print(type(array2))"
   ]
  },
  {
   "cell_type": "code",
   "execution_count": 4,
   "metadata": {},
   "outputs": [
    {
     "name": "stdout",
     "output_type": "stream",
     "text": [
      "(10,)\n",
      "[[ 2  3  5  7]\n",
      " [11 13 17 19]\n",
      " [23 31 37 41]]\n",
      "(3, 4)\n"
     ]
    }
   ],
   "source": [
    "print(array1.shape)\n",
    "print(array2.shape)\n",
    "#어떤요소가 있는지 살펴보려고\n",
    "#array1은 1차원 array, array2는 2차원 array"
   ]
  },
  {
   "cell_type": "code",
   "execution_count": 5,
   "metadata": {},
   "outputs": [
    {
     "name": "stdout",
     "output_type": "stream",
     "text": [
      "10\n",
      "12\n"
     ]
    }
   ],
   "source": [
    "print(array1.size)\n",
    "print(array2.size)"
   ]
  },
  {
   "cell_type": "code",
   "execution_count": 6,
   "metadata": {},
   "outputs": [
    {
     "name": "stdout",
     "output_type": "stream",
     "text": [
      "[4 4 4 4 4 4 4 4]\n",
      "[0 0 0 0 0 0 0 0]\n",
      "[0 0 0 0 0 0 0 0]\n",
      "[1. 1. 1. 1. 1. 1. 1. 1.]\n"
     ]
    }
   ],
   "source": [
    "array1=np.full(8,4)\n",
    "print(array1)\n",
    "#np.full(a,b) : full fill array1 with b as much as a\n",
    "array2=np.full(8,0)\n",
    "array3=np.zeros(8,dtype=int) #when fill it with zeros, just use this code instead of above one. \n",
    "print(array2)\n",
    "print(array3)\n",
    "array4=np.ones(8) # same with zeros...\n",
    "print(array4)"
   ]
  },
  {
   "cell_type": "code",
   "execution_count": 7,
   "metadata": {
    "scrolled": false
   },
   "outputs": [
    {
     "name": "stdout",
     "output_type": "stream",
     "text": [
      "[0.79448609 0.84824792 0.99830954 0.68758271 0.84315185 0.74069827\n",
      " 0.2904992  0.97896082 0.7797155  0.73869807 0.4377108  0.7804132\n",
      " 0.18172536 0.90372108 0.73916711 0.69466869 0.25995977 0.4695851\n",
      " 0.44106334 0.64986663 0.64966241 0.18358926 0.40075592 0.03886287\n",
      " 0.88193836 0.23989189 0.28930235 0.73186441 0.37410588 0.24142546\n",
      " 0.60816265 0.84790811 0.40507236 0.39130062 0.98036662 0.00638935\n",
      " 0.59755272 0.26533689 0.57413489 0.69766421 0.40156691 0.00115133\n",
      " 0.04690519 0.02012803 0.41201292 0.96101821 0.48269428 0.99834357\n",
      " 0.98487708 0.67070689 0.5784585  0.76503935 0.35131244 0.71967505\n",
      " 0.34756777 0.87157244 0.8932933  0.12408491 0.77853738 0.30529404\n",
      " 0.02536164 0.70853791 0.61481982 0.06447826 0.96441072 0.2557306\n",
      " 0.09602459 0.93368001 0.82493067 0.02398967 0.75009237 0.9978684\n",
      " 0.88719085 0.60022551 0.2379643  0.97291657 0.07467019 0.94851374\n",
      " 0.32601983 0.92866881 0.35024121 0.39230529 0.50236709 0.11760433\n",
      " 0.39617424 0.61803453 0.7254097  0.2354446  0.20714598 0.23398979\n",
      " 0.32889252 0.80513863 0.18348025 0.85077557 0.37601233 0.46814093\n",
      " 0.26794237 0.88152703 0.33722518 0.64044063]\n"
     ]
    }
   ],
   "source": [
    "#Selecting Random one Variables\n",
    "array5=np.random.random(100)\n",
    "print(array5)"
   ]
  },
  {
   "cell_type": "code",
   "execution_count": 8,
   "metadata": {
    "scrolled": true
   },
   "outputs": [
    {
     "name": "stdout",
     "output_type": "stream",
     "text": [
      "[20 21 22 23 24 25 26 27 28 29 30 31 32 33 34 35 36 37 38 39 40 41 42 43\n",
      " 44 45 46 47 48 49 50 51 52 53 54 55 56 57 58 59 60 61 62 63 64 65 66 67\n",
      " 68 69 70 71 72 73 74 75 76 77 78 79 80 81 82 83 84 85 86 87 88 89 90 91\n",
      " 92 93 94 95 96 97 98 99]\n",
      "[20 23 26 29 32 35 38 41 44 47 50 53 56 59 62 65 68 71 74 77 80 83 86 89\n",
      " 92 95 98]\n"
     ]
    }
   ],
   "source": [
    "#Consecutive Variables\n",
    "array6=np.arange(20,100)\n",
    "print(array6)\n",
    "array7=np.arange(20,100,3) #arange(a,b,c) among a to b, multiple numbers of c\n",
    "print(array7)"
   ]
  },
  {
   "cell_type": "code",
   "execution_count": 33,
   "metadata": {},
   "outputs": [
    {
     "name": "stdout",
     "output_type": "stream",
     "text": [
      "12\n",
      "(12,)\n",
      "<class 'numpy.ndarray'>\n",
      "[ 2  7 17 31]\n",
      "[ 5 23 13]\n"
     ]
    }
   ],
   "source": [
    "#Indexing & slicing #\n",
    "array1=np.array([2,3,5,7,11,13,17,19,23,31,37,41])\n",
    "print(array1.size)\n",
    "print(array1.shape)\n",
    "print(type(array1))\n",
    "print(array1[0:10:3])   # [a:b:c] : from a to b, c만큼 건너뛴 숫자 가져오기\n",
    "array2=np.array([2,8,5]) #다른 array로 인덱싱하기. array1의 2,8,5번째 숫자 가져오기.\n",
    "print(array1[array2])"
   ]
  },
  {
   "cell_type": "code",
   "execution_count": 70,
   "metadata": {},
   "outputs": [
    {
     "name": "stdout",
     "output_type": "stream",
     "text": [
      "[False False False False  True  True  True  True  True  True  True  True]\n",
      "[ 2  3  5  7 11 13 17 19 23 31 37 41]\n",
      "(array([ 4,  5,  6,  7,  8,  9, 10, 11], dtype=int64),)\n",
      "(array([ 3,  4,  5,  6,  7,  8,  9, 10, 11], dtype=int64),)\n",
      "[ 7 11 13 17 19 23 31 37 41]\n"
     ]
    }
   ],
   "source": [
    "#Boolean 연산\n",
    "booleans=np.array(array1>10)\n",
    "print(booleans)\n",
    "print(array1)\n",
    "print(np.where(booleans))  #TRUE인 값들만 불러옴\n",
    "print(np.where(array1>5))  #booleans에서 2이상인 인덱스 값만 불러옴\n",
    "filter=np.where(array1>5)  # 필터로 쓰기\n",
    "print(array1[filter])"
   ]
  },
  {
   "cell_type": "code",
   "execution_count": 75,
   "metadata": {},
   "outputs": [
    {
     "name": "stdout",
     "output_type": "stream",
     "text": [
      "[ 2  3  5  7 11 13 17 19 23 31 37 41]\n",
      "17.416666666666668\n",
      "15.0\n",
      "12.671873929647852\n",
      "160.57638888888889\n",
      "41\n",
      "2\n"
     ]
    }
   ],
   "source": [
    "#Statistic in Nunpy\n",
    "print(array1)\n",
    "print(array1.mean())\n",
    "print(np.median(array1))\n",
    "print(array1.std())\n",
    "print(array1.var())\n",
    "print(array1.max())\n",
    "print(array1.min())"
   ]
  },
  {
   "cell_type": "markdown",
   "metadata": {},
   "source": [
    "## Numpy 배열 생성하기"
   ]
  },
  {
   "cell_type": "code",
   "execution_count": null,
   "metadata": {},
   "outputs": [],
   "source": [
    "'''\n",
    "Numpy는 Numeric Python의 약자이다..\n",
    "수학분야 관련된 통계작업 시 python의 가장 기본이 되는 라이브러리\n",
    "과학계산컴퓨팅 작업과 데이터 분석에 필요한 작업이 가능\n",
    "리스트와 거의 흡사하지만 훨씬 빠르고 메모리 효율성이 높아서 성능상 우위.\n",
    "\n",
    "1) import numpy\n",
    "2) array(), random.random() 등 사용\n",
    "'''"
   ]
  },
  {
   "cell_type": "markdown",
   "metadata": {},
   "source": [
    "### 리스트와 numpy 배열 생성하고 비교"
   ]
  },
  {
   "cell_type": "code",
   "execution_count": 9,
   "metadata": {
    "scrolled": true
   },
   "outputs": [
    {
     "name": "stdout",
     "output_type": "stream",
     "text": [
      "[[1, 2, 3], [4, 5, 6], [14, 25, 36]]\n",
      "[[ 1  2  3]\n",
      " [ 4  5  6]\n",
      " [14 25 36]]\n"
     ]
    }
   ],
   "source": [
    "import numpy as np\n",
    "# 1. Array 생성\n",
    "mylist=list([[1,2,3],[4,5,6],[14,25,36]])\n",
    "mynp=np.array(mylist)\n",
    "\n",
    "print(mylist)\n",
    "print(mynp)\n",
    "\n",
    "'''\n",
    "1. 리스트는 출력 결과가 []안에서 \",\"로 구분되는 반면, \n",
    "   ndarray는 []안에서 \",\"로 구분되지 않는다\n",
    "\n",
    "2. numpy는 ndarray객체 타입으로 나온다.\n",
    "   ndarray객체는 다차원 행렬 구조를 지원하는 Numpy의 핵심 클래스\n",
    "\n",
    "3. \n",
    "'''\n"
   ]
  },
  {
   "cell_type": "code",
   "execution_count": 24,
   "metadata": {},
   "outputs": [
    {
     "name": "stdout",
     "output_type": "stream",
     "text": [
      "[1, 2]\n",
      "[-5  2]\n",
      "[-5  2]\n",
      "[[1, 2, 3], [4, 5, 6], [14, 25, 36]]\n",
      "[[-5  2  3]\n",
      " [ 4  5  6]\n",
      " [14 25 36]]\n"
     ]
    }
   ],
   "source": [
    "myListSub=mylist[0][0:2]\n",
    "print(myListSub)\n",
    "myListSub[0]=-5\n",
    "myArraySub=mynp[0][0:2]\n",
    "print(myArraySub)\n",
    "myArraySub[0]=-5\n",
    "print(myArraySub)\n",
    "\n",
    "print(mylist)\n",
    "print(mynp)\n",
    "\n",
    "'''\n",
    "numpy는 list와 거의 비슷하지만 list는 원본을 유지(메모리에서 다른 객체를 생성)하는 반면,\n",
    "numpy는 원본을 바꿔 버림 >> 메모리 효율성 우수\n",
    "'''"
   ]
  },
  {
   "cell_type": "code",
   "execution_count": 50,
   "metadata": {},
   "outputs": [
    {
     "name": "stdout",
     "output_type": "stream",
     "text": [
      "[[0.35245982 0.03999816 0.3555122  0.27984581]\n",
      " [0.0958608  0.65335655 0.90633499 0.71254714]\n",
      " [0.96954332 0.08937245 0.9580215  0.07655861]\n",
      " [0.22260664 0.1721938  0.12497826 0.49229245]\n",
      " [0.20985367 0.59413495 0.56230438 0.50336611]]\n",
      "[7 4 9 1 5 9 2 8 6 0]\n",
      "[ 1.43579678  0.31883236 -1.52593747 -1.71780877  0.90363507  0.04396108\n",
      "  0.73711415 -0.77340024  0.00347738 -0.9364474 ]\n"
     ]
    }
   ],
   "source": [
    "# 2.랜덤함수 사용해서 생성...\n",
    "# rand(),randint()\n",
    "a=np.random.rand(5,4)\n",
    "print(a)\n",
    "type(a)\n",
    "\n",
    "b=np.random.randint(0,11,10)\n",
    "print(b)\n",
    "\n",
    "c=np.random.randn(10)\n",
    "print(c)\n"
   ]
  },
  {
   "cell_type": "code",
   "execution_count": 95,
   "metadata": {},
   "outputs": [
    {
     "data": {
      "text/plain": [
       "array([ 1,  3, 37,  0])"
      ]
     },
     "execution_count": 95,
     "metadata": {},
     "output_type": "execute_result"
    }
   ],
   "source": [
    "## 리스트와의 차이점\n",
    "'''\n",
    "np배열은 하나의 자료형만 저장 가능\n",
    "즉, 숫자와 문자를 동시에 저장할 수 없다.\n",
    "만약에 숫자와 문자가 동시에 저장되면 더 범용성 넓은 데이터 타입으로 모두 변환됨\n",
    "이러한 제약 조건은 내부 원소에 대한 접근과 반복문 실행을 빨리하기 위함.\n",
    "값의 타입을 dtype으로 명시 가능 int32/int64,float32/float64\n",
    "type은 객체의 타입을 돌려줌. dtype은 요소의 타입\n",
    "'''\n",
    "L=[1,2,3,\"4\",5,6,7]#문자열 포함\n",
    "L=[1,2,3,4.0,5,6,7]#실수 포함\n",
    "npL=np.array(L)\n",
    "npL # 데이터 타입이 다르면 더 범용성 넓은 데이터 타입으로 모두 적용\n",
    "\n",
    "# 또는 dtype으로 지정\n",
    "narr=np.array([1.2,3.4,37,0] , dtype=\"int32\")\n",
    "narr"
   ]
  },
  {
   "cell_type": "markdown",
   "metadata": {},
   "source": [
    "## 배열 초기화"
   ]
  },
  {
   "cell_type": "code",
   "execution_count": 87,
   "metadata": {},
   "outputs": [
    {
     "name": "stdout",
     "output_type": "stream",
     "text": [
      "[0. 0. 0. 0. 0. 0. 0. 0. 0. 0.]\n",
      "[3. 3. 3. 3. 3. 3. 3. 3. 3. 3.]\n",
      "[[1. 0. 0. 0.]\n",
      " [0. 1. 0. 0.]\n",
      " [0. 0. 1. 0.]\n",
      " [0. 0. 0. 1.]] \n",
      " [[2. 0. 0. 0.]\n",
      " [0. 2. 0. 0.]\n",
      " [0. 0. 2. 0.]\n",
      " [0. 0. 0. 2.]]\n",
      "[ 5  9 13 17]\n",
      "[[-1 -1 -1 -1 -1]\n",
      " [-1 -1 -1 -1 -1]\n",
      " [-1 -1 -1 -1 -1]\n",
      " [-1 -1 -1 -1 -1]\n",
      " [-1 -1 -1 -1 -1]]\n"
     ]
    }
   ],
   "source": [
    "# 1. 0값으로 초기화\n",
    "a=np.zeros(10)\n",
    "print(a)\n",
    "\n",
    "# 2. 3값으로 초기화\n",
    "a=np.ones(10)+2\n",
    "print(a)\n",
    "\n",
    "# 4. 단위행렬(e)\n",
    "a=np.eye(4)\n",
    "print(a*a,\"\\n\",a+a)\n",
    "\n",
    "# 5. arange()\n",
    "print(np.arange(5,20+1,4))\n",
    "\n",
    "# 6. full(shape,)\n",
    "a=np.full((5,5),-1.1,dtype=\"int32\")\n",
    "print(a)"
   ]
  },
  {
   "cell_type": "markdown",
   "metadata": {},
   "source": [
    "## Numpy 배열의 속성과 기본함수\n",
    "### ndim, shape(행X열),reshape, size, dtype, type"
   ]
  },
  {
   "cell_type": "code",
   "execution_count": 124,
   "metadata": {},
   "outputs": [
    {
     "name": "stdout",
     "output_type": "stream",
     "text": [
      "[[1 2 3]\n",
      " [4 5 6]]\n",
      "<class 'numpy.ndarray'>\n",
      "2\n",
      "(2, 3)\n",
      "6\n",
      "************************************************************\n",
      "[[ 0  1  2  3  4  5  6  7  8  9 10 11 12 13 14 15]\n",
      " [16 17 18 19 20 21 22 23 24 25 26 27 28 29 30 31]]\n"
     ]
    }
   ],
   "source": [
    "arr1=np.array([[1.0, 2,3],[4,5,6]], dtype=\"int32\")\n",
    "print(arr1)\n",
    "print(type(arr1))\n",
    "print(np.ndim(arr1))\n",
    "print(np.shape(arr1))\n",
    "print(np.size(arr1))\n",
    "print(\"*\"*60)\n",
    "\n",
    "# 배열 요소값 type을 한번에 바꿀 때 사용\n",
    "arr1.astype(np.float64)\n",
    "arr2=np.arange(0,32).reshape(2,16)\n",
    "print(arr2)"
   ]
  },
  {
   "cell_type": "markdown",
   "metadata": {},
   "source": [
    "## 랜덤함수와 seed값 설정하기"
   ]
  },
  {
   "cell_type": "code",
   "execution_count": null,
   "metadata": {},
   "outputs": [],
   "source": [
    "'''\n",
    "numpy random모듈(서브 패키지)에는 난수를 생성하는 다양한 함수들이 존재\n",
    "그 중에서 가장 많이 사용되는 3가지... \n",
    "1) rand : 0 ~ 1사이의 실수값을 반환 - rand(행,열) 행X열 지정\n",
    "2) randn : 가우시안 정규분포값 지정\n",
    "3) randint : randint(row,high,size)\n",
    "'''"
   ]
  },
  {
   "cell_type": "code",
   "execution_count": 14,
   "metadata": {
    "scrolled": true
   },
   "outputs": [
    {
     "name": "stdout",
     "output_type": "stream",
     "text": [
      "**************************************** np.random.randn(4,5) ********************\n",
      "[[-1.18269089  1.33746165 -0.31430504  0.5566431  -0.20929933]\n",
      " [-0.01180037  1.23493345 -0.04341894 -0.68178724  1.20069197]\n",
      " [ 1.34394438 -0.834109    1.0359977   1.6657991   0.94947856]\n",
      " [ 1.06700952  0.39448078  0.60035462 -1.35330447 -0.96449618]]\n",
      "**************************************** np.random.rand(4,5) ********************\n",
      "[[0.02537018 0.1601208  0.81913225 0.1515311  0.72590137]\n",
      " [0.00982155 0.70143236 0.22931261 0.98901718 0.58154452]\n",
      " [0.75553604 0.03819143 0.24365719 0.12186642 0.52535204]\n",
      " [0.97041149 0.0633353  0.35950761 0.2922847  0.9058014 ]]\n",
      "**************************************** np.random.randint(1,5,12).reshape(4,3) ********************\n",
      "[[2 2 4]\n",
      " [2 4 1]\n",
      " [2 3 2]\n",
      " [4 3 4]]\n"
     ]
    }
   ],
   "source": [
    "np.random.seed(404)\n",
    "print(\"*\"*40,\"np.random.randn(4,5)\",\"*\"*20)\n",
    "print(np.random.randn(4,5))\n",
    "print(\"*\"*40,\"np.random.rand(4,5)\",\"*\"*20)\n",
    "print(np.random.rand(4,5))\n",
    "print(\"*\"*40,\"np.random.randint(1,5,12).reshape(4,3)\",\"*\"*20)\n",
    "print(np.random.randint(1,5,12).reshape(4,3))"
   ]
  },
  {
   "cell_type": "code",
   "execution_count": null,
   "metadata": {},
   "outputs": [],
   "source": []
  },
  {
   "cell_type": "code",
   "execution_count": null,
   "metadata": {},
   "outputs": [],
   "source": []
  },
  {
   "cell_type": "code",
   "execution_count": null,
   "metadata": {},
   "outputs": [],
   "source": []
  },
  {
   "cell_type": "code",
   "execution_count": null,
   "metadata": {},
   "outputs": [],
   "source": []
  },
  {
   "cell_type": "code",
   "execution_count": null,
   "metadata": {},
   "outputs": [],
   "source": []
  },
  {
   "cell_type": "code",
   "execution_count": null,
   "metadata": {},
   "outputs": [],
   "source": []
  }
 ],
 "metadata": {
  "kernelspec": {
   "display_name": "Python 3",
   "language": "python",
   "name": "python3"
  },
  "language_info": {
   "codemirror_mode": {
    "name": "ipython",
    "version": 3
   },
   "file_extension": ".py",
   "mimetype": "text/x-python",
   "name": "python",
   "nbconvert_exporter": "python",
   "pygments_lexer": "ipython3",
   "version": "3.7.6"
  }
 },
 "nbformat": 4,
 "nbformat_minor": 2
}
