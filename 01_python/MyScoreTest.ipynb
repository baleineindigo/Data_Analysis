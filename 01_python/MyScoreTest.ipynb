{
 "cells": [
  {
   "cell_type": "code",
   "execution_count": 4,
   "metadata": {},
   "outputs": [
    {
     "name": "stdout",
     "output_type": "stream",
     "text": [
      "값 입력 : 1,2,3\n",
      "총합 :  6\n",
      "평균 :  2.0\n",
      "최대 :  3\n",
      "최소 :  1\n",
      "6\n",
      "6\n",
      "6\n"
     ]
    }
   ],
   "source": [
    "from MyScore import getSum,getMax,getMean,getTwoSum,getMin\n",
    "# 1. 값 입력\n",
    "#data=input(\"값 입력 : \").split(',')\n",
    "#dataL=[int(d) for d in data]\n",
    "dataL=list(map(int,input(\"값 입력 : \").split(',')))\n",
    "# 2. 함수호출\n",
    "print(\"총합 : \",getSum(dataL))\n",
    "print(\"평균 : \",getMean(dataL))\n",
    "print(\"최대 : \",getMax(dataL))\n",
    "print(\"최소 : \",getMin(dataL))\n",
    "print(getTwoSum(1,3))\n",
    "print(getTwoSum(3,1))\n",
    "print(getTwoSum(3))"
   ]
  }
 ],
 "metadata": {
  "kernelspec": {
   "display_name": "Python 3",
   "language": "python",
   "name": "python3"
  },
  "language_info": {
   "codemirror_mode": {
    "name": "ipython",
    "version": 3
   },
   "file_extension": ".py",
   "mimetype": "text/x-python",
   "name": "python",
   "nbconvert_exporter": "python",
   "pygments_lexer": "ipython3",
   "version": "3.7.6"
  }
 },
 "nbformat": 4,
 "nbformat_minor": 4
}
