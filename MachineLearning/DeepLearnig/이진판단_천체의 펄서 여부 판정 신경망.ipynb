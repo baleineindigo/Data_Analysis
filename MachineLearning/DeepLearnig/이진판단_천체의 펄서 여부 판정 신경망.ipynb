{
 "cells": [
  {
   "cell_type": "code",
   "execution_count": 4,
   "metadata": {},
   "outputs": [
    {
     "name": "stdout",
     "output_type": "stream",
     "text": [
      "1.670142184809518e-05\n"
     ]
    }
   ],
   "source": [
    "# Module\n",
    "import numpy as np\n",
    "\n",
    "def sigmoid(x):\n",
    "    return 1.0/(1.0+np.exp(-x))\n",
    "\n",
    "print(sigmoid(-11)) "
   ]
  },
  {
   "cell_type": "code",
   "execution_count": 6,
   "metadata": {},
   "outputs": [
    {
     "name": "stdout",
     "output_type": "stream",
     "text": [
      "Epoch 1 : loss = 33.906, /t accuracy =0.557/0.801\n",
      "Epoch 2 : loss = 8.225, /t accuracy =0.820/0.755\n",
      "Epoch 3 : loss = 7.582, /t accuracy =0.812/0.865\n",
      "Epoch 4 : loss = 7.476, /t accuracy =0.808/0.785\n",
      "Epoch 5 : loss = 7.397, /t accuracy =0.810/0.820\n",
      "Epoch 6 : loss = 7.331, /t accuracy =0.808/0.779\n",
      "Epoch 7 : loss = 7.272, /t accuracy =0.808/0.810\n",
      "Epoch 8 : loss = 7.220, /t accuracy =0.808/0.838\n",
      "Epoch 9 : loss = 7.178, /t accuracy =0.810/0.838\n",
      "Epoch 10 : loss = 7.138, /t accuracy =0.809/0.860\n",
      "\n",
      "filnal Test : final accuracy = 0.860\n",
      "[[1.03338961]\n",
      " [1.47724746]\n",
      " [1.67992711]\n",
      " [2.03717282]\n",
      " [1.60645146]\n",
      " [0.62703825]\n",
      " [2.42585997]\n",
      " [0.52521222]\n",
      " [0.46959183]\n",
      " [0.96029006]] [4.16916919]\n",
      "Epoch 5 : loss = 6.807, /t accuracy =0.809/0.808\n",
      "Epoch 10 : loss = 6.474, /t accuracy =0.813/0.794\n",
      "Epoch 15 : loss = 6.237, /t accuracy =0.818/0.818\n",
      "Epoch 20 : loss = 6.018, /t accuracy =0.821/0.811\n",
      "Epoch 25 : loss = 5.843, /t accuracy =0.824/0.805\n",
      "Epoch 30 : loss = 5.696, /t accuracy =0.826/0.811\n",
      "Epoch 35 : loss = 5.548, /t accuracy =0.828/0.833\n",
      "Epoch 40 : loss = 5.451, /t accuracy =0.831/0.818\n",
      "Epoch 45 : loss = 5.374, /t accuracy =0.832/0.833\n",
      "Epoch 50 : loss = 5.273, /t accuracy =0.834/0.835\n",
      "Epoch 55 : loss = 5.219, /t accuracy =0.834/0.833\n",
      "Epoch 60 : loss = 5.182, /t accuracy =0.834/0.842\n",
      "Epoch 65 : loss = 5.127, /t accuracy =0.836/0.833\n",
      "Epoch 70 : loss = 5.097, /t accuracy =0.836/0.844\n",
      "Epoch 75 : loss = 5.075, /t accuracy =0.836/0.840\n",
      "Epoch 80 : loss = 5.031, /t accuracy =0.837/0.820\n",
      "Epoch 85 : loss = 5.016, /t accuracy =0.838/0.829\n",
      "Epoch 90 : loss = 5.006, /t accuracy =0.838/0.823\n",
      "Epoch 95 : loss = 4.981, /t accuracy =0.837/0.805\n",
      "Epoch 100 : loss = 4.958, /t accuracy =0.839/0.818\n",
      "\n",
      "filnal Test : final accuracy = 0.818\n"
     ]
    }
   ],
   "source": [
    "%run Single_Layer_Percept_전복고리수.ipynb"
   ]
  },
  {
   "cell_type": "code",
   "execution_count": 40,
   "metadata": {},
   "outputs": [],
   "source": [
    "# 메인함수 정의\n",
    "def pulsar_exec(epoch_count=10,mb_size=10,report=1):\n",
    "    load_pulsar_dataset()\n",
    "    init_model()\n",
    "    train_test(epoch_count,mb_size,report)"
   ]
  },
  {
   "cell_type": "code",
   "execution_count": 68,
   "metadata": {},
   "outputs": [],
   "source": [
    "# 데이터 적재함수 정의\n",
    "def load_pulsar_dataset():\n",
    "    with open(\"pulsar_data_train.csv\") as csvfile:\n",
    "        csvreader=csv.reader(csvfile)\n",
    "        next(csvreader,None)\n",
    "        rows=[]\n",
    "\n",
    "        for row in csvreader:\n",
    "            for i in range(0,len(row)) :\n",
    "                if row[i]=='':row[i]=0\n",
    "            rows.append(row)\n",
    "\n",
    "    global data, input_cnt, output_cnt\n",
    "    input_cnt, output_cnt = 8,1\n",
    "    data = np.asarray(rows,dtype=np.float32)\n"
   ]
  },
  {
   "cell_type": "code",
   "execution_count": 69,
   "metadata": {},
   "outputs": [
    {
     "data": {
      "text/plain": [
       "array(['121.15625', '48.37297113', '0.375484665', '-0.013165488999999999',\n",
       "       '3.168896321', '18.399366600000004', '7.449874148999999',\n",
       "       '65.15929771', '0.0'], dtype='<U23')"
      ]
     },
     "execution_count": 69,
     "metadata": {},
     "output_type": "execute_result"
    }
   ],
   "source": [
    "# a=['15','12','11','10','3','2','']\n",
    "# for i in range(0,len(a)): \n",
    "#     if a[i]== '': a[i] = 0\n",
    "# #     print(a[i])\n",
    "\n",
    "# a1=np.asarray(a,dtype=np.float32)\n",
    "\n",
    "# a1.dtype\n",
    "data[0]"
   ]
  },
  {
   "cell_type": "code",
   "execution_count": 70,
   "metadata": {},
   "outputs": [],
   "source": [
    "#  후처리 과정에 대한 순전파와 역전파 함수 재정의\n",
    "def forward_postproc(output,y):\n",
    "    entropy = sigmoid_cross_entropy_with_logits(y,output)\n",
    "    loss=np.mean(entropy)\n",
    "    return loss,[y,output,entropy]\n",
    "\n",
    "def backprop_postproc(G_loss,aux):\n",
    "    y,output,entropy=aux\n",
    "    \n",
    "    g_loss_entropy=1.0/np.prod(entropy.shape)\n",
    "    g_entropy_output=sigmoid_cross_entropy_with_logits_derv(y,output)\n",
    "    \n",
    "    G_entropy = g_loss_entropy * G_loss\n",
    "    G_output = g_entropy_output * G_entropy\n",
    "    \n",
    "    return G_output"
   ]
  },
  {
   "cell_type": "code",
   "execution_count": 74,
   "metadata": {},
   "outputs": [],
   "source": [
    "# 정확도 함수 재정의\n",
    "def eval_accuracy(output,y):\n",
    "    estimate = np.greater(output,0)\n",
    "    answer=np.greater(y,0.5)\n",
    "    correct = np.equal(estimate,answer)\n",
    "    \n",
    "    return np.mean(correct)"
   ]
  },
  {
   "cell_type": "code",
   "execution_count": 83,
   "metadata": {},
   "outputs": [],
   "source": [
    "# 시그모이드 관련 함수\n",
    "def relu(x):\n",
    "    return np.maximum(x,0)\n",
    "\n",
    "def sigmoid(x):\n",
    "    return np.exp(-relu(-x))/ (1 + np.exp(-np.abs(x)))\n",
    "\n",
    "def sigmoid_derv(x,y):\n",
    "    return y*(1-y)\n",
    "\n",
    "def sigmoid_cross_entropy_with_logits(z,x):\n",
    "    return relu(x)-x*z+np.log(1+np.exp(-np.abs(x)))\n",
    "\n",
    "def sigmoid_cross_entorpy_with_logits_derv(z,x):\n",
    "    \n",
    "    return -z + sigmoid(x)"
   ]
  },
  {
   "cell_type": "code",
   "execution_count": 84,
   "metadata": {},
   "outputs": [
    {
     "name": "stdout",
     "output_type": "stream",
     "text": [
      "Epoch 1 : loss = 11.012, /t accuracy =0.945/1.000\n",
      "Epoch 2 : loss = 7.027, /t accuracy =0.951/1.000\n",
      "Epoch 3 : loss = 8.520, /t accuracy =0.952/1.000\n",
      "Epoch 4 : loss = 8.772, /t accuracy =0.956/1.000\n",
      "Epoch 5 : loss = 9.666, /t accuracy =0.954/0.900\n",
      "Epoch 6 : loss = 9.345, /t accuracy =0.956/1.000\n",
      "Epoch 7 : loss = 7.096, /t accuracy =0.959/1.000\n",
      "Epoch 8 : loss = 9.849, /t accuracy =0.956/1.000\n",
      "Epoch 9 : loss = 8.784, /t accuracy =0.956/1.000\n",
      "Epoch 10 : loss = 8.787, /t accuracy =0.955/1.000\n",
      "\n",
      "filnal Test : final accuracy = 1.000\n"
     ]
    }
   ],
   "source": [
    "pulsar_exec()"
   ]
  },
  {
   "cell_type": "code",
   "execution_count": null,
   "metadata": {},
   "outputs": [],
   "source": []
  },
  {
   "cell_type": "code",
   "execution_count": null,
   "metadata": {},
   "outputs": [],
   "source": []
  }
 ],
 "metadata": {
  "kernelspec": {
   "display_name": "Python 3",
   "language": "python",
   "name": "python3"
  },
  "language_info": {
   "codemirror_mode": {
    "name": "ipython",
    "version": 3
   },
   "file_extension": ".py",
   "mimetype": "text/x-python",
   "name": "python",
   "nbconvert_exporter": "python",
   "pygments_lexer": "ipython3",
   "version": "3.7.7"
  }
 },
 "nbformat": 4,
 "nbformat_minor": 4
}
