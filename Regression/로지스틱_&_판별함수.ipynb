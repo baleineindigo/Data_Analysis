{
  "nbformat": 4,
  "nbformat_minor": 0,
  "metadata": {
    "colab": {
      "name": "로지스틱 & 판별함수.ipynb",
      "private_outputs": true,
      "provenance": [],
      "collapsed_sections": []
    },
    "kernelspec": {
      "name": "python3",
      "display_name": "Python 3"
    },
    "accelerator": "GPU"
  },
  "cells": [
    {
      "cell_type": "code",
      "metadata": {
        "id": "mgt_W25K6E7u"
      },
      "source": [
        "import torch\n",
        "import numpy as np\n",
        "import pandas as pd\n",
        "import warnings\n",
        "warnings.filterwarnings(action='ignore')\n",
        "import matplotlib.pyplot as plt\n",
        "import seaborn as sns\n",
        "import statsmodels.api as sm\n",
        "import matplotlib.font_manager as fm\n",
        "from sklearn.preprocessing import StandardScaler\n",
        "\n",
        "\n",
        "# # 그래프에서 마이너스 폰트 깨지는 문제에 대한 대처\n",
        "import matplotlib as mpl\n",
        "mpl.rcParams['axes.unicode_minus'] = False\n",
        "\n",
        "# # GPU 설정 : 런타임 > 런타임 유형 변경 > GPU\n",
        "# # GPU 사용 가능한지 확인\n",
        "device=torch.device(\"cuda\" if torch.cuda.is_available() else \"cpu\")\n",
        "device"
      ],
      "execution_count": null,
      "outputs": []
    },
    {
      "cell_type": "code",
      "metadata": {
        "id": "vAr1L7uE0TUZ"
      },
      "source": [
        "data_med = sm.datasets.get_rdataset(\"MedGPA\", package=\"Stat2Data\")\n",
        "df_gpa = data_med.data\n",
        "df_gpa.tail()\n",
        "\n",
        "# 컬럼별 값 파악\n",
        "[print(i,df_gpa.iloc[:,i].unique()) for i in range(len(df_gpa.columns))]\n",
        "df_gpa.head()"
      ],
      "execution_count": null,
      "outputs": []
    },
    {
      "cell_type": "code",
      "metadata": {
        "id": "Fow8es3j458V"
      },
      "source": [
        ""
      ],
      "execution_count": null,
      "outputs": []
    },
    {
      "cell_type": "code",
      "metadata": {
        "id": "8CtoJQaG0gvZ"
      },
      "source": [
        "## 그래프\n",
        "sns.stripplot(x=\"GPA\",y=\"Acceptance\", data=df_gpa,jitter=True, orient=\"h\", order=[1,0])\n",
        "plt.grid(True)\n",
        "plt.show()"
      ],
      "execution_count": null,
      "outputs": []
    },
    {
      "cell_type": "code",
      "metadata": {
        "id": "3D-_hRTk1WZY"
      },
      "source": [
        "## 로지스틱 회귀 분석\n",
        "y=\"Acceptance\"\n",
        "x=df_gpa.columns.difference(['Accept', 'Acceptance','MCAT',\"Prediction\"])\n",
        "# print(x)\n",
        "gpa_model=sm.Logit.from_formula(\"Acceptance ~ \"+\"+\".join(x),df_gpa)\n",
        "gpa_result=gpa_model.fit(disp=0)\n",
        "print(gpa_result.summary())\n"
      ],
      "execution_count": null,
      "outputs": []
    },
    {
      "cell_type": "code",
      "metadata": {
        "id": "1TduhsdxOjqI"
      },
      "source": [
        "## 로지스틱 회귀 분석 변수 재선별\r\n",
        "gpa_model2=sm.Logit.from_formula(\"Acceptance ~ GPA\",df_gpa)\r\n",
        "gpa_result2=gpa_model2.fit(disp=0)\r\n",
        "print(gpa_result2.summary())\r\n"
      ],
      "execution_count": null,
      "outputs": []
    },
    {
      "cell_type": "code",
      "metadata": {
        "id": "fmzkH9WyOjgl"
      },
      "source": [
        ""
      ],
      "execution_count": null,
      "outputs": []
    },
    {
      "cell_type": "code",
      "metadata": {
        "id": "xiYS8STV3NbX"
      },
      "source": [
        "# 분포\r\n",
        "df_gpa[\"Prediction\"]=gpa_result2.predict(df_gpa)\r\n",
        "sns.distplot(df_gpa[\"Prediction\"],color=\"b\",hist=False)\r\n",
        "sns.distplot(df_gpa[df_gpa[\"Acceptance\"].values==1][\"Prediction\"],color=\"r\",hist=False)\r\n",
        "sns.distplot(df_gpa[df_gpa[\"Acceptance\"].values==0][\"Prediction\"],color=\"m\",hist=False)\r\n",
        "plt.title(\"Prediction Distribution\")"
      ],
      "execution_count": null,
      "outputs": []
    },
    {
      "cell_type": "code",
      "metadata": {
        "id": "-f2aLqTk3UeW"
      },
      "source": [
        "sns.boxplot(x=\"Acceptance\",y=\"Prediction\",data=df_gpa)\n",
        "plt.show()"
      ],
      "execution_count": null,
      "outputs": []
    },
    {
      "cell_type": "code",
      "metadata": {
        "id": "uI7k-OkT3ive"
      },
      "source": [
        "y=df_gpa.iloc[:,1:2]\n",
        "\n",
        "plt.scatter(df_gpa[\"GPA\"], y,lw=2, label=\"data\")\n",
        "plt.plot(df_gpa[\"GPA\"],gpa_result2.fittedvalues*0.1,label=\"func value\")\n",
        "plt.legend()\n",
        "plt.show()"
      ],
      "execution_count": null,
      "outputs": []
    },
    {
      "cell_type": "code",
      "metadata": {
        "id": "cK8DHwfz5KH0"
      },
      "source": [
        "### 로지스틱 회귀모형 성능 측정\n",
        "from sklearn.metrics import log_loss\n",
        "\n",
        "# 로그 손실\n",
        "y_hat=gpa_result2.predict(df_gpa[\"GPA\"])\n",
        "print(\"log_loss : \",log_loss(y,y_hat,normalize=False))\n",
        "\n",
        "# 귀무가설\n",
        "mu_null=np.sum(y)/len(y)\n",
        "print(\"mu_null : \",mu_null.values)\n",
        "\n",
        "# 귀무가설로 계산한 로그 손실\n",
        "y_null=np.ones_like(y)*mu_null[0]\n",
        "print(\"log_loss with mu_null: \",log_loss(y,y_null,normalize=False))\n",
        "\n",
        "# 맥 파든 의사 결정 계수\n",
        "McFadden_R=(log_loss(y, y_hat)/log_loss(y, y_null))\n",
        "print(\"McFadden_R : \",McFadden_R)"
      ],
      "execution_count": null,
      "outputs": []
    },
    {
      "cell_type": "code",
      "metadata": {
        "id": "NDxepTGc5_AW"
      },
      "source": [
        "from sklearn.metrics import roc_curve\r\n",
        "\r\n",
        "fpr, tpr, thresholds = roc_curve(y, gpa_result2.predict(df_gpa[\"GPA\"]))\r\n",
        "\r\n",
        "plt.plot(fpr, tpr)\r\n",
        "plt.show()\r\n"
      ],
      "execution_count": null,
      "outputs": []
    },
    {
      "cell_type": "code",
      "metadata": {
        "id": "YV_EYtPeFAma"
      },
      "source": [
        ""
      ],
      "execution_count": null,
      "outputs": []
    }
  ]
}