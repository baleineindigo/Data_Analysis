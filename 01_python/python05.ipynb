{
 "cells": [
  {
   "cell_type": "markdown",
   "metadata": {},
   "source": [
    "## 함수"
   ]
  },
  {
   "cell_type": "code",
   "execution_count": 3,
   "metadata": {},
   "outputs": [
    {
     "data": {
      "text/plain": [
       "'\\n머신러닝/딥러닝에서 사용자 정의 함수를 자주 사용.\\n\\n1. 기본문법\\ndef 함수이름(매개변수):\\n    \"\"\"\\n        doc string... 함수 기능에 대한 설명...\\n    \"\"\"\\n    <수행할 문장>\\n    <수행할 문장>\\n    [return ]\\n\\n2. 함수를 만드는 4가지 방법\\n★ 위치매개변수\\n★ 기본매개변수\\n★ 키워드매개변수\\n★ 가변매개변수\\n'"
      ]
     },
     "execution_count": 3,
     "metadata": {},
     "output_type": "execute_result"
    }
   ],
   "source": [
    "'''\n",
    "머신러닝/딥러닝에서 사용자 정의 함수를 자주 사용.\n",
    "\n",
    "1. 기본문법\n",
    "def 함수이름(매개변수):\n",
    "    \"\"\"\n",
    "        doc string... 함수 기능에 대한 설명...\n",
    "    \"\"\"\n",
    "    <수행할 문장>\n",
    "    <수행할 문장>\n",
    "    [return ]\n",
    "\n",
    "2. 함수를 만드는 4가지 방법\n",
    "★ 위치매개변수\n",
    "★ 기본매개변수\n",
    "★ 키워드매개변수\n",
    "★ 가변매개변수\n",
    "'''"
   ]
  },
  {
   "cell_type": "code",
   "execution_count": 4,
   "metadata": {},
   "outputs": [
    {
     "name": "stdout",
     "output_type": "stream",
     "text": [
      "8\n"
     ]
    }
   ],
   "source": [
    "# 1. 위치매개변수 : 가장 기본적인 인자값을 전달하는 방식, 함수에서 정의한 위치대로 인자값 할당\n",
    "# docstring조차도 들여쓰기 잘해야함\n",
    "def calc(n1,n2):\n",
    "    '''\n",
    "    인자값으로 받은 n1,n2 2개의 숫자값을 더해서 result에 할당\n",
    "    그 값을 반환하는 기능이 calculation\n",
    "    '''\n",
    "    result=n1+n2\n",
    "    return result\n",
    "print(calc(3,5))\n",
    "#함수에 대한 전반적인 설명..doc string이 나온다\n",
    "calc?\n",
    "#함수에 대한 전반적인 설명..함수에 대한 소스코드가 보인다\n",
    "calc??"
   ]
  },
  {
   "cell_type": "code",
   "execution_count": 5,
   "metadata": {},
   "outputs": [
    {
     "name": "stdout",
     "output_type": "stream",
     "text": [
      "3와 4의 합은 7 입니다.\n"
     ]
    }
   ],
   "source": [
    "def add(a,b):\n",
    "    print(\"%d와 %d의 합은 %d 입니다.\" %(a,b,(a+b)))\n",
    "\n",
    "add(3,4)"
   ]
  },
  {
   "cell_type": "code",
   "execution_count": 6,
   "metadata": {},
   "outputs": [
    {
     "name": "stdout",
     "output_type": "stream",
     "text": [
      "9\n",
      "10\n"
     ]
    }
   ],
   "source": [
    "# 2. 기본 매개변수\n",
    "'''\n",
    "사용자가 따로 값을 입력하지 않으면 기본값이 활성화됨.\n",
    "위치매개변수/일반매개변수 뒤에 위치함.\n",
    "'''\n",
    "def calc1(n1,start=0): # 위치바꾸면 SyntaxError: non-default argument follows default argument\n",
    "    total=0\n",
    "    for i in range(start,n1):\n",
    "        total+=i\n",
    "    return total\n",
    "print(calc1(5,2))\n",
    "print(calc1(5))\n"
   ]
  },
  {
   "cell_type": "code",
   "execution_count": 7,
   "metadata": {},
   "outputs": [
    {
     "data": {
      "text/plain": [
       "'\\npandas의 read_csv() 함수를 통해 살펴보면\\n위치(일반)매개변수보다 기본매개변수를 더 많이 쓴다.\\n'"
      ]
     },
     "execution_count": 7,
     "metadata": {},
     "output_type": "execute_result"
    }
   ],
   "source": [
    "'''\n",
    "pandas의 read_csv() 함수를 통해 살펴보면\n",
    "위치(일반)매개변수보다 기본매개변수를 더 많이 쓴다.\n",
    "'''\n",
    "# import pandas as pd\n",
    "# from pandas import DataFrame\n",
    "# pd.read_csv?"
   ]
  },
  {
   "cell_type": "code",
   "execution_count": 8,
   "metadata": {},
   "outputs": [
    {
     "name": "stdout",
     "output_type": "stream",
     "text": [
      "제 이름은 임채은이고, 나이는 26세, 몸무게는 56kg 입니다.\n"
     ]
    }
   ],
   "source": [
    "# 3. 키워드 매개변수 : 순서에 상관없이 직업 키워드를 지정해서 찾아감\n",
    "# \n",
    "def cal2(name,age,weight):\n",
    "    print(\"제 이름은 %s이고, 나이는 %d세, 몸무게는 %dkg 입니다.\" %(name,age,weight))\n",
    "#cal2(\"임채은\",26,56) ## 위치매개변수 사용 시  인자값 헷갈릴 수도\n",
    "cal2(age=26,name=\"임채은\",weight=56)"
   ]
  },
  {
   "cell_type": "code",
   "execution_count": 9,
   "metadata": {},
   "outputs": [
    {
     "data": {
      "text/html": [
       "<div>\n",
       "<style scoped>\n",
       "    .dataframe tbody tr th:only-of-type {\n",
       "        vertical-align: middle;\n",
       "    }\n",
       "\n",
       "    .dataframe tbody tr th {\n",
       "        vertical-align: top;\n",
       "    }\n",
       "\n",
       "    .dataframe thead th {\n",
       "        text-align: right;\n",
       "    }\n",
       "</style>\n",
       "<table border=\"1\" class=\"dataframe\">\n",
       "  <thead>\n",
       "    <tr style=\"text-align: right;\">\n",
       "      <th></th>\n",
       "      <th>e1</th>\n",
       "      <th>e2</th>\n",
       "      <th>e3</th>\n",
       "      <th>e4</th>\n",
       "    </tr>\n",
       "  </thead>\n",
       "  <tbody>\n",
       "    <tr>\n",
       "      <th>a</th>\n",
       "      <td>0.187348</td>\n",
       "      <td>1.135287</td>\n",
       "      <td>-0.531805</td>\n",
       "      <td>-1.467387</td>\n",
       "    </tr>\n",
       "    <tr>\n",
       "      <th>b</th>\n",
       "      <td>0.448964</td>\n",
       "      <td>-0.979192</td>\n",
       "      <td>-0.125743</td>\n",
       "      <td>-1.054014</td>\n",
       "    </tr>\n",
       "    <tr>\n",
       "      <th>c</th>\n",
       "      <td>0.310906</td>\n",
       "      <td>0.486701</td>\n",
       "      <td>0.895556</td>\n",
       "      <td>0.160296</td>\n",
       "    </tr>\n",
       "    <tr>\n",
       "      <th>d</th>\n",
       "      <td>1.350367</td>\n",
       "      <td>0.197334</td>\n",
       "      <td>0.980020</td>\n",
       "      <td>-0.189550</td>\n",
       "    </tr>\n",
       "  </tbody>\n",
       "</table>\n",
       "</div>"
      ],
      "text/plain": [
       "         e1        e2        e3        e4\n",
       "a  0.187348  1.135287 -0.531805 -1.467387\n",
       "b  0.448964 -0.979192 -0.125743 -1.054014\n",
       "c  0.310906  0.486701  0.895556  0.160296\n",
       "d  1.350367  0.197334  0.980020 -0.189550"
      ]
     },
     "execution_count": 9,
     "metadata": {},
     "output_type": "execute_result"
    }
   ],
   "source": [
    "# 키워드 매개변수의 예\n",
    "import numpy as np\n",
    "import pandas as pd\n",
    "from pandas import DataFrame\n",
    "df1=DataFrame(np.random.randn(4,4),# 위치매개변수인 data가 제일 먼저옴..\n",
    "              index=list('abcd'),\n",
    "              columns=['e1','e2','e3','e4']\n",
    "             )\n",
    "df1"
   ]
  },
  {
   "cell_type": "code",
   "execution_count": 10,
   "metadata": {},
   "outputs": [
    {
     "name": "stdout",
     "output_type": "stream",
     "text": [
      "('3,4,5,6', 'Classic', 234, 234, 23, 4, 23, 4, 0)\n",
      "(3,)\n"
     ]
    }
   ],
   "source": [
    "# 가변매개변수 : 인자값이 몇개인지 모르는 상황에서 사용\n",
    "# 파이썬에서 print()가 대표적인 가변매개변수\n",
    "# 일반매개변수와 달리 변수명 앞에 *이 붙는다\n",
    "# 일반매개변수 앞에는 사용할 수 없다\n",
    "# 가변매개변수는 단 1개만 사용가능\n",
    "\n",
    "def calc3(*args):\n",
    "    print(args)\n",
    "calc3(\"3,4,5,6\",\"Classic\",234,234,23,4,23,4,calc1(0,15)) #결과가 튜플로 출력됨\n",
    "calc3(3)"
   ]
  },
  {
   "cell_type": "code",
   "execution_count": 11,
   "metadata": {},
   "outputs": [
    {
     "name": "stdout",
     "output_type": "stream",
     "text": [
      "{'name': '홍길동', 'age': 19, 'address': '민속촌'}\n"
     ]
    }
   ],
   "source": [
    "def calc4(**args2):# **args는 dict형태로 반환.. 넣는 값도 잘 지정해주기\n",
    "    print(args2)\n",
    "calc4(name=\"홍길동\",age=19,address=\"민속촌\")"
   ]
  },
  {
   "cell_type": "code",
   "execution_count": 12,
   "metadata": {},
   "outputs": [
    {
     "name": "stdout",
     "output_type": "stream",
     "text": [
      "홍길동 : (3, 4, 5)\n"
     ]
    }
   ],
   "source": [
    "def calc5(name,*args):#위치매개변수인 name이 가변매개변수인 *args보다 먼저 나와야 한다.\n",
    "    print(name,\":\",args)\n",
    "calc5(\"홍길동\",3,4,5)"
   ]
  },
  {
   "cell_type": "markdown",
   "metadata": {},
   "source": [
    "## 문제1 : 가변매개변수와 위치매개변수"
   ]
  },
  {
   "cell_type": "code",
   "execution_count": 13,
   "metadata": {},
   "outputs": [
    {
     "data": {
      "text/plain": [
       "'\\n가변매개변수와 위치매개변수를 사용해서 3 6 9 가 출력되도록 함수를 정의.\\n조건 \\n1) 위치매개변수에는 인자값 3을 넣고 호출.\\n2) for문 사용\\n\\n'"
      ]
     },
     "execution_count": 13,
     "metadata": {},
     "output_type": "execute_result"
    }
   ],
   "source": [
    "'''\n",
    "가변매개변수와 위치매개변수를 사용해서 3 6 9 가 출력되도록 함수를 정의.\n",
    "조건 \n",
    "1) 위치매개변수에는 인자값 3을 넣고 호출.\n",
    "2) for문 사용\n",
    "\n",
    "'''"
   ]
  },
  {
   "cell_type": "code",
   "execution_count": 14,
   "metadata": {},
   "outputs": [
    {
     "name": "stdout",
     "output_type": "stream",
     "text": [
      "3\n",
      "6\n",
      "9\n"
     ]
    }
   ],
   "source": [
    "def value_times(times,*values):\n",
    "    for value in values:\n",
    "        print(value*times)\n",
    "value_times(3,1,2,3)"
   ]
  },
  {
   "cell_type": "markdown",
   "metadata": {},
   "source": [
    "## 문제2 : 가변매개변수와 기본매개변수"
   ]
  },
  {
   "cell_type": "code",
   "execution_count": 15,
   "metadata": {},
   "outputs": [
    {
     "data": {
      "text/plain": [
       "'\\n가변매개변수와 기본매개변수를 사용해서 3 6 9 가 출력되도록 함수를 정의.\\n조건 \\n1) 위치매개변수에는 인자값 3을 넣고 호출.\\n2) for문 사용\\n\\n'"
      ]
     },
     "execution_count": 15,
     "metadata": {},
     "output_type": "execute_result"
    }
   ],
   "source": [
    "'''\n",
    "가변매개변수와 기본매개변수를 사용해서 3 6 9 가 출력되도록 함수를 정의.\n",
    "조건 \n",
    "1) 위치매개변수에는 인자값 3을 넣고 호출.\n",
    "2) for문 사용\n",
    "\n",
    "'''"
   ]
  },
  {
   "cell_type": "code",
   "execution_count": 16,
   "metadata": {},
   "outputs": [
    {
     "name": "stdout",
     "output_type": "stream",
     "text": [
      "15\n",
      "5\n",
      "10\n",
      "15\n"
     ]
    }
   ],
   "source": [
    "def value_times(*values,times=2): #기본매개변수를 가변변수 뒤에 뒤에\n",
    "    for value in values:\n",
    "        print(value*times)\n",
    "value_times(3,1,2,3,times=5)"
   ]
  },
  {
   "cell_type": "code",
   "execution_count": 17,
   "metadata": {
    "scrolled": true
   },
   "outputs": [
    {
     "name": "stdout",
     "output_type": "stream",
     "text": [
      "15\n",
      "5\n",
      "10\n",
      "15\n"
     ]
    }
   ],
   "source": [
    "def value_times(times=0,*values):\n",
    "    for value in values:\n",
    "        print(value*times)\n",
    "value_times(5,3,1,2,3)"
   ]
  },
  {
   "cell_type": "markdown",
   "metadata": {},
   "source": [
    "### Custom 함수 정의하기"
   ]
  },
  {
   "cell_type": "code",
   "execution_count": 18,
   "metadata": {},
   "outputs": [
    {
     "data": {
      "text/plain": [
       "'\\n함수 5개 정의\\n1) getSum(data) : input으로 전달받은 데이터의 합을 구해서 리턴하는 기능.\\n2) getMean(data)\\n3) getMax(data)\\n4) getMin(data)\\n5) getTwoSum(n2,n1=1) : 두 수 포함하는 두 수 사이의 합을 수하는 함수\\n'"
      ]
     },
     "execution_count": 18,
     "metadata": {},
     "output_type": "execute_result"
    }
   ],
   "source": [
    "'''\n",
    "함수 5개 정의\n",
    "1) getSum(data) : input으로 전달받은 데이터의 합을 구해서 리턴하는 기능.\n",
    "2) getMean(data)\n",
    "3) getMax(data)\n",
    "4) getMin(data)\n",
    "5) getTwoSum(n2,n1=1) : 두 수 포함하는 두 수 사이의 합을 수하는 함수\n",
    "'''\n"
   ]
  },
  {
   "cell_type": "code",
   "execution_count": 25,
   "metadata": {},
   "outputs": [],
   "source": [
    "# 1) getSum(data) : input으로 전달받은 데이터의 합을 구해서 리턴하는 기능.\n",
    "def getSum(data):\n",
    "    return sum(data)\n",
    "  \n",
    "    \n",
    "# 2) getMean(data)\n",
    "def getMean(data):\n",
    "    return getSum(data)/len(data)\n",
    "\n",
    "\n",
    "# 3) getMax(data)\n",
    "def getMax(data):\n",
    "    maxV=data[0]\n",
    "    for i in data[1:]:\n",
    "        if i>maxV:\n",
    "            maxV=i\n",
    "    return maxV\n",
    "\n",
    "\n",
    "# 4) getMin(data)\n",
    "def getMin(data):\n",
    "    minV=data[0]\n",
    "    for i in data[1:]:\n",
    "        if i<minV:\n",
    "            minV=i\n",
    "    return minV\n",
    "\n",
    "\n",
    "# 5) getTwoSum(n2,n1=1)\n",
    "def getTwoSum(n2,n1=1):\n",
    "    if n2<n1:\n",
    "        n2,n1=n1,n2\n",
    "    return (n1+n2)*(n2+1-n1)//2"
   ]
  },
  {
   "cell_type": "code",
   "execution_count": 32,
   "metadata": {},
   "outputs": [
    {
     "name": "stdout",
     "output_type": "stream",
     "text": [
      "값 입력 : 1,2,3\n",
      "총합 :  6\n",
      "평균 :  2.0\n",
      "최대 :  3\n",
      "최소 :  1\n",
      "10\n",
      "10\n",
      "10\n"
     ]
    }
   ],
   "source": [
    "# 1. 값 입력\n",
    "data=input(\"값 입력 : \").split(',')\n",
    "#dataL=[int(d) for d in data]\n",
    "dataL=list(map(int,data))\n",
    "# 2. 함수호출\n",
    "print(\"총합 : \",getSum(dataL))\n",
    "print(\"평균 : \",getMean(dataL))\n",
    "print(\"최대 : \",getMax(dataL))\n",
    "print(\"최소 : \",getMin(dataL))\n",
    "print(getTwoSum(1,4))\n",
    "print(getTwoSum(4,1))\n",
    "print(getTwoSum(4))"
   ]
  },
  {
   "cell_type": "code",
   "execution_count": null,
   "metadata": {},
   "outputs": [],
   "source": [
    "\n"
   ]
  },
  {
   "cell_type": "code",
   "execution_count": null,
   "metadata": {},
   "outputs": [],
   "source": []
  },
  {
   "cell_type": "code",
   "execution_count": null,
   "metadata": {},
   "outputs": [],
   "source": []
  }
 ],
 "metadata": {
  "kernelspec": {
   "display_name": "Python 3",
   "language": "python",
   "name": "python3"
  },
  "language_info": {
   "codemirror_mode": {
    "name": "ipython",
    "version": 3
   },
   "file_extension": ".py",
   "mimetype": "text/x-python",
   "name": "python",
   "nbconvert_exporter": "python",
   "pygments_lexer": "ipython3",
   "version": "3.7.6"
  }
 },
 "nbformat": 4,
 "nbformat_minor": 4
}
