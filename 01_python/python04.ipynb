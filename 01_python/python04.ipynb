{
 "cells": [
  {
   "cell_type": "markdown",
   "metadata": {},
   "source": [
    "## 조건문, 제어문(if,elif,else)"
   ]
  },
  {
   "cell_type": "code",
   "execution_count": 7,
   "metadata": {},
   "outputs": [
    {
     "name": "stdout",
     "output_type": "stream",
     "text": [
      "a is 3\n"
     ]
    }
   ],
   "source": [
    "a=3\n",
    "if a%2==0:\n",
    "    print(\"짝수입니다.\")\n",
    "else: \n",
    "    if(a==1):\n",
    "        print(\"a is 1\")\n",
    "    elif(a==3):\n",
    "        print(\"a is 3\")"
   ]
  },
  {
   "cell_type": "code",
   "execution_count": 21,
   "metadata": {},
   "outputs": [
    {
     "name": "stdout",
     "output_type": "stream",
     "text": [
      "성적을 입력해주세요 : 90\n",
      "A\n"
     ]
    }
   ],
   "source": [
    "# 키보드로 성적을 입력받고 해당 성적이 몇등급인지 판별해서 출력\n",
    "# result = [90, 35, 68, 44, 81]\n",
    "grade=int(input(\"성적을 입력해주세요 : \"))\n",
    "if grade>100:\n",
    "    print(\"성적은 100점 만점입니다.\\n다시 입력해주세요\")\n",
    "elif (grade>=90)&(grade<100):\n",
    "    print(\"A\")\n",
    "elif (grade>=80)&(grade<90):\n",
    "    print(\"B\")    \n",
    "elif 80>grade>=70:\n",
    "    print(\"C\")\n",
    "else:\n",
    "    print(\"D\")"
   ]
  },
  {
   "cell_type": "markdown",
   "metadata": {},
   "source": [
    "## 반복문(for,while) --- range() 함께"
   ]
  },
  {
   "cell_type": "code",
   "execution_count": 35,
   "metadata": {},
   "outputs": [
    {
     "name": "stdout",
     "output_type": "stream",
     "text": [
      "신비한 동물 사전  조커  기생충  타임패러독스  클래식  \n",
      "========================================================================================================================\n",
      "신비한 동물 사전 / 조커 / 기생충 / 타임패러독스 / 클래식 / "
     ]
    }
   ],
   "source": [
    "movieL=[\"신비한 동물 사전\",\"조커\",\"기생충\",\"타임패러독스\",\"클래식\"]\n",
    "\n",
    "#1\n",
    "for i in movieL:\n",
    "    print(i+\" \",end=\" \")\n",
    "print(\"\\n\"+\"====\"*30)\n",
    "for i in range(len(movieL)):\n",
    "    print(movieL[i]+\" /\", end=\" \")"
   ]
  },
  {
   "cell_type": "markdown",
   "metadata": {},
   "source": [
    "### 문제2\n",
    "### 키보드로 값 입력받고 입력한 값의 전체합을 구하세요\n",
    "#### 입력받은 값은 3,4,5,6"
   ]
  },
  {
   "cell_type": "code",
   "execution_count": 50,
   "metadata": {},
   "outputs": [
    {
     "name": "stdout",
     "output_type": "stream",
     "text": [
      "값을 입력해주세요 : 12,23\n",
      "35\n",
      "총합 :  311\n"
     ]
    }
   ],
   "source": [
    "# 1\n",
    "print(sum(list(map(int,input(\"값을 입력해주세요 : \").split(',')))))\n",
    "\n",
    "# 2\n",
    "intData=[int(i) for i in data]\n",
    "print(sum(intData))\n",
    "\n",
    "# 3\n",
    "total=0\n",
    "for i in data:\n",
    "    total+=int(i)\n",
    "print(\"총합 : \",total)"
   ]
  },
  {
   "cell_type": "markdown",
   "metadata": {},
   "source": [
    "## 문제 3."
   ]
  },
  {
   "cell_type": "code",
   "execution_count": 66,
   "metadata": {},
   "outputs": [
    {
     "name": "stdout",
     "output_type": "stream",
     "text": [
      "['홀', '짝', '홀', '홀', '짝', '짝']\n"
     ]
    }
   ],
   "source": [
    "numList=[5,10,11,3,2,100] #>> ['홀','짝','홀','홀','짝','짝']\n",
    "temp=[\"짝\"]*len(numList)\n",
    "for i in range(len(numList)):\n",
    "    if numList[i]%2!=0:\n",
    "        temp[i]=\"홀\"\n",
    "print(temp)"
   ]
  },
  {
   "cell_type": "code",
   "execution_count": 68,
   "metadata": {},
   "outputs": [
    {
     "data": {
      "text/plain": [
       "['홀', '짝', '홀', '홀', '짝', '짝']"
      ]
     },
     "execution_count": 68,
     "metadata": {},
     "output_type": "execute_result"
    }
   ],
   "source": [
    "[\"홀\" if i%2!=0 else \"짝\" for i in numList]"
   ]
  },
  {
   "cell_type": "markdown",
   "metadata": {},
   "source": [
    "## 이차원 배열에 이중 for문 사용하기"
   ]
  },
  {
   "cell_type": "code",
   "execution_count": 101,
   "metadata": {},
   "outputs": [
    {
     "name": "stdout",
     "output_type": "stream",
     "text": [
      "1   2   3   \n",
      "4   5   6   \n",
      "7   8   9   0   \n"
     ]
    }
   ],
   "source": [
    "matrix=[[1,2,3],[4,5,6],[7,8,9,0]]\n",
    "for i in range(len(matrix)):\n",
    "    for j in range(len(matrix[i])):\n",
    "        print(matrix[i][j],\" \",end=\" \")\n",
    "    print( )"
   ]
  },
  {
   "cell_type": "code",
   "execution_count": 108,
   "metadata": {},
   "outputs": [
    {
     "name": "stdout",
     "output_type": "stream",
     "text": [
      "1 2 3 \n",
      "4 5 6 \n",
      "7 8 9 0 \n"
     ]
    }
   ],
   "source": [
    "for row in matrix:\n",
    "    for col in row:\n",
    "        print(col,'',end='')\n",
    "    print()"
   ]
  },
  {
   "cell_type": "markdown",
   "metadata": {},
   "source": [
    "## While문"
   ]
  },
  {
   "cell_type": "code",
   "execution_count": 8,
   "metadata": {},
   "outputs": [
    {
     "name": "stdout",
     "output_type": "stream",
     "text": [
      "total1 :  5050\n"
     ]
    },
    {
     "ename": "KeyboardInterrupt",
     "evalue": "",
     "output_type": "error",
     "traceback": [
      "\u001b[1;31m---------------------------------------------------------------------------\u001b[0m",
      "\u001b[1;31mKeyboardInterrupt\u001b[0m                         Traceback (most recent call last)",
      "\u001b[1;32m<ipython-input-8-3b78c4c9bad8>\u001b[0m in \u001b[0;36m<module>\u001b[1;34m\u001b[0m\n\u001b[0;32m     16\u001b[0m \u001b[0mtotal2\u001b[0m\u001b[1;33m=\u001b[0m\u001b[1;36m0\u001b[0m\u001b[1;33m\u001b[0m\u001b[1;33m\u001b[0m\u001b[0m\n\u001b[0;32m     17\u001b[0m \u001b[1;32mwhile\u001b[0m \u001b[1;32mTrue\u001b[0m\u001b[1;33m:\u001b[0m\u001b[1;33m\u001b[0m\u001b[1;33m\u001b[0m\u001b[0m\n\u001b[1;32m---> 18\u001b[1;33m     \u001b[1;32mif\u001b[0m \u001b[0mj\u001b[0m\u001b[1;33m==\u001b[0m\u001b[1;36m101\u001b[0m\u001b[1;33m:\u001b[0m\u001b[1;33m\u001b[0m\u001b[1;33m\u001b[0m\u001b[0m\n\u001b[0m\u001b[0;32m     19\u001b[0m         \u001b[1;32mbreak\u001b[0m\u001b[1;33m\u001b[0m\u001b[1;33m\u001b[0m\u001b[0m\n\u001b[0;32m     20\u001b[0m         \u001b[0mtotal2\u001b[0m\u001b[1;33m+=\u001b[0m\u001b[0mj\u001b[0m\u001b[1;33m\u001b[0m\u001b[1;33m\u001b[0m\u001b[0m\n",
      "\u001b[1;31mKeyboardInterrupt\u001b[0m: "
     ]
    }
   ],
   "source": [
    "'''\n",
    "1부터 100까지의 합을 구한다\n",
    "'''\n",
    "#1\n",
    "#print(((100+1)*100)/2)\n",
    "\n",
    "#2\n",
    "i=1\n",
    "total1=0\n",
    "while i<101:\n",
    "    total1+=i\n",
    "    i=i+1\n",
    "print(\"total1 : \",total1)\n",
    "\n",
    "j=1\n",
    "total2=0\n",
    "while True:\n",
    "    if j==101:\n",
    "        break\n",
    "        total2+=j\n",
    "        j=j+1\n",
    "print(\"total2\",total2)"
   ]
  },
  {
   "cell_type": "code",
   "execution_count": 13,
   "metadata": {},
   "outputs": [
    {
     "name": "stdout",
     "output_type": "stream",
     "text": [
      "0\n",
      "1\n",
      "continue 2\n",
      "3\n",
      "pass 4\n",
      "4\n",
      "5\n",
      "break 6\n"
     ]
    }
   ],
   "source": [
    "# continue, break, pass(아무 작업도 수행하지 않는다. 임시함수, 무한 반복문 작성시 사용한다.) 조건문이랑 같이 쓴다...\n",
    "for i in range(10):\n",
    "    if i==2:\n",
    "        print(\"continue\",i)\n",
    "        continue\n",
    "    if i==6:\n",
    "        print(\"break\",i)\n",
    "        break\n",
    "    if i==4:\n",
    "        print(\"pass\",i)\n",
    "        pass\n",
    "    print(i)"
   ]
  },
  {
   "cell_type": "markdown",
   "metadata": {},
   "source": [
    "### 문제 : 번호맞추기 게임"
   ]
  },
  {
   "cell_type": "code",
   "execution_count": null,
   "metadata": {},
   "outputs": [],
   "source": [
    "'''\n",
    "랜덤한 숫자 하나를 지정...random.randrange()\n",
    "키보드로 특정한 숫자를 입력받아서 input,int\n",
    "'''"
   ]
  },
  {
   "cell_type": "code",
   "execution_count": 11,
   "metadata": {},
   "outputs": [],
   "source": [
    "import random\n",
    "comp=random.randrange(1,51)"
   ]
  },
  {
   "cell_type": "code",
   "execution_count": 13,
   "metadata": {},
   "outputs": [
    {
     "name": "stdout",
     "output_type": "stream",
     "text": [
      "숫자를 입력해주세요. : 25\n",
      "더 큰 숫자를 입력해주세요\n",
      "숫자를 입력해주세요. : 40\n",
      "더 작은 숫자를 입력해주세요\n",
      "숫자를 입력해주세요. : 30\n",
      "정답입니다. comp는  30 입니다.\n",
      "2 회 만에 맞추셨습니다.\n"
     ]
    }
   ],
   "source": [
    "count=1\n",
    "while True:\n",
    "    my=int(input(\"숫자를 입력해주세요. : \"))\n",
    "    if comp>my:\n",
    "        print(\"더 큰 숫자를 입력해주세요\")\n",
    "        count+=1\n",
    "    elif comp<my:\n",
    "        print(\"더 작은 숫자를 입력해주세요\")\n",
    "        count+=1\n",
    "    else:\n",
    "        print(\"정답입니다. comp는 \",comp,\"입니다.\")\n",
    "        print(count,\"회 만에 맞추셨습니다.\")\n",
    "        break"
   ]
  },
  {
   "cell_type": "code",
   "execution_count": null,
   "metadata": {},
   "outputs": [],
   "source": []
  },
  {
   "cell_type": "code",
   "execution_count": null,
   "metadata": {},
   "outputs": [],
   "source": []
  }
 ],
 "metadata": {
  "kernelspec": {
   "display_name": "Python 3",
   "language": "python",
   "name": "python3"
  },
  "language_info": {
   "codemirror_mode": {
    "name": "ipython",
    "version": 3
   },
   "file_extension": ".py",
   "mimetype": "text/x-python",
   "name": "python",
   "nbconvert_exporter": "python",
   "pygments_lexer": "ipython3",
   "version": "3.7.6"
  }
 },
 "nbformat": 4,
 "nbformat_minor": 4
}
