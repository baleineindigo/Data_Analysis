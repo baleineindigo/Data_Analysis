{
 "cells": [
  {
   "cell_type": "code",
   "execution_count": 1,
   "metadata": {},
   "outputs": [
    {
     "data": {
      "text/plain": [
       "'\\nDataFrame은 2차원 배열 형식\\n표같은 스프레드시트 자료구조\\n여러개의 컬럼을 가지고 서로 다를 수 있어\\n\\nDataFram은 다양한 방법으로 생성\\n1) 리스트의 값을 딕셔너리로 사용\\n2) Numpy배열을 이용\\n3) read_csv(),read_excel()\\n\\n'"
      ]
     },
     "execution_count": 1,
     "metadata": {},
     "output_type": "execute_result"
    }
   ],
   "source": [
    "'''\n",
    "DataFrame은 2차원 배열 형식\n",
    "표같은 스프레드시트 자료구조\n",
    "여러개의 컬럼을 가지고 서로 다를 수 있어\n",
    "\n",
    "DataFram은 다양한 방법으로 생성\n",
    "1) 리스트의 값을 딕셔너리로 사용\n",
    "2) Numpy배열을 이용\n",
    "3) read_csv(),read_excel()\n",
    "\n",
    "'''"
   ]
  },
  {
   "cell_type": "markdown",
   "metadata": {},
   "source": [
    "## DataFrame\n",
    "### DataFrame 생성하기"
   ]
  },
  {
   "cell_type": "code",
   "execution_count": 2,
   "metadata": {},
   "outputs": [],
   "source": [
    "import numpy as np\n",
    "import pandas as pd\n",
    "from pandas import DataFrame, Series"
   ]
  },
  {
   "cell_type": "code",
   "execution_count": 3,
   "metadata": {
    "scrolled": false
   },
   "outputs": [
    {
     "name": "stdout",
     "output_type": "stream",
     "text": [
      "    state  year  pop\n",
      "0    ohio  2000  1.5\n",
      "1    ohio  2001  1.7\n",
      "2    ohio  2002  3.6\n",
      "3  Nevada  2001  2.4\n",
      "4  Nevada  2002  2.9\n",
      "5  Nevada  2003  3.2\n",
      "**************************************************\n",
      "0      ohio\n",
      "1      ohio\n",
      "2      ohio\n",
      "3    Nevada\n",
      "4    Nevada\n",
      "5    Nevada\n",
      "Name: state, dtype: object\n",
      "**************************************************\n",
      "0    2000\n",
      "1    2001\n",
      "2    2002\n",
      "3    2001\n",
      "4    2002\n",
      "5    2003\n",
      "Name: year, dtype: int64\n",
      "**************************************************\n",
      "0    1.5\n",
      "1    1.7\n",
      "2    3.6\n",
      "3    2.4\n",
      "4    2.9\n",
      "5    3.2\n",
      "Name: pop, dtype: float64\n",
      "**************************************************\n",
      "<class 'pandas.core.series.Series'>\n",
      "**************************************************\n",
      "<class 'pandas.core.series.Series'>\n",
      "**************************************************\n",
      "<class 'pandas.core.series.Series'>\n",
      "**************************************************\n",
      "<class 'method'>\n"
     ]
    }
   ],
   "source": [
    "# 1-1 딕셔너리를 이용해서 DataFrame 만들기\n",
    "list_dic={'state':['ohio','ohio','ohio','Nevada','Nevada','Nevada'],\n",
    "          'year':[2000,2001,2002,2001,2002,2003],\n",
    "          'pop':[1.5,1.7,3.6,2.4,2.9,3.2]\n",
    "            }\n",
    "\n",
    "list_df=DataFrame(list_dic)\n",
    "print(list_df)\n",
    "print(\"*\"*50)\n",
    "print(list_df.state)\n",
    "print(\"*\"*50)\n",
    "print(list_df.year)\n",
    "print(\"*\"*50)\n",
    "print(list_df[\"pop\"])## 내장함수 pop()과 이름이 동일하여 print(list_df.pop)라고 쓰면 전부 다나온다\n",
    "print(\"*\"*50)\n",
    "print(type(list_df.state))\n",
    "print(\"*\"*50)\n",
    "print(type(list_df.year))\n",
    "print(\"*\"*50)\n",
    "print(type(list_df[\"pop\"]))\n",
    "print(\"*\"*50)\n",
    "print(type(list_df.pop))"
   ]
  },
  {
   "cell_type": "code",
   "execution_count": 4,
   "metadata": {},
   "outputs": [
    {
     "name": "stdout",
     "output_type": "stream",
     "text": [
      "        NY1  NY1  NY2  NY1\n",
      "James    18   34   77   97\n",
      "Beth     89   58   20   62\n",
      "Camila   63   76   24   44\n",
      "Elsa     34   25   70   68\n"
     ]
    },
    {
     "data": {
      "text/html": [
       "<div>\n",
       "<style scoped>\n",
       "    .dataframe tbody tr th:only-of-type {\n",
       "        vertical-align: middle;\n",
       "    }\n",
       "\n",
       "    .dataframe tbody tr th {\n",
       "        vertical-align: top;\n",
       "    }\n",
       "\n",
       "    .dataframe thead th {\n",
       "        text-align: right;\n",
       "    }\n",
       "</style>\n",
       "<table border=\"1\" class=\"dataframe\">\n",
       "  <thead>\n",
       "    <tr style=\"text-align: right;\">\n",
       "      <th></th>\n",
       "      <th>NY</th>\n",
       "      <th>London</th>\n",
       "      <th>Paris</th>\n",
       "      <th>Rome</th>\n",
       "    </tr>\n",
       "  </thead>\n",
       "  <tbody>\n",
       "    <tr>\n",
       "      <th>James</th>\n",
       "      <td>18</td>\n",
       "      <td>34</td>\n",
       "      <td>77</td>\n",
       "      <td>97</td>\n",
       "    </tr>\n",
       "    <tr>\n",
       "      <th>Beth</th>\n",
       "      <td>89</td>\n",
       "      <td>58</td>\n",
       "      <td>20</td>\n",
       "      <td>62</td>\n",
       "    </tr>\n",
       "    <tr>\n",
       "      <th>Camila</th>\n",
       "      <td>63</td>\n",
       "      <td>76</td>\n",
       "      <td>24</td>\n",
       "      <td>44</td>\n",
       "    </tr>\n",
       "    <tr>\n",
       "      <th>Elsa</th>\n",
       "      <td>34</td>\n",
       "      <td>25</td>\n",
       "      <td>70</td>\n",
       "      <td>68</td>\n",
       "    </tr>\n",
       "  </tbody>\n",
       "</table>\n",
       "</div>"
      ],
      "text/plain": [
       "        NY  London  Paris  Rome\n",
       "James   18      34     77    97\n",
       "Beth    89      58     20    62\n",
       "Camila  63      76     24    44\n",
       "Elsa    34      25     70    68"
      ]
     },
     "execution_count": 4,
     "metadata": {},
     "output_type": "execute_result"
    }
   ],
   "source": [
    "# 1-2 Numpy random 이용해서 DataFrame 만들기\n",
    "np.random.seed(100)\n",
    "data2={'name':[\"James\",\"Beth\",\"Camila\",\"Elsa\"],\n",
    "       'adderss':[\"NY1\",\"NY1\",\"NY2\",\"NY1\"],\n",
    "        'age':[12,45,23,16]\n",
    "      }\n",
    "df2=DataFrame(np.random.randint(10,100,16).reshape(4,4),index=data2['name'],columns=data2['adderss'])\n",
    "print(df2)\n",
    "# 컬럼명 수정하기\n",
    "df2.columns=[\"NY\",\"London\",\"Paris\",\"Rome\"]\n",
    "df2"
   ]
  },
  {
   "cell_type": "code",
   "execution_count": 5,
   "metadata": {},
   "outputs": [
    {
     "data": {
      "text/html": [
       "<div>\n",
       "<style scoped>\n",
       "    .dataframe tbody tr th:only-of-type {\n",
       "        vertical-align: middle;\n",
       "    }\n",
       "\n",
       "    .dataframe tbody tr th {\n",
       "        vertical-align: top;\n",
       "    }\n",
       "\n",
       "    .dataframe thead th {\n",
       "        text-align: right;\n",
       "    }\n",
       "</style>\n",
       "<table border=\"1\" class=\"dataframe\">\n",
       "  <thead>\n",
       "    <tr style=\"text-align: right;\">\n",
       "      <th></th>\n",
       "      <th>total_bill</th>\n",
       "      <th>tip</th>\n",
       "      <th>sex</th>\n",
       "      <th>smoker</th>\n",
       "      <th>day</th>\n",
       "      <th>time</th>\n",
       "      <th>size</th>\n",
       "    </tr>\n",
       "  </thead>\n",
       "  <tbody>\n",
       "    <tr>\n",
       "      <th>0</th>\n",
       "      <td>16.99</td>\n",
       "      <td>1.01</td>\n",
       "      <td>Female</td>\n",
       "      <td>No</td>\n",
       "      <td>Sun</td>\n",
       "      <td>Dinner</td>\n",
       "      <td>2.0</td>\n",
       "    </tr>\n",
       "    <tr>\n",
       "      <th>1</th>\n",
       "      <td>10.34</td>\n",
       "      <td>1.66</td>\n",
       "      <td>Male</td>\n",
       "      <td>No</td>\n",
       "      <td>Sun</td>\n",
       "      <td>Dinner</td>\n",
       "      <td>3.0</td>\n",
       "    </tr>\n",
       "    <tr>\n",
       "      <th>2</th>\n",
       "      <td>21.01</td>\n",
       "      <td>3.50</td>\n",
       "      <td>Male</td>\n",
       "      <td>No</td>\n",
       "      <td>Sun</td>\n",
       "      <td>Dinner</td>\n",
       "      <td>3.0</td>\n",
       "    </tr>\n",
       "    <tr>\n",
       "      <th>3</th>\n",
       "      <td>23.68</td>\n",
       "      <td>3.31</td>\n",
       "      <td>Male</td>\n",
       "      <td>No</td>\n",
       "      <td>Sun</td>\n",
       "      <td>Dinner</td>\n",
       "      <td>2.0</td>\n",
       "    </tr>\n",
       "    <tr>\n",
       "      <th>4</th>\n",
       "      <td>24.59</td>\n",
       "      <td>3.61</td>\n",
       "      <td>Female</td>\n",
       "      <td>No</td>\n",
       "      <td>Sun</td>\n",
       "      <td>Dinner</td>\n",
       "      <td>4.0</td>\n",
       "    </tr>\n",
       "    <tr>\n",
       "      <th>...</th>\n",
       "      <td>...</td>\n",
       "      <td>...</td>\n",
       "      <td>...</td>\n",
       "      <td>...</td>\n",
       "      <td>...</td>\n",
       "      <td>...</td>\n",
       "      <td>...</td>\n",
       "    </tr>\n",
       "    <tr>\n",
       "      <th>240</th>\n",
       "      <td>27.18</td>\n",
       "      <td>2.00</td>\n",
       "      <td>Female</td>\n",
       "      <td>Yes</td>\n",
       "      <td>Sat</td>\n",
       "      <td>Dinner</td>\n",
       "      <td>2.0</td>\n",
       "    </tr>\n",
       "    <tr>\n",
       "      <th>241</th>\n",
       "      <td>22.67</td>\n",
       "      <td>2.00</td>\n",
       "      <td>Male</td>\n",
       "      <td>Yes</td>\n",
       "      <td>Sat</td>\n",
       "      <td>Dinner</td>\n",
       "      <td>2.0</td>\n",
       "    </tr>\n",
       "    <tr>\n",
       "      <th>242</th>\n",
       "      <td>17.82</td>\n",
       "      <td>1.75</td>\n",
       "      <td>Male</td>\n",
       "      <td>No</td>\n",
       "      <td>Sat</td>\n",
       "      <td>Dinner</td>\n",
       "      <td>2.0</td>\n",
       "    </tr>\n",
       "    <tr>\n",
       "      <th>243</th>\n",
       "      <td>18.78</td>\n",
       "      <td>3.00</td>\n",
       "      <td>Female</td>\n",
       "      <td>No</td>\n",
       "      <td>Thur</td>\n",
       "      <td>Dinner</td>\n",
       "      <td>2.0</td>\n",
       "    </tr>\n",
       "    <tr>\n",
       "      <th>244</th>\n",
       "      <td>25.34</td>\n",
       "      <td>NaN</td>\n",
       "      <td>NaN</td>\n",
       "      <td>NaN</td>\n",
       "      <td>NaN</td>\n",
       "      <td>NaN</td>\n",
       "      <td>NaN</td>\n",
       "    </tr>\n",
       "  </tbody>\n",
       "</table>\n",
       "<p>245 rows × 7 columns</p>\n",
       "</div>"
      ],
      "text/plain": [
       "     total_bill   tip     sex smoker   day    time  size\n",
       "0         16.99  1.01  Female     No   Sun  Dinner   2.0\n",
       "1         10.34  1.66    Male     No   Sun  Dinner   3.0\n",
       "2         21.01  3.50    Male     No   Sun  Dinner   3.0\n",
       "3         23.68  3.31    Male     No   Sun  Dinner   2.0\n",
       "4         24.59  3.61  Female     No   Sun  Dinner   4.0\n",
       "..          ...   ...     ...    ...   ...     ...   ...\n",
       "240       27.18  2.00  Female    Yes   Sat  Dinner   2.0\n",
       "241       22.67  2.00    Male    Yes   Sat  Dinner   2.0\n",
       "242       17.82  1.75    Male     No   Sat  Dinner   2.0\n",
       "243       18.78  3.00  Female     No  Thur  Dinner   2.0\n",
       "244       25.34   NaN     NaN    NaN   NaN     NaN   NaN\n",
       "\n",
       "[245 rows x 7 columns]"
      ]
     },
     "execution_count": 5,
     "metadata": {},
     "output_type": "execute_result"
    }
   ],
   "source": [
    "# 1_3) read_csv사용\n",
    "'''\n",
    "csv 콤마로 구분되는 값\n",
    "csv 파일 포멧은 데이터 값이 쉽표로 구분되는 텍스트 파일\n",
    "\n",
    "누락데이터가 어디에 들어있는지 확인\n",
    "'''\n",
    "\n",
    "tips = pd.read_csv(\"tips.csv\")\n",
    "tips"
   ]
  },
  {
   "cell_type": "markdown",
   "metadata": {},
   "source": [
    "## DataFrame - 구조확인"
   ]
  },
  {
   "cell_type": "code",
   "execution_count": 6,
   "metadata": {
    "scrolled": true
   },
   "outputs": [
    {
     "name": "stdout",
     "output_type": "stream",
     "text": [
      "RangeIndex(start=0, stop=245, step=1)\n",
      "**************************************************\n",
      "Index(['total_bill', 'tip', 'sex', 'smoker', 'day', 'time', 'size'], dtype='object')\n",
      "**************************************************\n",
      "[[16.99 1.01 'Female' ... 'Sun' 'Dinner' 2.0]\n",
      " [10.34 1.66 'Male' ... 'Sun' 'Dinner' 3.0]\n",
      " [21.01 3.5 'Male' ... 'Sun' 'Dinner' 3.0]\n",
      " ...\n",
      " [17.82 1.75 'Male' ... 'Sat' 'Dinner' 2.0]\n",
      " [18.78 3.0 'Female' ... 'Thur' 'Dinner' 2.0]\n",
      " [25.34 nan nan ... nan nan nan]]\n",
      "**************************************************\n",
      "total_bill    float64\n",
      "tip           float64\n",
      "sex            object\n",
      "smoker         object\n",
      "day            object\n",
      "time           object\n",
      "size          float64\n",
      "dtype: object\n",
      "**************************************************\n",
      "       total_bill         tip        size\n",
      "count  245.000000  244.000000  244.000000\n",
      "mean    19.808612    2.998279    2.569672\n",
      "std      8.891234    1.383638    0.951100\n",
      "min      3.070000    1.000000    1.000000\n",
      "25%     13.370000    2.000000    2.000000\n",
      "50%     17.810000    2.900000    2.000000\n",
      "75%     24.270000    3.562500    3.000000\n",
      "max     50.810000   10.000000    6.000000\n",
      "**************************************************\n",
      "<class 'pandas.core.frame.DataFrame'>\n",
      "RangeIndex: 245 entries, 0 to 244\n",
      "Data columns (total 7 columns):\n",
      " #   Column      Non-Null Count  Dtype  \n",
      "---  ------      --------------  -----  \n",
      " 0   total_bill  245 non-null    float64\n",
      " 1   tip         244 non-null    float64\n",
      " 2   sex         244 non-null    object \n",
      " 3   smoker      244 non-null    object \n",
      " 4   day         244 non-null    object \n",
      " 5   time        244 non-null    object \n",
      " 6   size        244 non-null    float64\n",
      "dtypes: float64(3), object(4)\n",
      "memory usage: 13.5+ KB\n",
      "None\n"
     ]
    }
   ],
   "source": [
    "'''\n",
    "index, values,colums,dtype\n",
    "'''\n",
    "print(tips.index)\n",
    "print(\"*\"*50)\n",
    "print(tips.columns)\n",
    "print(\"*\"*50)\n",
    "print(tips.values)\n",
    "print(\"*\"*50)\n",
    "print(tips.dtypes)\n",
    "print(\"*\"*50)\n",
    "print(tips.describe())\n",
    "print(\"*\"*50)\n",
    "print(tips.info())# 컬럼에 대한 전체적인 정보를 나타냄"
   ]
  },
  {
   "cell_type": "markdown",
   "metadata": {},
   "source": [
    "## 가장 많이 사용되는 조회함수"
   ]
  },
  {
   "cell_type": "code",
   "execution_count": 7,
   "metadata": {},
   "outputs": [
    {
     "ename": "NameError",
     "evalue": "name 'df3' is not defined",
     "output_type": "error",
     "traceback": [
      "\u001b[1;31m---------------------------------------------------------------------------\u001b[0m",
      "\u001b[1;31mNameError\u001b[0m                                 Traceback (most recent call last)",
      "\u001b[1;32m<ipython-input-7-62fdbd5c02ef>\u001b[0m in \u001b[0;36m<module>\u001b[1;34m\u001b[0m\n\u001b[1;32m----> 1\u001b[1;33m \u001b[0mprint\u001b[0m\u001b[1;33m(\u001b[0m\u001b[0mdf3\u001b[0m\u001b[1;33m.\u001b[0m\u001b[0mhead\u001b[0m\u001b[1;33m(\u001b[0m\u001b[1;36m10\u001b[0m\u001b[1;33m)\u001b[0m\u001b[1;33m)\u001b[0m\u001b[1;33m\u001b[0m\u001b[1;33m\u001b[0m\u001b[0m\n\u001b[0m\u001b[0;32m      2\u001b[0m \u001b[0mprint\u001b[0m\u001b[1;33m(\u001b[0m\u001b[1;34m\"*\"\u001b[0m\u001b[1;33m*\u001b[0m\u001b[1;36m50\u001b[0m\u001b[1;33m)\u001b[0m\u001b[1;33m\u001b[0m\u001b[1;33m\u001b[0m\u001b[0m\n\u001b[0;32m      3\u001b[0m \u001b[0mprint\u001b[0m\u001b[1;33m(\u001b[0m\u001b[0mdf3\u001b[0m\u001b[1;33m[\u001b[0m\u001b[1;33m:\u001b[0m\u001b[1;36m5\u001b[0m\u001b[1;33m]\u001b[0m\u001b[1;33m)\u001b[0m\u001b[1;33m\u001b[0m\u001b[1;33m\u001b[0m\u001b[0m\n\u001b[0;32m      4\u001b[0m \u001b[0mprint\u001b[0m\u001b[1;33m(\u001b[0m\u001b[1;34m\"*\"\u001b[0m\u001b[1;33m*\u001b[0m\u001b[1;36m50\u001b[0m\u001b[1;33m)\u001b[0m\u001b[1;33m\u001b[0m\u001b[1;33m\u001b[0m\u001b[0m\n\u001b[0;32m      5\u001b[0m \u001b[0mprint\u001b[0m\u001b[1;33m(\u001b[0m\u001b[0mdf3\u001b[0m\u001b[1;33m.\u001b[0m\u001b[0mtail\u001b[0m\u001b[1;33m(\u001b[0m\u001b[1;36m10\u001b[0m\u001b[1;33m)\u001b[0m\u001b[1;33m)\u001b[0m\u001b[1;33m\u001b[0m\u001b[1;33m\u001b[0m\u001b[0m\n",
      "\u001b[1;31mNameError\u001b[0m: name 'df3' is not defined"
     ]
    }
   ],
   "source": [
    "print(df3.head(10))\n",
    "print(\"*\"*50)\n",
    "print(df3[:5])\n",
    "print(\"*\"*50)\n",
    "print(df3.tail(10))\n",
    "print(df3.shape) #shape는 튜플로 출력"
   ]
  },
  {
   "cell_type": "markdown",
   "metadata": {},
   "source": [
    "## DataFrame 컬럼명 변경 및 추가"
   ]
  },
  {
   "cell_type": "code",
   "execution_count": null,
   "metadata": {},
   "outputs": [],
   "source": [
    "# 컬럼 모두 변경\n",
    "df2.columns=[\"NY\",\"London\",\"Paris\",\"Rome\"]\n",
    "\n",
    "# raname으로 부분적 변경\n",
    "# 컬럼명 부분적 변경은 원본에 바로 적용 안됨.. \n",
    "df2.rename(columns={'NY':'NewYork'},inplace=True)\n",
    "df2\n"
   ]
  },
  {
   "cell_type": "code",
   "execution_count": null,
   "metadata": {
    "scrolled": true
   },
   "outputs": [],
   "source": [
    "# 컬럼추가\n",
    "import numpy as np\n",
    "df2[\"ph_num\"]=np.NaN\n",
    "df2.loc[\"Emma\"]=np.NaN\n",
    "df2"
   ]
  },
  {
   "cell_type": "markdown",
   "metadata": {},
   "source": [
    "## DataFram - 조회하기(인덱싱,슬라이싱)"
   ]
  },
  {
   "cell_type": "code",
   "execution_count": null,
   "metadata": {},
   "outputs": [],
   "source": [
    "# df2.columns=['NewYork', 'London', 'Paris', 'Rome']\n",
    "# 열 슬라이싱\n",
    "df2[['NewYork', 'London']]\n",
    "\n",
    "# london 컬럼에 해당하는 갑 중에서 45보다 큰 값만 추출\n",
    "print(df2[df2[\"London\"]>45][[\"London\"]])\n",
    "#df2[df2[\"two\"]>45].iloc[:,1:2]"
   ]
  },
  {
   "cell_type": "markdown",
   "metadata": {},
   "source": [
    "### loc,iloc / at,iat"
   ]
  },
  {
   "cell_type": "code",
   "execution_count": null,
   "metadata": {},
   "outputs": [],
   "source": [
    "df2\n",
    "print(df2.iloc[:2,:3])\n",
    "print(\"*\"*50)\n",
    "\n",
    "print(df2.loc[\"James\":\"Beth\",\"Paris\":\"Rome\"])\n",
    "print(\"*\"*50)\n",
    "\n",
    "print(df2.iloc[0:2])\n",
    "print(\"*\"*50)"
   ]
  },
  {
   "cell_type": "code",
   "execution_count": null,
   "metadata": {
    "scrolled": true
   },
   "outputs": [],
   "source": [
    "# 스칼라값 가져오기\n",
    "# loc,iloc는 스칼라값을 가져오는 용도는 아니다...\n",
    "print(df2.iat[1,0])\n",
    "print(df2.at[\"Beth\",\"Rome\"])\n",
    "print(df2.iat[3,2])\n",
    "print(df2.at[\"Elsa\",\"Paris\"])\n",
    "df2"
   ]
  },
  {
   "cell_type": "code",
   "execution_count": null,
   "metadata": {},
   "outputs": [],
   "source": [
    "df2.loc[\"Emma\"]=np.NaN\n",
    "df2"
   ]
  },
  {
   "cell_type": "markdown",
   "metadata": {},
   "source": [
    "## 삭제하기"
   ]
  },
  {
   "cell_type": "code",
   "execution_count": null,
   "metadata": {},
   "outputs": [],
   "source": [
    "# 행삭제\n",
    "# df2.drop(\"Emma\",inplace=True)\n",
    "\n",
    "# 열삭제 : drop은 axis가 default로 0값(행 삭제)로 되어 있는데, 열을 삭제하려면 axis=1 로 변경 필요.\n",
    "# del df2[\"ph_num\"]\n",
    "# df2.drop(\"ph_num\",axis=1,inplace=True)\n",
    "df2"
   ]
  },
  {
   "cell_type": "code",
   "execution_count": null,
   "metadata": {},
   "outputs": [],
   "source": [
    "df2"
   ]
  },
  {
   "cell_type": "markdown",
   "metadata": {},
   "source": [
    "## DataFrame 정렬하기"
   ]
  },
  {
   "cell_type": "code",
   "execution_count": null,
   "metadata": {},
   "outputs": [],
   "source": [
    "# df2.index=list('abcd')\n",
    "# df2.sort_index()\n",
    "# df2.sort_index(axis=1, ascending=False)\n",
    "# df2.sort_values(\n",
    "#     by=\"two\",\n",
    "#     axis=0,\n",
    "#     ascending=False,\n",
    "#     inplace=False,\n",
    "#     kind='quicksort',\n",
    "#     na_position='last',\n",
    "#     ignore_index=False,)\n",
    "\n",
    "df2.sort_values(by=[\"Paris\",\"Rome\"],ascending=[False,True])\n",
    "df2.sort_index()\n"
   ]
  },
  {
   "cell_type": "markdown",
   "metadata": {},
   "source": [
    "### 응용 : 실전 데이터 "
   ]
  },
  {
   "cell_type": "code",
   "execution_count": null,
   "metadata": {},
   "outputs": [],
   "source": [
    "df3=tips\n",
    "df3.head()"
   ]
  },
  {
   "cell_type": "code",
   "execution_count": null,
   "metadata": {},
   "outputs": [],
   "source": [
    "## 문제 1.tip의 비율로 sort\n",
    "df3.sort_values(by=\"tip\", ascending=False).head()"
   ]
  },
  {
   "cell_type": "code",
   "execution_count": null,
   "metadata": {},
   "outputs": [],
   "source": [
    "df3[\"tip\"].head(10).plot(by=\"tip\", kind=\"barh\", color=[\"#4cbff3bf\"])"
   ]
  },
  {
   "cell_type": "code",
   "execution_count": null,
   "metadata": {},
   "outputs": [],
   "source": [
    "## 문제 2. day, tip별로 정렬... 마지막 7줄만 출력\n",
    "\n",
    "df3.sort_values(by=[\"day\",\"tip\"],ascending=[False,True]).tail(7)"
   ]
  },
  {
   "cell_type": "markdown",
   "metadata": {},
   "source": [
    "## 알아두면 유용한 함수"
   ]
  },
  {
   "cell_type": "code",
   "execution_count": null,
   "metadata": {},
   "outputs": [],
   "source": [
    "# 1. unique() : 중복을 제외하고 값 보여주기\n",
    "print(df3['day'].unique())\n",
    "\n",
    "# 2. value_counts() : 컬럼의 값의 객수\n",
    "print(df3['day'].value_counts())\n",
    "\n",
    "# 3. count() : 컬럼의 길이\n",
    "print(df3['day'].count())\n",
    "\n",
    "#4. isin() : 해당하는 값이 있는 행 조회\n",
    "df3[df3['day'].isin([\"Fri\",\"Sat\"])].sort_values(\"tip\", ascending=False).head(15)\n",
    "\n",
    "# 5. isnull() : 누락된데이터 확인하기\n",
    "df3[df3.isnull().sum(axis=1)>0]"
   ]
  },
  {
   "cell_type": "code",
   "execution_count": null,
   "metadata": {},
   "outputs": [],
   "source": []
  },
  {
   "cell_type": "code",
   "execution_count": null,
   "metadata": {},
   "outputs": [],
   "source": [
    "data2={'name':[\"James\",\"Beth\",\"Camila\",\"Elsa\"],\n",
    "       'adderss':[\"NY1\",\"NY1\",\"NY2\",\"NY1\"],\n",
    "        'age':[12,45,23,16]\n",
    "      }\n",
    "df2=DataFrame(np.random.randint(10,100,16).reshape(4,4),index=data2['name'],columns=data2['adderss'])\n",
    "\n",
    "#address를 [\"NY1\",\"NY1\",\"NY2\",\"NY2\",\"NY1\"] >>> [\"NY\",\"London\",\"Paris\",\"Rome\"]로 변경\n",
    "df2.columns=[\"NY\",\"London\",\"Paris\",\"Rome\"]\n",
    "df2\n",
    "\n",
    "# raname으로 부분적 변경\n",
    "df2.rename(columns={'NY':'NewYork'},inplace=True)\n",
    "df2\n",
    "\n",
    "# 열 슬라이싱\n",
    "df2[['London']]\n",
    "df2.columns"
   ]
  },
  {
   "cell_type": "code",
   "execution_count": 19,
   "metadata": {},
   "outputs": [
    {
     "data": {
      "text/plain": [
       "array(['77', 'NONE', '24', '70'], dtype='<U11')"
      ]
     },
     "execution_count": 19,
     "metadata": {},
     "output_type": "execute_result"
    }
   ],
   "source": [
    "np.where(df2[\"Paris\"]>20,df2[\"Paris\"],\"NONE\")\n"
   ]
  },
  {
   "cell_type": "code",
   "execution_count": null,
   "metadata": {},
   "outputs": [],
   "source": []
  },
  {
   "cell_type": "code",
   "execution_count": null,
   "metadata": {},
   "outputs": [],
   "source": []
  },
  {
   "cell_type": "code",
   "execution_count": null,
   "metadata": {},
   "outputs": [],
   "source": []
  },
  {
   "cell_type": "code",
   "execution_count": null,
   "metadata": {},
   "outputs": [],
   "source": []
  }
 ],
 "metadata": {
  "kernelspec": {
   "display_name": "Python 3",
   "language": "python",
   "name": "python3"
  },
  "language_info": {
   "codemirror_mode": {
    "name": "ipython",
    "version": 3
   },
   "file_extension": ".py",
   "mimetype": "text/x-python",
   "name": "python",
   "nbconvert_exporter": "python",
   "pygments_lexer": "ipython3",
   "version": "3.7.7"
  }
 },
 "nbformat": 4,
 "nbformat_minor": 4
}
