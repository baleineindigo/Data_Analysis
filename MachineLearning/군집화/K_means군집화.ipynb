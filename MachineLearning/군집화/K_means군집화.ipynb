{
  "nbformat": 4,
  "nbformat_minor": 0,
  "metadata": {
    "colab": {
      "name": "K-means군집화.ipynb",
      "private_outputs": true,
      "provenance": [],
      "collapsed_sections": []
    },
    "kernelspec": {
      "name": "python3",
      "display_name": "Python 3"
    },
    "accelerator": "GPU"
  },
  "cells": [
    {
      "cell_type": "code",
      "metadata": {
        "id": "pKG97USNeZET"
      },
      "source": [
        "import pandas as pd\r\n",
        "import numpy as np\r\n",
        "import matplotlib.pyplot as plt\r\n"
      ],
      "execution_count": null,
      "outputs": []
    },
    {
      "cell_type": "markdown",
      "metadata": {
        "id": "ZTMv6PJGfOJR"
      },
      "source": [
        "## K-means 군집화\r\n",
        "K-Means 군집화 알고리즘은 전체 데이터를 그룹화할 수를, Means는 각 그룹의 중심(centroids)과 데이터의 평균 거리를 의미한다.\r\n",
        "\r\n",
        "K-Means 알고리즘은 아래 과정으로 수행된다.\r\n",
        "\r\n",
        "1) 데이터에서 임의로 K 개의 중심(centroids)을 지정.\r\n",
        "\r\n",
        "2) 각각의 데이터를 가장 가까운 centroids가 속한 그룹으로 분류.\r\n",
        "데이터가 그룹으로 분류되는 결과를 바탕으로 centroids를 새롭게 지정.\r\n",
        "\r\n",
        "3) centroids가 더이상 변하지 않을 때까지 위의 과정을 반복\r\n",
        "\r\n",
        "![image.png](data:image/png;base64,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)\r\n",
        "\r\n",
        "- K = 군집의 개수\r\n",
        "- Ck= k번째 군집에 속하는 데이터의 집합\r\n",
        "- uk= K번째 군집의 중심 위치\r\n",
        "- d = xi,uk 두 데이터 사이의 거리 혹은 비유사도"
      ]
    },
    {
      "cell_type": "markdown",
      "metadata": {
        "id": "1PeT6y-y-mOv"
      },
      "source": [
        "#### scikit-learn의 cluster 서브패키지\r\n",
        "K-평균 군집화를 위한 KMeans 클래스를 제공한다. 다음과 같은 인수를 받을 수 있다.\r\n",
        "\r\n",
        "- n_clusters: 군집의 갯수\r\n",
        "\r\n",
        "- init: 초기화 방법. \"random\"이면 무작위, \"k-means++\"이면 K-평균++ 방법. 또는 각 데이터의 군집 라벨.\r\n",
        "\r\n",
        "- n_init: 초기 중심위치 시도 횟수. 디폴트는 10이고 10개의 무작위 중심위치 목록 중 가장 좋은 값을 선택한다.\r\n",
        "\r\n",
        "- max_iter: 최대 반복 횟수.\r\n",
        "\r\n",
        "- random_state: 시드값."
      ]
    },
    {
      "cell_type": "markdown",
      "metadata": {
        "id": "A0vW1Ekb_o4w"
      },
      "source": [
        "### K-means++알고리즘\r\n",
        "초기 중심 위치를 설정하기위 한 알고리즘. 아래 방법으로 되도록 멀리 떨어진 중심 위치 집합을 찾아낸다.\r\n",
        "\r\n",
        "1. 중심 위치를 저장할 집합 M 준비\r\n",
        "2. 하나의 중심위치 Mu0를 랜덤하게 선택하여 M에 넣는다.\r\n",
        "3. M에 속하지 않는 모든 표본 xi에 대해 거리 d(M,xi)를 계산.d(M,xi)는 M안의 모든 샘플 Muk에 대해 d(Muk,xi)를 계산하여 가장 작은 값 선택\r\n",
        "4. d(M,xi)에 비례한 확률로 다음 중심위치 Mu를 선택\r\n",
        "5. K개의 중심위치를 선택할 때까지 반복\r\n",
        "6. K-평균 방법 사용"
      ]
    },
    {
      "cell_type": "code",
      "metadata": {
        "id": "Yio45974fLOm"
      },
      "source": [
        "import torch\r\n",
        "\r\n",
        "device=torch.device(\"cuda\" if torch.cuda.is_available() else \"cpu\")\r\n",
        "device"
      ],
      "execution_count": null,
      "outputs": []
    },
    {
      "cell_type": "code",
      "metadata": {
        "id": "nhIgctmJA7VJ"
      },
      "source": [
        "from sklearn.datasets import load_digits\r\n",
        "from sklearn.datasets import make_blobs\r\n",
        "from sklearn.cluster import KMeans\r\n",
        "\r\n",
        "digits=load_digits()\r\n",
        "# digits.data[1]\r\n",
        "\r\n",
        "model=KMeans(init=\"k-means++\",n_clusters=10,random_state=0)\r\n",
        "model.fit(digits.data)\r\n",
        "Y_pred=model.labels_\r\n",
        "\r\n",
        "def show_digits(images,labels):\r\n",
        "    f=plt.figure(figsize=(8,2))\r\n",
        "    i=0\r\n",
        "    while ((i<10)&(i<images.shape[0])):\r\n",
        "        ax=f.add_subplot(1,10,i+1)\r\n",
        "        ax.imshow(images[i],cmap=plt.cm.bone)\r\n",
        "        ax.grid(False)\r\n",
        "        ax.set_title(labels[i])\r\n",
        "        ax.xaxis.set_ticks([])\r\n",
        "        ax.xaxis.set_ticks([])\r\n",
        "        plt.tight_layout()\r\n",
        "        i+=1\r\n",
        "\r\n",
        "def show_cluster(images,Y_pred,cluster_number):\r\n",
        "    images=images[Y_pred==cluster_number]\r\n",
        "    Y_pred=Y_pred[Y_pred==cluster_number]\r\n",
        "    show_digits(images,Y_pred)\r\n",
        "\r\n",
        "for i in range(10):\r\n",
        "    show_cluster(digits.images,Y_pred,i)"
      ],
      "execution_count": null,
      "outputs": []
    },
    {
      "cell_type": "code",
      "metadata": {
        "id": "CHTpF7u0B625"
      },
      "source": [
        "# 위 예제를 예측 문제로 가정하고 분류결과 행렬을 만든다\r\n",
        "from sklearn.metrics import confusion_matrix\r\n",
        "\r\n",
        "confusion_matrix(digits.target,Y_pred)"
      ],
      "execution_count": null,
      "outputs": []
    },
    {
      "cell_type": "code",
      "metadata": {
        "id": "25w-L_tmF2h-"
      },
      "source": [
        "from sklearn.metrics.cluster import adjusted_mutual_info_score,adjusted_rand_score,silhouette_score\r\n",
        "\r\n",
        "print(\"ARI : \",adjusted_rand_score(digits.target,Y_pred))\r\n",
        "print(\"ARI : \",adjusted_mutual_info_score(digits.target,Y_pred))\r\n",
        "print(\"silhouette Score : \",silhouette_score(digits.data,Y_pred))"
      ],
      "execution_count": null,
      "outputs": []
    },
    {
      "cell_type": "code",
      "metadata": {
        "id": "xXBf4H7EGdMq"
      },
      "source": [
        "# 군집화 결과를 주성분 분석을 통해 2차원에 투영하면 다음과 같다. 겹쳐져 있는 부분은 고차원상에서는 떨어져 있을 수 있다.\r\n",
        "from sklearn.decomposition import PCA\r\n",
        "\r\n",
        "pca=PCA(n_components=2)\r\n",
        "X=pca.fit_transform(digits.data)\r\n",
        "# PCA n_components=2라서 컬럼 2개\r\n",
        "pd.DataFrame(X)\r\n",
        "plt.scatter(X[:,0],X[:,1],c=Y_pred,cmap=plt.cm.Set1)\r\n",
        "plt.show()"
      ],
      "execution_count": null,
      "outputs": []
    },
    {
      "cell_type": "code",
      "metadata": {
        "id": "hl4ROEeOHKzM"
      },
      "source": [
        "'''\r\n",
        "PCA?\r\n",
        "\r\n",
        "Linear dimensionality reduction using Singular Value Decomposition of the\r\n",
        "data to project it to a lower dimensional space. The input data is centered\r\n",
        "but not scaled for each feature before applying the SVD.\r\n",
        "\r\n",
        "It uses the LAPACK implementation of the full SVD or a randomized truncated\r\n",
        "SVD by the method of Halko et al. 2009, depending on the shape of the input\r\n",
        "data and the number of components to extract.\r\n",
        "\r\n",
        "It can also use the scipy.sparse.linalg ARPACK implementation of the\r\n",
        "truncated SVD.\r\n",
        "\r\n",
        "Parameters\r\n",
        "----------\r\n",
        "n_components : int, float, None or str\r\n",
        "    Number of components to keep.\r\n",
        "    if n_components is not set all components are kept::\r\n",
        "\r\n",
        "'''"
      ],
      "execution_count": null,
      "outputs": []
    },
    {
      "cell_type": "code",
      "metadata": {
        "id": "ih1B42vnHQHr"
      },
      "source": [
        "'''\r\n",
        "pca.fit_transform?\r\n",
        "Signature: pca.fit_transform(X, y=None)\r\n",
        "Docstring:\r\n",
        "Fit the model with X and apply the dimensionality reduction on X.\r\n",
        "\r\n",
        "Parameters\r\n",
        "----------\r\n",
        "X : array-like, shape (n_samples, n_features)\r\n",
        "    Training data, where n_samples is the number of samples\r\n",
        "    and n_features is the number of features.\r\n",
        "\r\n",
        "y : None\r\n",
        "    Ignored variable.\r\n",
        "'''"
      ],
      "execution_count": null,
      "outputs": []
    },
    {
      "cell_type": "markdown",
      "metadata": {
        "id": "3rKQ2h7AKya4"
      },
      "source": [
        "##### 연습 문제\r\n",
        "K-평균 군집화는 유클리드 거리를 사용하므로 너무 차원이 높을 때는 군집화 성능이 떨이질 수 있다. 이때는 차원축소를 한 후 군집화를 하는 것이 도움이 될 수도 있다.\r\n",
        "\r\n",
        "MNIST Digit 데이터를 10차원으로 차원축소하여 K-평균 군집화하고 ARI, AMI, 실루엣계수를 각각 계산하여 차원축소를 하지 않았을 때와 비교하라."
      ]
    },
    {
      "cell_type": "code",
      "metadata": {
        "id": "CntpFaEYH9Nu"
      },
      "source": [
        "# PCA로 10차원 축소\r\n",
        "n=10\r\n",
        "pca = PCA(n_components=n)\r\n",
        "digits_pca = pca.fit_transform(digits.data)\r\n",
        "print(\"- 축소 전 : \",digits.data[2],\"\\n- 축소 전 Target : \",digits.target[2])\r\n",
        "print(\"\\n- 축소 후 : \",digits_pca[2],\"\\n- 축소 후 Target : \",digits.target[2])\r\n",
        "print(\"\\n- 축소 전 data shape : \",digits.data[1].shape,\"\\n- 축소 후 target shape : \",digits_pca[1].shape)"
      ],
      "execution_count": null,
      "outputs": []
    },
    {
      "cell_type": "code",
      "metadata": {
        "id": "f26uYpf7QUYg"
      },
      "source": [
        "# 시각화\r\n",
        "plt.scatter(digits_pca[:,9],y=digits.target,c=digits.target,cmap=plt.cm.inferno)\r\n",
        "plt.show()"
      ],
      "execution_count": null,
      "outputs": []
    },
    {
      "cell_type": "code",
      "metadata": {
        "id": "3ESVwCZ3E87C"
      },
      "source": [
        "# K-평균 군집화\r\n",
        "model1=KMeans(init=\"k-means++\",n_clusters=10,random_state=10)\r\n",
        "model1.fit(digits_pca)\r\n",
        "Y_pred1=model1.labels_\r\n"
      ],
      "execution_count": null,
      "outputs": []
    },
    {
      "cell_type": "code",
      "metadata": {
        "id": "T2rXAcZmFEav"
      },
      "source": [
        ""
      ],
      "execution_count": null,
      "outputs": []
    },
    {
      "cell_type": "code",
      "metadata": {
        "id": "1GTo3-VWZ4Ne"
      },
      "source": [
        "# 시각화\r\n",
        "fig=plt.figure(figsize=(12,12))\r\n",
        "original_shape=digits.images[0].shape\r\n",
        "\r\n",
        "def show_digits(images, Y_pred):\r\n",
        "    for i in range(10):\r\n",
        "        ax = fig.add_subplot(1,10,i+1)     # add_subplot(nrows, ncols, index, **kwargs)\r\n",
        "        ax.imshow(images, cmap=plt.cm.bone)\r\n",
        "        ax.set_title(Y_pred1[i])\r\n",
        "\r\n",
        "\r\n",
        "def show_digits(images, labels):\r\n",
        "    f = plt.figure(figsize=(8, 2))\r\n",
        "    i = 0\r\n",
        "    while (i < 10):\r\n",
        "        ax = f.add_subplot(1, 10, i + 1)\r\n",
        "        ax.imshow(images, cmap=plt.cm.bone)\r\n",
        "        ax.grid(False)\r\n",
        "        ax.set_title(Y_pred[i])\r\n",
        "        ax.xaxis.set_ticks([])\r\n",
        "        ax.yaxis.set_ticks([])\r\n",
        "        plt.tight_layout()\r\n",
        "        i += 1\r\n",
        "        \r\n",
        "      \r\n",
        "def show_cluster(images, Y_pred, cluster_number):\r\n",
        "    # images = images[Y_pred == cluster_number]\r\n",
        "    Y_pred = Y_pred[Y_pred == cluster_number]\r\n",
        "    show_digits(images, Y_pred)\r\n",
        "    \r\n",
        "\r\n",
        "for i in range(10):\r\n",
        "    images=pca.components_[i].reshape(original_shape)\r\n",
        "    show_cluster(images, Y_pred, i)\r\n",
        "    "
      ],
      "execution_count": null,
      "outputs": []
    },
    {
      "cell_type": "code",
      "metadata": {
        "id": "LCp7SdrcVrrj"
      },
      "source": [
        "from sklearn.metrics import confusion_matrix\r\n",
        "\r\n",
        "confusion_matrix(digits.target, Y_pred1)"
      ],
      "execution_count": null,
      "outputs": []
    },
    {
      "cell_type": "code",
      "metadata": {
        "id": "PyDlAqgh5G-F"
      },
      "source": [
        "from sklearn.metrics.cluster import adjusted_mutual_info_score, adjusted_rand_score, silhouette_score\r\n",
        "\r\n",
        "print(\"ARI:\", adjusted_rand_score(digits.target, Y_pred1))\r\n",
        "print(\"AMI:\", adjusted_mutual_info_score(digits.target, Y_pred1))\r\n",
        "print(\"Silhouette Score:\", silhouette_score(digits_pca, Y_pred1))"
      ],
      "execution_count": null,
      "outputs": []
    },
    {
      "cell_type": "code",
      "metadata": {
        "id": "skcpQwjB5OXW"
      },
      "source": [
        ""
      ],
      "execution_count": null,
      "outputs": []
    }
  ]
}