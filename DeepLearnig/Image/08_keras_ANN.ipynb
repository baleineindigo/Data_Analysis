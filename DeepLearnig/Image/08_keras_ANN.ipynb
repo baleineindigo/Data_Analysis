{
 "cells": [
  {
   "cell_type": "code",
   "execution_count": 6,
   "metadata": {},
   "outputs": [],
   "source": [
    "import keras\n",
    "from keras import layers,models\n",
    "from keras import datasets\n",
    "from keras.utils import np_utils  # one-hot Encoding\n",
    "import numpy as np\n",
    "import pandas as pd"
   ]
  },
  {
   "cell_type": "code",
   "execution_count": 41,
   "metadata": {},
   "outputs": [],
   "source": [
    "# 1. data loader\n",
    "(X_train,y_train),(X_test,y_test)=datasets.mnist.load_data()"
   ]
  },
  {
   "cell_type": "code",
   "execution_count": 42,
   "metadata": {},
   "outputs": [
    {
     "data": {
      "text/plain": [
       "array([7, 2, 1, ..., 4, 5, 6], dtype=uint8)"
      ]
     },
     "execution_count": 42,
     "metadata": {},
     "output_type": "execute_result"
    }
   ],
   "source": [
    "## 2. X data 전처리\n",
    "# 2-1. vectorize\n",
    "# L,W,H=X_train.shape\n",
    "# X_train=X_train.reshape(-1,W*H) # 1차원으로 펼치기\n",
    "X_test=X_test.reshape(-1,W*H)\n",
    "y_train\n",
    "y_test\n",
    "\n",
    "# 2-2. scailing\n",
    "# X_train=X_train/255\n",
    "# X_test=X_test/255"
   ]
  },
  {
   "cell_type": "code",
   "execution_count": 61,
   "metadata": {},
   "outputs": [
    {
     "data": {
      "text/plain": [
       "(array([0., 0., 0., 1., 0., 0., 0., 0., 0., 0.], dtype=float32), 3)"
      ]
     },
     "execution_count": 61,
     "metadata": {},
     "output_type": "execute_result"
    }
   ],
   "source": [
    "## 3. Y data 전처리\n",
    "'''\n",
    "one-hot Encoding : 각 노드에서 이미지에 해당하는 예측값을 0~1 사이의 확률 분포로 만들기\n",
    "'''\n",
    "\n",
    "Y_train=np_utils.to_categorical(y_train)\n",
    "Y_test=np_utils.to_categorical(y_test)\n",
    "Y_train[30],y_train[30]"
   ]
  },
  {
   "cell_type": "code",
   "execution_count": 62,
   "metadata": {},
   "outputs": [],
   "source": [
    "# 4. Setting Hyperparameter\n",
    "input_size=28*28\n",
    "hidden_size=100\n",
    "num_classes=10\n",
    "epochs=10\n",
    "batch_size=100"
   ]
  },
  {
   "cell_type": "code",
   "execution_count": 100,
   "metadata": {
    "scrolled": true
   },
   "outputs": [],
   "source": [
    "# 5. Model\n",
    "model=models.Sequential()\n",
    "# 히든레이어 유닛수,활성화함수,입력단\n",
    "model.add(layers.Dense(hidden_size,activation=\"relu\",input_shape=(input_size,)))\n",
    "# 출력단\n",
    "model.add(layers.Dense(num_classes,activation=\"softmax\"))"
   ]
  },
  {
   "cell_type": "code",
   "execution_count": 101,
   "metadata": {},
   "outputs": [],
   "source": [
    "# 6. Compile\n",
    "# metrics : 평가지표\n",
    "model.compile(\"adam\",\"categorical_crossentropy\",metrics=['accuracy'])\n"
   ]
  },
  {
   "cell_type": "code",
   "execution_count": 102,
   "metadata": {},
   "outputs": [
    {
     "data": {
      "text/plain": [
       "<keras.callbacks.callbacks.History at 0x1e335b15148>"
      ]
     },
     "execution_count": 102,
     "metadata": {},
     "output_type": "execute_result"
    }
   ],
   "source": [
    "# 7. Training\n",
    "model.fit(X_train,Y_train,epochs=epochs,batch_size=batch_size,validation_split=0.2,verbose=0)"
   ]
  },
  {
   "cell_type": "code",
   "execution_count": 103,
   "metadata": {},
   "outputs": [],
   "source": [
    "# 8. Predict"
   ]
  },
  {
   "cell_type": "code",
   "execution_count": 104,
   "metadata": {},
   "outputs": [
    {
     "name": "stdout",
     "output_type": "stream",
     "text": [
      "10000/10000 [==============================] - 0s 15us/step\n",
      "Loss : 0.08345566493226216, Accuracy : 0.9754999876022339\n"
     ]
    }
   ],
   "source": [
    "# 9. Evaluate\n",
    "model_performance=model.evaluate(X_test,Y_test,batch_size=batch_size)\n",
    "print(\"Loss : {}, Accuracy : {}\".format(*model_performance))"
   ]
  },
  {
   "cell_type": "code",
   "execution_count": 105,
   "metadata": {},
   "outputs": [
    {
     "name": "stdout",
     "output_type": "stream",
     "text": [
      "Train on 48000 samples, validate on 12000 samples\n",
      "Epoch 1/50\n",
      "48000/48000 [==============================] - 1s 27us/step - loss: 0.0338 - accuracy: 0.9915 - val_loss: 0.0896 - val_accuracy: 0.9745\n",
      "Epoch 2/50\n",
      "48000/48000 [==============================] - 2s 36us/step - loss: 0.0298 - accuracy: 0.9925 - val_loss: 0.0934 - val_accuracy: 0.9737\n",
      "Epoch 3/50\n",
      "48000/48000 [==============================] - 1s 28us/step - loss: 0.0250 - accuracy: 0.9939 - val_loss: 0.0912 - val_accuracy: 0.9742\n",
      "Epoch 4/50\n",
      "48000/48000 [==============================] - 1s 28us/step - loss: 0.0220 - accuracy: 0.9945 - val_loss: 0.0977 - val_accuracy: 0.9736\n",
      "Epoch 5/50\n",
      "48000/48000 [==============================] - 1s 29us/step - loss: 0.0188 - accuracy: 0.9958 - val_loss: 0.0909 - val_accuracy: 0.9754\n",
      "Epoch 6/50\n",
      "48000/48000 [==============================] - 2s 38us/step - loss: 0.0159 - accuracy: 0.9966 - val_loss: 0.0927 - val_accuracy: 0.9753\n",
      "Epoch 7/50\n",
      "48000/48000 [==============================] - 1s 28us/step - loss: 0.0147 - accuracy: 0.9968 - val_loss: 0.0979 - val_accuracy: 0.9747\n",
      "Epoch 8/50\n",
      "48000/48000 [==============================] - 1s 28us/step - loss: 0.0119 - accuracy: 0.9979 - val_loss: 0.0973 - val_accuracy: 0.9757\n",
      "Epoch 9/50\n",
      "48000/48000 [==============================] - 1s 29us/step - loss: 0.0099 - accuracy: 0.9984 - val_loss: 0.0956 - val_accuracy: 0.9749\n",
      "Epoch 10/50\n",
      "48000/48000 [==============================] - 2s 38us/step - loss: 0.0089 - accuracy: 0.9986 - val_loss: 0.1025 - val_accuracy: 0.9750\n",
      "Epoch 11/50\n",
      "48000/48000 [==============================] - 1s 28us/step - loss: 0.0084 - accuracy: 0.9985 - val_loss: 0.1172 - val_accuracy: 0.9718\n",
      "Epoch 12/50\n",
      "48000/48000 [==============================] - 1s 29us/step - loss: 0.0083 - accuracy: 0.9983 - val_loss: 0.1021 - val_accuracy: 0.9747\n",
      "Epoch 13/50\n",
      "48000/48000 [==============================] - 1s 30us/step - loss: 0.0061 - accuracy: 0.9991 - val_loss: 0.1041 - val_accuracy: 0.9753\n",
      "Epoch 14/50\n",
      "48000/48000 [==============================] - 2s 38us/step - loss: 0.0051 - accuracy: 0.9992 - val_loss: 0.1079 - val_accuracy: 0.9760\n",
      "Epoch 15/50\n",
      "48000/48000 [==============================] - 1s 30us/step - loss: 0.0041 - accuracy: 0.9996 - val_loss: 0.1057 - val_accuracy: 0.9756\n",
      "Epoch 16/50\n",
      "48000/48000 [==============================] - 1s 28us/step - loss: 0.0037 - accuracy: 0.9996 - val_loss: 0.1170 - val_accuracy: 0.9750\n",
      "Epoch 17/50\n",
      "48000/48000 [==============================] - 2s 33us/step - loss: 0.0032 - accuracy: 0.9998 - val_loss: 0.1176 - val_accuracy: 0.9736\n",
      "Epoch 18/50\n",
      "48000/48000 [==============================] - 2s 42us/step - loss: 0.0026 - accuracy: 0.9998 - val_loss: 0.1131 - val_accuracy: 0.9745\n",
      "Epoch 19/50\n",
      "48000/48000 [==============================] - 2s 34us/step - loss: 0.0067 - accuracy: 0.9983 - val_loss: 0.1363 - val_accuracy: 0.9734\n",
      "Epoch 20/50\n",
      "48000/48000 [==============================] - 2s 32us/step - loss: 0.0051 - accuracy: 0.9988 - val_loss: 0.1353 - val_accuracy: 0.9715\n",
      "Epoch 21/50\n",
      "48000/48000 [==============================] - 1s 31us/step - loss: 0.0037 - accuracy: 0.9993 - val_loss: 0.1179 - val_accuracy: 0.9755\n",
      "Epoch 22/50\n",
      "48000/48000 [==============================] - 2s 41us/step - loss: 0.0015 - accuracy: 0.9999 - val_loss: 0.1175 - val_accuracy: 0.9761\n",
      "Epoch 23/50\n",
      "48000/48000 [==============================] - 1s 29us/step - loss: 9.0453e-04 - accuracy: 1.0000 - val_loss: 0.1184 - val_accuracy: 0.9765\n",
      "Epoch 24/50\n",
      "48000/48000 [==============================] - 2s 31us/step - loss: 9.0185e-04 - accuracy: 1.0000 - val_loss: 0.1178 - val_accuracy: 0.9762\n",
      "Epoch 25/50\n",
      "48000/48000 [==============================] - 1s 29us/step - loss: 0.0037 - accuracy: 0.9990 - val_loss: 0.1459 - val_accuracy: 0.9680\n",
      "Epoch 26/50\n",
      "48000/48000 [==============================] - 2s 39us/step - loss: 0.0096 - accuracy: 0.9970 - val_loss: 0.1322 - val_accuracy: 0.9737\n",
      "Epoch 27/50\n",
      "48000/48000 [==============================] - 1s 28us/step - loss: 0.0019 - accuracy: 0.9997 - val_loss: 0.1261 - val_accuracy: 0.9752\n",
      "Epoch 28/50\n",
      "48000/48000 [==============================] - 1s 28us/step - loss: 8.2272e-04 - accuracy: 1.0000 - val_loss: 0.1288 - val_accuracy: 0.9757\n",
      "Epoch 29/50\n",
      "48000/48000 [==============================] - 1s 28us/step - loss: 5.4480e-04 - accuracy: 1.0000 - val_loss: 0.1269 - val_accuracy: 0.9761\n",
      "Epoch 30/50\n",
      "48000/48000 [==============================] - 2s 44us/step - loss: 5.1881e-04 - accuracy: 1.0000 - val_loss: 0.1310 - val_accuracy: 0.9762\n",
      "Epoch 31/50\n",
      "48000/48000 [==============================] - 1s 28us/step - loss: 5.6866e-04 - accuracy: 1.0000 - val_loss: 0.1267 - val_accuracy: 0.9761\n",
      "Epoch 32/50\n",
      "48000/48000 [==============================] - ETA: 0s - loss: 0.0054 - accuracy: 0.99 - 1s 30us/step - loss: 0.0062 - accuracy: 0.9979 - val_loss: 0.1674 - val_accuracy: 0.9706\n",
      "Epoch 33/50\n",
      "48000/48000 [==============================] - 2s 33us/step - loss: 0.0066 - accuracy: 0.9979 - val_loss: 0.1392 - val_accuracy: 0.9743\n",
      "Epoch 34/50\n",
      "48000/48000 [==============================] - 2s 41us/step - loss: 0.0013 - accuracy: 0.9998 - val_loss: 0.1382 - val_accuracy: 0.9746\n",
      "Epoch 35/50\n",
      "48000/48000 [==============================] - 1s 28us/step - loss: 6.8577e-04 - accuracy: 1.0000 - val_loss: 0.1348 - val_accuracy: 0.9762\n",
      "Epoch 36/50\n",
      "48000/48000 [==============================] - 1s 29us/step - loss: 3.3394e-04 - accuracy: 1.0000 - val_loss: 0.1346 - val_accuracy: 0.9758\n",
      "Epoch 37/50\n",
      "48000/48000 [==============================] - 1s 29us/step - loss: 2.7609e-04 - accuracy: 1.0000 - val_loss: 0.1345 - val_accuracy: 0.9764\n",
      "Epoch 38/50\n",
      "48000/48000 [==============================] - 2s 45us/step - loss: 2.5017e-04 - accuracy: 1.0000 - val_loss: 0.1351 - val_accuracy: 0.9759\n",
      "Epoch 39/50\n",
      "48000/48000 [==============================] - 2s 34us/step - loss: 2.2357e-04 - accuracy: 1.0000 - val_loss: 0.1365 - val_accuracy: 0.9763\n",
      "Epoch 40/50\n",
      "48000/48000 [==============================] - 2s 31us/step - loss: 2.0625e-04 - accuracy: 1.0000 - val_loss: 0.1366 - val_accuracy: 0.9758\n",
      "Epoch 41/50\n",
      "48000/48000 [==============================] - 2s 40us/step - loss: 1.9793e-04 - accuracy: 1.0000 - val_loss: 0.1368 - val_accuracy: 0.9765\n",
      "Epoch 42/50\n",
      "48000/48000 [==============================] - 1s 31us/step - loss: 2.0449e-04 - accuracy: 1.0000 - val_loss: 0.1430 - val_accuracy: 0.9756\n",
      "Epoch 43/50\n",
      "48000/48000 [==============================] - 1s 29us/step - loss: 0.0143 - accuracy: 0.9953 - val_loss: 0.1529 - val_accuracy: 0.9734\n",
      "Epoch 44/50\n",
      "48000/48000 [==============================] - 1s 29us/step - loss: 0.0018 - accuracy: 0.9996 - val_loss: 0.1474 - val_accuracy: 0.9748\n",
      "Epoch 45/50\n",
      "48000/48000 [==============================] - 2s 38us/step - loss: 5.4258e-04 - accuracy: 1.0000 - val_loss: 0.1439 - val_accuracy: 0.9754\n",
      "Epoch 46/50\n",
      "48000/48000 [==============================] - 2s 38us/step - loss: 2.3374e-04 - accuracy: 1.0000 - val_loss: 0.1423 - val_accuracy: 0.9758\n",
      "Epoch 47/50\n",
      "48000/48000 [==============================] - 2s 32us/step - loss: 1.8941e-04 - accuracy: 1.0000 - val_loss: 0.1437 - val_accuracy: 0.9765\n",
      "Epoch 48/50\n",
      "48000/48000 [==============================] - 1s 30us/step - loss: 1.6736e-04 - accuracy: 1.0000 - val_loss: 0.1439 - val_accuracy: 0.9766\n",
      "Epoch 49/50\n",
      "48000/48000 [==============================] - 3s 56us/step - loss: 1.4955e-04 - accuracy: 1.0000 - val_loss: 0.1443 - val_accuracy: 0.9766\n",
      "Epoch 50/50\n",
      "48000/48000 [==============================] - 2s 39us/step - loss: 1.3428e-04 - accuracy: 1.0000 - val_loss: 0.1442 - val_accuracy: 0.9765\n"
     ]
    }
   ],
   "source": [
    "# 10. 시각화\n",
    "# fit, 트레이닝할 때 나오는 로그 메세지를 모아서 리턴 - history\n",
    "import matplotlib.pyplot as plt\n",
    "def plot_loss(history):\n",
    "    plt.plot(history.history[\"loss\"])\n",
    "    plt.plot(history.history[\"val_loss\"])\n",
    "    plt.legend()\n",
    "    plt.title(\"Loss\")\n",
    "    plt.ylabel(\"Loss\")\n",
    "    plt.xlabel(\"Epoch\")\n",
    "\n",
    "def plot_acc(history):\n",
    "    plt.plot(history.history[\"accuracy\"])\n",
    "    plt.plot(history.history[\"val_accuracy\"])\n",
    "    \n",
    "    plt.title(\"accuracy\")\n",
    "    plt.ylabel(\"accuracy\")\n",
    "    plt.xlabel(\"Epoch\")\n",
    "    plt.legend()\n",
    "history=model.fit(X_train,Y_train,epochs=50,batch_size=batch_size,validation_split=0.2)\n",
    "    \n",
    "    "
   ]
  },
  {
   "cell_type": "code",
   "execution_count": 106,
   "metadata": {},
   "outputs": [
    {
     "name": "stderr",
     "output_type": "stream",
     "text": [
      "No handles with labels found to put in legend.\n"
     ]
    },
    {
     "data": {
      "image/png": "[encoded data removed]",
      "text/plain": [
       "<Figure size 432x288 with 1 Axes>"
      ]
     },
     "metadata": {
      "needs_background": "light"
     },
     "output_type": "display_data"
    }
   ],
   "source": [
    "plot_loss(history)"
   ]
  },
  {
   "cell_type": "code",
   "execution_count": 107,
   "metadata": {},
   "outputs": [
    {
     "name": "stderr",
     "output_type": "stream",
     "text": [
      "No handles with labels found to put in legend.\n"
     ]
    },
    {
     "data": {
      "image/png": "[encoded data removed]",
      "text/plain": [
       "<Figure size 432x288 with 1 Axes>"
      ]
     },
     "metadata": {
      "needs_background": "light"
     },
     "output_type": "display_data"
    }
   ],
   "source": [
    "plot_acc(history)"
   ]
  },
  {
   "cell_type": "code",
   "execution_count": null,
   "metadata": {},
   "outputs": [],
   "source": []
  }
 ],
 "metadata": {
  "kernelspec": {
   "display_name": "Python 3",
   "language": "python",
   "name": "python3"
  },
  "language_info": {
   "codemirror_mode": {
    "name": "ipython",
    "version": 3
   },
   "file_extension": ".py",
   "mimetype": "text/x-python",
   "name": "python",
   "nbconvert_exporter": "python",
   "pygments_lexer": "ipython3",
   "version": "3.7.7"
  }
 },
 "nbformat": 4,
 "nbformat_minor": 4
}
