{
  "nbformat": 4,
  "nbformat_minor": 0,
  "metadata": {
    "colab": {
      "name": "Untitled0.ipynb",
      "private_outputs": true,
      "provenance": [],
      "collapsed_sections": []
    },
    "kernelspec": {
      "name": "python3",
      "display_name": "Python 3"
    }
  },
  "cells": [
    {
      "cell_type": "code",
      "metadata": {
        "id": "W970P8rqLXpz"
      },
      "source": [
        "import pandas as pd\r\n",
        "import numpy as np\r\n",
        "import matplotlib.pyplot as plt\r\n",
        "from sklearn.datasets.samples_generator import make_blobs\r\n",
        "from sklearn.cluster import AffinityPropagation\r\n",
        "from sklearn.metrics import *"
      ],
      "execution_count": null,
      "outputs": []
    },
    {
      "cell_type": "code",
      "metadata": {
        "id": "Gy9rS1oUPwgj"
      },
      "source": [
        "# 데이터 셋\r\n",
        "centers=[[1,1],[-1,-1],[1,-1]]\r\n",
        "X,labels_true=make_blobs(n_samples=300,\r\n",
        "                        centers=centers,cluster_std=0.5,\r\n",
        "                         random_state=0)\r\n",
        "# labels_true"
      ],
      "execution_count": null,
      "outputs": []
    },
    {
      "cell_type": "markdown",
      "metadata": {
        "id": "vywSNq-fecf4"
      },
      "source": [
        ""
      ]
    },
    {
      "cell_type": "code",
      "metadata": {
        "id": "O4C3mdR4XLx-"
      },
      "source": [
        "# 모델링\r\n",
        "model=AffinityPropagation(preference=-50).fit(X)\r\n",
        "\r\n",
        "cluster_centers_indices=model.cluster_centers_indices_\r\n",
        "# model.affinity_matrix_\r\n",
        "labels=model.labels_\r\n",
        "n_clusters_=len(cluster_centers_indices)\r\n",
        "\r\n",
        "print('Estimated number of clusters: %d' % n_clusters_)\r\n",
        "print(\"Adjusted Rand Index: %0.3f\" % adjusted_rand_score(labels_true, labels))\r\n",
        "print(\"Adjusted Mutual Information: %0.3f\" % adjusted_mutual_info_score(labels_true, labels))\r\n",
        "print(\"Silhouette Coefficient: %0.3f\" % silhouette_score(X, labels, metric='sqeuclidean'))\r\n"
      ],
      "execution_count": null,
      "outputs": []
    },
    {
      "cell_type": "code",
      "metadata": {
        "id": "EFYknSecYI9C"
      },
      "source": [
        "from itertools import cycle\r\n",
        "colors=cycle(\"rgb\")\r\n",
        "for k,col in zip(range(n_clusters_),colors):\r\n",
        "    class_members=labels==k\r\n",
        "    cluster_center=X[cluster_centers_indices[k]]\r\n",
        "    plt.plot(X[class_members,0],X[class_members,1],col+'.')\r\n",
        "    for x in X[class_members]:\r\n",
        "        plt.plot([cluster_center[0],x[0]],[cluster_center[1],x[1]],col,alpha=0.25)\r\n",
        "    plt.plot(cluster_center[0], cluster_center[1],'o',mec='k',mew=3,markersize=7)"
      ],
      "execution_count": null,
      "outputs": []
    },
    {
      "cell_type": "code",
      "metadata": {
        "id": "AaSx-ahuYVmp"
      },
      "source": [
        "# cluster_centers_indices?\r\n",
        "# An array object represents a multidimensional, homogeneous array\r\n",
        "# of fixed-size items.  An associated data-type object describes the\r\n",
        "# format of each element in the array (its byte-order, how many bytes it\r\n",
        "# occupies in memory, whether it is an integer, a floating point number,\r\n",
        "# or something else, etc.)\r\n",
        "\r\n",
        "# Arrays should be constructed using `array`, `zeros` or `empty` (refer\r\n",
        "# to the See Also section below).  The parameters given here refer to\r\n",
        "# a low-level method (`ndarray(...)`) for instantiating an array.\r\n",
        "\r\n",
        "# For more information, refer to the `numpy` module and examine the\r\n",
        "# methods and attributes of an array."
      ],
      "execution_count": null,
      "outputs": []
    },
    {
      "cell_type": "code",
      "metadata": {
        "id": "qB2T3Fq_h-oB"
      },
      "source": [
        "print(\"cluster_center : \",cluster_center)\r\n",
        "print(\"X[class_members] : \",X[class_members])\r\n",
        "print(\"col : \",col)"
      ],
      "execution_count": null,
      "outputs": []
    },
    {
      "cell_type": "code",
      "metadata": {
        "id": "BqFVYceTuvli"
      },
      "source": [
        ""
      ],
      "execution_count": null,
      "outputs": []
    },
    {
      "cell_type": "code",
      "metadata": {
        "id": "17PBraDAt5qO"
      },
      "source": [
        ""
      ],
      "execution_count": null,
      "outputs": []
    }
  ]
}