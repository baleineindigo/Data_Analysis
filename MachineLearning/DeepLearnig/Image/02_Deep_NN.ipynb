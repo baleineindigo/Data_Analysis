{
 "cells": [
  {
   "cell_type": "code",
   "execution_count": 1,
   "metadata": {},
   "outputs": [],
   "source": [
    "import torch\n",
    "# torchvision : Specified Library on Image Processing\n",
    "import torchvision\n",
    "# data augmentation\n",
    "import torchvision.transforms as transforms\n",
    "# Neural Network\n",
    "import torch.nn as nn\n",
    "\n",
    "import numpy as np"
   ]
  },
  {
   "cell_type": "markdown",
   "metadata": {},
   "source": [
    "## Create Tensor... 2차원"
   ]
  },
  {
   "cell_type": "code",
   "execution_count": 2,
   "metadata": {},
   "outputs": [
    {
     "name": "stdout",
     "output_type": "stream",
     "text": [
      " ## weight은 계산과정에서 전치되어 출력됨\n",
      "Weight Parameter containing:\n",
      "tensor([[ 0.1322, -0.4249, -0.3032],\n",
      "        [ 0.5730,  0.4142, -0.3942]], requires_grad=True)\n",
      "Weight torch.Size([2, 3]) \n",
      "\n",
      "************************************************************ \n",
      "\n",
      "## bias의 값이 모두 같아서 1행만 나옴 \n",
      "\n",
      "bias Parameter containing:\n",
      "tensor([ 0.5646, -0.0555], requires_grad=True)\n",
      "************************************************************ \n",
      "\n",
      "## 학습 주체인 weight와 bias를 해킹해서 저장하고 있는 함수 : parameters\n",
      "<generator object Module.parameters at 0x0000017F305D3DC8>\n"
     ]
    }
   ],
   "source": [
    "# w*x+b\n",
    "x=torch.randn(10,3)\n",
    "y=torch.randn(10,2)\n",
    "\n",
    "# Linear Model 만들기\n",
    "linear=nn.Linear(3,2)\n",
    "\n",
    "print(\" ## weight은 계산과정에서 전치되어 출력됨\")\n",
    "print(\"Weight\",linear.weight)\n",
    "print(\"Weight\",linear.weight.shape,\"\\n\")\n",
    "print(\"*\"*60,\"\\n\")\n",
    "\n",
    "print(\"## bias의 값이 모두 같아서 1행만 나옴\",\"\\n\")\n",
    "print(\"bias\",linear.bias)\n",
    "print(\"*\"*60,\"\\n\")\n",
    "\n",
    "print(\"## 학습 주체인 weight와 bias를 해킹해서 저장하고 있는 함수 : parameters\")\n",
    "print(linear.parameters())"
   ]
  },
  {
   "cell_type": "code",
   "execution_count": 3,
   "metadata": {},
   "outputs": [
    {
     "name": "stdout",
     "output_type": "stream",
     "text": [
      "Loss befor Backpropagation ::  1.5749390125274658\n",
      "dL/dW tensor([[ 0.4937, -0.8276,  0.1050],\n",
      "        [ 0.2836,  0.3175, -0.0502]])\n",
      "dL/db tensor([-0.6082,  0.1914])\n",
      "Loss befor Backpropagation ::  1.559751033782959\n"
     ]
    }
   ],
   "source": [
    "# 사전에 손실 함수를 정의\n",
    "loss_function=nn.MSELoss()\n",
    "\n",
    "# 어떤 학습을 진행할지 결정\n",
    "'''\n",
    "linear 모델에서 학습의 주체(weight,bais)를 linear.parameters()로 넣어준다.\n",
    "'''\n",
    "optimizer=torch.optim.SGD(linear.parameters(),lr=0.01)\n",
    "\n",
    "# 모델에 x를 입력 >> 예측값 출력\n",
    "pred=linear(x)\n",
    "\n",
    "# 앞서 정의한 손실함수로 손실 계산\n",
    "loss=loss_function(pred,y)\n",
    "print(\"Loss befor Backpropagation :: \",loss.item())\n",
    "\n",
    "# backpropagation\n",
    "loss.backward()\n",
    "print(\"dL/dW\",linear.weight.grad)\n",
    "print(\"dL/db\",linear.bias.grad)\n",
    "\n",
    "# 수정된 값(=미분된 값)으로 학습 시작(=하강)\n",
    "optimizer.step()\n",
    "\n",
    "\n",
    "# 반복효과\n",
    "pred=linear(x)\n",
    "loss=loss_function(pred,y)\n",
    "print(\"Loss befor Backpropagation :: \",loss.item())"
   ]
  },
  {
   "cell_type": "markdown",
   "metadata": {},
   "source": [
    "## Neural Net Flow\n",
    "    1. 모델 정의 - nn.linear()\n",
    "    2. 모델에 입력해서 예측값 할당 - pred=linear(x)\n",
    "    3. Loss 산출 - loss_function(pred,y)\n",
    "    4. 역전파 - loss.backward()\n",
    "    5. 학습진행 - optimizer.step()"
   ]
  },
  {
   "cell_type": "code",
   "execution_count": null,
   "metadata": {},
   "outputs": [],
   "source": []
  },
  {
   "cell_type": "code",
   "execution_count": null,
   "metadata": {},
   "outputs": [],
   "source": []
  },
  {
   "cell_type": "code",
   "execution_count": null,
   "metadata": {},
   "outputs": [],
   "source": []
  },
  {
   "cell_type": "code",
   "execution_count": null,
   "metadata": {},
   "outputs": [],
   "source": []
  }
 ],
 "metadata": {
  "kernelspec": {
   "display_name": "Python 3",
   "language": "python",
   "name": "python3"
  },
  "language_info": {
   "codemirror_mode": {
    "name": "ipython",
    "version": 3
   },
   "file_extension": ".py",
   "mimetype": "text/x-python",
   "name": "python",
   "nbconvert_exporter": "python",
   "pygments_lexer": "ipython3",
   "version": "3.7.7"
  }
 },
 "nbformat": 4,
 "nbformat_minor": 4
}
