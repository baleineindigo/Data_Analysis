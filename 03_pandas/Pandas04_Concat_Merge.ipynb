{
 "cells": [
  {
   "cell_type": "code",
   "execution_count": 2,
   "metadata": {},
   "outputs": [],
   "source": [
    "import numpy as np\n",
    "import pandas as pd\n",
    "from pandas import Series,DataFrame\n",
    "import matplotlib.pyplot as plt"
   ]
  },
  {
   "cell_type": "code",
   "execution_count": 3,
   "metadata": {},
   "outputs": [
    {
     "data": {
      "text/plain": [
       "'\\n서로 다른 DataFrame을 하나로 합치는 작업\\n1) concate\\n- 단순히 하나의 DataFrame에 다른 DataFrame을 연속적으로 붙이는 방법\\n  이 경우, 2개의 DataFrame의 인덱스와 컬럼이 서로 동일한 경우가 대부분\\n- 기본이 위,아래로 연결. axis 수정하여 좌우연결 가능.\\n- outer 조인을 기본 방식으로 한다.\\n- key를 이용한 concat이 가능하다\\n\\n2) merge \\n- \\n'"
      ]
     },
     "execution_count": 3,
     "metadata": {},
     "output_type": "execute_result"
    }
   ],
   "source": [
    "'''\n",
    "서로 다른 DataFrame을 하나로 합치는 작업\n",
    "1) concate\n",
    "- 단순히 하나의 DataFrame에 다른 DataFrame을 연속적으로 붙이는 방법\n",
    "  이 경우, 2개의 DataFrame의 인덱스와 컬럼이 서로 동일한 경우가 대부분\n",
    "- 기본이 위,아래로 연결. axis 수정하여 좌우연결 가능.\n",
    "- outer 조인을 기본 방식으로 한다.\n",
    "- key를 이용한 concat이 가능하다\n",
    "\n",
    "2) merge \n",
    "- \n",
    "'''"
   ]
  },
  {
   "cell_type": "markdown",
   "metadata": {},
   "source": [
    "### Concat"
   ]
  },
  {
   "cell_type": "code",
   "execution_count": 5,
   "metadata": {},
   "outputs": [
    {
     "name": "stdout",
     "output_type": "stream",
     "text": [
      "    A   B   C   D\n",
      "0  A0  B0  C0  D0\n",
      "1  A1  B1  C1  D1\n",
      "2  A2  B2  C2  D2\n",
      "3  A3  B3  C3  D3\n",
      "************************************************************\n",
      "    A   B   C   D\n",
      "0  A4  B4  C4  D4\n",
      "1  A5  B5  C5  D5\n",
      "2  A6  B6  C6  D6\n",
      "3  A7  B7  C7  D7\n"
     ]
    }
   ],
   "source": [
    "df1=DataFrame({\n",
    "    'A':['A0','A1','A2','A3'],\n",
    "    \"B\":['B0','B1','B2','B3'],\n",
    "    \"C\":['C0','C1','C2','C3'],\n",
    "    \"D\":['D0','D1','D2','D3']\n",
    "})\n",
    "\n",
    "df2=DataFrame({\n",
    "    'A':['A4','A5','A6','A7'],\n",
    "    \"B\":['B4','B5','B6','B7'],\n",
    "    \"C\":['C4','C5','C6','C7'],\n",
    "    \"D\":['D4','D5','D6','D7']\n",
    "})\n",
    "\n",
    "print(df1)\n",
    "print('*'*60)\n",
    "print(df2)"
   ]
  },
  {
   "cell_type": "code",
   "execution_count": 7,
   "metadata": {},
   "outputs": [
    {
     "name": "stdout",
     "output_type": "stream",
     "text": [
      "    A   B   C   D\n",
      "0  A0  B0  C0  D0\n",
      "1  A1  B1  C1  D1\n",
      "2  A2  B2  C2  D2\n",
      "3  A3  B3  C3  D3\n",
      "4  A4  B4  C4  D4\n",
      "5  A5  B5  C5  D5\n",
      "6  A6  B6  C6  D6\n",
      "7  A7  B7  C7  D7\n"
     ]
    }
   ],
   "source": [
    "'''\n",
    "df1과 df2의 데이터는 상하로 병합.\n",
    "세로로 병합 시 인덱스가 0,1,2,3으로 동일한 값이 반복됨\n",
    "'''\n",
    "result=pd.concat([df1,df2],ignore_index=True)\n",
    "print(result)"
   ]
  },
  {
   "cell_type": "code",
   "execution_count": 15,
   "metadata": {},
   "outputs": [
    {
     "data": {
      "text/html": [
       "<div>\n",
       "<style scoped>\n",
       "    .dataframe tbody tr th:only-of-type {\n",
       "        vertical-align: middle;\n",
       "    }\n",
       "\n",
       "    .dataframe tbody tr th {\n",
       "        vertical-align: top;\n",
       "    }\n",
       "\n",
       "    .dataframe thead th {\n",
       "        text-align: right;\n",
       "    }\n",
       "</style>\n",
       "<table border=\"1\" class=\"dataframe\">\n",
       "  <thead>\n",
       "    <tr style=\"text-align: right;\">\n",
       "      <th></th>\n",
       "      <th></th>\n",
       "      <th>A</th>\n",
       "      <th>B</th>\n",
       "      <th>C</th>\n",
       "      <th>D</th>\n",
       "    </tr>\n",
       "  </thead>\n",
       "  <tbody>\n",
       "    <tr>\n",
       "      <th rowspan=\"4\" valign=\"top\">ClassA</th>\n",
       "      <th>0</th>\n",
       "      <td>A0</td>\n",
       "      <td>B0</td>\n",
       "      <td>C0</td>\n",
       "      <td>D0</td>\n",
       "    </tr>\n",
       "    <tr>\n",
       "      <th>1</th>\n",
       "      <td>A1</td>\n",
       "      <td>B1</td>\n",
       "      <td>C1</td>\n",
       "      <td>D1</td>\n",
       "    </tr>\n",
       "    <tr>\n",
       "      <th>2</th>\n",
       "      <td>A2</td>\n",
       "      <td>B2</td>\n",
       "      <td>C2</td>\n",
       "      <td>D2</td>\n",
       "    </tr>\n",
       "    <tr>\n",
       "      <th>3</th>\n",
       "      <td>A3</td>\n",
       "      <td>B3</td>\n",
       "      <td>C3</td>\n",
       "      <td>D3</td>\n",
       "    </tr>\n",
       "    <tr>\n",
       "      <th rowspan=\"4\" valign=\"top\">ClassB</th>\n",
       "      <th>0</th>\n",
       "      <td>A4</td>\n",
       "      <td>B4</td>\n",
       "      <td>C4</td>\n",
       "      <td>D4</td>\n",
       "    </tr>\n",
       "    <tr>\n",
       "      <th>1</th>\n",
       "      <td>A5</td>\n",
       "      <td>B5</td>\n",
       "      <td>C5</td>\n",
       "      <td>D5</td>\n",
       "    </tr>\n",
       "    <tr>\n",
       "      <th>2</th>\n",
       "      <td>A6</td>\n",
       "      <td>B6</td>\n",
       "      <td>C6</td>\n",
       "      <td>D6</td>\n",
       "    </tr>\n",
       "    <tr>\n",
       "      <th>3</th>\n",
       "      <td>A7</td>\n",
       "      <td>B7</td>\n",
       "      <td>C7</td>\n",
       "      <td>D7</td>\n",
       "    </tr>\n",
       "  </tbody>\n",
       "</table>\n",
       "</div>"
      ],
      "text/plain": [
       "           A   B   C   D\n",
       "ClassA 0  A0  B0  C0  D0\n",
       "       1  A1  B1  C1  D1\n",
       "       2  A2  B2  C2  D2\n",
       "       3  A3  B3  C3  D3\n",
       "ClassB 0  A4  B4  C4  D4\n",
       "       1  A5  B5  C5  D5\n",
       "       2  A6  B6  C6  D6\n",
       "       3  A7  B7  C7  D7"
      ]
     },
     "execution_count": 15,
     "metadata": {},
     "output_type": "execute_result"
    }
   ],
   "source": [
    "'''\n",
    "keys = [] 지정해주면 데이터의 위계/그룹을 표시 가능.\n",
    "데이터를 합칠 때 어느 그룹에서 가져왔는지에 대한 구분이 가능\n",
    "또한 keys 속성을 통해서 데이터의 그룹핑이 된다.\n",
    "'''\n",
    "# 좌우 연결도 가능\n",
    "result=pd.concat([df1,df2],keys=['ClassA','ClassB'])\n",
    "result\n"
   ]
  },
  {
   "cell_type": "code",
   "execution_count": 17,
   "metadata": {},
   "outputs": [
    {
     "data": {
      "text/html": [
       "<div>\n",
       "<style scoped>\n",
       "    .dataframe tbody tr th:only-of-type {\n",
       "        vertical-align: middle;\n",
       "    }\n",
       "\n",
       "    .dataframe tbody tr th {\n",
       "        vertical-align: top;\n",
       "    }\n",
       "\n",
       "    .dataframe thead th {\n",
       "        text-align: right;\n",
       "    }\n",
       "</style>\n",
       "<table border=\"1\" class=\"dataframe\">\n",
       "  <thead>\n",
       "    <tr style=\"text-align: right;\">\n",
       "      <th></th>\n",
       "      <th>A</th>\n",
       "      <th>B</th>\n",
       "      <th>C</th>\n",
       "    </tr>\n",
       "  </thead>\n",
       "  <tbody>\n",
       "    <tr>\n",
       "      <th>0</th>\n",
       "      <td>A0</td>\n",
       "      <td>B0</td>\n",
       "      <td>C0</td>\n",
       "    </tr>\n",
       "    <tr>\n",
       "      <th>1</th>\n",
       "      <td>A1</td>\n",
       "      <td>B1</td>\n",
       "      <td>C1</td>\n",
       "    </tr>\n",
       "    <tr>\n",
       "      <th>2</th>\n",
       "      <td>A2</td>\n",
       "      <td>B2</td>\n",
       "      <td>C2</td>\n",
       "    </tr>\n",
       "    <tr>\n",
       "      <th>3</th>\n",
       "      <td>A3</td>\n",
       "      <td>B3</td>\n",
       "      <td>C3</td>\n",
       "    </tr>\n",
       "  </tbody>\n",
       "</table>\n",
       "</div>"
      ],
      "text/plain": [
       "    A   B   C\n",
       "0  A0  B0  C0\n",
       "1  A1  B1  C1\n",
       "2  A2  B2  C2\n",
       "3  A3  B3  C3"
      ]
     },
     "execution_count": 17,
     "metadata": {},
     "output_type": "execute_result"
    }
   ],
   "source": [
    "# 4행 3열\n",
    "df3=DataFrame({\n",
    "    'A':['A0','A1','A2','A3'],\n",
    "    \"B\":['B0','B1','B2','B3'],\n",
    "    \"C\":['C0','C1','C2','C3']\n",
    "})\n",
    "df3"
   ]
  },
  {
   "cell_type": "code",
   "execution_count": 18,
   "metadata": {},
   "outputs": [
    {
     "data": {
      "text/html": [
       "<div>\n",
       "<style scoped>\n",
       "    .dataframe tbody tr th:only-of-type {\n",
       "        vertical-align: middle;\n",
       "    }\n",
       "\n",
       "    .dataframe tbody tr th {\n",
       "        vertical-align: top;\n",
       "    }\n",
       "\n",
       "    .dataframe thead th {\n",
       "        text-align: right;\n",
       "    }\n",
       "</style>\n",
       "<table border=\"1\" class=\"dataframe\">\n",
       "  <thead>\n",
       "    <tr style=\"text-align: right;\">\n",
       "      <th></th>\n",
       "      <th>A</th>\n",
       "      <th>B</th>\n",
       "      <th>C</th>\n",
       "      <th>D</th>\n",
       "    </tr>\n",
       "  </thead>\n",
       "  <tbody>\n",
       "    <tr>\n",
       "      <th>0</th>\n",
       "      <td>A4</td>\n",
       "      <td>B4</td>\n",
       "      <td>C4</td>\n",
       "      <td>D4</td>\n",
       "    </tr>\n",
       "    <tr>\n",
       "      <th>1</th>\n",
       "      <td>A5</td>\n",
       "      <td>B5</td>\n",
       "      <td>C5</td>\n",
       "      <td>D5</td>\n",
       "    </tr>\n",
       "    <tr>\n",
       "      <th>2</th>\n",
       "      <td>A6</td>\n",
       "      <td>B6</td>\n",
       "      <td>C6</td>\n",
       "      <td>D6</td>\n",
       "    </tr>\n",
       "    <tr>\n",
       "      <th>3</th>\n",
       "      <td>A7</td>\n",
       "      <td>B7</td>\n",
       "      <td>C7</td>\n",
       "      <td>D7</td>\n",
       "    </tr>\n",
       "  </tbody>\n",
       "</table>\n",
       "</div>"
      ],
      "text/plain": [
       "    A   B   C   D\n",
       "0  A4  B4  C4  D4\n",
       "1  A5  B5  C5  D5\n",
       "2  A6  B6  C6  D6\n",
       "3  A7  B7  C7  D7"
      ]
     },
     "execution_count": 18,
     "metadata": {},
     "output_type": "execute_result"
    }
   ],
   "source": [
    "# 4행 4열\n",
    "df4=DataFrame({\n",
    "    'A':['A4','A5','A6','A7'],\n",
    "    \"B\":['B4','B5','B6','B7'],\n",
    "    \"C\":['C4','C5','C6','C7'],\n",
    "    \"D\":['D4','D5','D6','D7']\n",
    "})\n",
    "df4"
   ]
  },
  {
   "cell_type": "code",
   "execution_count": 11,
   "metadata": {},
   "outputs": [
    {
     "name": "stdout",
     "output_type": "stream",
     "text": [
      "    A   B   C    D\n",
      "0  A0  B0  C0  NaN\n",
      "1  A1  B1  C1  NaN\n",
      "2  A2  B2  C2  NaN\n",
      "3  A3  B3  C3  NaN\n",
      "4  A4  B4  C4   D4\n",
      "5  A5  B5  C5   D5\n",
      "6  A6  B6  C6   D6\n",
      "7  A7  B7  C7   D7\n",
      "    A   B   C   D\n",
      "0  A0  B0  C0   D\n",
      "1  A1  B1  C1   D\n",
      "2  A2  B2  C2   D\n",
      "3  A3  B3  C3   D\n",
      "4  A4  B4  C4  D4\n",
      "5  A5  B5  C5  D5\n",
      "6  A6  B6  C6  D6\n",
      "7  A7  B7  C7  D7\n"
     ]
    }
   ],
   "source": [
    "# df3, df4 concat으로 병합 시, df3에는 D열이 없어서 NaN으로 채워진다.\n",
    "result2=pd.concat([df3,df4],ignore_index=True)\n",
    "print(result2)\n",
    "\n",
    "print(result2.fillna(value=\"D\"))\n"
   ]
  },
  {
   "cell_type": "code",
   "execution_count": 51,
   "metadata": {},
   "outputs": [
    {
     "name": "stdout",
     "output_type": "stream",
     "text": [
      "    A   B   C    D\n",
      "0  A0  B0  C0  NaN\n",
      "1  A1  B1  C1  NaN\n",
      "2  A2  B2  C2  NaN\n",
      "3  A3  B3  C3  NaN\n",
      "0  A4  B4  C4   D4\n",
      "1  A5  B5  C5   D5\n",
      "2  A6  B6  C6   D6\n",
      "3  A7  B7  C7   D7\n",
      "************************************************************\n",
      "    A   B   C\n",
      "0  A0  B0  C0\n",
      "1  A1  B1  C1\n",
      "2  A2  B2  C2\n",
      "3  A3  B3  C3\n",
      "0  A4  B4  C4\n",
      "1  A5  B5  C5\n",
      "2  A6  B6  C6\n",
      "3  A7  B7  C7\n"
     ]
    }
   ],
   "source": [
    "result3=pd.concat([df3,df4],join=\"outer\")\n",
    "print(result3)\n",
    "print(\"*\"*60)\n",
    "# inner join 방식으로 데이터 프레임을 연결하면 두 데이터에 모두 존재하는 컬럼값만 가져옴\n",
    "result3=pd.concat([df3,df4],join=\"inner\")\n",
    "print(result3)"
   ]
  },
  {
   "cell_type": "markdown",
   "metadata": {},
   "source": [
    "## merge"
   ]
  },
  {
   "cell_type": "code",
   "execution_count": 12,
   "metadata": {},
   "outputs": [
    {
     "data": {
      "text/html": [
       "<div>\n",
       "<style scoped>\n",
       "    .dataframe tbody tr th:only-of-type {\n",
       "        vertical-align: middle;\n",
       "    }\n",
       "\n",
       "    .dataframe tbody tr th {\n",
       "        vertical-align: top;\n",
       "    }\n",
       "\n",
       "    .dataframe thead th {\n",
       "        text-align: right;\n",
       "    }\n",
       "</style>\n",
       "<table border=\"1\" class=\"dataframe\">\n",
       "  <thead>\n",
       "    <tr style=\"text-align: right;\">\n",
       "      <th></th>\n",
       "      <th>Year</th>\n",
       "      <th>Product_Code</th>\n",
       "      <th>Color_num</th>\n",
       "    </tr>\n",
       "  </thead>\n",
       "  <tbody>\n",
       "    <tr>\n",
       "      <th>1</th>\n",
       "      <td>2001</td>\n",
       "      <td>11</td>\n",
       "      <td>16</td>\n",
       "    </tr>\n",
       "    <tr>\n",
       "      <th>2</th>\n",
       "      <td>2012</td>\n",
       "      <td>22</td>\n",
       "      <td>32</td>\n",
       "    </tr>\n",
       "    <tr>\n",
       "      <th>3</th>\n",
       "      <td>2013</td>\n",
       "      <td>33</td>\n",
       "      <td>21</td>\n",
       "    </tr>\n",
       "    <tr>\n",
       "      <th>4</th>\n",
       "      <td>2004</td>\n",
       "      <td>44</td>\n",
       "      <td>40</td>\n",
       "    </tr>\n",
       "  </tbody>\n",
       "</table>\n",
       "</div>"
      ],
      "text/plain": [
       "   Year  Product_Code  Color_num\n",
       "1  2001            11         16\n",
       "2  2012            22         32\n",
       "3  2013            33         21\n",
       "4  2004            44         40"
      ]
     },
     "execution_count": 12,
     "metadata": {},
     "output_type": "execute_result"
    }
   ],
   "source": [
    "df1=DataFrame({\n",
    "    \"Year\":[2001,2002,2003,2004],\n",
    "    \"Product_Code\":[11,22,33,44],\n",
    "    \"Price\":[10000,20000,30000,40000]},\n",
    "    index=list(\"1234\"))\n",
    "df1\n",
    "\n",
    "df2=DataFrame({\n",
    "    \"Year\":[2001,2002,2003,2004],\n",
    "    \"Product_Code\":[11,22,33,44],\n",
    "    \"Price\":[10000,20000,30000,40000]},\n",
    "    index=list(\"5678\"))\n",
    "df2\n",
    "\n",
    "df3=DataFrame({\n",
    "    \"Year\":[2001,2012,2013,2004],\n",
    "    \"Product_Code\":[11,22,33,44],\n",
    "    \"Color_num\":[16,32,21,40]},\n",
    "    index=list(\"1234\"))\n",
    "df3"
   ]
  },
  {
   "cell_type": "code",
   "execution_count": 127,
   "metadata": {},
   "outputs": [
    {
     "data": {
      "text/html": [
       "<div>\n",
       "<style scoped>\n",
       "    .dataframe tbody tr th:only-of-type {\n",
       "        vertical-align: middle;\n",
       "    }\n",
       "\n",
       "    .dataframe tbody tr th {\n",
       "        vertical-align: top;\n",
       "    }\n",
       "\n",
       "    .dataframe thead th {\n",
       "        text-align: right;\n",
       "    }\n",
       "</style>\n",
       "<table border=\"1\" class=\"dataframe\">\n",
       "  <thead>\n",
       "    <tr style=\"text-align: right;\">\n",
       "      <th></th>\n",
       "      <th>Year</th>\n",
       "      <th>Product_Code</th>\n",
       "      <th>Price</th>\n",
       "    </tr>\n",
       "  </thead>\n",
       "  <tbody>\n",
       "    <tr>\n",
       "      <th>1</th>\n",
       "      <td>2001</td>\n",
       "      <td>11</td>\n",
       "      <td>10000</td>\n",
       "    </tr>\n",
       "    <tr>\n",
       "      <th>2</th>\n",
       "      <td>2002</td>\n",
       "      <td>22</td>\n",
       "      <td>20000</td>\n",
       "    </tr>\n",
       "    <tr>\n",
       "      <th>3</th>\n",
       "      <td>2003</td>\n",
       "      <td>33</td>\n",
       "      <td>30000</td>\n",
       "    </tr>\n",
       "    <tr>\n",
       "      <th>4</th>\n",
       "      <td>2004</td>\n",
       "      <td>44</td>\n",
       "      <td>40000</td>\n",
       "    </tr>\n",
       "    <tr>\n",
       "      <th>5</th>\n",
       "      <td>2001</td>\n",
       "      <td>11</td>\n",
       "      <td>10000</td>\n",
       "    </tr>\n",
       "    <tr>\n",
       "      <th>6</th>\n",
       "      <td>2002</td>\n",
       "      <td>22</td>\n",
       "      <td>20000</td>\n",
       "    </tr>\n",
       "    <tr>\n",
       "      <th>7</th>\n",
       "      <td>2003</td>\n",
       "      <td>33</td>\n",
       "      <td>30000</td>\n",
       "    </tr>\n",
       "    <tr>\n",
       "      <th>8</th>\n",
       "      <td>2004</td>\n",
       "      <td>44</td>\n",
       "      <td>40000</td>\n",
       "    </tr>\n",
       "  </tbody>\n",
       "</table>\n",
       "</div>"
      ],
      "text/plain": [
       "   Year  Product_Code  Price\n",
       "1  2001            11  10000\n",
       "2  2002            22  20000\n",
       "3  2003            33  30000\n",
       "4  2004            44  40000\n",
       "5  2001            11  10000\n",
       "6  2002            22  20000\n",
       "7  2003            33  30000\n",
       "8  2004            44  40000"
      ]
     },
     "execution_count": 127,
     "metadata": {},
     "output_type": "execute_result"
    }
   ],
   "source": [
    "result=pd.concat([df1,df2])\n",
    "result"
   ]
  },
  {
   "cell_type": "code",
   "execution_count": 13,
   "metadata": {},
   "outputs": [
    {
     "name": "stdout",
     "output_type": "stream",
     "text": [
      "   Year  Product_Code  Price  Color_num\n",
      "0  2001            11  10000         16\n",
      "1  2004            44  40000         40\n"
     ]
    }
   ],
   "source": [
    "'''\n",
    "df1과 df2 merge로 병합 시, index상관없이 좌우로 병합되고 중복된 값은 제거\n",
    "'''\n",
    "result=pd.merge(df2,df3)\n",
    "print(result)"
   ]
  },
  {
   "cell_type": "code",
   "execution_count": 14,
   "metadata": {},
   "outputs": [
    {
     "name": "stdout",
     "output_type": "stream",
     "text": [
      "   Year  Product_Code  Price\n",
      "1  2001            11  11000\n",
      "2  2002            22  22000\n",
      "3  2003            33  33000\n",
      "4  2004            44  44000\n"
     ]
    }
   ],
   "source": [
    "df1_1=DataFrame({\n",
    "    \"Year\":[2001,2002,2003,2004],\n",
    "    \"Product_Code\":[11,22,33,44],\n",
    "    \"Price\":[11000,22000,33000,44000]},\n",
    "    index=list(\"1234\"))\n",
    "print(df1_1)"
   ]
  },
  {
   "cell_type": "code",
   "execution_count": 15,
   "metadata": {
    "scrolled": true
   },
   "outputs": [
    {
     "name": "stdout",
     "output_type": "stream",
     "text": [
      "   Year  Product_Code_x  Price_x  Product_Code_y  Price_y\n",
      "0  2001              11    10000              11    11000\n",
      "1  2002              22    20000              22    22000\n",
      "2  2003              33    30000              33    33000\n",
      "3  2004              44    40000              44    44000\n"
     ]
    }
   ],
   "source": [
    "# merge할 때 특정한 컬럼을 기준으로 병합한다...on을 사용하여 기준이 될 열을 설정\n",
    "# on=\"year\" >> year외에는 데이터가 중복되더라도 다 표시된다.\n",
    "\n",
    "result=pd.merge(df1,df1_1,on=\"Year\")\n",
    "print(result)"
   ]
  },
  {
   "cell_type": "code",
   "execution_count": 17,
   "metadata": {},
   "outputs": [
    {
     "name": "stdout",
     "output_type": "stream",
     "text": [
      "   Year  Product_Code  Price_x  Price_y\n",
      "0  2001            11    10000    11000\n",
      "1  2002            22    20000    22000\n",
      "2  2003            33    30000    33000\n",
      "3  2004            44    40000    44000\n"
     ]
    }
   ],
   "source": [
    "# 2개의 컬럼으로 병합 : year, Product_Code\n",
    "result2=pd.merge(df1,df1_1,on=[\"Year\",\"Product_Code\"])\n",
    "print(result2)"
   ]
  },
  {
   "cell_type": "code",
   "execution_count": 132,
   "metadata": {},
   "outputs": [],
   "source": [
    "result2.set_index(\"Year\",inplace=True)"
   ]
  },
  {
   "cell_type": "code",
   "execution_count": 133,
   "metadata": {},
   "outputs": [
    {
     "data": {
      "text/html": [
       "<div>\n",
       "<style scoped>\n",
       "    .dataframe tbody tr th:only-of-type {\n",
       "        vertical-align: middle;\n",
       "    }\n",
       "\n",
       "    .dataframe tbody tr th {\n",
       "        vertical-align: top;\n",
       "    }\n",
       "\n",
       "    .dataframe thead th {\n",
       "        text-align: right;\n",
       "    }\n",
       "</style>\n",
       "<table border=\"1\" class=\"dataframe\">\n",
       "  <thead>\n",
       "    <tr style=\"text-align: right;\">\n",
       "      <th></th>\n",
       "      <th>Product_Code</th>\n",
       "      <th>Price_x</th>\n",
       "      <th>Price_y</th>\n",
       "    </tr>\n",
       "    <tr>\n",
       "      <th>Year</th>\n",
       "      <th></th>\n",
       "      <th></th>\n",
       "      <th></th>\n",
       "    </tr>\n",
       "  </thead>\n",
       "  <tbody>\n",
       "    <tr>\n",
       "      <th>2001</th>\n",
       "      <td>11</td>\n",
       "      <td>10000</td>\n",
       "      <td>11000</td>\n",
       "    </tr>\n",
       "    <tr>\n",
       "      <th>2002</th>\n",
       "      <td>22</td>\n",
       "      <td>20000</td>\n",
       "      <td>22000</td>\n",
       "    </tr>\n",
       "    <tr>\n",
       "      <th>2003</th>\n",
       "      <td>33</td>\n",
       "      <td>30000</td>\n",
       "      <td>33000</td>\n",
       "    </tr>\n",
       "    <tr>\n",
       "      <th>2004</th>\n",
       "      <td>44</td>\n",
       "      <td>40000</td>\n",
       "      <td>44000</td>\n",
       "    </tr>\n",
       "  </tbody>\n",
       "</table>\n",
       "</div>"
      ],
      "text/plain": [
       "      Product_Code  Price_x  Price_y\n",
       "Year                                \n",
       "2001            11    10000    11000\n",
       "2002            22    20000    22000\n",
       "2003            33    30000    33000\n",
       "2004            44    40000    44000"
      ]
     },
     "execution_count": 133,
     "metadata": {},
     "output_type": "execute_result"
    }
   ],
   "source": [
    "result2"
   ]
  },
  {
   "cell_type": "code",
   "execution_count": 18,
   "metadata": {},
   "outputs": [
    {
     "name": "stdout",
     "output_type": "stream",
     "text": [
      "   Year  Product_Code_x    Price  Product_Code_y  Color_num\n",
      "0  2001            11.0  10000.0            11.0       16.0\n",
      "1  2002            22.0  20000.0             NaN        NaN\n",
      "2  2003            33.0  30000.0             NaN        NaN\n",
      "3  2004            44.0  40000.0            44.0       40.0\n",
      "4  2012             NaN      NaN            22.0       32.0\n",
      "5  2013             NaN      NaN            33.0       21.0\n"
     ]
    }
   ],
   "source": [
    "result3=pd.merge(df1,df3,on=\"Year\")\n",
    "result3\n",
    "\n",
    "# outer는 기준이 되는 컬럼 Year의 데이터 중복과 상관없이 모두 출력\n",
    "result4=pd.merge(df1,df3,on=\"Year\",how=\"outer\")\n",
    "print(result4)"
   ]
  },
  {
   "cell_type": "code",
   "execution_count": 19,
   "metadata": {
    "scrolled": true
   },
   "outputs": [
    {
     "name": "stdout",
     "output_type": "stream",
     "text": [
      "   Year  Product_Code_x  Price  Product_Code_y  Color_num\n",
      "0  2001              11  10000              11         16\n",
      "1  2004              44  40000              44         40\n"
     ]
    }
   ],
   "source": [
    "result5=pd.merge(df1,df3,on=\"Year\",how=\"inner\")\n",
    "print(result5)"
   ]
  },
  {
   "cell_type": "code",
   "execution_count": 20,
   "metadata": {},
   "outputs": [
    {
     "name": "stdout",
     "output_type": "stream",
     "text": [
      "   Year  Product_Code_x    Price  Product_Code_y  Color_num\n",
      "0  2001            11.0  10000.0              11         16\n",
      "1  2004            44.0  40000.0              44         40\n",
      "2  2012             NaN      NaN              22         32\n",
      "3  2013             NaN      NaN              33         21\n"
     ]
    }
   ],
   "source": [
    "result6=pd.merge(df1,df3,on=\"Year\",how=\"right\")\n",
    "print(result6)"
   ]
  },
  {
   "cell_type": "code",
   "execution_count": 21,
   "metadata": {
    "scrolled": true
   },
   "outputs": [
    {
     "name": "stdout",
     "output_type": "stream",
     "text": [
      "   Year  Product_Code_x  Price  Product_Code_y  Color_num\n",
      "0  2001              11  10000            11.0       16.0\n",
      "1  2002              22  20000             NaN        NaN\n",
      "2  2003              33  30000             NaN        NaN\n",
      "3  2004              44  40000            44.0       40.0\n"
     ]
    }
   ],
   "source": [
    "result7=pd.merge(df1,df3,on=\"Year\",how=\"left\")\n",
    "print(result7)"
   ]
  },
  {
   "cell_type": "code",
   "execution_count": null,
   "metadata": {},
   "outputs": [],
   "source": [
    "'''\n",
    "join(merge) \n",
    "1) inner\n",
    "2) outer\n",
    "3) left\n",
    "4) right\n",
    "'''"
   ]
  },
  {
   "cell_type": "code",
   "execution_count": null,
   "metadata": {},
   "outputs": [],
   "source": []
  },
  {
   "cell_type": "code",
   "execution_count": null,
   "metadata": {},
   "outputs": [],
   "source": []
  },
  {
   "cell_type": "code",
   "execution_count": null,
   "metadata": {},
   "outputs": [],
   "source": []
  }
 ],
 "metadata": {
  "kernelspec": {
   "display_name": "Python 3",
   "language": "python",
   "name": "python3"
  },
  "language_info": {
   "codemirror_mode": {
    "name": "ipython",
    "version": 3
   },
   "file_extension": ".py",
   "mimetype": "text/x-python",
   "name": "python",
   "nbconvert_exporter": "python",
   "pygments_lexer": "ipython3",
   "version": "3.7.6"
  }
 },
 "nbformat": 4,
 "nbformat_minor": 4
}
