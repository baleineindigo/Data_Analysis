{
 "cells": [
  {
   "cell_type": "code",
   "execution_count": 2,
   "metadata": {},
   "outputs": [
    {
     "name": "stdout",
     "output_type": "stream",
     "text": [
      "1.670142184809518e-05\n"
     ]
    }
   ],
   "source": [
    "# Module\n",
    "import numpy as np\n",
    "\n",
    "def sigmoid(x):\n",
    "    return 1.0/(1.0+np.exp(-x))\n",
    "\n",
    "print(sigmoid(-11)) "
   ]
  },
  {
   "cell_type": "code",
   "execution_count": 3,
   "metadata": {},
   "outputs": [
    {
     "name": "stdout",
     "output_type": "stream",
     "text": [
      "Epoch 1 : loss = 33.906, /t accuracy =0.557/0.801\n",
      "Epoch 2 : loss = 8.225, /t accuracy =0.820/0.755\n",
      "Epoch 3 : loss = 7.582, /t accuracy =0.812/0.865\n",
      "Epoch 4 : loss = 7.476, /t accuracy =0.808/0.785\n",
      "Epoch 5 : loss = 7.397, /t accuracy =0.810/0.820\n",
      "Epoch 6 : loss = 7.331, /t accuracy =0.808/0.779\n",
      "Epoch 7 : loss = 7.272, /t accuracy =0.808/0.810\n",
      "Epoch 8 : loss = 7.220, /t accuracy =0.808/0.838\n",
      "Epoch 9 : loss = 7.178, /t accuracy =0.810/0.838\n",
      "Epoch 10 : loss = 7.138, /t accuracy =0.809/0.860\n",
      "\n",
      "filnal Test : final accuracy = 0.860\n",
      "[[1.03338961]\n",
      " [1.47724746]\n",
      " [1.67992711]\n",
      " [2.03717282]\n",
      " [1.60645146]\n",
      " [0.62703825]\n",
      " [2.42585997]\n",
      " [0.52521222]\n",
      " [0.46959183]\n",
      " [0.96029006]] [4.16916919]\n",
      "Epoch 5 : loss = 6.807, /t accuracy =0.809/0.808\n",
      "Epoch 10 : loss = 6.474, /t accuracy =0.813/0.794\n",
      "Epoch 15 : loss = 6.237, /t accuracy =0.818/0.818\n",
      "Epoch 20 : loss = 6.018, /t accuracy =0.821/0.811\n",
      "Epoch 25 : loss = 5.843, /t accuracy =0.824/0.805\n",
      "Epoch 30 : loss = 5.696, /t accuracy =0.826/0.811\n",
      "Epoch 35 : loss = 5.548, /t accuracy =0.828/0.833\n",
      "Epoch 40 : loss = 5.451, /t accuracy =0.831/0.818\n",
      "Epoch 45 : loss = 5.374, /t accuracy =0.832/0.833\n",
      "Epoch 50 : loss = 5.273, /t accuracy =0.834/0.835\n",
      "Epoch 55 : loss = 5.219, /t accuracy =0.834/0.833\n",
      "Epoch 60 : loss = 5.182, /t accuracy =0.834/0.842\n",
      "Epoch 65 : loss = 5.127, /t accuracy =0.836/0.833\n",
      "Epoch 70 : loss = 5.097, /t accuracy =0.836/0.844\n",
      "Epoch 75 : loss = 5.075, /t accuracy =0.836/0.840\n",
      "Epoch 80 : loss = 5.031, /t accuracy =0.837/0.820\n",
      "Epoch 85 : loss = 5.016, /t accuracy =0.838/0.829\n",
      "Epoch 90 : loss = 5.006, /t accuracy =0.838/0.823\n",
      "Epoch 95 : loss = 4.981, /t accuracy =0.837/0.805\n",
      "Epoch 100 : loss = 4.958, /t accuracy =0.839/0.818\n",
      "\n",
      "filnal Test : final accuracy = 0.818\n"
     ]
    }
   ],
   "source": [
    "%run Single_Layer_Percept_전복고리수.ipynb"
   ]
  },
  {
   "cell_type": "code",
   "execution_count": 5,
   "metadata": {},
   "outputs": [],
   "source": [
    "# 메인함수 정의\n",
    "def pulsar_exec(epoch_count=10,mb_size=10,report=1):\n",
    "    load_pulsar_dataset()\n",
    "    init_model()\n",
    "    train_test(epoch_count,mb_size,report)"
   ]
  },
  {
   "cell_type": "code",
   "execution_count": 68,
   "metadata": {},
   "outputs": [],
   "source": [
    "# 데이터 적재함수 정의\n",
    "def load_pulsar_dataset():\n",
    "    with open(\"pulsar_data_train.csv\") as csvfile:\n",
    "        csvreader=csv.reader(csvfile)\n",
    "        next(csvreader,None)\n",
    "        rows=[]\n",
    "\n",
    "        for row in csvreader:\n",
    "            for i in range(0,len(row)) :\n",
    "                if row[i]=='':row[i]=0\n",
    "            rows.append(row)\n",
    "\n",
    "    global data, input_cnt, output_cnt\n",
    "    input_cnt, output_cnt = 8,1\n",
    "    data = np.asarray(rows,dtype=np.float32)\n"
   ]
  },
  {
   "cell_type": "code",
   "execution_count": 70,
   "metadata": {},
   "outputs": [],
   "source": [
    "#  후처리 과정에 대한 순전파와 역전파 함수 재정의\n",
    "def forward_postproc(output,y):\n",
    "    entropy = sigmoid_cross_entropy_with_logits(y,output)\n",
    "    loss=np.mean(entropy)\n",
    "    return loss,[y,output,entropy]\n",
    "\n",
    "def backprop_postproc(G_loss,aux):\n",
    "    y,output,entropy=aux\n",
    "    \n",
    "    g_loss_entropy=1.0/np.prod(entropy.shape)\n",
    "    g_entropy_output=sigmoid_cross_entropy_with_logits_derv(y,output)\n",
    "    \n",
    "    G_entropy = g_loss_entropy * G_loss\n",
    "    G_output = g_entropy_output * G_entropy\n",
    "    \n",
    "    return G_output"
   ]
  },
  {
   "cell_type": "code",
   "execution_count": 74,
   "metadata": {},
   "outputs": [],
   "source": [
    "# 정확도 함수 재정의\n",
    "def eval_accuracy(output,y):\n",
    "    estimate = np.greater(output,0)\n",
    "    answer=np.greater(y,0.5)\n",
    "    correct = np.equal(estimate,answer)\n",
    "    \n",
    "    return np.mean(correct)"
   ]
  },
  {
   "cell_type": "code",
   "execution_count": 83,
   "metadata": {},
   "outputs": [],
   "source": [
    "# 시그모이드 관련 함수\n",
    "def relu(x):\n",
    "    return np.maximum(x,0)\n",
    "\n",
    "def sigmoid(x):\n",
    "    return np.exp(-relu(-x))/ (1 + np.exp(-np.abs(x)))\n",
    "\n",
    "def sigmoid_derv(x,y):\n",
    "    return y*(1-y)\n",
    "\n",
    "def sigmoid_cross_entropy_with_logits(z,x):\n",
    "    return relu(x)-x*z+np.log(1+np.exp(-np.abs(x)))\n",
    "\n",
    "def sigmoid_cross_entorpy_with_logits_derv(z,x):\n",
    "    \n",
    "    return -z + sigmoid(x)"
   ]
  },
  {
   "cell_type": "code",
   "execution_count": 84,
   "metadata": {},
   "outputs": [
    {
     "name": "stdout",
     "output_type": "stream",
     "text": [
      "Epoch 1 : loss = 11.012, /t accuracy =0.945/1.000\n",
      "Epoch 2 : loss = 7.027, /t accuracy =0.951/1.000\n",
      "Epoch 3 : loss = 8.520, /t accuracy =0.952/1.000\n",
      "Epoch 4 : loss = 8.772, /t accuracy =0.956/1.000\n",
      "Epoch 5 : loss = 9.666, /t accuracy =0.954/0.900\n",
      "Epoch 6 : loss = 9.345, /t accuracy =0.956/1.000\n",
      "Epoch 7 : loss = 7.096, /t accuracy =0.959/1.000\n",
      "Epoch 8 : loss = 9.849, /t accuracy =0.956/1.000\n",
      "Epoch 9 : loss = 8.784, /t accuracy =0.956/1.000\n",
      "Epoch 10 : loss = 8.787, /t accuracy =0.955/1.000\n",
      "\n",
      "filnal Test : final accuracy = 1.000\n"
     ]
    }
   ],
   "source": [
    "pulsar_exec()"
   ]
  },
  {
   "cell_type": "code",
   "execution_count": null,
   "metadata": {},
   "outputs": [],
   "source": [
    "'''\n",
    "그러나 data set 에서 일반 별은 90%, 펄서의 비율 9.2%이기 때문에 모두 일반 별이라 대답해도 정확도는 90%.\n",
    "따라서 정확한 학습을 위해 일반별과 펄서의 빈도를 조정할 필요가 있음.\n",
    "일반별의 데이터를 펄서와 같은 수로 줄이는 것보다, 일반 별의 데이터만큼 펄서 데이터를 중복 시켜 수를 늘리는 것이 좋다.\n",
    "\n",
    "또한, 퍼포먼스 지표도 수정이 필요하다.\n",
    "데이터 균형을 맞춤으로써 신경망의 추정 성능이 향상되지만, 정확도는 하락할 수 있기 때문이다.\n",
    "이러한 이유로 정확도 대신 신경망의 성능 측정에 더 적합한 평가 지표가 요구됨.\n",
    "\n",
    "퍼포먼스 측정 지표의 종류\n",
    "1) 정밀도 : 참으로 추정한 것 가운데 정답이 참인 것의 비율\n",
    "2) 재현율 : 정답이 참인 것들 가운데 신경망이 참으로 추정한 것의 비율\n",
    "\n",
    ">> 2개 지표를 합친 F1 지표(정밀도와 재현율의 조화평균)\n",
    "F1 = (2*재현율*정밀도)/ (재현율+정밀도)\n",
    "'''\n",
    "\n",
    "'''\n",
    "아래 코드에서는 펄서 1) 데이터를 중복 사용하고 2) 이 때 성능을 평가지표로 확인\n",
    "'''"
   ]
  },
  {
   "cell_type": "code",
   "execution_count": 6,
   "metadata": {},
   "outputs": [],
   "source": [
    "# 메인함수 재정의\n",
    "def pulsar_exec(epoch_count=10,mb_size=10,report=1,adjust_ratio=False):\n",
    "    load_pulsar_dataset(adjust_ratio)\n",
    "    init_model()\n",
    "    train_test(epoch_count,mb_size,report)"
   ]
  },
  {
   "cell_type": "code",
   "execution_count": 128,
   "metadata": {},
   "outputs": [],
   "source": [
    "# 데이터 적재함수 정의\n",
    "def load_pulsar_dataset(adjust_ratio):\n",
    "    pulsars, stars =[],[]\n",
    "    with open(\"pulsar_data_train.csv\") as csvfile:\n",
    "        csvreader=csv.reader(csvfile)\n",
    "        next(csvreader,None)\n",
    "        rows=[]\n",
    "\n",
    "        for row in csvreader:\n",
    "            for i in range(0,len(row)) :\n",
    "                if row[i]=='':row[i]='0.0'\n",
    "            if row[8]=='1.0': pulsars.append(row)\n",
    "            else: stars.append(row)\n",
    "\n",
    "                \n",
    "    global data, input_cnt, output_cnt\n",
    "    input_cnt, output_cnt = 8,1\n",
    "    \n",
    "    star_cnt,pulsar_cnt = len(stars),len(pulsars)\n",
    "  \n",
    "    if adjust_ratio:\n",
    "        data = np.zeros([2*star_cnt,9])\n",
    "        data[0:star_cnt,:]=np.asarray(stars,dtype='float32')# adjust_ratio 가 True 이면 별데이터를 data 버퍼에 담은 후 \n",
    "        for n in range(star_cnt):    # 반복문으로 펄서 데이터를 별 데이터와 같은 수만큼 data 버퍼에 담음\n",
    "            data[star_cnt+n] = np.asarray(pulsars[n % pulsar_cnt],dtype='float32')\n",
    "            \n",
    "    else:  # 별과 펄서 데이터 차례로 data 버퍼에 담기\n",
    "        data = np.zeros([star_cnt+pulsar_cnt,9])\n",
    "        data[0:star_cnt,:]=np.asarray(stars,dtype='float32')\n",
    "        data[star_cnt,:]=np.asarray(pulsars,dtype='float32')"
   ]
  },
  {
   "cell_type": "code",
   "execution_count": 129,
   "metadata": {},
   "outputs": [],
   "source": [
    "# 정확도 계산 함수 재정의\n",
    "def eval_accuracy(output,y):\n",
    "    est_yes = np.greater(output,0)\n",
    "    ans_yes = np.greater(y,0.5)\n",
    "    est_no = np.logical_not(est_yes)\n",
    "    ans_no = np.logical_not(ans_yes)\n",
    "    \n",
    "    tp = np.sum(np.logical_and(est_yes,ans_yes))\n",
    "    fp = np.sum(np.logical_and(est_yes,ans_no))\n",
    "    tn = np.sum(np.logical_and(est_no,ans_no))\n",
    "    fn = np.sum(np.logical_and(est_no,ans_yes))\n",
    "\n",
    "    accuracy =safe_div(tp+tn,tp+tn+tn+fn)\n",
    "    precision=safe_div(tp,tp+fp)\n",
    "    recall=safe_div(tp,tn+fn)\n",
    "    f1=2*safe_div(recall*precision,recall+precision)\n",
    "    \n",
    "    return [accuracy,precision,recall,f1]\n",
    "\n",
    "\n",
    "def safe_div(p,q):  # 타입 오류 방지를 위한 형 변환, 0 나누기 오류 방지를 위한 예외처리\n",
    "    p,q=float(p),float(q)\n",
    "    if np.abs(q) < 1.0e-20 : return np.sign(p)\n",
    "\n",
    "    return p/q    "
   ]
  },
  {
   "cell_type": "code",
   "execution_count": 130,
   "metadata": {},
   "outputs": [],
   "source": [
    "# train & test set\n",
    "def train_test(epoch_count,mb_size,report):\n",
    "    step_count=arrange_data(mb_size)  # 데이터 셔플, train & test 셋 분리, 정렬 작업 수행\n",
    "    test_x,test_y=get_test_data()\n",
    "    \n",
    "    for epoch in range(epoch_count):  # 인수로 지정된 에포크 수만큼 학습 반복\n",
    "        losses=[]\n",
    "        \n",
    "        for n in range(step_count):  # step_count 값만큼 미니배치 처리 반복\n",
    "            train_x,train_y =get_train_data(mb_size,n)  \n",
    "            loss, _ = run_train(train_x,train_y)   # train 데이터 가져와 학습\n",
    "            losses.append(loss)     # 미니배치에서 손실과 정확도 값을 각각 적재\n",
    "                \n",
    "        if report > 0 and (epoch+1)  % report ==0:  # report : 보고주기. 보고주기에 맞으면 손실 및 정확도를 출력\n",
    "            acc=run_test(train_x,train_y )\n",
    "            print('Epoch {} : loss = {:5.3f}, /t accuracy ={:5.3f}/{:5.3f}'.format(epoch+1,np.mean(losses),acc_str))\n",
    "    \n",
    "    acc =run_test(train_x,train_y )  # 최종 테스트 함수 호출 및 값 출력\n",
    "    acc_str=\",\".join([\"%5.3f\"]*4)%tuple(acc)\n",
    "    print('\\nFilnal Test : final result = {}'.format(acc_str))\n"
   ]
  },
  {
   "cell_type": "code",
   "execution_count": 131,
   "metadata": {},
   "outputs": [
    {
     "ename": "ValueError",
     "evalue": "could not broadcast input array from shape (1153,9) into shape (9)",
     "output_type": "error",
     "traceback": [
      "\u001b[1;31m---------------------------------------------------------------------------\u001b[0m",
      "\u001b[1;31mValueError\u001b[0m                                Traceback (most recent call last)",
      "\u001b[1;32m<ipython-input-131-d4ef60e6a309>\u001b[0m in \u001b[0;36m<module>\u001b[1;34m\u001b[0m\n\u001b[1;32m----> 1\u001b[1;33m \u001b[0mpulsar_exec\u001b[0m\u001b[1;33m(\u001b[0m\u001b[1;33m)\u001b[0m\u001b[1;33m\u001b[0m\u001b[1;33m\u001b[0m\u001b[0m\n\u001b[0m",
      "\u001b[1;32m<ipython-input-6-3f528af62057>\u001b[0m in \u001b[0;36mpulsar_exec\u001b[1;34m(epoch_count, mb_size, report, adjust_ratio)\u001b[0m\n\u001b[0;32m      1\u001b[0m \u001b[1;31m# 메인함수 재정의\u001b[0m\u001b[1;33m\u001b[0m\u001b[1;33m\u001b[0m\u001b[1;33m\u001b[0m\u001b[0m\n\u001b[0;32m      2\u001b[0m \u001b[1;32mdef\u001b[0m \u001b[0mpulsar_exec\u001b[0m\u001b[1;33m(\u001b[0m\u001b[0mepoch_count\u001b[0m\u001b[1;33m=\u001b[0m\u001b[1;36m10\u001b[0m\u001b[1;33m,\u001b[0m\u001b[0mmb_size\u001b[0m\u001b[1;33m=\u001b[0m\u001b[1;36m10\u001b[0m\u001b[1;33m,\u001b[0m\u001b[0mreport\u001b[0m\u001b[1;33m=\u001b[0m\u001b[1;36m1\u001b[0m\u001b[1;33m,\u001b[0m\u001b[0madjust_ratio\u001b[0m\u001b[1;33m=\u001b[0m\u001b[1;32mFalse\u001b[0m\u001b[1;33m)\u001b[0m\u001b[1;33m:\u001b[0m\u001b[1;33m\u001b[0m\u001b[1;33m\u001b[0m\u001b[0m\n\u001b[1;32m----> 3\u001b[1;33m     \u001b[0mload_pulsar_dataset\u001b[0m\u001b[1;33m(\u001b[0m\u001b[0madjust_ratio\u001b[0m\u001b[1;33m)\u001b[0m\u001b[1;33m\u001b[0m\u001b[1;33m\u001b[0m\u001b[0m\n\u001b[0m\u001b[0;32m      4\u001b[0m     \u001b[0minit_model\u001b[0m\u001b[1;33m(\u001b[0m\u001b[1;33m)\u001b[0m\u001b[1;33m\u001b[0m\u001b[1;33m\u001b[0m\u001b[0m\n\u001b[0;32m      5\u001b[0m     \u001b[0mtrain_test\u001b[0m\u001b[1;33m(\u001b[0m\u001b[0mepoch_count\u001b[0m\u001b[1;33m,\u001b[0m\u001b[0mmb_size\u001b[0m\u001b[1;33m,\u001b[0m\u001b[0mreport\u001b[0m\u001b[1;33m)\u001b[0m\u001b[1;33m\u001b[0m\u001b[1;33m\u001b[0m\u001b[0m\n",
      "\u001b[1;32m<ipython-input-128-e1e98a7e3283>\u001b[0m in \u001b[0;36mload_pulsar_dataset\u001b[1;34m(adjust_ratio)\u001b[0m\n\u001b[0;32m     28\u001b[0m         \u001b[0mdata\u001b[0m \u001b[1;33m=\u001b[0m \u001b[0mnp\u001b[0m\u001b[1;33m.\u001b[0m\u001b[0mzeros\u001b[0m\u001b[1;33m(\u001b[0m\u001b[1;33m[\u001b[0m\u001b[0mstar_cnt\u001b[0m\u001b[1;33m+\u001b[0m\u001b[0mpulsar_cnt\u001b[0m\u001b[1;33m,\u001b[0m\u001b[1;36m9\u001b[0m\u001b[1;33m]\u001b[0m\u001b[1;33m)\u001b[0m\u001b[1;33m\u001b[0m\u001b[1;33m\u001b[0m\u001b[0m\n\u001b[0;32m     29\u001b[0m         \u001b[0mdata\u001b[0m\u001b[1;33m[\u001b[0m\u001b[1;36m0\u001b[0m\u001b[1;33m:\u001b[0m\u001b[0mstar_cnt\u001b[0m\u001b[1;33m,\u001b[0m\u001b[1;33m:\u001b[0m\u001b[1;33m]\u001b[0m\u001b[1;33m=\u001b[0m\u001b[0mnp\u001b[0m\u001b[1;33m.\u001b[0m\u001b[0masarray\u001b[0m\u001b[1;33m(\u001b[0m\u001b[0mstars\u001b[0m\u001b[1;33m,\u001b[0m\u001b[0mdtype\u001b[0m\u001b[1;33m=\u001b[0m\u001b[1;34m'float32'\u001b[0m\u001b[1;33m)\u001b[0m\u001b[1;33m\u001b[0m\u001b[1;33m\u001b[0m\u001b[0m\n\u001b[1;32m---> 30\u001b[1;33m         \u001b[0mdata\u001b[0m\u001b[1;33m[\u001b[0m\u001b[0mstar_cnt\u001b[0m\u001b[1;33m,\u001b[0m\u001b[1;33m:\u001b[0m\u001b[1;33m]\u001b[0m\u001b[1;33m=\u001b[0m\u001b[0mnp\u001b[0m\u001b[1;33m.\u001b[0m\u001b[0masarray\u001b[0m\u001b[1;33m(\u001b[0m\u001b[0mpulsars\u001b[0m\u001b[1;33m,\u001b[0m\u001b[0mdtype\u001b[0m\u001b[1;33m=\u001b[0m\u001b[1;34m'float32'\u001b[0m\u001b[1;33m)\u001b[0m\u001b[1;33m\u001b[0m\u001b[1;33m\u001b[0m\u001b[0m\n\u001b[0m",
      "\u001b[1;31mValueError\u001b[0m: could not broadcast input array from shape (1153,9) into shape (9)"
     ]
    }
   ],
   "source": [
    "pulsar_exec()"
   ]
  },
  {
   "cell_type": "code",
   "execution_count": 154,
   "metadata": {},
   "outputs": [
    {
     "ename": "ValueError",
     "evalue": "could not convert string to float: ",
     "output_type": "error",
     "traceback": [
      "\u001b[1;31m---------------------------------------------------------------------------\u001b[0m",
      "\u001b[1;31mValueError\u001b[0m                                Traceback (most recent call last)",
      "\u001b[1;32m<ipython-input-154-d7fc8a6ee3c6>\u001b[0m in \u001b[0;36m<module>\u001b[1;34m\u001b[0m\n\u001b[0;32m     14\u001b[0m \u001b[1;33m\u001b[0m\u001b[0m\n\u001b[0;32m     15\u001b[0m \u001b[0mdata\u001b[0m \u001b[1;33m=\u001b[0m \u001b[0mnp\u001b[0m\u001b[1;33m.\u001b[0m\u001b[0mzeros\u001b[0m\u001b[1;33m(\u001b[0m\u001b[1;33m[\u001b[0m\u001b[0mstar_cnt\u001b[0m\u001b[1;33m+\u001b[0m\u001b[0mpulsar_cnt\u001b[0m\u001b[1;33m,\u001b[0m\u001b[1;36m9\u001b[0m\u001b[1;33m]\u001b[0m\u001b[1;33m)\u001b[0m\u001b[1;33m\u001b[0m\u001b[1;33m\u001b[0m\u001b[0m\n\u001b[1;32m---> 16\u001b[1;33m \u001b[0mdata\u001b[0m\u001b[1;33m[\u001b[0m\u001b[1;36m0\u001b[0m\u001b[1;33m:\u001b[0m\u001b[0mstar_cnt\u001b[0m\u001b[1;33m,\u001b[0m\u001b[1;33m:\u001b[0m\u001b[1;33m]\u001b[0m\u001b[1;33m=\u001b[0m\u001b[0mnp\u001b[0m\u001b[1;33m.\u001b[0m\u001b[0masarray\u001b[0m\u001b[1;33m(\u001b[0m\u001b[0mstars\u001b[0m\u001b[1;33m,\u001b[0m\u001b[0mdtype\u001b[0m\u001b[1;33m=\u001b[0m\u001b[1;34m'float32'\u001b[0m\u001b[1;33m)\u001b[0m\u001b[1;33m\u001b[0m\u001b[1;33m\u001b[0m\u001b[0m\n\u001b[0m\u001b[0;32m     17\u001b[0m \u001b[1;31m# data[star_cnt,:]=np.asarray(pulsars,dtype='float32')\u001b[0m\u001b[1;33m\u001b[0m\u001b[1;33m\u001b[0m\u001b[1;33m\u001b[0m\u001b[0m\n",
      "\u001b[1;32mC:\\anaconda3\\lib\\site-packages\\numpy\\core\\_asarray.py\u001b[0m in \u001b[0;36masarray\u001b[1;34m(a, dtype, order)\u001b[0m\n\u001b[0;32m     81\u001b[0m \u001b[1;33m\u001b[0m\u001b[0m\n\u001b[0;32m     82\u001b[0m     \"\"\"\n\u001b[1;32m---> 83\u001b[1;33m     \u001b[1;32mreturn\u001b[0m \u001b[0marray\u001b[0m\u001b[1;33m(\u001b[0m\u001b[0ma\u001b[0m\u001b[1;33m,\u001b[0m \u001b[0mdtype\u001b[0m\u001b[1;33m,\u001b[0m \u001b[0mcopy\u001b[0m\u001b[1;33m=\u001b[0m\u001b[1;32mFalse\u001b[0m\u001b[1;33m,\u001b[0m \u001b[0morder\u001b[0m\u001b[1;33m=\u001b[0m\u001b[0morder\u001b[0m\u001b[1;33m)\u001b[0m\u001b[1;33m\u001b[0m\u001b[1;33m\u001b[0m\u001b[0m\n\u001b[0m\u001b[0;32m     84\u001b[0m \u001b[1;33m\u001b[0m\u001b[0m\n\u001b[0;32m     85\u001b[0m \u001b[1;33m\u001b[0m\u001b[0m\n",
      "\u001b[1;31mValueError\u001b[0m: could not convert string to float: "
     ]
    }
   ],
   "source": [
    "with open(\"pulsar_data_train.csv\") as csvfile:\n",
    "    csvreader=csv.reader(csvfile)\n",
    "    next(csvreader,None)\n",
    "    rows=[]\n",
    "\n",
    "    for row in csvreader:\n",
    "        for i in range(0,len(row)) :\n",
    "            if row[i]=='':row[i]='0'\n",
    "                \n",
    "    for row in csvreader:\n",
    "        if row[8]=='1.0': pulsars.append(row)\n",
    "        else: stars.append(row)\n",
    "\n",
    "data = np.zeros([star_cnt+pulsar_cnt,9])\n",
    "data[0:star_cnt,:]=np.asarray(stars,dtype='float32')\n",
    "# data[star_cnt,:]=np.asarray(pulsars,dtype='float32')"
   ]
  },
  {
   "cell_type": "code",
   "execution_count": 155,
   "metadata": {},
   "outputs": [
    {
     "ename": "ValueError",
     "evalue": "could not convert string to float: ",
     "output_type": "error",
     "traceback": [
      "\u001b[1;31m---------------------------------------------------------------------------\u001b[0m",
      "\u001b[1;31mValueError\u001b[0m                                Traceback (most recent call last)",
      "\u001b[1;32m<ipython-input-155-f373f405e0e2>\u001b[0m in \u001b[0;36m<module>\u001b[1;34m\u001b[0m\n\u001b[0;32m      1\u001b[0m \u001b[1;32mfor\u001b[0m \u001b[0mi\u001b[0m \u001b[1;32min\u001b[0m \u001b[0mrange\u001b[0m\u001b[1;33m(\u001b[0m\u001b[1;36m0\u001b[0m\u001b[1;33m,\u001b[0m\u001b[0mlen\u001b[0m\u001b[1;33m(\u001b[0m\u001b[0mstars\u001b[0m\u001b[1;33m)\u001b[0m\u001b[1;33m)\u001b[0m\u001b[1;33m:\u001b[0m\u001b[1;33m\u001b[0m\u001b[1;33m\u001b[0m\u001b[0m\n\u001b[1;32m----> 2\u001b[1;33m     \u001b[0mnp\u001b[0m\u001b[1;33m.\u001b[0m\u001b[0masarray\u001b[0m\u001b[1;33m(\u001b[0m\u001b[0mstars\u001b[0m\u001b[1;33m[\u001b[0m\u001b[0mi\u001b[0m\u001b[1;33m]\u001b[0m\u001b[1;33m,\u001b[0m\u001b[0mdtype\u001b[0m\u001b[1;33m=\u001b[0m\u001b[1;34m'float32'\u001b[0m\u001b[1;33m)\u001b[0m\u001b[1;33m\u001b[0m\u001b[1;33m\u001b[0m\u001b[0m\n\u001b[0m",
      "\u001b[1;32mC:\\anaconda3\\lib\\site-packages\\numpy\\core\\_asarray.py\u001b[0m in \u001b[0;36masarray\u001b[1;34m(a, dtype, order)\u001b[0m\n\u001b[0;32m     81\u001b[0m \u001b[1;33m\u001b[0m\u001b[0m\n\u001b[0;32m     82\u001b[0m     \"\"\"\n\u001b[1;32m---> 83\u001b[1;33m     \u001b[1;32mreturn\u001b[0m \u001b[0marray\u001b[0m\u001b[1;33m(\u001b[0m\u001b[0ma\u001b[0m\u001b[1;33m,\u001b[0m \u001b[0mdtype\u001b[0m\u001b[1;33m,\u001b[0m \u001b[0mcopy\u001b[0m\u001b[1;33m=\u001b[0m\u001b[1;32mFalse\u001b[0m\u001b[1;33m,\u001b[0m \u001b[0morder\u001b[0m\u001b[1;33m=\u001b[0m\u001b[0morder\u001b[0m\u001b[1;33m)\u001b[0m\u001b[1;33m\u001b[0m\u001b[1;33m\u001b[0m\u001b[0m\n\u001b[0m\u001b[0;32m     84\u001b[0m \u001b[1;33m\u001b[0m\u001b[0m\n\u001b[0;32m     85\u001b[0m \u001b[1;33m\u001b[0m\u001b[0m\n",
      "\u001b[1;31mValueError\u001b[0m: could not convert string to float: "
     ]
    }
   ],
   "source": [
    "for i in range(0,len(stars)):\n",
    "    np.asarray(stars[i],dtype='float32')\n",
    "    "
   ]
  },
  {
   "cell_type": "code",
   "execution_count": 152,
   "metadata": {},
   "outputs": [
    {
     "data": {
      "text/plain": [
       "9"
      ]
     },
     "execution_count": 152,
     "metadata": {},
     "output_type": "execute_result"
    }
   ],
   "source": []
  },
  {
   "cell_type": "code",
   "execution_count": null,
   "metadata": {},
   "outputs": [],
   "source": []
  }
 ],
 "metadata": {
  "kernelspec": {
   "display_name": "Python 3",
   "language": "python",
   "name": "python3"
  },
  "language_info": {
   "codemirror_mode": {
    "name": "ipython",
    "version": 3
   },
   "file_extension": ".py",
   "mimetype": "text/x-python",
   "name": "python",
   "nbconvert_exporter": "python",
   "pygments_lexer": "ipython3",
   "version": "3.7.7"
  }
 },
 "nbformat": 4,
 "nbformat_minor": 4
}
