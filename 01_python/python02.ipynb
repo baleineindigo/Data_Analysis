{
 "cells": [
  {
   "cell_type": "markdown",
   "metadata": {},
   "source": [
    "## 문자열\n",
    "### 인덱스, 슬라이싱"
   ]
  },
  {
   "cell_type": "code",
   "execution_count": 1,
   "metadata": {},
   "outputs": [
    {
     "name": "stdout",
     "output_type": "stream",
     "text": [
      "20180522 , Rainy\n",
      "2\n"
     ]
    }
   ],
   "source": [
    "str='20180522Rainy'\n",
    "date=str[:8]\n",
    "wheather=str[8:]\n",
    "print(date,\",\",wheather)\n",
    "\n",
    "\n",
    "pin =\"950921-2064533\"\n",
    "print(pin[pin.find(\"-\")+1])"
   ]
  },
  {
   "cell_type": "code",
   "execution_count": 2,
   "metadata": {},
   "outputs": [
    {
     "name": "stdout",
     "output_type": "stream",
     "text": [
      "['기생충', '1987', '킹덤', '스타워즈', '쥬라기공원']\n",
      "기생충1987킹덤스타워즈쥬라기공원\n"
     ]
    }
   ],
   "source": [
    "# split()함수와 join 함수의 사용방법\n",
    "# split()함수로 쪼개진 문자열은 리스트 형태로 반환\n",
    "# join()함수는 특정한 구분자로 나눠진 리스트 자료형를 하나의 문자열로 반환\n",
    "str ='기생충,1987,킹덤,스타워즈,쥬라기공원'\n",
    "print(str.split(','))\n",
    "print(\"\".join(str.split(',')))"
   ]
  },
  {
   "cell_type": "markdown",
   "metadata": {},
   "source": [
    "## 리스트 생성,수정,추가,삭제"
   ]
  },
  {
   "cell_type": "code",
   "execution_count": 3,
   "metadata": {},
   "outputs": [
    {
     "name": "stdout",
     "output_type": "stream",
     "text": [
      "5 0 0\n",
      "[2, 5, 3, 10, 4]\n"
     ]
    }
   ],
   "source": [
    "myList0=[2,5,3,10,4]\n",
    "myList1=[]\n",
    "myList2=list()\n",
    "print(len(myList0),len(myList1),len(myList2))\n",
    "myList1.extend(myList0)#확장됨\n",
    "print(myList1)"
   ]
  },
  {
   "cell_type": "code",
   "execution_count": 4,
   "metadata": {},
   "outputs": [
    {
     "data": {
      "text/plain": [
       "[2, 5, 3, 10, -10]"
      ]
     },
     "execution_count": 4,
     "metadata": {},
     "output_type": "execute_result"
    }
   ],
   "source": [
    "# 2.수정\n",
    "myList0[4]=-10\n",
    "myList0"
   ]
  },
  {
   "cell_type": "code",
   "execution_count": 5,
   "metadata": {},
   "outputs": [
    {
     "data": {
      "text/plain": [
       "[2, 5, 3, 10, -10, 888]"
      ]
     },
     "execution_count": 5,
     "metadata": {},
     "output_type": "execute_result"
    }
   ],
   "source": [
    "# 2.추가..append(), insert()\n",
    "#myList0?\n",
    "#myList0.append(3)\n",
    "myList0.insert(len(myList0)+1,888)\n",
    "myList0"
   ]
  },
  {
   "cell_type": "code",
   "execution_count": 6,
   "metadata": {
    "scrolled": true
   },
   "outputs": [
    {
     "data": {
      "text/plain": [
       "[2]"
      ]
     },
     "execution_count": 6,
     "metadata": {},
     "output_type": "execute_result"
    }
   ],
   "source": [
    "# 삭제\n",
    "'''\n",
    "del : 인덱스로 삭제 \n",
    "remove : 삭제하려는 값으로 삭제\n",
    "pop : 맨 마지막 값을 보여주고 삭제\n",
    "'''\n",
    "myList0.remove(888)\n",
    "myList0.pop()\n",
    "del myList0[-3:]\n",
    "myList0"
   ]
  },
  {
   "cell_type": "code",
   "execution_count": 7,
   "metadata": {},
   "outputs": [
    {
     "data": {
      "text/plain": [
       "2"
      ]
     },
     "execution_count": 7,
     "metadata": {},
     "output_type": "execute_result"
    }
   ],
   "source": [
    "myList0.pop()"
   ]
  },
  {
   "cell_type": "markdown",
   "metadata": {},
   "source": [
    "## 리스트에서 값 추출하기"
   ]
  },
  {
   "cell_type": "code",
   "execution_count": 8,
   "metadata": {
    "collapsed": true
   },
   "outputs": [
    {
     "ename": "IndexError",
     "evalue": "list assignment index out of range",
     "output_type": "error",
     "traceback": [
      "\u001b[1;31m---------------------------------------------------------------------------\u001b[0m",
      "\u001b[1;31mIndexError\u001b[0m                                Traceback (most recent call last)",
      "\u001b[1;32m<ipython-input-8-a93161ffecb4>\u001b[0m in \u001b[0;36m<module>\u001b[1;34m\u001b[0m\n\u001b[0;32m      1\u001b[0m \u001b[0mmyList0\u001b[0m\u001b[1;33m\u001b[0m\u001b[1;33m\u001b[0m\u001b[0m\n\u001b[0;32m      2\u001b[0m \u001b[0myourList\u001b[0m\u001b[1;33m=\u001b[0m\u001b[1;33m[\u001b[0m\u001b[1;36m10\u001b[0m\u001b[1;33m,\u001b[0m\u001b[1;36m20\u001b[0m\u001b[1;33m,\u001b[0m\u001b[1;36m30\u001b[0m\u001b[1;33m]\u001b[0m\u001b[1;33m\u001b[0m\u001b[1;33m\u001b[0m\u001b[0m\n\u001b[1;32m----> 3\u001b[1;33m \u001b[0mmyList0\u001b[0m\u001b[1;33m[\u001b[0m\u001b[1;36m1\u001b[0m\u001b[1;33m]\u001b[0m\u001b[1;33m=\u001b[0m\u001b[0myourList\u001b[0m\u001b[1;33m\u001b[0m\u001b[1;33m\u001b[0m\u001b[0m\n\u001b[0m\u001b[0;32m      4\u001b[0m \u001b[0mmyList0\u001b[0m\u001b[1;33m\u001b[0m\u001b[1;33m\u001b[0m\u001b[0m\n",
      "\u001b[1;31mIndexError\u001b[0m: list assignment index out of range"
     ]
    }
   ],
   "source": [
    "myList0\n",
    "yourList=[10,20,30]\n",
    "myList0[1]=yourList\n",
    "myList0"
   ]
  },
  {
   "cell_type": "code",
   "execution_count": null,
   "metadata": {},
   "outputs": [],
   "source": [
    "myList=[1,2,3,4,5,6,7,8]\n",
    "# 슬라이싱을 써서 직접 작성\n",
    "\n",
    "# 1) 2,3 리턴\n",
    "print(myList[1:3])\n",
    "\n",
    "# 2) 1,2,3 리턴\n",
    "print(myList[:3])\n",
    "\n",
    "# 3) 5,6,7,8리턴\n",
    "print(myList[4:])\n",
    "print(myList[-4:])\n",
    "\n",
    "# 4) 6,7,8리턴\n",
    "print(myList[-3:])\n",
    "\n",
    "# myList.sort()\n",
    "myList.sort(reverse=True)\n",
    "myList"
   ]
  },
  {
   "cell_type": "code",
   "execution_count": null,
   "metadata": {},
   "outputs": [],
   "source": [
    "'''\n",
    "매직 명령어\n",
    "% whos : 지금까지 사용한 객체 변수명과 그에 해당하는 간단한 정보 확인\n",
    "% who : 객체이름만 나열\n",
    "'''\n",
    "%whos\n",
    "print(\"============================================================================================================================\")\n",
    "%who"
   ]
  },
  {
   "cell_type": "code",
   "execution_count": null,
   "metadata": {},
   "outputs": [],
   "source": [
    "'''\n",
    "동일한 이름의 변수 선언시 메모리에서 찾는 순서\n",
    "1) 로컬변수 : 로컬영역에 저장 --- 여기 첫번째로 찾음\n",
    "2) 전역변수 : 전역영역에 저장 --- 여기 두번째로 찾음\n",
    "3) 내장변수 : 내장영역에 저장 --- 여기 세번째로 찾음\n",
    "--> 함수명과 객체 변수명을 동일한 이름으로 사용하지 말자!\n",
    "--> 만약 동일한 이름으로 사용했다면, restart해서 이전에 메모리에 올린 것은 지우고 다시 올림\n",
    "'''"
   ]
  },
  {
   "cell_type": "code",
   "execution_count": 9,
   "metadata": {
    "scrolled": true
   },
   "outputs": [
    {
     "name": "stdout",
     "output_type": "stream",
     "text": [
      "['a', 'b', 'c', 'd']\n",
      "[3, 4, 5]\n"
     ]
    }
   ],
   "source": [
    "aaL=list('abcd') # 내장변수라서 내장영역... 다시 실행하면 전역영역에 있는 변수와 충돌\n",
    "print(aaL)\n",
    "listData=[3,4,5] # 전역영역에 저장\n",
    "print(listData)"
   ]
  },
  {
   "cell_type": "markdown",
   "metadata": {},
   "source": [
    "## 문제2"
   ]
  },
  {
   "cell_type": "code",
   "execution_count": 44,
   "metadata": {},
   "outputs": [
    {
     "name": "stdout",
     "output_type": "stream",
     "text": [
      "[2, 4, 5, 3, 1]\n"
     ]
    }
   ],
   "source": [
    "# 연습 1) [1,3,5,4,2] 이라는 리스트를 슬라이싱을 이용하여 [2,4,5,3,1]로 출력해 보자 \n",
    "aList=[1,3,5,4,2]\n",
    "temp=[]\n",
    "for i in range(1,len(aList)+1):\n",
    "    temp.append(aList[-i])\n",
    "temp\n",
    "print(aList[::-1])"
   ]
  },
  {
   "cell_type": "markdown",
   "metadata": {},
   "source": [
    "## 문제3"
   ]
  },
  {
   "cell_type": "code",
   "execution_count": 1,
   "metadata": {},
   "outputs": [
    {
     "name": "stdout",
     "output_type": "stream",
     "text": [
      "\u001b[1mPython is too interesting\n"
     ]
    }
   ],
   "source": [
    "'''\n",
    "연습 2) \n",
    "[‘Python’, ‘is’, ‘too’, ‘interesting’] 라는 리스트를 Python is too interesting 이라는 문자열로 만들어 출력해 보자 \n",
    "'''\n",
    "string0=['Python','is', 'too','interesting']\n",
    "string0=\" \".join(string0)\n",
    "print('\\033[1m'+string0)\n"
   ]
  },
  {
   "cell_type": "markdown",
   "metadata": {},
   "source": [
    "## 2차원 배열에서 데이터 추출하기"
   ]
  },
  {
   "cell_type": "markdown",
   "metadata": {},
   "source": [
    "### 문제\n",
    "##### test2DL=[[1,2,3],[4,5,6],[7,8,9]] 이차원 배열 생성\n",
    "##### 10이 [7,8,9]뒤에 오도록 append(), insert 사용해서 작성"
   ]
  },
  {
   "cell_type": "code",
   "execution_count": 10,
   "metadata": {},
   "outputs": [
    {
     "data": {
      "text/plain": [
       "[[1, 2, 3], [4, 5, 6], [7, 8, 9], 10]"
      ]
     },
     "execution_count": 10,
     "metadata": {},
     "output_type": "execute_result"
    }
   ],
   "source": [
    "# insert\n",
    "test2DL=[[1,2,3],[4,5,6],[7,8,9]]\n",
    "test2DL.insert(len(test2DL),10)\n",
    "test2DL"
   ]
  },
  {
   "cell_type": "code",
   "execution_count": 23,
   "metadata": {},
   "outputs": [
    {
     "data": {
      "text/plain": [
       "[[1, 2, 3], [4, 5, 6], [7, 8, 9], 10]"
      ]
     },
     "execution_count": 23,
     "metadata": {},
     "output_type": "execute_result"
    }
   ],
   "source": [
    "#append\n",
    "test2DL=[[1,2,3],[4,5,6],[7,8,9]]\n",
    "test2DL.append(10)\n",
    "test2DL"
   ]
  },
  {
   "cell_type": "code",
   "execution_count": 24,
   "metadata": {},
   "outputs": [
    {
     "data": {
      "text/plain": [
       "[[1, 2, 3], [4, 5, 6], [7, 8, 9]]"
      ]
     },
     "execution_count": 24,
     "metadata": {},
     "output_type": "execute_result"
    }
   ],
   "source": [
    "# pop\n",
    "# test2DL.pop()\n",
    "test2DL.remove(10)\n",
    "test2DL"
   ]
  },
  {
   "cell_type": "markdown",
   "metadata": {},
   "source": [
    "##### 문제 5.\n",
    "##### myLang =[['hello'],['python'],['goodbye','Control Z']]에서 good만 추출하기"
   ]
  },
  {
   "cell_type": "code",
   "execution_count": 35,
   "metadata": {},
   "outputs": [
    {
     "data": {
      "text/plain": [
       "'good'"
      ]
     },
     "execution_count": 35,
     "metadata": {},
     "output_type": "execute_result"
    }
   ],
   "source": [
    "myLang =[['hello'],['python'],['good-bye','Control Z']]\n",
    "goodbye=myLang[-1][0].split('-')[0]\n",
    "goodbye=myLang[-1][0][:4]\n",
    "goodbye"
   ]
  },
  {
   "cell_type": "markdown",
   "metadata": {},
   "source": [
    "## 정렬하기 - 오름차순(default), 내림차순(reverse)"
   ]
  },
  {
   "cell_type": "code",
   "execution_count": 44,
   "metadata": {},
   "outputs": [
    {
     "name": "stdout",
     "output_type": "stream",
     "text": [
      "True\n",
      "None\n"
     ]
    }
   ],
   "source": [
    "sortL=[3,1,5,2,10]\n",
    "sortL.sort()\n",
    "sortL.sort?\n",
    "\n",
    "print(5 in sortL)\n",
    "print(sortL.sort())# 리턴값이 없을 때는 None "
   ]
  }
 ],
 "metadata": {
  "kernelspec": {
   "display_name": "Python 3",
   "language": "python",
   "name": "python3"
  },
  "language_info": {
   "codemirror_mode": {
    "name": "ipython",
    "version": 3
   },
   "file_extension": ".py",
   "mimetype": "text/x-python",
   "name": "python",
   "nbconvert_exporter": "python",
   "pygments_lexer": "ipython3",
   "version": "3.7.6"
  }
 },
 "nbformat": 4,
 "nbformat_minor": 4
}
