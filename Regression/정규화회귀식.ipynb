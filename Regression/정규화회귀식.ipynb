{
  "nbformat": 4,
  "nbformat_minor": 0,
  "metadata": {
    "colab": {
      "name": "정규화회귀식.ipynb",
      "private_outputs": true,
      "provenance": [],
      "collapsed_sections": [],
      "authorship_tag": "ABX9TyMfG2/43mWHYtzrfjlmaI9M",
      "include_colab_link": true
    },
    "kernelspec": {
      "name": "python3",
      "display_name": "Python 3"
    }
  },
  "cells": [
    {
      "cell_type": "markdown",
      "metadata": {
        "id": "view-in-github",
        "colab_type": "text"
      },
      "source": [
        "<a href=\"https://colab.research.google.com/github/baleineindigo/Statistic/blob/main/%EC%A0%95%EA%B7%9C%ED%99%94%ED%9A%8C%EA%B7%80%EC%8B%9D.ipynb\" target=\"_parent\"><img src=\"https://colab.research.google.com/assets/colab-badge.svg\" alt=\"Open In Colab\"/></a>"
      ]
    },
    {
      "cell_type": "code",
      "metadata": {
        "id": "zz_nuI4EunjB"
      },
      "source": [
        "import torch\n",
        "import numpy as np\n",
        "import pandas as pd\n",
        "import matplotlib.pyplot as plt\n",
        "import seaborn as sns\n",
        "from sklearn.datasets import make_regression\n",
        "import statsmodels.api as sm\n",
        "import matplotlib.font_manager as fm\n",
        "\n",
        "# # 그래프에서 마이너스 폰트 깨지는 문제에 대한 대처\n",
        "import matplotlib as mpl\n",
        "mpl.rcParams['axes.unicode_minus'] = False\n",
        "\n",
        "# # GPU 설정 : 런타임 > 런타임 유형 변경 > GPU\n",
        "# # GPU 사용 가능한지 확인\n",
        "device=torch.device(\"cuda\" if torch.cuda.is_available() else \"cpu\")\n",
        "device"
      ],
      "execution_count": null,
      "outputs": []
    },
    {
      "cell_type": "markdown",
      "metadata": {
        "id": "DVi6vqWovWPl"
      },
      "source": [
        "# 정규화 회귀모형\n",
        "\n",
        "선형회귀는 결과를 직관적으로 해석할 수 있고 OLS 적용이 가능하지만, 때로는 비선형 다항회귀가 데이터를 더 잘 추정한다.\n",
        "\n",
        "그러나 비선형 다항함수의 경우 과적합의 문제가 발생할 수 있다. 이때, 과적합 문제를 완화하기 위한 방법은 아래와 같다.\n",
        "\n",
        "1) 모형 복잡도 줄이기\n",
        "\\\n",
        "2) 정규화(Regularization)\n",
        "\\\n",
        "\\\n",
        "** 정규화(Regularization) **\n",
        "특정 변수의 계수값이 특히 높거나 낮을 때 해당 변수에 의해 결과가 좌우될 수 있음. 이러한 현상을 완화하기 위해 정규화 적용."
      ]
    },
    {
      "cell_type": "code",
      "metadata": {
        "id": "vmNHSvJdvO5n"
      },
      "source": [
        "## 데이터 셋\n",
        "def make_nonlinear(seed=0):\n",
        "    np.random.seed(seed)\n",
        "    n_samples=30\n",
        "    X=np.sort(np.random.rand(n_samples))\n",
        "    Y=np.sin(2*np.pi*X)+np.random.rand(n_samples)*0.1\n",
        "    # X=X[:np.newaxis]\n",
        "    return (X,Y)\n",
        "\n",
        "X,Y=make_nonlinear()\n",
        "dfX=pd.DataFrame(X,columns=[\"x\"])\n",
        "dfX=sm.add_constant(dfX)\n",
        "dfY=pd.DataFrame(Y,columns=[\"y\"])\n",
        "df=pd.concat([dfX,dfY],axis=1)\n",
        "df.head()"
      ],
      "execution_count": null,
      "outputs": []
    },
    {
      "cell_type": "code",
      "metadata": {
        "id": "oqIGXnH0vRL4"
      },
      "source": [
        "formula_str=\"y ~ x \"\n",
        "for i in range(2,10):\n",
        "    formula_str+=\" + I(x**{})\".format(i)\n",
        "\n",
        "print(formula_str)\n",
        "model0=sm.OLS.from_formula(formula_str, data=df)\n",
        "result0=model0.fit()\n",
        "# print(result0.summary())\n",
        "print(result0.params)"
      ],
      "execution_count": null,
      "outputs": []
    },
    {
      "cell_type": "code",
      "metadata": {
        "id": "rNaNgmh7vRK9"
      },
      "source": [
        "# 비선형 모형\n",
        "def plot_statsmodels(result):\n",
        "    plt.scatter(X, Y,c=\"c\")\n",
        "    xx = np.linspace(0, 1, 1000)\n",
        "    dfxx = pd.DataFrame(xx, columns=[\"x\"])\n",
        "    dfxx = sm.add_constant(dfxx)\n",
        "    plt.plot(xx, result.predict(dfxx).values,c=\"r\")\n",
        "    plt.show()\n",
        "\n",
        "\n",
        "plot_statsmodels(result0)"
      ],
      "execution_count": null,
      "outputs": []
    },
    {
      "cell_type": "markdown",
      "metadata": {
        "id": "8MnGsnyqvhvW"
      },
      "source": [
        "### 정규화 회귀 방법론 1\n",
        "**Ridge Regression**\n",
        "\n",
        "![image.png](data:image/png;base64,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)\n",
        "\\\n",
        "- 람다가 0에 근사하면 OLS 적용이 가능한 선형회귀식에 가까워짐\n",
        "\n",
        "- 람다가 증가하면 계수의 크기가 줄어든다.\n",
        "\n",
        "- 다중공선성을 방지하기 위해 사용할 수 있다. \n",
        "\n",
        "- 큰 계수 값이 더 크게 축소되고, 전체 계수가 점점 비슷한 수치로 수렴.\n",
        "\n",
        "- 패널티 항(람다*가중치 합)은 미분이 가능하여 최적화 가능"
      ]
    },
    {
      "cell_type": "code",
      "metadata": {
        "id": "6SsBC3gdvRHl"
      },
      "source": [
        "# 모수 L1_wt가 0 이면 순수 Ridge 모형\n",
        "result_R=model0.fit_regularized(alpha=0.01,L1_wt=0)\n",
        "print(result_R.params)\n",
        "plot_statsmodels(result_R)"
      ],
      "execution_count": null,
      "outputs": []
    },
    {
      "cell_type": "code",
      "metadata": {
        "id": "Ln_ZxqCz7msB"
      },
      "source": [
        "def plot_sklearn(model):\n",
        "    plt.scatter(X, Y)\n",
        "    xx = np.linspace(0, 1, 1000)\n",
        "    plt.plot(xx, model.predict(xx[:, np.newaxis]))\n",
        "    plt.show()\n",
        "\n",
        "\n",
        "## Scikit-Learn으로 Ridge 정규화\n",
        "from sklearn.preprocessing import PolynomialFeatures\n",
        "from sklearn.pipeline import make_pipeline\n",
        "''' Signature: make_pipeline(*steps, **kwargs)\n",
        "Docstring:Construct a Pipeline from the given estimators.'''\n",
        "from sklearn.linear_model import LinearRegression, Ridge, Lasso, ElasticNet\n",
        "\n",
        "poly = PolynomialFeatures(9)\n",
        "result_Lin = make_pipeline(poly, LinearRegression()).fit(df[[\"x\"]],df[[\"y\"]])\n",
        "print(result_Lin.steps[1][1].coef_)\n",
        "plot_sklearn(result_Lin)"
      ],
      "execution_count": null,
      "outputs": []
    },
    {
      "cell_type": "markdown",
      "metadata": {
        "id": "kCY71eYM6LvS"
      },
      "source": [
        "### 정규화 회귀 방법론 2\n",
        "**Lasso Regression**\n",
        "\n",
        "![image.png](data:image/png;base64,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)\n",
        "\\\n",
        "- 람다가 0에 근사하면 작은 계수는 0이 된다. 따라서 데이터 대비  변수개수가 많을 때는 Lasso로 변수 선정을 할 수 있다.\n",
        "\n",
        "- 다만, 정보 손실로 Ridge보다 정확성이 떨어질 수 있다.\n",
        "\n",
        "- 파라미터 크기에 관계없이 같은 수준의 정규화가 이뤄져, 특정 값은 먼저 0으로 수렴한다."
      ]
    },
    {
      "cell_type": "code",
      "metadata": {
        "id": "BS8Xf1MsvRE7"
      },
      "source": [
        "# 모수 L1_wt가 1 이면 순수 Lasso 모형\n",
        "result_L=model0.fit_regularized(alpha=0.01,L1_wt=1)\n",
        "print(result_L.params)\n",
        "plot_statsmodels(result_L)"
      ],
      "execution_count": null,
      "outputs": []
    },
    {
      "cell_type": "code",
      "metadata": {
        "id": "vDd7icYT8D7S"
      },
      "source": [
        "## Scikit-Learn으로 Lasso 정규화\n",
        "result_Rsk = make_pipeline(poly, Lasso(alpha=0.01)).fit(df[[\"x\"]],df[[\"y\"]])\n",
        "print(result_Rsk.steps[1][1].coef_)\n",
        "plot_sklearn(result_Rsk)"
      ],
      "execution_count": null,
      "outputs": []
    },
    {
      "cell_type": "markdown",
      "metadata": {
        "id": "UNoU7zQr6_Bt"
      },
      "source": [
        "### 정규화 회귀 방법론 3\n",
        "**Elasitc Net Regression**\n",
        "![image.png](data:image/png;base64,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)\n",
        "\\\n",
        "- Ridge와 Lasso를 모두 반영. 람다 값을 적절히 조절하여 2개 효과를 볼 수 있다.\n",
        "\n",
        "- 대용량 데이터에 변수 개수도 많은 데이터 셋에 적합\n"
      ]
    },
    {
      "cell_type": "code",
      "metadata": {
        "id": "bMgd72V0vRCl"
      },
      "source": [
        "# L1_wt가 0과 1 사이이면 Elastic Net 모형\n",
        "result_E=model0.fit_regularized(alpha=0.01,L1_wt=0.5)\n",
        "print(result_E.params)\n",
        "plot_statsmodels(result_E)"
      ],
      "execution_count": null,
      "outputs": []
    },
    {
      "cell_type": "code",
      "metadata": {
        "id": "tjlIuyyo51uc"
      },
      "source": [
        "## Scikit-Learn으로 Ridge 정규화\n",
        "result_Rsk = make_pipeline(poly, ElasticNet(alpha=0.01,l1_ratio=0.5)).fit(df[[\"x\"]],df[[\"y\"]])\n",
        "print(result_Rsk.steps[1][1].coef_)\n",
        "plot_sklearn(result_Rsk)\n"
      ],
      "execution_count": null,
      "outputs": []
    },
    {
      "cell_type": "markdown",
      "metadata": {
        "id": "yfLLK2A4_JWF"
      },
      "source": [
        "### 최적 정규화\n",
        "\n",
        "정규화에 사용되는 하이퍼 모수(hyper parameter) 등을 바꾸면 모형의 검증 성능이 달라진다. 따라서 최적의 성능을 가져올 수 있는 정규화 하이퍼 모수를 선택하는 과정이 필요하다. 이러한 과정을 최적 정규화(optimal regularization)라고 한다.\n",
        "\n",
        "보스턴 집값 데이터에 대해 라쏘 정규화(Lasso regularization)를 하는 경우를 예로 들어보자. 우선 scikit-learn에서 제공하는 Lasso 클래스를 사용하여 정규화를 한다. 정규화 가중치 가 달라지면 학습용 데이터를 사용한 성능과 검증용 데이터를 사용한 성능이 달라진다.\n",
        "\n",
        "학습용 데이터를 사용한 성능은 정규화 가중치 가 작으면 작을 수록 좋아진다.(과최적화)\n",
        "\n",
        "검증용 데이터를 사용한 성능은 정규화 가중치 가 특정한 범위에 있을 때 가장 좋아진다.\n",
        "\n",
        "실제로 정규화 가중치 를 부터 까지 변화시켜가면서 두 성능을 측정해 보자.\n"
      ]
    },
    {
      "cell_type": "code",
      "metadata": {
        "id": "wLvpDmEW_Rzg"
      },
      "source": [
        "# 데이터셋 마련\n",
        "from sklearn.datasets import load_boston\n",
        "from sklearn.linear_model import Lasso\n",
        "from sklearn.metrics import mean_squared_error\n",
        "from sklearn.model_selection import cross_val_score\n",
        "\n",
        "\n",
        "boston = load_boston()\n",
        "bst_X= boston.data\n",
        "bst_Y= boston.target\n",
        "\n",
        "alphas = np.logspace(-4, 0, 200)\n",
        "\n",
        "# 트레이닝셋, 테스트 셋 구축\n",
        "train_scores=[]\n",
        "test_scores=[]\n",
        "\n",
        "for alpha in alphas:\n",
        "    model3=Lasso(alpha=alpha)\n",
        "    train_score= -mean_squared_error(Y,model3.fit(df[[\"x\"]],df[[\"y\"]]).predict(df[[\"x\"]]))\n",
        "    test_score=np.mean(cross_val_score(model3,df[[\"x\"]],df[[\"y\"]],scoring=\"neg_mean_squared_error\", cv=5))\n",
        "    train_scores.append(train_score)\n",
        "    test_scores.append(test_score)\n",
        "\n",
        "optimal_alpha = alphas[np.argmax(test_scores)]\n",
        "optimal_score = np.max(test_scores)\n"
      ],
      "execution_count": null,
      "outputs": []
    },
    {
      "cell_type": "code",
      "metadata": {
        "id": "aQWdKi_K_gTd"
      },
      "source": [
        "## 시각화\n",
        "plt.plot(alphas, test_scores, \"-\", label=\"Test Perf\")\n",
        "plt.plot(alphas, train_scores, \"--\", label=\"Training Perf\")\n",
        "plt.axhline(optimal_score, linestyle=':')\n",
        "plt.axvline(optimal_alpha, linestyle=':')\n",
        "plt.scatter(optimal_alpha, optimal_score)\n",
        "plt.title(\"Optimize Regulariztion\")\n",
        "plt.ylabel('Performence')\n",
        "plt.xlabel('Regulariztion Weight')\n",
        "plt.legend()\n",
        "plt.show()"
      ],
      "execution_count": null,
      "outputs": []
    },
    {
      "cell_type": "code",
      "metadata": {
        "id": "TEouybHuBVJy"
      },
      "source": [
        "from sklearn.model_selection import validation_curve\n",
        "\n",
        "train_scores, test_scores = validation_curve(\n",
        "    Lasso(), df[[\"x\"]], df[[\"y\"]], \"alpha\", alphas, cv=5,\n",
        "    scoring=\"neg_mean_squared_error\")\n",
        "\n",
        "plt.plot(alphas, test_scores.mean(axis=1), \"-\", label=\"검증성능 평균\")\n",
        "plt.plot(alphas, train_scores.mean(axis=1), \"--\", label=\"학습성능 평균\")\n",
        "plt.ylabel('성능')\n",
        "plt.xlabel('정규화 가중치')\n",
        "plt.legend()\n",
        "plt.title(\"최적 정규화\")\n",
        "plt.show()"
      ],
      "execution_count": null,
      "outputs": []
    },
    {
      "cell_type": "markdown",
      "metadata": {
        "id": "ygFW4lctCM9c"
      },
      "source": [
        "## 다항회귀의 차수 결정\n",
        "다항회귀에서 차수가 감소하면 모형의 제약조건이 더 강화되므로 정규화 가중치가 커지는 것과 같다. 반대로 차수가 증가하면 모형의 제약조건이 감소하므로 정규화 가중치가 작아지는 것과 같다. 따라서 다항회귀에서 최적의 차수를 결정하는 문제는 최적 정규화에 해당한다.\n",
        "\n",
        "파이프라인이 있는 모형에 대해 validation_curve 명령을 적용하는 방법을 보이고 있다. 파이프라인으로 만들어진 모형에서는 적용할 모형의 이름 문자열(이 예제에서는 poly)과 인수의 이름 문자열(이 예제에서는 degree)을 두 개의 밑줄(underscore)로 연결한다."
      ]
    },
    {
      "cell_type": "code",
      "metadata": {
        "id": "YP1KfrWFCMaO"
      },
      "source": [
        "from sklearn.preprocessing import PolynomialFeatures\n",
        "from sklearn.linear_model import LinearRegression\n",
        "from sklearn.pipeline import Pipeline\n",
        "from sklearn.model_selection import cross_val_score\n",
        "\n",
        "n_samples = 100\n",
        "np.random.seed(0)\n",
        "X = np.sort(np.random.rand(n_samples))\n",
        "Y = np.sin(2 * np.pi * X) + np.random.randn(n_samples) * 0.5\n",
        "X = X[:, np.newaxis]\n",
        "\n",
        "model4 = Pipeline([(\"poly\", PolynomialFeatures()),\n",
        "                  (\"lreg\", LinearRegression())])\n",
        "\n",
        "degrees = np.arange(1, 15)\n",
        "train_scores, test_scores = validation_curve(\n",
        "    model4, X, Y, \"poly__degree\", degrees, cv=100,\n",
        "    scoring=\"neg_mean_squared_error\")\n",
        "\n",
        "plt.plot(degrees, test_scores.mean(axis=1), \"o-\", label=\"Mean of Test Perf\")\n",
        "plt.plot(degrees, train_scores.mean(axis=1), \"o--\", label=\"Mean of Training Perf\")\n",
        "plt.ylabel('Perf')\n",
        "plt.xlabel('Multinomial')\n",
        "plt.legend()\n",
        "plt.title(\"Optimum Regular\")\n",
        "plt.show()"
      ],
      "execution_count": null,
      "outputs": []
    },
    {
      "cell_type": "code",
      "metadata": {
        "id": "OzS1S8xYB2JU"
      },
      "source": [
        ""
      ],
      "execution_count": null,
      "outputs": []
    }
  ]
}