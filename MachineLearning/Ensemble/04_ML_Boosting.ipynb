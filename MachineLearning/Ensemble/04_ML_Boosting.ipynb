{
 "cells": [
  {
   "cell_type": "markdown",
   "metadata": {},
   "source": [
    "## Gradient Boosing Machine\n",
    "    Decision >> Ensemble\n",
    "                1) Bagging 알고리즘 : RandomForest\n",
    "                2) Boosting 알고리즘 : XGBoosting,Gradient Boosting\n",
    "                \n",
    "                [Gradient Boosting]\n",
    "                - 모델을 학습하고 결과를 예측.\n",
    "                - weak learner(잘못 예측한 결과)에 따라서 데이터(속성)의 가중치를 조절하며 학습하는 알고리즘\n",
    "                - 가중치를 업데이트 하는 방법으로 경사하강법이 사용된다.\n",
    "                - Boosting 기법에서 learning rate와 같은 하이퍼 파라미터 지정이 필요하다."
   ]
  },
  {
   "cell_type": "code",
   "execution_count": 6,
   "metadata": {},
   "outputs": [],
   "source": [
    "from sklearn.datasets import load_breast_cancer\n",
    "from sklearn.ensemble import GradientBoostingClassifier\n",
    "from sklearn.model_selection import train_test_split\n",
    "import numpy as np\n",
    "import pandas as pd\n",
    "import matplotlib.pyplot as plt\n",
    "import seaborn as sns\n",
    "\n",
    "cancer=load_breast_cancer()"
   ]
  },
  {
   "cell_type": "code",
   "execution_count": 7,
   "metadata": {},
   "outputs": [],
   "source": [
    "X_train,X_test,y_train,y_test=train_test_split(cancer.data,cancer.target)"
   ]
  },
  {
   "cell_type": "code",
   "execution_count": 39,
   "metadata": {},
   "outputs": [
    {
     "name": "stdout",
     "output_type": "stream",
     "text": [
      "********************************************************************************\n",
      "훈련데이터 셋 정확도 : 0.997653\n",
      "테스트 데이터 셋 정확도 : 0.972028\n"
     ]
    }
   ],
   "source": [
    "gbc=GradientBoostingClassifier(random_state=0,learning_rate=0.04) # 0.972028\n",
    "# gbc=GradientBoostingClassifier(random_state=0,max_depth=4) # 0.972028\n",
    "gbc.fit(X_train,y_train)\n",
    "\n",
    "print(\"*\"*80)\n",
    "print(\"훈련데이터 셋 정확도 : {:3f}\".format(gbc.score(X_train,y_train))) # 1.000000\n",
    "print(\"테스트 데이터 셋 정확도 : {:3f}\".format(gbc.score(X_test,y_test))) #0.958042"
   ]
  },
  {
   "cell_type": "markdown",
   "metadata": {},
   "source": [
    "## Grid Search\n",
    "    우리가 지정해준 몇가지의 잠재적인 파라미터 후보군들의 조합 중에서 가장 최적의 조합을 찾아준다.\n",
    "    다만, 하이퍼파라미터 후보군의 수에 비례하여 시간이 소요된다."
   ]
  },
  {
   "cell_type": "code",
   "execution_count": 40,
   "metadata": {},
   "outputs": [],
   "source": [
    "from sklearn.model_selection import GridSearchCV"
   ]
  },
  {
   "cell_type": "code",
   "execution_count": 43,
   "metadata": {},
   "outputs": [
    {
     "data": {
      "text/plain": [
       "GridSearchCV(estimator=GradientBoostingClassifier(), n_jobs=-1,\n",
       "             param_grid={'learning_rate': [0.01], 'max_depth': [3, 4],\n",
       "                         'n_estimators': [250]})"
      ]
     },
     "execution_count": 43,
     "metadata": {},
     "output_type": "execute_result"
    }
   ],
   "source": [
    "param_grid={\n",
    "#     'n_estimators':[100,150,200,250],\n",
    "    'n_estimators':[250],\n",
    "#     'max_depth':[3,5,7,9],\n",
    "    'max_depth':[3,4],\n",
    "#     \"learning_rate\":[0.001,0.002,0.004,0.01]\n",
    "    \"learning_rate\":[0.01]\n",
    "}\n",
    "gbmodel=GradientBoostingClassifier()\n",
    "grid_search=GridSearchCV(gbmodel,param_grid,n_jobs=-1)\n",
    "agrid_search.fit(X_train,y_train)"
   ]
  },
  {
   "cell_type": "code",
   "execution_count": 44,
   "metadata": {},
   "outputs": [
    {
     "data": {
      "text/plain": [
       "{'learning_rate': 0.01, 'max_depth': 3, 'n_estimators': 250}"
      ]
     },
     "execution_count": 44,
     "metadata": {},
     "output_type": "execute_result"
    }
   ],
   "source": [
    "grid_search.best_params_"
   ]
  },
  {
   "cell_type": "code",
   "execution_count": 63,
   "metadata": {},
   "outputs": [
    {
     "name": "stdout",
     "output_type": "stream",
     "text": [
      "0.9790209790209791\n"
     ]
    }
   ],
   "source": [
    "# newmodel=GradientBoostingClassifier(random_state=0,n_estimators=250,learning_rate=0.01,max_depth=3) # 0.958041958041958\n",
    "newmodel=GradientBoostingClassifier(random_state=0,n_estimators=300,learning_rate=0.048,max_depth=4)\n",
    "newmodel.fit(X_train,y_train)\n",
    "\n",
    "test_score=newmodel.score(X_test,y_test)\n",
    "print(test_score)"
   ]
  },
  {
   "cell_type": "code",
   "execution_count": null,
   "metadata": {},
   "outputs": [],
   "source": []
  },
  {
   "cell_type": "code",
   "execution_count": null,
   "metadata": {},
   "outputs": [],
   "source": []
  },
  {
   "cell_type": "code",
   "execution_count": null,
   "metadata": {},
   "outputs": [],
   "source": []
  }
 ],
 "metadata": {
  "kernelspec": {
   "display_name": "Python 3",
   "language": "python",
   "name": "python3"
  },
  "language_info": {
   "codemirror_mode": {
    "name": "ipython",
    "version": 3
   },
   "file_extension": ".py",
   "mimetype": "text/x-python",
   "name": "python",
   "nbconvert_exporter": "python",
   "pygments_lexer": "ipython3",
   "version": "3.7.7"
  }
 },
 "nbformat": 4,
 "nbformat_minor": 4
}
