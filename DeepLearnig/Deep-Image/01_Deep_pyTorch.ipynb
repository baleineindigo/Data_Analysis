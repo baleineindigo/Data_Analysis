{
 "cells": [
  {
   "cell_type": "markdown",
   "metadata": {},
   "source": [
    "## Pytorch 에서의 Gradient Descent\n",
    "    머신러닝 과정에서 살펴본 선형회귀에서 선형회귀 연산 그래프와 경사하강법을 파이토치로 구현\n",
    "    파이토치에서 데이터의 기본단위는 텐서(torch.tensor())이다. Numpy에서 np.array와 같음.\n",
    "    텐서를 기본단위로 연산 처리.  "
   ]
  },
  {
   "cell_type": "code",
   "execution_count": 3,
   "metadata": {},
   "outputs": [],
   "source": [
    "import torch\n",
    "# torchvision : Specified Library on Image Processing\n",
    "import torchvision\n",
    "# data augmentation\n",
    "import torchvision.transforms as transforms\n",
    "# Neural Network\n",
    "import torch.nn as nn\n",
    "\n",
    "import numpy as np"
   ]
  },
  {
   "cell_type": "code",
   "execution_count": 10,
   "metadata": {},
   "outputs": [
    {
     "data": {
      "text/plain": [
       "tensor([[2., 3., 6.],\n",
       "        [3., 4., 5.]])"
      ]
     },
     "execution_count": 10,
     "metadata": {},
     "output_type": "execute_result"
    }
   ],
   "source": [
    "# 값 할당 안하면 무작위로 채워짐\n",
    "x=torch.Tensor(2,3)\n",
    "x.shape\n",
    "\n",
    "x=torch.Tensor([[2,3,6],[3,4,5]])\n",
    "x"
   ]
  },
  {
   "cell_type": "code",
   "execution_count": 11,
   "metadata": {},
   "outputs": [
    {
     "data": {
      "text/plain": [
       "'\\ntensor()함수 인자값으로 data.dtype, device, requires_grad\\ndata.dtype : 타입지정\\ndevice : 텐서를 어느 기기에 올릴지 지정(cpu,gpu)\\nrequires_grad : 텐서의 기울기를 지정할지 여부 = 미분 사용의 여부를 묻는 것.\\n이거 False로 지정하면 역전파,학습 안됨\\n>> but 학습이 필요없는 테스트 단계에서는 False로 지정함.\\n'"
      ]
     },
     "execution_count": 11,
     "metadata": {},
     "output_type": "execute_result"
    }
   ],
   "source": [
    "'''\n",
    "tensor()함수 인자값으로 data.dtype, device, requires_grad\n",
    "data.dtype : 타입지정\n",
    "device : 텐서를 어느 기기에 올릴지 지정(cpu,gpu)\n",
    "requires_grad : 텐서의 기울기를 지정할지 여부 = 미분 사용의 여부를 묻는 것.\n",
    "이거 False로 지정하면 역전파,학습 안됨\n",
    ">> but 학습이 필요없는 테스트 단계에서는 False로 지정함.\n",
    "'''"
   ]
  },
  {
   "cell_type": "code",
   "execution_count": 39,
   "metadata": {},
   "outputs": [
    {
     "name": "stdout",
     "output_type": "stream",
     "text": [
      "loss : tensor(25., grad_fn=<SumBackward0>)\n",
      "tensor([ 8., 12.]) None\n"
     ]
    }
   ],
   "source": [
    "x=torch.tensor(data=[2.0,3.0],requires_grad=True)\n",
    "# x=torch.tensor(data=[2.0,3.0],requires_grad=False)\n",
    "x\n",
    "pred=2*(x**2)+3\n",
    "pred\n",
    "\n",
    "# 1. 예측\n",
    "y=torch.tensor([3.0,4.0])\n",
    "\n",
    "# 2. 로스값 구하기\n",
    "loss=torch.sum(torch.abs(pred-y))\n",
    "print(\"loss :\",loss)\n",
    "\n",
    "# 3. 가장 큰 기울기로 하강하는 weight 찾기\n",
    "# = 가장 낮은 로스값 구하는 weight 찾기...미분,편미분\n",
    "loss.backward(x.grad,pred.grad)\n",
    "'''\n",
    "x.grad >> dy/dw =x\n",
    "w.grad >> dy/dx =w\n",
    "'''\n",
    "print(x.grad,pred.grad)"
   ]
  },
  {
   "cell_type": "markdown",
   "metadata": {},
   "source": [
    "## Tensor Type - tensor(), as_tensor()"
   ]
  },
  {
   "cell_type": "code",
   "execution_count": 54,
   "metadata": {},
   "outputs": [
    {
     "name": "stdout",
     "output_type": "stream",
     "text": [
      "[[1 2]\n",
      " [3 4]]\n",
      "************************************************************\n",
      "tensor([[1, 2],\n",
      "        [3, 4]], dtype=torch.int32) <class 'torch.Tensor'>\n",
      "************************************************************\n",
      "[[1 2]\n",
      " [3 4]] <class 'numpy.ndarray'>\n",
      "************************************************************\n",
      "tensor([[1, 2],\n",
      "        [3, 4]], dtype=torch.int32) <class 'torch.Tensor'>\n"
     ]
    }
   ],
   "source": [
    "'''\n",
    "Pytorch의 텐서 자료형은 Numpy의 array()와 동일한 것으로 이해\n",
    "'''\n",
    "# 1. 리스트 만들기\n",
    "li=np.array([[1,2],[3,4]])\n",
    "print(li)\n",
    "\n",
    "print(\"*\"*60)\n",
    "li_torch=torch.tensor(li)\n",
    "print(li_torch,type(li_torch))\n",
    "\n",
    "print(\"*\"*60)\n",
    "li=np.array(li_torch)\n",
    "print(li,type(li))\n",
    "\n",
    "print(\"*\"*60)\n",
    "li_torch=torch.as_tensor(li)\n",
    "print(li_torch,type(li_torch))"
   ]
  },
  {
   "cell_type": "code",
   "execution_count": null,
   "metadata": {},
   "outputs": [],
   "source": []
  },
  {
   "cell_type": "code",
   "execution_count": null,
   "metadata": {},
   "outputs": [],
   "source": []
  },
  {
   "cell_type": "code",
   "execution_count": null,
   "metadata": {},
   "outputs": [],
   "source": []
  },
  {
   "cell_type": "code",
   "execution_count": null,
   "metadata": {},
   "outputs": [],
   "source": []
  },
  {
   "cell_type": "code",
   "execution_count": null,
   "metadata": {},
   "outputs": [],
   "source": []
  },
  {
   "cell_type": "code",
   "execution_count": null,
   "metadata": {},
   "outputs": [],
   "source": []
  }
 ],
 "metadata": {
  "kernelspec": {
   "display_name": "Python 3",
   "language": "python",
   "name": "python3"
  },
  "language_info": {
   "codemirror_mode": {
    "name": "ipython",
    "version": 3
   },
   "file_extension": ".py",
   "mimetype": "text/x-python",
   "name": "python",
   "nbconvert_exporter": "python",
   "pygments_lexer": "ipython3",
   "version": "3.7.7"
  }
 },
 "nbformat": 4,
 "nbformat_minor": 4
}
