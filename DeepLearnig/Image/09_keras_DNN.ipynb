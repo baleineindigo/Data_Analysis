{
 "cells": [
  {
   "cell_type": "code",
   "execution_count": 1,
   "metadata": {},
   "outputs": [
    {
     "name": "stderr",
     "output_type": "stream",
     "text": [
      "Using TensorFlow backend.\n",
      "C:\\anaconda3\\lib\\site-packages\\tensorflow\\python\\framework\\dtypes.py:516: FutureWarning: Passing (type, 1) or '1type' as a synonym of type is deprecated; in a future version of numpy, it will be understood as (type, (1,)) / '(1,)type'.\n",
      "  _np_qint8 = np.dtype([(\"qint8\", np.int8, 1)])\n",
      "C:\\anaconda3\\lib\\site-packages\\tensorflow\\python\\framework\\dtypes.py:517: FutureWarning: Passing (type, 1) or '1type' as a synonym of type is deprecated; in a future version of numpy, it will be understood as (type, (1,)) / '(1,)type'.\n",
      "  _np_quint8 = np.dtype([(\"quint8\", np.uint8, 1)])\n",
      "C:\\anaconda3\\lib\\site-packages\\tensorflow\\python\\framework\\dtypes.py:518: FutureWarning: Passing (type, 1) or '1type' as a synonym of type is deprecated; in a future version of numpy, it will be understood as (type, (1,)) / '(1,)type'.\n",
      "  _np_qint16 = np.dtype([(\"qint16\", np.int16, 1)])\n",
      "C:\\anaconda3\\lib\\site-packages\\tensorflow\\python\\framework\\dtypes.py:519: FutureWarning: Passing (type, 1) or '1type' as a synonym of type is deprecated; in a future version of numpy, it will be understood as (type, (1,)) / '(1,)type'.\n",
      "  _np_quint16 = np.dtype([(\"quint16\", np.uint16, 1)])\n",
      "C:\\anaconda3\\lib\\site-packages\\tensorflow\\python\\framework\\dtypes.py:520: FutureWarning: Passing (type, 1) or '1type' as a synonym of type is deprecated; in a future version of numpy, it will be understood as (type, (1,)) / '(1,)type'.\n",
      "  _np_qint32 = np.dtype([(\"qint32\", np.int32, 1)])\n",
      "C:\\anaconda3\\lib\\site-packages\\tensorflow\\python\\framework\\dtypes.py:525: FutureWarning: Passing (type, 1) or '1type' as a synonym of type is deprecated; in a future version of numpy, it will be understood as (type, (1,)) / '(1,)type'.\n",
      "  np_resource = np.dtype([(\"resource\", np.ubyte, 1)])\n",
      "C:\\anaconda3\\lib\\site-packages\\tensorboard\\compat\\tensorflow_stub\\dtypes.py:541: FutureWarning: Passing (type, 1) or '1type' as a synonym of type is deprecated; in a future version of numpy, it will be understood as (type, (1,)) / '(1,)type'.\n",
      "  _np_qint8 = np.dtype([(\"qint8\", np.int8, 1)])\n",
      "C:\\anaconda3\\lib\\site-packages\\tensorboard\\compat\\tensorflow_stub\\dtypes.py:542: FutureWarning: Passing (type, 1) or '1type' as a synonym of type is deprecated; in a future version of numpy, it will be understood as (type, (1,)) / '(1,)type'.\n",
      "  _np_quint8 = np.dtype([(\"quint8\", np.uint8, 1)])\n",
      "C:\\anaconda3\\lib\\site-packages\\tensorboard\\compat\\tensorflow_stub\\dtypes.py:543: FutureWarning: Passing (type, 1) or '1type' as a synonym of type is deprecated; in a future version of numpy, it will be understood as (type, (1,)) / '(1,)type'.\n",
      "  _np_qint16 = np.dtype([(\"qint16\", np.int16, 1)])\n",
      "C:\\anaconda3\\lib\\site-packages\\tensorboard\\compat\\tensorflow_stub\\dtypes.py:544: FutureWarning: Passing (type, 1) or '1type' as a synonym of type is deprecated; in a future version of numpy, it will be understood as (type, (1,)) / '(1,)type'.\n",
      "  _np_quint16 = np.dtype([(\"quint16\", np.uint16, 1)])\n",
      "C:\\anaconda3\\lib\\site-packages\\tensorboard\\compat\\tensorflow_stub\\dtypes.py:545: FutureWarning: Passing (type, 1) or '1type' as a synonym of type is deprecated; in a future version of numpy, it will be understood as (type, (1,)) / '(1,)type'.\n",
      "  _np_qint32 = np.dtype([(\"qint32\", np.int32, 1)])\n",
      "C:\\anaconda3\\lib\\site-packages\\tensorboard\\compat\\tensorflow_stub\\dtypes.py:550: FutureWarning: Passing (type, 1) or '1type' as a synonym of type is deprecated; in a future version of numpy, it will be understood as (type, (1,)) / '(1,)type'.\n",
      "  np_resource = np.dtype([(\"resource\", np.ubyte, 1)])\n"
     ]
    }
   ],
   "source": [
    "import keras\n",
    "from keras import layers,models\n",
    "from keras import datasets\n",
    "from keras.utils import np_utils  # one-hot Encoding\n",
    "import numpy as np\n",
    "import pandas as pd\n",
    "import matplotlib.pyplot as plt"
   ]
  },
  {
   "cell_type": "code",
   "execution_count": 2,
   "metadata": {
    "scrolled": true
   },
   "outputs": [
    {
     "data": {
      "text/plain": [
       "(9,\n",
       " array([[  0,   0,   0,   0,   0,   0,   0,   0,   0,   0,   0,   0,   0,\n",
       "           0,   0,   0,   0,   0,   0,   0,   0,   0,   0,   0,   0,   0,\n",
       "           0,   0],\n",
       "        [  0,   0,   0,   0,   0,   0,   0,   0,   0,   0,   0,   0,   0,\n",
       "           0,   0,   0,   0,   0,   0,   0,   0,   0,   0,   0,   0,   0,\n",
       "           0,   0],\n",
       "        [  0,   0,   0,   0,   0,   0,   0,   0,   0,   0,   0,   0,   0,\n",
       "           0,   0,   0,   0,   0,   0,   0,   0,   0,   0,   0,   0,   0,\n",
       "           0,   0],\n",
       "        [  0,   0,   0,   0,   0,   0,   0,   0,   0,   0,   0,   0,   1,\n",
       "           0,   0,  13,  73,   0,   0,   1,   4,   0,   0,   0,   0,   1,\n",
       "           1,   0],\n",
       "        [  0,   0,   0,   0,   0,   0,   0,   0,   0,   0,   0,   0,   3,\n",
       "           0,  36, 136, 127,  62,  54,   0,   0,   0,   1,   3,   4,   0,\n",
       "           0,   3],\n",
       "        [  0,   0,   0,   0,   0,   0,   0,   0,   0,   0,   0,   0,   6,\n",
       "           0, 102, 204, 176, 134, 144, 123,  23,   0,   0,   0,   0,  12,\n",
       "          10,   0],\n",
       "        [  0,   0,   0,   0,   0,   0,   0,   0,   0,   0,   0,   0,   0,\n",
       "           0, 155, 236, 207, 178, 107, 156, 161, 109,  64,  23,  77, 130,\n",
       "          72,  15],\n",
       "        [  0,   0,   0,   0,   0,   0,   0,   0,   0,   0,   0,   1,   0,\n",
       "          69, 207, 223, 218, 216, 216, 163, 127, 121, 122, 146, 141,  88,\n",
       "         172,  66],\n",
       "        [  0,   0,   0,   0,   0,   0,   0,   0,   0,   1,   1,   1,   0,\n",
       "         200, 232, 232, 233, 229, 223, 223, 215, 213, 164, 127, 123, 196,\n",
       "         229,   0],\n",
       "        [  0,   0,   0,   0,   0,   0,   0,   0,   0,   0,   0,   0,   0,\n",
       "         183, 225, 216, 223, 228, 235, 227, 224, 222, 224, 221, 223, 245,\n",
       "         173,   0],\n",
       "        [  0,   0,   0,   0,   0,   0,   0,   0,   0,   0,   0,   0,   0,\n",
       "         193, 228, 218, 213, 198, 180, 212, 210, 211, 213, 223, 220, 243,\n",
       "         202,   0],\n",
       "        [  0,   0,   0,   0,   0,   0,   0,   0,   0,   1,   3,   0,  12,\n",
       "         219, 220, 212, 218, 192, 169, 227, 208, 218, 224, 212, 226, 197,\n",
       "         209,  52],\n",
       "        [  0,   0,   0,   0,   0,   0,   0,   0,   0,   0,   6,   0,  99,\n",
       "         244, 222, 220, 218, 203, 198, 221, 215, 213, 222, 220, 245, 119,\n",
       "         167,  56],\n",
       "        [  0,   0,   0,   0,   0,   0,   0,   0,   0,   4,   0,   0,  55,\n",
       "         236, 228, 230, 228, 240, 232, 213, 218, 223, 234, 217, 217, 209,\n",
       "          92,   0],\n",
       "        [  0,   0,   1,   4,   6,   7,   2,   0,   0,   0,   0,   0, 237,\n",
       "         226, 217, 223, 222, 219, 222, 221, 216, 223, 229, 215, 218, 255,\n",
       "          77,   0],\n",
       "        [  0,   3,   0,   0,   0,   0,   0,   0,   0,  62, 145, 204, 228,\n",
       "         207, 213, 221, 218, 208, 211, 218, 224, 223, 219, 215, 224, 244,\n",
       "         159,   0],\n",
       "        [  0,   0,   0,   0,  18,  44,  82, 107, 189, 228, 220, 222, 217,\n",
       "         226, 200, 205, 211, 230, 224, 234, 176, 188, 250, 248, 233, 238,\n",
       "         215,   0],\n",
       "        [  0,  57, 187, 208, 224, 221, 224, 208, 204, 214, 208, 209, 200,\n",
       "         159, 245, 193, 206, 223, 255, 255, 221, 234, 221, 211, 220, 232,\n",
       "         246,   0],\n",
       "        [  3, 202, 228, 224, 221, 211, 211, 214, 205, 205, 205, 220, 240,\n",
       "          80, 150, 255, 229, 221, 188, 154, 191, 210, 204, 209, 222, 228,\n",
       "         225,   0],\n",
       "        [ 98, 233, 198, 210, 222, 229, 229, 234, 249, 220, 194, 215, 217,\n",
       "         241,  65,  73, 106, 117, 168, 219, 221, 215, 217, 223, 223, 224,\n",
       "         229,  29],\n",
       "        [ 75, 204, 212, 204, 193, 205, 211, 225, 216, 185, 197, 206, 198,\n",
       "         213, 240, 195, 227, 245, 239, 223, 218, 212, 209, 222, 220, 221,\n",
       "         230,  67],\n",
       "        [ 48, 203, 183, 194, 213, 197, 185, 190, 194, 192, 202, 214, 219,\n",
       "         221, 220, 236, 225, 216, 199, 206, 186, 181, 177, 172, 181, 205,\n",
       "         206, 115],\n",
       "        [  0, 122, 219, 193, 179, 171, 183, 196, 204, 210, 213, 207, 211,\n",
       "         210, 200, 196, 194, 191, 195, 191, 198, 192, 176, 156, 167, 177,\n",
       "         210,  92],\n",
       "        [  0,   0,  74, 189, 212, 191, 175, 172, 175, 181, 185, 188, 189,\n",
       "         188, 193, 198, 204, 209, 210, 210, 211, 188, 188, 194, 192, 216,\n",
       "         170,   0],\n",
       "        [  2,   0,   0,   0,  66, 200, 222, 237, 239, 242, 246, 243, 244,\n",
       "         221, 220, 193, 191, 179, 182, 182, 181, 176, 166, 168,  99,  58,\n",
       "           0,   0],\n",
       "        [  0,   0,   0,   0,   0,   0,   0,  40,  61,  44,  72,  41,  35,\n",
       "           0,   0,   0,   0,   0,   0,   0,   0,   0,   0,   0,   0,   0,\n",
       "           0,   0],\n",
       "        [  0,   0,   0,   0,   0,   0,   0,   0,   0,   0,   0,   0,   0,\n",
       "           0,   0,   0,   0,   0,   0,   0,   0,   0,   0,   0,   0,   0,\n",
       "           0,   0],\n",
       "        [  0,   0,   0,   0,   0,   0,   0,   0,   0,   0,   0,   0,   0,\n",
       "           0,   0,   0,   0,   0,   0,   0,   0,   0,   0,   0,   0,   0,\n",
       "           0,   0]], dtype=uint8),\n",
       " (),\n",
       " (28, 28))"
      ]
     },
     "execution_count": 2,
     "metadata": {},
     "output_type": "execute_result"
    }
   ],
   "source": [
    "(X_train,y_train),(X_test,y_test)=datasets.fashion_mnist.load_data()\n",
    "y_train[0],X_train[0],y_train[0].shape,X_train[0].shape"
   ]
  },
  {
   "cell_type": "code",
   "execution_count": 3,
   "metadata": {},
   "outputs": [
    {
     "data": {
      "text/plain": [
       "<matplotlib.image.AxesImage at 0x17552672e08>"
      ]
     },
     "execution_count": 3,
     "metadata": {},
     "output_type": "execute_result"
    },
    {
     "data": {
      "image/png": "[encoded data removed]",
      "text/plain": [
       "<Figure size 432x288 with 1 Axes>"
      ]
     },
     "metadata": {
      "needs_background": "light"
     },
     "output_type": "display_data"
    }
   ],
   "source": [
    "plt.imshow(X_train[0],cmap=\"inferno\")"
   ]
  },
  {
   "cell_type": "code",
   "execution_count": 5,
   "metadata": {},
   "outputs": [
    {
     "ename": "ValueError",
     "evalue": "not enough values to unpack (expected 3, got 2)",
     "output_type": "error",
     "traceback": [
      "\u001b[1;31m---------------------------------------------------------------------------\u001b[0m",
      "\u001b[1;31mValueError\u001b[0m                                Traceback (most recent call last)",
      "\u001b[1;32m<ipython-input-5-d56bdde86b9f>\u001b[0m in \u001b[0;36m<module>\u001b[1;34m\u001b[0m\n\u001b[1;32m----> 1\u001b[1;33m \u001b[0mL\u001b[0m\u001b[1;33m,\u001b[0m\u001b[0mW\u001b[0m\u001b[1;33m,\u001b[0m\u001b[0mH\u001b[0m\u001b[1;33m=\u001b[0m\u001b[0mX_train\u001b[0m\u001b[1;33m.\u001b[0m\u001b[0mshape\u001b[0m\u001b[1;33m\u001b[0m\u001b[1;33m\u001b[0m\u001b[0m\n\u001b[0m\u001b[0;32m      2\u001b[0m \u001b[0mX_train\u001b[0m\u001b[1;33m=\u001b[0m\u001b[0mX_train\u001b[0m\u001b[1;33m.\u001b[0m\u001b[0mreshape\u001b[0m\u001b[1;33m(\u001b[0m\u001b[1;33m-\u001b[0m\u001b[1;36m1\u001b[0m\u001b[1;33m,\u001b[0m\u001b[0mW\u001b[0m\u001b[1;33m*\u001b[0m\u001b[0mH\u001b[0m\u001b[1;33m)\u001b[0m\u001b[1;33m\u001b[0m\u001b[1;33m\u001b[0m\u001b[0m\n\u001b[0;32m      3\u001b[0m \u001b[0mX_test\u001b[0m\u001b[1;33m=\u001b[0m\u001b[0mX_test\u001b[0m\u001b[1;33m.\u001b[0m\u001b[0mreshape\u001b[0m\u001b[1;33m(\u001b[0m\u001b[1;33m-\u001b[0m\u001b[1;36m1\u001b[0m\u001b[1;33m,\u001b[0m\u001b[0mW\u001b[0m\u001b[1;33m*\u001b[0m\u001b[0mH\u001b[0m\u001b[1;33m)\u001b[0m\u001b[1;33m\u001b[0m\u001b[1;33m\u001b[0m\u001b[0m\n",
      "\u001b[1;31mValueError\u001b[0m: not enough values to unpack (expected 3, got 2)"
     ]
    }
   ],
   "source": [
    "L,W,H=X_train.shape\n",
    "X_train=X_train.reshape(-1,W*H)\n",
    "X_test=X_test.reshape(-1,W*H)"
   ]
  },
  {
   "cell_type": "code",
   "execution_count": 6,
   "metadata": {},
   "outputs": [],
   "source": [
    "X_train=X_train/255\n",
    "X_test=X_test/255"
   ]
  },
  {
   "cell_type": "code",
   "execution_count": 7,
   "metadata": {},
   "outputs": [
    {
     "data": {
      "text/plain": [
       "(array([0., 0., 0., 0., 0., 1., 0., 0., 0., 0.], dtype=float32), 5)"
      ]
     },
     "execution_count": 7,
     "metadata": {},
     "output_type": "execute_result"
    }
   ],
   "source": [
    "# one hot encoding\n",
    "Y_train=np_utils.to_categorical(y_train)\n",
    "Y_test=np_utils.to_categorical(y_test)\n",
    "Y_train[30],y_train[30]"
   ]
  },
  {
   "cell_type": "markdown",
   "metadata": {},
   "source": [
    "# Drop out : Overfitting을 방지하기 위한 일종의 가지치기"
   ]
  },
  {
   "cell_type": "code",
   "execution_count": 8,
   "metadata": {},
   "outputs": [],
   "source": [
    "model=models.Sequential()\n",
    "model.add(layers.Dense(100,activation=\"relu\",input_shape=(W*H,)))#input은 처음에만 넣음\n",
    "model.add(layers.Dropout(0.35))\n",
    "model.add(layers.Dense(50,activation=\"relu\"))\n",
    "model.add(layers.Dropout(0.15))\n",
    "model.add(layers.Dense(10,activation=\"softmax\"))"
   ]
  },
  {
   "cell_type": "code",
   "execution_count": 9,
   "metadata": {},
   "outputs": [],
   "source": [
    "model.compile(\"adam\",\"categorical_crossentropy\",metrics=['accuracy'])"
   ]
  },
  {
   "cell_type": "code",
   "execution_count": 10,
   "metadata": {},
   "outputs": [
    {
     "name": "stdout",
     "output_type": "stream",
     "text": [
      "WARNING:tensorflow:From C:\\anaconda3\\lib\\site-packages\\keras\\backend\\tensorflow_backend.py:422: The name tf.global_variables is deprecated. Please use tf.compat.v1.global_variables instead.\n",
      "\n"
     ]
    },
    {
     "data": {
      "text/plain": [
       "<keras.callbacks.callbacks.History at 0x1755fbc7a08>"
      ]
     },
     "execution_count": 10,
     "metadata": {},
     "output_type": "execute_result"
    }
   ],
   "source": [
    "model.fit(X_train,Y_train,epochs=20,batch_size=100,validation_split=0.2,verbose=0)"
   ]
  },
  {
   "cell_type": "code",
   "execution_count": 11,
   "metadata": {},
   "outputs": [
    {
     "name": "stdout",
     "output_type": "stream",
     "text": [
      "10000/10000 [==============================] - 0s 27us/step\n",
      "Loss : 0.3577863845229149, Accuracy : 0.8701000213623047\n"
     ]
    }
   ],
   "source": [
    "model_eval=model.evaluate(X_test,Y_test,batch_size=100)\n",
    "print(\"Loss : {}, Accuracy : {}\".format(*model_eval))"
   ]
  },
  {
   "cell_type": "code",
   "execution_count": null,
   "metadata": {},
   "outputs": [],
   "source": []
  },
  {
   "cell_type": "code",
   "execution_count": 12,
   "metadata": {},
   "outputs": [
    {
     "name": "stdout",
     "output_type": "stream",
     "text": [
      "Train on 48000 samples, validate on 12000 samples\n",
      "Epoch 1/50\n",
      "48000/48000 [==============================] - 2s 45us/step - loss: 0.3112 - accuracy: 0.8848 - val_loss: 0.3255 - val_accuracy: 0.8842\n",
      "Epoch 2/50\n",
      "48000/48000 [==============================] - 2s 41us/step - loss: 0.3110 - accuracy: 0.8836 - val_loss: 0.3331 - val_accuracy: 0.8814\n",
      "Epoch 3/50\n",
      "48000/48000 [==============================] - 2s 42us/step - loss: 0.3041 - accuracy: 0.8868 - val_loss: 0.3214 - val_accuracy: 0.8842\n",
      "Epoch 4/50\n",
      "48000/48000 [==============================] - 3s 54us/step - loss: 0.3045 - accuracy: 0.8878 - val_loss: 0.3193 - val_accuracy: 0.8886\n",
      "Epoch 5/50\n",
      "48000/48000 [==============================] - 2s 42us/step - loss: 0.3009 - accuracy: 0.8869 - val_loss: 0.3191 - val_accuracy: 0.8867\n",
      "Epoch 6/50\n",
      "48000/48000 [==============================] - 2s 37us/step - loss: 0.3003 - accuracy: 0.8884 - val_loss: 0.3229 - val_accuracy: 0.8871\n",
      "Epoch 7/50\n",
      "48000/48000 [==============================] - 2s 52us/step - loss: 0.2978 - accuracy: 0.8899 - val_loss: 0.3255 - val_accuracy: 0.8832\n",
      "Epoch 8/50\n",
      "48000/48000 [==============================] - 3s 53us/step - loss: 0.2932 - accuracy: 0.8895 - val_loss: 0.3342 - val_accuracy: 0.8840\n",
      "Epoch 9/50\n",
      "48000/48000 [==============================] - 2s 43us/step - loss: 0.2892 - accuracy: 0.8909 - val_loss: 0.3170 - val_accuracy: 0.8892\n",
      "Epoch 10/50\n",
      "48000/48000 [==============================] - 3s 55us/step - loss: 0.2921 - accuracy: 0.8911 - val_loss: 0.3255 - val_accuracy: 0.8888\n",
      "Epoch 11/50\n",
      "48000/48000 [==============================] - 2s 49us/step - loss: 0.2908 - accuracy: 0.8917 - val_loss: 0.3186 - val_accuracy: 0.8888\n",
      "Epoch 12/50\n",
      "48000/48000 [==============================] - 2s 50us/step - loss: 0.2852 - accuracy: 0.8936 - val_loss: 0.3276 - val_accuracy: 0.8857\n",
      "Epoch 13/50\n",
      "48000/48000 [==============================] - 2s 37us/step - loss: 0.2827 - accuracy: 0.8941 - val_loss: 0.3236 - val_accuracy: 0.8836\n",
      "Epoch 14/50\n",
      "48000/48000 [==============================] - 2s 36us/step - loss: 0.2829 - accuracy: 0.8935 - val_loss: 0.3183 - val_accuracy: 0.8844\n",
      "Epoch 15/50\n",
      "48000/48000 [==============================] - 2s 40us/step - loss: 0.2824 - accuracy: 0.8937 - val_loss: 0.3166 - val_accuracy: 0.8872\n",
      "Epoch 16/50\n",
      "48000/48000 [==============================] - 2s 42us/step - loss: 0.2826 - accuracy: 0.8942 - val_loss: 0.3167 - val_accuracy: 0.8873\n",
      "Epoch 17/50\n",
      "48000/48000 [==============================] - 2s 36us/step - loss: 0.2794 - accuracy: 0.8956 - val_loss: 0.3241 - val_accuracy: 0.8860\n",
      "Epoch 18/50\n",
      "48000/48000 [==============================] - 2s 42us/step - loss: 0.2779 - accuracy: 0.8961 - val_loss: 0.3178 - val_accuracy: 0.8835\n",
      "Epoch 19/50\n",
      "48000/48000 [==============================] - 3s 58us/step - loss: 0.2732 - accuracy: 0.8979 - val_loss: 0.3177 - val_accuracy: 0.8878\n",
      "Epoch 20/50\n",
      "48000/48000 [==============================] - 3s 57us/step - loss: 0.2726 - accuracy: 0.8980 - val_loss: 0.3160 - val_accuracy: 0.8888\n",
      "Epoch 21/50\n",
      "48000/48000 [==============================] - 3s 61us/step - loss: 0.2734 - accuracy: 0.8977 - val_loss: 0.3328 - val_accuracy: 0.8805\n",
      "Epoch 22/50\n",
      "48000/48000 [==============================] - 2s 47us/step - loss: 0.2734 - accuracy: 0.8986 - val_loss: 0.3173 - val_accuracy: 0.8877\n",
      "Epoch 23/50\n",
      "48000/48000 [==============================] - 2s 44us/step - loss: 0.2717 - accuracy: 0.8979 - val_loss: 0.3235 - val_accuracy: 0.8876\n",
      "Epoch 24/50\n",
      "48000/48000 [==============================] - 2s 47us/step - loss: 0.2648 - accuracy: 0.9010 - val_loss: 0.3336 - val_accuracy: 0.8837\n",
      "Epoch 25/50\n",
      "48000/48000 [==============================] - 2s 40us/step - loss: 0.2676 - accuracy: 0.9016 - val_loss: 0.3178 - val_accuracy: 0.8898\n",
      "Epoch 26/50\n",
      "48000/48000 [==============================] - 2s 48us/step - loss: 0.2649 - accuracy: 0.9008 - val_loss: 0.3182 - val_accuracy: 0.8903\n",
      "Epoch 27/50\n",
      "48000/48000 [==============================] - 3s 54us/step - loss: 0.2624 - accuracy: 0.9017 - val_loss: 0.3231 - val_accuracy: 0.8866\n",
      "Epoch 28/50\n",
      "48000/48000 [==============================] - 2s 41us/step - loss: 0.2642 - accuracy: 0.9007 - val_loss: 0.3162 - val_accuracy: 0.8881\n",
      "Epoch 29/50\n",
      "48000/48000 [==============================] - 2s 45us/step - loss: 0.2641 - accuracy: 0.9016 - val_loss: 0.3243 - val_accuracy: 0.8863\n",
      "Epoch 30/50\n",
      "48000/48000 [==============================] - 2s 46us/step - loss: 0.2607 - accuracy: 0.9012 - val_loss: 0.3255 - val_accuracy: 0.8898\n",
      "Epoch 31/50\n",
      "48000/48000 [==============================] - 2s 40us/step - loss: 0.2587 - accuracy: 0.9026 - val_loss: 0.3209 - val_accuracy: 0.8885\n",
      "Epoch 32/50\n",
      "48000/48000 [==============================] - 3s 56us/step - loss: 0.2568 - accuracy: 0.9025 - val_loss: 0.3198 - val_accuracy: 0.8888\n",
      "Epoch 33/50\n",
      "48000/48000 [==============================] - 3s 53us/step - loss: 0.2562 - accuracy: 0.9041 - val_loss: 0.3177 - val_accuracy: 0.8888\n",
      "Epoch 34/50\n",
      "48000/48000 [==============================] - 2s 52us/step - loss: 0.2553 - accuracy: 0.9030 - val_loss: 0.3316 - val_accuracy: 0.8866\n",
      "Epoch 35/50\n",
      "48000/48000 [==============================] - 3s 58us/step - loss: 0.2577 - accuracy: 0.9025 - val_loss: 0.3153 - val_accuracy: 0.8895\n",
      "Epoch 36/50\n",
      "48000/48000 [==============================] - 2s 42us/step - loss: 0.2518 - accuracy: 0.9045 - val_loss: 0.3253 - val_accuracy: 0.8908\n",
      "Epoch 37/50\n",
      "48000/48000 [==============================] - 2s 49us/step - loss: 0.2530 - accuracy: 0.9052 - val_loss: 0.3267 - val_accuracy: 0.8871\n",
      "Epoch 38/50\n",
      "48000/48000 [==============================] - 3s 55us/step - loss: 0.2513 - accuracy: 0.9057 - val_loss: 0.3184 - val_accuracy: 0.8915\n",
      "Epoch 39/50\n",
      "48000/48000 [==============================] - 2s 43us/step - loss: 0.2514 - accuracy: 0.9050 - val_loss: 0.3239 - val_accuracy: 0.8902\n",
      "Epoch 40/50\n",
      "48000/48000 [==============================] - 3s 62us/step - loss: 0.2479 - accuracy: 0.9053 - val_loss: 0.3185 - val_accuracy: 0.8902\n",
      "Epoch 41/50\n",
      "48000/48000 [==============================] - 2s 47us/step - loss: 0.2461 - accuracy: 0.9064 - val_loss: 0.3198 - val_accuracy: 0.8907\n",
      "Epoch 42/50\n",
      "48000/48000 [==============================] - 2s 42us/step - loss: 0.2484 - accuracy: 0.9046 - val_loss: 0.3243 - val_accuracy: 0.8882\n",
      "Epoch 43/50\n",
      "48000/48000 [==============================] - 2s 46us/step - loss: 0.2483 - accuracy: 0.9061 - val_loss: 0.3249 - val_accuracy: 0.8860\n",
      "Epoch 44/50\n",
      "48000/48000 [==============================] - 2s 39us/step - loss: 0.2431 - accuracy: 0.9080 - val_loss: 0.3287 - val_accuracy: 0.8893\n",
      "Epoch 45/50\n",
      "48000/48000 [==============================] - 2s 38us/step - loss: 0.2424 - accuracy: 0.9085 - val_loss: 0.3270 - val_accuracy: 0.8858\n",
      "Epoch 46/50\n",
      "48000/48000 [==============================] - 2s 43us/step - loss: 0.2458 - accuracy: 0.9072 - val_loss: 0.3240 - val_accuracy: 0.8911\n",
      "Epoch 47/50\n",
      "48000/48000 [==============================] - 2s 35us/step - loss: 0.2446 - accuracy: 0.9079 - val_loss: 0.3277 - val_accuracy: 0.8937\n",
      "Epoch 48/50\n",
      "48000/48000 [==============================] - 2s 38us/step - loss: 0.2404 - accuracy: 0.9104 - val_loss: 0.3323 - val_accuracy: 0.8903\n",
      "Epoch 49/50\n",
      "48000/48000 [==============================] - 3s 58us/step - loss: 0.2431 - accuracy: 0.9092 - val_loss: 0.3226 - val_accuracy: 0.8920\n",
      "Epoch 50/50\n",
      "48000/48000 [==============================] - 2s 43us/step - loss: 0.2477 - accuracy: 0.9056 - val_loss: 0.3312 - val_accuracy: 0.8898\n"
     ]
    }
   ],
   "source": [
    "# 10. 시각화\n",
    "# fit, 트레이닝할 때 나오는 로그 메세지를 모아서 리턴 - history\n",
    "import matplotlib.pyplot as plt\n",
    "def plot_loss(history):\n",
    "    plt.plot(history.history[\"loss\"])\n",
    "    plt.plot(history.history[\"val_loss\"])\n",
    "    plt.legend()\n",
    "    plt.title(\"Loss\")\n",
    "    plt.ylabel(\"Loss\")\n",
    "    plt.xlabel(\"Epoch\")\n",
    "\n",
    "    plt.savefig('C:/바탕 화면/playdata/ice/eclipse/SpringWorkspace/sp10_SpringMVC_MultiFile/src/main/webapp/upload/Loss.png',dpi=300)\n",
    "    \n",
    "def plot_acc(history):\n",
    "    plt.plot(history.history[\"accuracy\"])\n",
    "    plt.plot(history.history[\"val_accuracy\"])\n",
    "    plt.legend()\n",
    "    plt.title(\"accuracy\")\n",
    "    plt.ylabel(\"accuracy\")\n",
    "    plt.xlabel(\"Epoch\")\n",
    "        \n",
    "    plt.savefig('C:/바탕 화면/playdata/ice/eclipse/SpringWorkspace/sp10_SpringMVC_MultiFile/src/main/webapp/upload/Accuracy.png',dpi=300)\n",
    "    \n",
    "history=model.fit(X_train,Y_train,epochs=50,batch_size=100,validation_split=0.2)\n",
    "    \n",
    "    "
   ]
  },
  {
   "cell_type": "code",
   "execution_count": 13,
   "metadata": {},
   "outputs": [
    {
     "name": "stderr",
     "output_type": "stream",
     "text": [
      "No handles with labels found to put in legend.\n"
     ]
    },
    {
     "data": {
      "image/png": "[encoded data removed]",
      "text/plain": [
       "<Figure size 432x288 with 1 Axes>"
      ]
     },
     "metadata": {
      "needs_background": "light"
     },
     "output_type": "display_data"
    }
   ],
   "source": [
    "plot_acc(history)"
   ]
  },
  {
   "cell_type": "code",
   "execution_count": 14,
   "metadata": {},
   "outputs": [
    {
     "name": "stderr",
     "output_type": "stream",
     "text": [
      "No handles with labels found to put in legend.\n"
     ]
    },
    {
     "data": {
      "image/png": "[encoded data removed]",
      "text/plain": [
       "<Figure size 432x288 with 1 Axes>"
      ]
     },
     "metadata": {
      "needs_background": "light"
     },
     "output_type": "display_data"
    }
   ],
   "source": [
    "plot_loss(history)"
   ]
  },
  {
   "cell_type": "code",
   "execution_count": null,
   "metadata": {},
   "outputs": [],
   "source": []
  },
  {
   "cell_type": "markdown",
   "metadata": {},
   "source": [
    "# Image Data Plotting"
   ]
  },
  {
   "cell_type": "code",
   "execution_count": 15,
   "metadata": {},
   "outputs": [
    {
     "data": {
      "text/plain": [
       "<matplotlib.image.AxesImage at 0x1757aceb708>"
      ]
     },
     "execution_count": 15,
     "metadata": {},
     "output_type": "execute_result"
    },
    {
     "data": {
      "image/png": "[encoded data removed]",
      "text/plain": [
       "<Figure size 432x288 with 1 Axes>"
      ]
     },
     "metadata": {
      "needs_background": "light"
     },
     "output_type": "display_data"
    }
   ],
   "source": [
    "plt.imshow(X_train[0].reshape(28,28),cmap=\"gray\")"
   ]
  },
  {
   "cell_type": "code",
   "execution_count": 16,
   "metadata": {},
   "outputs": [
    {
     "data": {
      "text/plain": [
       "<function matplotlib.pyplot.show(*args, **kw)>"
      ]
     },
     "execution_count": 16,
     "metadata": {},
     "output_type": "execute_result"
    },
    {
     "data": {
      "image/png": "[encoded data removed]",
      "text/plain": [
       "<Figure size 648x432 with 10 Axes>"
      ]
     },
     "metadata": {},
     "output_type": "display_data"
    }
   ],
   "source": [
    "row=2\n",
    "col=5\n",
    "\n",
    "grid=range(10)\n",
    "fig,axs=plt.subplots(nrows=row,ncols=col,figsize=(9,6),subplot_kw={\"xticks\":[],\"yticks\":[]})\n",
    "\n",
    "for ax,i in zip(axs.flat,grid):\n",
    "    ax.imshow(X_train[i].reshape(28,28),cmap=\"inferno\")\n",
    "plt.show"
   ]
  },
  {
   "cell_type": "code",
   "execution_count": null,
   "metadata": {},
   "outputs": [],
   "source": []
  },
  {
   "cell_type": "code",
   "execution_count": null,
   "metadata": {},
   "outputs": [],
   "source": []
  },
  {
   "cell_type": "code",
   "execution_count": null,
   "metadata": {},
   "outputs": [],
   "source": []
  },
  {
   "cell_type": "code",
   "execution_count": null,
   "metadata": {},
   "outputs": [],
   "source": []
  }
 ],
 "metadata": {
  "kernelspec": {
   "display_name": "Python 3",
   "language": "python",
   "name": "python3"
  },
  "language_info": {
   "codemirror_mode": {
    "name": "ipython",
    "version": 3
   },
   "file_extension": ".py",
   "mimetype": "text/x-python",
   "name": "python",
   "nbconvert_exporter": "python",
   "pygments_lexer": "ipython3",
   "version": "3.7.7"
  }
 },
 "nbformat": 4,
 "nbformat_minor": 4
}
