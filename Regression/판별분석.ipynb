{
  "nbformat": 4,
  "nbformat_minor": 0,
  "metadata": {
    "colab": {
      "name": "판별분석.ipynb",
      "private_outputs": true,
      "provenance": [],
      "collapsed_sections": []
    },
    "kernelspec": {
      "name": "python3",
      "display_name": "Python 3"
    },
    "accelerator": "GPU"
  },
  "cells": [
    {
      "cell_type": "code",
      "metadata": {
        "id": "47yHBmQfB4Jr"
      },
      "source": [
        "import torch\r\n",
        "import numpy as np\r\n",
        "import pandas as pd\r\n",
        "import warnings\r\n",
        "warnings.filterwarnings(action='ignore')\r\n",
        "import matplotlib.pyplot as plt\r\n",
        "import seaborn as sns\r\n",
        "import statsmodels.api as sm\r\n",
        "import matplotlib.font_manager as fm\r\n",
        "from sklearn.preprocessing import StandardScaler\r\n",
        "\r\n",
        "\r\n",
        "# # 그래프에서 마이너스 폰트 깨지는 문제에 대한 대처\r\n",
        "import matplotlib as mpl\r\n",
        "mpl.rcParams['axes.unicode_minus'] = False\r\n",
        "\r\n",
        "# # GPU 설정 : 런타임 > 런타임 유형 변경 > GPU\r\n",
        "# # GPU 사용 가능한지 확인\r\n",
        "device=torch.device(\"cuda\" if torch.cuda.is_available() else \"cpu\")\r\n",
        "device"
      ],
      "execution_count": null,
      "outputs": []
    },
    {
      "cell_type": "markdown",
      "metadata": {
        "id": "nIHYMWqqCImN"
      },
      "source": [
        "## 선형판별분석법과 이차판별분석법\r\n",
        "선형판별분석법(linear discriminant analysis, LDA)과 이차판별분석법(quadratic discriminant analysis, QDA)는 대표적인 확률론적 생성모형(generative model)이다. \r\n",
        "\r\n",
        "가능도 즉, y의 클래스값에 따른 x의 분포에 대한 정보를 먼저 알아낸 후, 베이즈 정리를 사용하여 주어진 x에 대한 y의 확률분포를 찾아낸다.\r\n",
        "\r\n"
      ]
    },
    {
      "cell_type": "code",
      "metadata": {
        "id": "d5bTLtajCEQw"
      },
      "source": [
        "## 이차 판별 분석법\r\n",
        "\r\n",
        "# 데이터 셋\r\n",
        "from sklearn.datasets import load_iris\r\n",
        "iris=load_iris()\r\n",
        "x1=iris.data\r\n",
        "y1=iris.target"
      ],
      "execution_count": null,
      "outputs": []
    },
    {
      "cell_type": "code",
      "metadata": {
        "id": "BOrhpDAvICqd"
      },
      "source": [
        ""
      ],
      "execution_count": null,
      "outputs": []
    },
    {
      "cell_type": "code",
      "metadata": {
        "id": "QUgJravUCrG4"
      },
      "source": [
        "# Iris 이차 판별 분석법\r\n",
        "from sklearn.discriminant_analysis import QuadraticDiscriminantAnalysis\r\n",
        "model=QuadraticDiscriminantAnalysis().fit(x1,y1)\r\n",
        "y1_pred=model.predict(x1)\r\n",
        "\r\n",
        "from sklearn.metrics import confusion_matrix\r\n",
        "confusion_matrix(y1,y1_pred)"
      ],
      "execution_count": null,
      "outputs": []
    },
    {
      "cell_type": "code",
      "metadata": {
        "id": "gaemrs61F_J4"
      },
      "source": [
        "# 분류 리포트\r\n",
        "from sklearn.metrics import classification_report\r\n",
        "print(classification_report(y1,y1_pred))"
      ],
      "execution_count": null,
      "outputs": []
    },
    {
      "cell_type": "code",
      "metadata": {
        "id": "QkyEdBxVDcw_"
      },
      "source": [
        "# ROC 커브\r\n",
        "from sklearn.preprocessing import label_binarize\r\n",
        "y1_vec=label_binarize(y1,[0,1,2])\r\n",
        "\r\n",
        "from sklearn.metrics import roc_curve\r\n",
        "for i in range(3):\r\n",
        "    model1=QuadraticDiscriminantAnalysis().fit(x1,y1_vec[:,i])\r\n",
        "    fbr,tpr,thr=roc_curve(y1_vec[:,i],model1.predict_proba(x1)[:,1])\r\n",
        "    plt.plot(fbr,tpr)\r\n",
        "plt.show()"
      ],
      "execution_count": null,
      "outputs": []
    },
    {
      "cell_type": "code",
      "metadata": {
        "id": "1XhWEWrKEaj8"
      },
      "source": [
        "# 선형판별분석법\r\n",
        "from sklearn.discriminant_analysis import LinearDiscriminantAnalysis\r\n",
        "model2=LinearDiscriminantAnalysis().fit(x1,y1)\r\n",
        "y2_pred=model2.predict(x1)\r\n",
        "\r\n",
        "confusion_matrix(y1,y2_pred)"
      ],
      "execution_count": null,
      "outputs": []
    },
    {
      "cell_type": "code",
      "metadata": {
        "id": "_CuVXEYIHSZ8"
      },
      "source": [
        "# 분류 리포트\r\n",
        "from sklearn.metrics import classification_report\r\n",
        "print(classification_report(y1,y2_pred))"
      ],
      "execution_count": null,
      "outputs": []
    },
    {
      "cell_type": "code",
      "metadata": {
        "id": "Beij5_KLHcnF"
      },
      "source": [
        "# ROC 커브\r\n",
        "from sklearn.preprocessing import label_binarize\r\n",
        "y1_vec=label_binarize(y1,[0,1,2])\r\n",
        "\r\n",
        "from sklearn.metrics import roc_curve\r\n",
        "for i in range(3):\r\n",
        "    model2=LinearDiscriminantAnalysis().fit(x1,y1_vec[:,i])\r\n",
        "    fbr,tpr,thr=roc_curve(y1_vec[:,i],model2.predict_proba(x1)[:,1])\r\n",
        "    plt.plot(fbr,tpr)\r\n",
        "plt.show()"
      ],
      "execution_count": null,
      "outputs": []
    },
    {
      "cell_type": "code",
      "metadata": {
        "id": "44-oagPDHoJF"
      },
      "source": [
        ""
      ],
      "execution_count": null,
      "outputs": []
    }
  ]
}