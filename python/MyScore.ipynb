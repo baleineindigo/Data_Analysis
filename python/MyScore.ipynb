{
 "cells": [
  {
   "cell_type": "code",
   "execution_count": null,
   "metadata": {},
   "outputs": [],
   "source": [
    "'''\n",
    "MyScore는 5개 함수를 가지고 있는 모듈.\n",
    "모듈은 반드시 확장자가 py로 \n",
    "1) File > Download > python py\n",
    "2) 매직명령어  %%writefile MyScore.py\n",
    "-매직명령어는 모듈 시작하는 셀 첫줄에 있을 것.\n",
    "'''"
   ]
  },
  {
   "cell_type": "code",
   "execution_count": null,
   "metadata": {},
   "outputs": [],
   "source": [
    "def getSum(data):\n",
    "    return sum(data)\n",
    "  \n",
    "def getMean(data):\n",
    "    return getSum(data)/len(data)\n",
    "\n",
    "def getMax(data):\n",
    "    maxV=data[0]\n",
    "    for i in data[1:]:\n",
    "        if i>maxV:\n",
    "            maxV=i\n",
    "    return maxV\n",
    "\n",
    "def getMin(data):\n",
    "    minV=data[0]\n",
    "    for i in data[1:]:\n",
    "        if i<minV:\n",
    "            minV=i\n",
    "    return minV\n",
    "\n",
    "def getTwoSum(n2,n1=1):\n",
    "    if n2<n1:\n",
    "        n2,n1=n1,n2\n",
    "    return (n1+n2)*(n2+1-n1)//2\n"
   ]
  }
 ],
 "metadata": {
  "kernelspec": {
   "display_name": "Python 3",
   "language": "python",
   "name": "python3"
  },
  "language_info": {
   "codemirror_mode": {
    "name": "ipython",
    "version": 3
   },
   "file_extension": ".py",
   "mimetype": "text/x-python",
   "name": "python",
   "nbconvert_exporter": "python",
   "pygments_lexer": "ipython3",
   "version": "3.7.6"
  }
 },
 "nbformat": 4,
 "nbformat_minor": 4
}
