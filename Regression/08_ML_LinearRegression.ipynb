{
 "cells": [
  {
   "cell_type": "markdown",
   "metadata": {},
   "source": [
    "## 선형회귀(Linear Regression) - 심화"
   ]
  },
  {
   "cell_type": "markdown",
   "metadata": {},
   "source": [
    "#### Linear Regression을 활용하여 섭씨온도(C, Celsius)를 화씨온도(F, Fahrenheit)로 변환해주는 공식을 만들수 있다. \n",
    "섭씨온도과 화씨온도의 관계는 앞에서 우리가 살펴보았던 선형회귀의 관계를 가지고 있다.\n",
    "#### H(x) = aX + b 에서처럼, F = C*1.8 +32 \n",
    "이때, 1.8과 32라는 값을 모르고 있다고 가정하고, 머신러닝 알고리즘을 이용해서 주어진 섭씨 온도와 화씨온도 데이타 만으로 이 값들을 찾아내는 실습을 진행해보도록 하겠다.\n",
    "Chain Rule 증명 ----> 구글 검색 하면 여기에 사용되는 증명 공식들,,미분, 편미분..공식들이 나온다.참조바람"
   ]
  },
  {
   "cell_type": "markdown",
   "metadata": {},
   "source": [
    "### Configuration (or prerequisite)"
   ]
  },
  {
   "cell_type": "code",
   "execution_count": 199,
   "metadata": {},
   "outputs": [],
   "source": [
    "%matplotlib inline\n",
    "import numpy as np\n",
    "import pandas as pd\n",
    "import matplotlib.pyplot as plt"
   ]
  },
  {
   "cell_type": "markdown",
   "metadata": {},
   "source": [
    "### Generate Dataset"
   ]
  },
  {
   "cell_type": "markdown",
   "metadata": {},
   "source": [
    "#### 선형회귀 문제를 다루기 위한 학습용 데이타셋을 생성\n",
    "0도에서 100도 사이의 값을 갖는 섭씨온도 데이타를 100개 만들어보자\n",
    "이 데이타가 해당 머신러닝 알고리즘에서 사실상 Feature가 될 것이다."
   ]
  },
  {
   "cell_type": "markdown",
   "metadata": {},
   "source": [
    "### 섭씨온도 데이타에 상응하는 화씨온도를 생성\n",
    "#### 우리가 알고있던 기존의 섭씨-화씨변환 공식을 적용해서 위 섭씨온도 데이타에 대응하는 화씨온도 데이타를 생성. \n",
    "이 데이타가 오늘 다룰 학습 모델 알고리즘의 Label이 될 것이다."
   ]
  },
  {
   "cell_type": "markdown",
   "metadata": {},
   "source": [
    "### Bias (편향 찾기) -- Weight는 1.8"
   ]
  },
  {
   "cell_type": "markdown",
   "metadata": {},
   "source": [
    "#### Weight는 1.8로 주고 Bias를 직관적으로 한번 찾아보겠다."
   ]
  },
  {
   "cell_type": "code",
   "execution_count": 200,
   "metadata": {},
   "outputs": [
    {
     "data": {
      "text/plain": [
       "array([94, 79, 27, 14, 89, 59, 22, 53, 66,  5, 93, 66,  4, 64, 29, 68, 97,\n",
       "       56, 84, 23, 39, 61, 70, 90, 45, 21, 48, 94, 39, 28, 75,  2,  5, 72,\n",
       "       89, 10, 88, 20, 84, 17, 55, 56, 87, 55, 60, 89, 98, 92, 39, 78, 23,\n",
       "       82, 55, 35, 30, 30, 16, 60, 61, 60, 87, 19, 30,  8, 45,  9, 78, 61,\n",
       "       30, 44, 79, 45, 81, 74, 27, 88, 67, 61, 76, 92, 42, 41,  9, 92, 82,\n",
       "       15, 88, 59, 28, 53, 62, 68, 82, 34, 26, 53, 59, 19,  6, 65])"
      ]
     },
     "execution_count": 200,
     "metadata": {},
     "output_type": "execute_result"
    }
   ],
   "source": [
    "C=np.random.randint(1,101,100)\n",
    "C"
   ]
  },
  {
   "cell_type": "code",
   "execution_count": 201,
   "metadata": {},
   "outputs": [
    {
     "name": "stdout",
     "output_type": "stream",
     "text": [
      "(100,)\n",
      "[94 79 27 14 89 59 22 53 66  5]\n"
     ]
    }
   ],
   "source": [
    "print(C.shape)\n",
    "print(C[:10])"
   ]
  },
  {
   "cell_type": "markdown",
   "metadata": {},
   "source": [
    "## 섭씨 온도에 상응하는 화씨온도 생성"
   ]
  },
  {
   "cell_type": "code",
   "execution_count": 202,
   "metadata": {},
   "outputs": [
    {
     "name": "stdout",
     "output_type": "stream",
     "text": [
      "[201.2 174.2  80.6  57.2 192.2 138.2  71.6 127.4 150.8  41.  199.4 150.8\n",
      "  39.2 147.2  84.2 154.4 206.6 132.8 183.2  73.4 102.2 141.8 158.  194.\n",
      " 113.   69.8 118.4 201.2 102.2  82.4 167.   35.6  41.  161.6 192.2  50.\n",
      " 190.4  68.  183.2  62.6 131.  132.8 188.6 131.  140.  192.2 208.4 197.6\n",
      " 102.2 172.4  73.4 179.6 131.   95.   86.   86.   60.8 140.  141.8 140.\n",
      " 188.6  66.2  86.   46.4 113.   48.2 172.4 141.8  86.  111.2 174.2 113.\n",
      " 177.8 165.2  80.6 190.4 152.6 141.8 168.8 197.6 107.6 105.8  48.2 197.6\n",
      " 179.6  59.  190.4 138.2  82.4 127.4 143.6 154.4 179.6  93.2  78.8 127.4\n",
      " 138.2  66.2  42.8 149. ]\n",
      "(100,)\n"
     ]
    }
   ],
   "source": [
    "F=C*1.8+32\n",
    "print(F)\n",
    "print(F.shape)"
   ]
  },
  {
   "cell_type": "markdown",
   "metadata": {},
   "source": [
    "## Visualization\n",
    "    위에서 만든 Feature와 Label을 직관적으로 확인할 수 있는 선형을 그리기"
   ]
  },
  {
   "cell_type": "code",
   "execution_count": 203,
   "metadata": {},
   "outputs": [
    {
     "data": {
      "text/plain": [
       "Text(0, 0.5, 'Far            ')"
      ]
     },
     "execution_count": 203,
     "metadata": {},
     "output_type": "execute_result"
    },
    {
     "data": {
      "image/png": "[encoded data removed]",
      "text/plain": [
       "<Figure size 432x288 with 1 Axes>"
      ]
     },
     "metadata": {
      "needs_background": "light"
     },
     "output_type": "display_data"
    }
   ],
   "source": [
    "plt.scatter(C,F)\n",
    "plt.xlabel(\"Cel\")\n",
    "plt.ylabel(\"Far            \",rotation=1)"
   ]
  },
  {
   "cell_type": "code",
   "execution_count": 204,
   "metadata": {},
   "outputs": [
    {
     "name": "stdout",
     "output_type": "stream",
     "text": [
      "1.8 -0.6652961344681378\n"
     ]
    }
   ],
   "source": [
    "# Bias(편향)\n",
    "w=1.8\n",
    "b=np.random.uniform(-1,1)\n",
    "print(w,b)"
   ]
  },
  {
   "cell_type": "code",
   "execution_count": 205,
   "metadata": {},
   "outputs": [],
   "source": [
    "y_hat=w*C*b"
   ]
  },
  {
   "cell_type": "code",
   "execution_count": 206,
   "metadata": {
    "scrolled": true
   },
   "outputs": [
    {
     "data": {
      "text/plain": [
       "191.2231163280867"
      ]
     },
     "execution_count": 206,
     "metadata": {},
     "output_type": "execute_result"
    }
   ],
   "source": [
    "b=(b-(y_hat-F)).mean()\n",
    "b"
   ]
  },
  {
   "cell_type": "code",
   "execution_count": 207,
   "metadata": {
    "scrolled": true
   },
   "outputs": [
    {
     "data": {
      "text/plain": [
       "[<matplotlib.lines.Line2D at 0x1dc72f1bbc8>]"
      ]
     },
     "execution_count": 207,
     "metadata": {},
     "output_type": "execute_result"
    },
    {
     "data": {
      "image/png": "[encoded data removed]",
      "text/plain": [
       "<Figure size 432x288 with 1 Axes>"
      ]
     },
     "metadata": {
      "needs_background": "light"
     },
     "output_type": "display_data"
    }
   ],
   "source": [
    "plt.scatter(C,F)\n",
    "plt.plot(C,y_hat,c=\"r\")"
   ]
  },
  {
   "cell_type": "markdown",
   "metadata": {},
   "source": [
    "## 정규분포에 해당하는 weight, bias 값을 랜덤하게 초기화\n",
    "    실제값과 예측값 간 오차 발생\n",
    "    오차를 줄이는 방법 >> Loss Function이 0에 가까워지게 학습 진행"
   ]
  },
  {
   "cell_type": "code",
   "execution_count": 208,
   "metadata": {},
   "outputs": [],
   "source": [
    "w=np.random.uniform(low=-1,high=+1)\n",
    "b=np.random.uniform(low=-1,high=+1)"
   ]
  },
  {
   "cell_type": "code",
   "execution_count": 209,
   "metadata": {
    "scrolled": true
   },
   "outputs": [
    {
     "data": {
      "text/plain": [
       "array([-34.41063011, -28.95148625, -10.02645418,  -5.29519617,\n",
       "       -32.59091549, -21.67262776,  -8.20673956, -19.48897022,\n",
       "       -24.22022823,  -2.01970985, -34.04668719, -24.22022823,\n",
       "        -1.65576692, -23.49234238, -10.75434003, -24.94811408,\n",
       "       -35.50245889, -20.58079899, -30.77120087,  -8.57068249,\n",
       "       -14.39376928, -22.40051361, -25.67599993, -32.95485842,\n",
       "       -16.57742682,  -7.84279664, -17.66925559, -34.41063011,\n",
       "       -14.39376928, -10.39039711, -27.49571455,  -0.92788107,\n",
       "        -2.01970985, -26.40388578, -32.59091549,  -3.83942447,\n",
       "       -32.22697257,  -7.47885371, -30.77120087,  -6.38702494,\n",
       "       -20.21685606, -20.58079899, -31.86302964, -20.21685606,\n",
       "       -22.03657069, -32.59091549, -35.86640181, -33.68274427,\n",
       "       -14.39376928, -28.58754332,  -8.57068249, -30.04331502,\n",
       "       -20.21685606, -12.93799758, -11.11828296, -11.11828296,\n",
       "        -6.02308202, -22.03657069, -22.40051361, -22.03657069,\n",
       "       -31.86302964,  -7.11491079, -11.11828296,  -3.11153862,\n",
       "       -16.57742682,  -3.47548154, -28.58754332, -22.40051361,\n",
       "       -11.11828296, -16.2134839 , -28.95148625, -16.57742682,\n",
       "       -29.6793721 , -27.13177163, -10.02645418, -32.22697257,\n",
       "       -24.58417116, -22.40051361, -27.85965748, -33.68274427,\n",
       "       -15.48559805, -15.12165512,  -3.47548154, -33.68274427,\n",
       "       -30.04331502,  -5.65913909, -32.22697257, -21.67262776,\n",
       "       -10.39039711, -19.48897022, -22.76445654, -24.94811408,\n",
       "       -30.04331502, -12.57405465,  -9.66251126, -19.48897022,\n",
       "       -21.67262776,  -7.11491079,  -2.38365277, -23.85628531])"
      ]
     },
     "execution_count": 209,
     "metadata": {},
     "output_type": "execute_result"
    }
   ],
   "source": [
    "y_hat=w*C+b\n",
    "y_hat"
   ]
  },
  {
   "cell_type": "code",
   "execution_count": 210,
   "metadata": {
    "scrolled": false
   },
   "outputs": [
    {
     "data": {
      "text/plain": [
       "[<matplotlib.lines.Line2D at 0x1dc728b0048>]"
      ]
     },
     "execution_count": 210,
     "metadata": {},
     "output_type": "execute_result"
    },
    {
     "data": {
      "image/png": "[encoded data removed]",
      "text/plain": [
       "<Figure size 432x288 with 1 Axes>"
      ]
     },
     "metadata": {
      "needs_background": "light"
     },
     "output_type": "display_data"
    }
   ],
   "source": [
    "plt.scatter(C,F)\n",
    "plt.plot(C,y_hat,c=\"r\")\n"
   ]
  },
  {
   "cell_type": "code",
   "execution_count": 222,
   "metadata": {},
   "outputs": [
    {
     "name": "stdout",
     "output_type": "stream",
     "text": [
      "epoch :  0 , w :  2.3951348590687918 ,b : 0.2911103111678965 ,error : 87.28285442535726\n",
      "epoch :  10000 , w :  2.0475468344052192 ,b : 15.234259162344001 ,error : 6.316019431008215\n",
      "epoch :  20000 , w :  1.9308800414352711 ,b : 23.135815326430308 ,error : 3.339331269666626\n",
      "epoch :  30000 , w :  1.8691973512295372 ,b : 27.313432869565247 ,error : 1.7655318275031076\n",
      "epoch :  40000 , w :  1.8365852070695738 ,b : 29.522173524479857 ,error : 0.9334511559967426\n",
      "epoch :  50000 , w :  1.8193428990061145 ,b : 30.689952822201665 ,error : 0.4935232812335788\n",
      "epoch :  60000 , w :  1.810226749332026 ,b : 31.307367313646388 ,error : 0.26092980608021954\n",
      "epoch :  70000 , w :  1.8054069662395003 ,b : 31.633799418573762 ,error : 0.1379557283111378\n",
      "epoch :  75049 , w :  1.8039195221071773 ,b : 31.734540366818706 ,error : 0.09999804750957501\n"
     ]
    }
   ],
   "source": [
    "num_epoch=100000  # 학습 횟수\n",
    "learning_rate=0.0003   # 학습속도 : 학습속도와 시간 반비례하지만, 더 꼼꼼하게 최소값 찾을 수 있어\n",
    "\n",
    "w=np.random.uniform(-1,1)\n",
    "b=np.random.uniform(-1,1)\n",
    "\n",
    "for epoch in range(num_epoch):\n",
    "    y_hat=w*C+b\n",
    "\n",
    "    # 오차를 구한다.\n",
    "    error=np.abs(y_hat-F).mean()\n",
    "    if error<0.1:\n",
    "        break\n",
    "    # w,b값을 보정해 나간다... 미분..편미분..\n",
    "    # learning_rate*(X*(y_hat-y)).mean()\n",
    "    w-= learning_rate*(C*(y_hat-F)).mean()\n",
    "    b-= learning_rate*((y_hat-F).mean())\n",
    "    \n",
    "    # 1만회마다 epoch, w,b,loss를 출력\n",
    "    if epoch%10000==0:\n",
    "        print(\"epoch : \",epoch,\", w : \",w,\",b :\",b,\",error :\",error)\n",
    "print(\"epoch : \",epoch,\", w : \",w,\",b :\",b,\",error :\",error)"
   ]
  },
  {
   "cell_type": "markdown",
   "metadata": {},
   "source": [
    "## Visulization"
   ]
  },
  {
   "cell_type": "code",
   "execution_count": 225,
   "metadata": {},
   "outputs": [
    {
     "data": {
      "text/html": [
       "<div>\n",
       "<style scoped>\n",
       "    .dataframe tbody tr th:only-of-type {\n",
       "        vertical-align: middle;\n",
       "    }\n",
       "\n",
       "    .dataframe tbody tr th {\n",
       "        vertical-align: top;\n",
       "    }\n",
       "\n",
       "    .dataframe thead th {\n",
       "        text-align: right;\n",
       "    }\n",
       "</style>\n",
       "<table border=\"1\" class=\"dataframe\">\n",
       "  <thead>\n",
       "    <tr style=\"text-align: right;\">\n",
       "      <th></th>\n",
       "      <th>C</th>\n",
       "      <th>F</th>\n",
       "      <th>F(predict)</th>\n",
       "    </tr>\n",
       "  </thead>\n",
       "  <tbody>\n",
       "    <tr>\n",
       "      <th>0</th>\n",
       "      <td>94</td>\n",
       "      <td>201.2</td>\n",
       "      <td>201.302975</td>\n",
       "    </tr>\n",
       "    <tr>\n",
       "      <th>1</th>\n",
       "      <td>79</td>\n",
       "      <td>174.2</td>\n",
       "      <td>174.244183</td>\n",
       "    </tr>\n",
       "    <tr>\n",
       "      <th>2</th>\n",
       "      <td>27</td>\n",
       "      <td>80.6</td>\n",
       "      <td>80.440367</td>\n",
       "    </tr>\n",
       "    <tr>\n",
       "      <th>3</th>\n",
       "      <td>14</td>\n",
       "      <td>57.2</td>\n",
       "      <td>56.989414</td>\n",
       "    </tr>\n",
       "    <tr>\n",
       "      <th>4</th>\n",
       "      <td>89</td>\n",
       "      <td>192.2</td>\n",
       "      <td>192.283378</td>\n",
       "    </tr>\n",
       "    <tr>\n",
       "      <th>5</th>\n",
       "      <td>59</td>\n",
       "      <td>138.2</td>\n",
       "      <td>138.165792</td>\n",
       "    </tr>\n",
       "    <tr>\n",
       "      <th>6</th>\n",
       "      <td>22</td>\n",
       "      <td>71.6</td>\n",
       "      <td>71.420770</td>\n",
       "    </tr>\n",
       "    <tr>\n",
       "      <th>7</th>\n",
       "      <td>53</td>\n",
       "      <td>127.4</td>\n",
       "      <td>127.342275</td>\n",
       "    </tr>\n",
       "    <tr>\n",
       "      <th>8</th>\n",
       "      <td>66</td>\n",
       "      <td>150.8</td>\n",
       "      <td>150.793229</td>\n",
       "    </tr>\n",
       "    <tr>\n",
       "      <th>9</th>\n",
       "      <td>5</td>\n",
       "      <td>41.0</td>\n",
       "      <td>40.754138</td>\n",
       "    </tr>\n",
       "  </tbody>\n",
       "</table>\n",
       "</div>"
      ],
      "text/plain": [
       "    C      F  F(predict)\n",
       "0  94  201.2  201.302975\n",
       "1  79  174.2  174.244183\n",
       "2  27   80.6   80.440367\n",
       "3  14   57.2   56.989414\n",
       "4  89  192.2  192.283378\n",
       "5  59  138.2  138.165792\n",
       "6  22   71.6   71.420770\n",
       "7  53  127.4  127.342275\n",
       "8  66  150.8  150.793229\n",
       "9   5   41.0   40.754138"
      ]
     },
     "execution_count": 225,
     "metadata": {},
     "output_type": "execute_result"
    }
   ],
   "source": [
    "result=pd.DataFrame({\"C\":C,\"F\":F,\"F(predict)\":y_hat})\n",
    "result.head(10)"
   ]
  },
  {
   "cell_type": "code",
   "execution_count": 229,
   "metadata": {},
   "outputs": [
    {
     "data": {
      "text/plain": [
       "[<matplotlib.lines.Line2D at 0x1dc7308d348>]"
      ]
     },
     "execution_count": 229,
     "metadata": {},
     "output_type": "execute_result"
    },
    {
     "data": {
      "image/png": "[encoded data removed]",
      "text/plain": [
       "<Figure size 432x288 with 1 Axes>"
      ]
     },
     "metadata": {
      "needs_background": "light"
     },
     "output_type": "display_data"
    }
   ],
   "source": [
    "plt.scatter(C,F)\n",
    "plt.plot(C,y_hat,color=\"red\")"
   ]
  },
  {
   "cell_type": "code",
   "execution_count": null,
   "metadata": {},
   "outputs": [],
   "source": []
  },
  {
   "cell_type": "code",
   "execution_count": null,
   "metadata": {},
   "outputs": [],
   "source": []
  },
  {
   "cell_type": "code",
   "execution_count": null,
   "metadata": {},
   "outputs": [],
   "source": []
  },
  {
   "cell_type": "markdown",
   "metadata": {},
   "source": [
    "### Gradient Descent"
   ]
  },
  {
   "cell_type": "markdown",
   "metadata": {},
   "source": [
    "### 가중치(Weight, W), 편향(Bias, B) 찾기\n",
    "#### 이제 경사하강법(Gradient Descent)을 사용하여 섭씨온도를 화씨온도로 변환해줄 주 있는 공식을 찾아보겠다.\n",
    "공식의 세부내용은 모른다치고, 두 변수(X,y)가 선형(Linear)과 관계있음을 가정(y=X * w + b)하여 가중치(weight)와 편차(bias)를 정의해 둔다. 그리고 경사하강법을 이용해서 선형회귀를 학습시킨다.\n",
    "학습이 완료되면, 얻어진 최적의 가중치와 편차로 섭씨온도를 화씨온도로 변환해주는 공식을 만들어 줄수 있다.\n",
    "학습은 모든 epoch이 끝날 때까지 반복할 수도 있지만, 여기선 오차(error)가 0.1 이하가 되면 학습을 종료하도록 한다."
   ]
  },
  {
   "cell_type": "markdown",
   "metadata": {},
   "source": [
    "### Predict"
   ]
  },
  {
   "cell_type": "code",
   "execution_count": null,
   "metadata": {},
   "outputs": [],
   "source": []
  },
  {
   "cell_type": "markdown",
   "metadata": {},
   "source": [
    "#### 선형 회귀의 학습이 끝났으면, 이제 이 머신러닝 알고리즘을 활용하여 변환공식을 완성하고, 주어진 섭씨온도를 화씨온도로 변환(혹은 섭씨온도로 화씨온도를 예측)할 수 있습니다. 앞서 만들어준 데이터를 그대로 활용하여 주어진 섭씨온도(C)로 화씨온도를 예측해보겠습니다."
   ]
  },
  {
   "cell_type": "code",
   "execution_count": null,
   "metadata": {},
   "outputs": [],
   "source": []
  }
 ],
 "metadata": {
  "kernelspec": {
   "display_name": "Python 3",
   "language": "python",
   "name": "python3"
  },
  "language_info": {
   "codemirror_mode": {
    "name": "ipython",
    "version": 3
   },
   "file_extension": ".py",
   "mimetype": "text/x-python",
   "name": "python",
   "nbconvert_exporter": "python",
   "pygments_lexer": "ipython3",
   "version": "3.7.7"
  }
 },
 "nbformat": 4,
 "nbformat_minor": 4
}
