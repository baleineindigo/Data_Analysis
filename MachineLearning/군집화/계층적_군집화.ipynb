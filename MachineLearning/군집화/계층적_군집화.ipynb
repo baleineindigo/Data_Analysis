{
  "nbformat": 4,
  "nbformat_minor": 0,
  "metadata": {
    "colab": {
      "name": "계층적 군집화.ipynb",
      "private_outputs": true,
      "provenance": [],
      "collapsed_sections": []
    },
    "kernelspec": {
      "name": "python3",
      "display_name": "Python 3"
    }
  },
  "cells": [
    {
      "cell_type": "code",
      "metadata": {
        "id": "R9Ex-geDlSBU"
      },
      "source": [
        "import numpy as np\r\n",
        "import pandas as pd\r\n",
        "import matplotlib.pyplot as plt\r\n",
        "from sklearn.datasets import load_digits\r\n"
      ],
      "execution_count": null,
      "outputs": []
    },
    {
      "cell_type": "code",
      "metadata": {
        "id": "XkEqSDKqmL0J"
      },
      "source": [
        "digits=load_digits()\r\n",
        "n_image=20\r\n",
        "np.random.seed(0)\r\n",
        "idx=np.random.choice(range(len(digits.images)),n_image)\r\n",
        "X=digits.data[idx]\r\n",
        "images=digits.images[idx]\r\n",
        "\r\n",
        "plt.figure(figsize=(12,1))\r\n",
        "for i in range(n_image):\r\n",
        "    plt.subplot(1,n_image,i+1)\r\n",
        "    plt.imshow(images[i],cmap=plt.cm.bone)\r\n",
        "    plt.grid(False)\r\n",
        "    plt.title(i)\r\n"
      ],
      "execution_count": null,
      "outputs": []
    },
    {
      "cell_type": "code",
      "metadata": {
        "id": "iupqIvromdEi"
      },
      "source": [
        "from scipy.cluster.hierarchy import linkage,dendrogram\r\n",
        "Z=linkage(X,\"ward\")\r\n",
        "Z"
      ],
      "execution_count": null,
      "outputs": []
    },
    {
      "cell_type": "code",
      "metadata": {
        "id": "6V1csKfkm1D5"
      },
      "source": [
        "from matplotlib.offsetbox import OffsetImage, AnnotationBbox\r\n",
        "\r\n",
        "plt.figure(figsize=(10, 4))\r\n",
        "ax = plt.subplot()\r\n",
        "\r\n",
        "ddata = dendrogram(Z)\r\n",
        "\r\n",
        "dcoord=np.array(ddata[\"dcoord\"])\r\n",
        "icoord=np.array(ddata[\"icoord\"])\r\n",
        "leaves=np.array(ddata[\"leaves\"])\r\n",
        "idx=np.argsort(dcoord[:,2])\r\n",
        "dcoord=dcoord[idx,:]\r\n",
        "icoord=icoord[idx,:]\r\n",
        "idx=np.argsort(Z[:,:2].ravel())\r\n",
        "label_pos=icoord[:,1:3].ravel()[idx][:20]\r\n",
        "\r\n",
        "for i in range(20):\r\n",
        "    imagebox = OffsetImage(images[i], cmap=plt.cm.bone_r, interpolation=\"bilinear\", zoom=3)\r\n",
        "    ab = AnnotationBbox(imagebox, (label_pos[i], 0),  box_alignment=(0.5, -0.1), \r\n",
        "                        bboxprops={\"edgecolor\" : \"none\"})\r\n",
        "    ax.add_artist(ab)\r\n",
        "\r\n",
        "plt.show()"
      ],
      "execution_count": null,
      "outputs": []
    },
    {
      "cell_type": "code",
      "metadata": {
        "id": "-RfeIFUJoAA2"
      },
      "source": [
        "OffsetImage?"
      ],
      "execution_count": null,
      "outputs": []
    },
    {
      "cell_type": "code",
      "metadata": {
        "id": "VZ0FrYV7oF-I"
      },
      "source": [
        ""
      ],
      "execution_count": null,
      "outputs": []
    }
  ]
}