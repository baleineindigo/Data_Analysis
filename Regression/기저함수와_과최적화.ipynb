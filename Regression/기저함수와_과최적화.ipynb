{
  "nbformat": 4,
  "nbformat_minor": 0,
  "metadata": {
    "colab": {
      "name": "기저함수와 과최적화",
      "private_outputs": true,
      "provenance": [],
      "collapsed_sections": [],
      "authorship_tag": "ABX9TyPI1aF1lckLR1E8oZ592ktO",
      "include_colab_link": true
    },
    "kernelspec": {
      "name": "python3",
      "display_name": "Python 3"
    },
    "accelerator": "GPU"
  },
  "cells": [
    {
      "cell_type": "markdown",
      "metadata": {
        "id": "view-in-github",
        "colab_type": "text"
      },
      "source": [
        "<a href=\"https://colab.research.google.com/github/baleineindigo/Statistic/blob/main/%EA%B8%B0%EC%A0%80%ED%95%A8%EC%88%98%EC%99%80_%EA%B3%BC%EC%B5%9C%EC%A0%81%ED%99%94.ipynb\" target=\"_parent\"><img src=\"https://colab.research.google.com/assets/colab-badge.svg\" alt=\"Open In Colab\"/></a>"
      ]
    },
    {
      "cell_type": "code",
      "metadata": {
        "id": "zkOfzCCN5HoU"
      },
      "source": [
        "import torch\n",
        "import numpy as np\n",
        "import pandas as pd\n",
        "import matplotlib.pyplot as plt\n",
        "import seaborn as sns\n",
        "import sklearn\n",
        "import statsmodels.api as sm\n",
        "import matplotlib.font_manager as fm\n",
        "import scipy as sp\n",
        "from statsmodels.datasets.longley import load_pandas\n",
        "\n",
        "\n",
        "# # GPU 설정 : 런타임 > 런타임 유형 변경 > GPU\n",
        "# # GPU 사용 가능한지 확인\n",
        "device=torch.device(\"cuda\" if torch.cuda.is_available() else \"cpu\")\n",
        "device"
      ],
      "execution_count": null,
      "outputs": []
    },
    {
      "cell_type": "markdown",
      "metadata": {
        "id": "MZdLbBEZVjVk"
      },
      "source": [
        "## 기저함수 모형\n",
        "데이터가 비선형일  때 선형회귀모형은 적합하지 않음.\n",
        "이 때 독립변수 벡터 x를 입력으로 가지는 여러개의 비선형 함수로 원래의 입력 변수 x를 대체할 변수로 사용하고, 새로운 모형을 도입하면 성능을 개선할 수 있다.\n",
        "\n",
        "![image.png](data:image/png;base64,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)\n",
        "\n",
        "이 새로운 모형의 모수의 갯수는 원래의 독립변수의 갯수가 아니라 우리가 생각해 낸 비선형 함수의 갯수에 의존한다.\n",
        "\n",
        "하지만 이러한 비선형 모형을 만들기 위해서는 데이터에 적합한 비선형 함수를 충분히 많이 생각해 낼 수 있어야 한다. 이러한 고충을 덜기 위해 만들어진 것이 기저함수(basis function) 모형이다. 기저함수는 특정한 규칙에 따라 만들어지는 함수의 열(sequence)로서 충분히 많은 수의 함수가 있으면 어떤 모양의 함수라도 비슷하게 흉내낼 수 있는 것을 말한다.\n"
      ]
    },
    {
      "cell_type": "code",
      "metadata": {
        "id": "qEpirIJpw3vl"
      },
      "source": [
        "# 비선형 함수\n",
        "def make_nonlinear(seed=0):\n",
        "    np.random.seed(seed)\n",
        "    n_samples = 30\n",
        "    X = np.sort(np.random.rand(n_samples))\n",
        "    Y = np.sin(2 * np.pi * X) + np.random.randn(n_samples) * 0.1\n",
        "    X = X[:, np.newaxis]\n",
        "    return (X, Y)\n",
        "# print(X,Y)\n",
        "X, Y = make_nonlinear()\n",
        "plt.scatter(X,Y)\n",
        "plt.xlabel(\"x\")\n",
        "plt.ylabel(\"y\")\n",
        "plt.title(\"비선형 데이터의 예\")\n",
        "plt.show()"
      ],
      "execution_count": null,
      "outputs": []
    },
    {
      "cell_type": "markdown",
      "metadata": {
        "id": "j7J_O0D5qD6q"
      },
      "source": [
        "### 다항 기저함수\n",
        "\n",
        "기저함수 중 가장 간단한 것이 다항 기저함수(polynomial basis function)이다.\n",
        "\n",
        "ϕ0(x)=1,ϕ1(x)=x,ϕ2(x)=x2,ϕ3(x)=x3,⋯\n",
        "다항회귀(polynomial regression)는 다항 기저함수를 사용하는 기저함수 모형이다. 따라서 종속 변수와 독립 변수의 관계는 다음과 같이 표현할 수 있다.\n",
        "\n",
        "y=w0+w1x+w2x2+…+wMxM\n",
        "기저함수는 사람이 하나씩 생각해내는 것이 아니라 미리 만들어진 규칙에 의해 자동으로 생성되므로 비선형 함수를 만들기 위해 고민할 필요가 없다."
      ]
    },
    {
      "cell_type": "code",
      "metadata": {
        "id": "qQkG4nZ0DfWJ"
      },
      "source": [
        "phi0=np.polynomial.Polynomial.basis(1)\n",
        "phi1=np.polynomial.Polynomial.basis(1)\n",
        "phi2=np.polynomial.Polynomial.basis(2)\n",
        "phi3=np.polynomial.Polynomial.basis(3)\n",
        "\n",
        "x=np.linspace(-1,1,100)\n",
        "print(x,len(x))\n",
        "\n",
        "plt.plot(x,phi0(x),label=\"d=0\")\n",
        "plt.plot(x,phi1(x),label=\"d=1\")\n",
        "plt.plot(x,phi2(x),label=\"d=2\")\n",
        "plt.plot(x,phi3(x),label=\"d=3\")\n",
        "plt.legend()\n",
        "plt.title(\"기본 다항 기저함수\")\n",
        "plt.show()"
      ],
      "execution_count": null,
      "outputs": []
    },
    {
      "cell_type": "code",
      "metadata": {
        "id": "A4SZKUEnD0z-"
      },
      "source": [
        "'''\n",
        "기저함수중에서도 서로 다른 두 기저함수의 곱의 정적분 값이 0이 되면 \n",
        "직교기저함수(orthogonal basis function)라고 한다. \n",
        "체비세프 다항식은 직교기저함수의 한 예다.\n",
        "'''\n",
        "phi0=np.polynomial.chebyshev.Chebyshev.basis(0)\n",
        "phi1=np.polynomial.chebyshev.Chebyshev.basis(1)\n",
        "phi2=np.polynomial.chebyshev.Chebyshev.basis(2)\n",
        "phi3=np.polynomial.chebyshev.Chebyshev.basis(3)\n",
        "\n",
        "x=np.linspace(-1,1,100)\n",
        "\n",
        "\n",
        "plt.plot(x,phi0(x),label=\"d=0\")\n",
        "plt.plot(x,phi1(x),label=\"d=1\")\n",
        "plt.plot(x,phi2(x),label=\"d=2\")\n",
        "plt.plot(x,phi3(x),label=\"d=3\")\n",
        "plt.legend()\n",
        "plt.title(\"체비세프 다항 기저함수\")\n",
        "plt.show()"
      ],
      "execution_count": null,
      "outputs": []
    },
    {
      "cell_type": "markdown",
      "metadata": {
        "id": "os4pOIY8wBbC"
      },
      "source": [
        "### StatsModels를 이용한 다항회귀\n",
        "StatsModels에서는 OLS 클래스의 from_formula 메서드를 사용하여 다항회귀를 할 수 있다.\n"
      ]
    },
    {
      "cell_type": "code",
      "metadata": {
        "id": "-C80T6Vgv-IT"
      },
      "source": [
        "df_X=pd.DataFrame(X,columns=[\"x\"])\n",
        "df_C=sm.add_constant(df_X)\n",
        "df_Y=pd.DataFrame(Y,columns=[\"y\"])\n",
        "df=pd.concat([df_X,df_Y],axis=1)\n",
        "\n",
        "# OLS 모델링\n",
        "model=sm.OLS.from_formula(\"y ~ x\",data=df)\n",
        "result=model.fit()\n",
        "print(result.summary())\n"
      ],
      "execution_count": null,
      "outputs": []
    },
    {
      "cell_type": "code",
      "metadata": {
        "id": "foKXMSG2wxlv"
      },
      "source": [
        "print(sm.OLS.from_formula(\"y ~ x + I(x**2)\", data=df).fit().summary())"
      ],
      "execution_count": null,
      "outputs": []
    },
    {
      "cell_type": "code",
      "metadata": {
        "id": "h9bxvWx6xNHY"
      },
      "source": [
        "print(sm.OLS.from_formula(\"y ~ x + I(x**2) + I(x**3)\", data=df).fit().summary())"
      ],
      "execution_count": null,
      "outputs": []
    },
    {
      "cell_type": "code",
      "metadata": {
        "id": "y_mc1SZpxP5I"
      },
      "source": [
        "# 회귀 분석 결과 >> 그래프\n",
        "def polyreg(degree,seed=0,ax=None):\n",
        "    X,Y=make_nonlinear(seed)\n",
        "\n",
        "    df_X=pd.DataFrame(X,columns=[\"x\"])\n",
        "    df_C=sm.add_constant(df_X)\n",
        "    df_Y=pd.DataFrame(Y,columns=[\"y\"])\n",
        "    df=pd.concat([df_X,df_Y],axis=1)\n",
        "\n",
        "    # OLS 모델링\n",
        "    model_str=\"y ~ \"\n",
        "    for i in range(degree):\n",
        "        if i ==0:\n",
        "            prefix=\"\"\n",
        "        else:\n",
        "            prefix=\" + \"\n",
        "        model_str+=prefix+\"I(x**{})\".format(i+1)\n",
        "    model=sm.OLS.from_formula(model_str,data=df)\n",
        "    result=model.fit()\n",
        "\n",
        "    if ax:\n",
        "        ax.scatter(X,Y)\n",
        "        xx=np.linspace(0,1,1000)\n",
        "        df_X1=pd.DataFrame(xx[:,np.newaxis],columns=[\"x\"])\n",
        "        ax.plot(xx,result.predict(df_X1))\n",
        "        ax.set_ylim(-2,2)\n",
        "        ax.set_title(\"degree = {}, seed = {}\".format(degree,seed))\n",
        "        xlabel=\"\\n\".join(str(result.params).split(\"\\n\")[:-1])\n",
        "        font = {'family': 'NanumGothicCoding', 'color':  'black', 'size': 10}\n",
        "        ax.set_xlabel(xlabel, fontdict=font)\n",
        "   \n",
        "    return result"
      ],
      "execution_count": null,
      "outputs": []
    },
    {
      "cell_type": "code",
      "metadata": {
        "id": "iMKIBLSJ0uqI"
      },
      "source": [
        "ax1 = plt.subplot(131)\n",
        "polyreg(1, ax=ax1)\n",
        "ax2 = plt.subplot(132)\n",
        "polyreg(2, ax=ax2)\n",
        "ax3 = plt.subplot(133)\n",
        "polyreg(3, ax=ax3)\n",
        "plt.tight_layout()\n",
        "plt.show()"
      ],
      "execution_count": null,
      "outputs": []
    },
    {
      "cell_type": "markdown",
      "metadata": {
        "id": "-UvQv9uI13Zo"
      },
      "source": [
        "### 과최적화\n",
        "모형을 특정 샘플 데이터에 대해 과도하게 최적화하는 것을 과최적화(overfitting)이라고 한다.\n",
        "\n",
        "과최적화는\n",
        "\n",
        "1. 독립 변수 데이터 갯수에 비해 모형 모수의 수가 과도하게 크거나\n",
        "\n",
        "2. 독립 변수 데이터가 서로 독립이 아닌 경우에 발생한다.\n",
        "\n",
        "이러한 상황에서는 같은 조건에 대해 답이 복수개 존재할 수 있기 때문이다.\n",
        "\n",
        "과최적화가 문제가 되는 이유는 다음과 같다.\n",
        "\n",
        "1. 트레이닝에 사용되지 않은 새로운 독립 변수 값을 입력하면 오차가 커진다. (cross-validation 오차)\n",
        "\n",
        "2. 샘플이 조금만 변화해도 가중치 계수의 값이 크게 달라진다. (추정의 부정확함)\n",
        "\n",
        "다음 그림에서 과최적화가 발생하면 주어진 데이터가 아닌 다른 새로운 x 데이터가 들어올 때 오차가 커지는 것을 볼 수 있다."
      ]
    },
    {
      "cell_type": "code",
      "metadata": {
        "id": "bmLkgwGq0xFg"
      },
      "source": [
        "plt.figure(figsize=(8, 8))\n",
        "ax1 = plt.subplot(131)\n",
        "polyreg(10, ax=ax1)\n",
        "ax2 = plt.subplot(132)\n",
        "polyreg(20, ax=ax2)\n",
        "ax3 = plt.subplot(133)\n",
        "polyreg(30, ax=ax3)\n",
        "plt.tight_layout()\n",
        "plt.show()\n"
      ],
      "execution_count": null,
      "outputs": []
    },
    {
      "cell_type": "code",
      "metadata": {
        "id": "v955_t5D2ybY"
      },
      "source": [
        "result_1=polyreg(10, ax=ax1)\n",
        "print(result_1.summary2())\n",
        "\n",
        "result_2=polyreg(20, ax=ax1)\n",
        "print(result_2.summary2())\n",
        "\n",
        "result_3=polyreg(30, ax=ax1)\n",
        "print(result_3.summary2())\n",
        "\n"
      ],
      "execution_count": null,
      "outputs": []
    },
    {
      "cell_type": "code",
      "metadata": {
        "id": "7AYI4BKp2AnI"
      },
      "source": [
        "# 또한 데이터가 조금만 달라져도 가중치 값이 크게 달라지는 것도 확인할 수 있다.\n",
        "plt.figure(figsize=(8, 8))\n",
        "ax1 = plt.subplot(131)\n",
        "polyreg(20, seed=2, ax=ax1)\n",
        "ax2 = plt.subplot(132)\n",
        "polyreg(20, seed=4, ax=ax2)\n",
        "ax3 = plt.subplot(133)\n",
        "polyreg(20, seed=6, ax=ax3)\n",
        "plt.tight_layout()\n",
        "plt.show()"
      ],
      "execution_count": null,
      "outputs": []
    },
    {
      "cell_type": "code",
      "metadata": {
        "id": "_2eHLEqn2Sr5"
      },
      "source": [
        "result_1=polyreg(10, ax=ax1)\n",
        "print(result_1.summary2())\n",
        "\n",
        "result_2=polyreg(20, ax=ax1)\n",
        "print(result_2.summary2())\n",
        "\n",
        "result_3=polyreg(30, ax=ax1)\n",
        "print(result_3.summary2())\n",
        "\n"
      ],
      "execution_count": null,
      "outputs": []
    },
    {
      "cell_type": "code",
      "metadata": {
        "id": "822xVNZy3iSY"
      },
      "source": [
        ""
      ],
      "execution_count": null,
      "outputs": []
    }
  ]
}