{
  "nbformat": 4,
  "nbformat_minor": 0,
  "metadata": {
    "colab": {
      "name": "DB스캔 군집화.ipynb",
      "private_outputs": true,
      "provenance": [],
      "collapsed_sections": []
    },
    "kernelspec": {
      "name": "python3",
      "display_name": "Python 3"
    }
  },
  "cells": [
    {
      "cell_type": "code",
      "metadata": {
        "id": "1JIcVCgYn370"
      },
      "source": [
        "import pandas as pd\r\n",
        "import numpy as np\r\n",
        "import matplotlib.pyplot as plt\r\n",
        "\r\n",
        "from sklearn.datasets import make_circles,make_moons\r\n",
        "from sklearn.cluster import DBSCAN\r\n",
        "import seaborn as sns"
      ],
      "execution_count": null,
      "outputs": []
    },
    {
      "cell_type": "code",
      "metadata": {
        "id": "Eg98nI17n77g"
      },
      "source": [
        "# iris 데이터셋 \r\n",
        "from sklearn import datasets\r\n",
        "iris=datasets.load_iris()\r\n",
        "labels=pd.DataFrame(iris.target)\r\n",
        "labels.columns=[\"labels\"]\r\n",
        "data=pd.DataFrame(iris.data)\r\n",
        "data.columns=iris.feature_names\r\n",
        "\r\n",
        "data=pd.concat([data,labels],axis=1)\r\n",
        "data.head()\r\n"
      ],
      "execution_count": null,
      "outputs": []
    },
    {
      "cell_type": "code",
      "metadata": {
        "id": "xNt-znZv6Yof"
      },
      "source": [
        "# 모델 생성\r\n",
        "model=DBSCAN(eps=0.3,min_samples=6)\r\n",
        "predict=pd.DataFrame(model.fit_predict(data.iloc[:,:-1]))\r\n",
        "data[\"predict\"]=predict\r\n",
        "data.head()"
      ],
      "execution_count": null,
      "outputs": []
    },
    {
      "cell_type": "code",
      "metadata": {
        "id": "mvON1Io46ZCU"
      },
      "source": [
        "# 시각화\r\n",
        "sns.pairplot(data,hue=\"predict\")\r\n",
        "plt.show()"
      ],
      "execution_count": null,
      "outputs": []
    },
    {
      "cell_type": "code",
      "metadata": {
        "id": "TzIhOQ5HGVB3"
      },
      "source": [
        "# 3차원 시각화\r\n",
        "from mpl_toolkits.mplot3d import Axes3D\r\n",
        "\r\n",
        "# scatter plot \r\n",
        "fig=plt.figure(figsize=(6,6))\r\n",
        "ax=Axes3D(fig,rect=[0,0,.95,1],elev=48,azim=134)\r\n",
        "ax.scatter(data[\"sepal length (cm)\"],data[\"sepal width (cm)\"],\r\n",
        "           data[\"petal length (cm)\"],c=data[\"predict\"],alpha=0.5)\r\n",
        "ax.set_xlabel('Sepal lenth')\r\n",
        "ax.set_ylabel('Sepal width')\r\n",
        "ax.set_zlabel('Petal length')\r\n",
        "plt.show()\r\n",
        "\r\n",
        "\t\t"
      ],
      "execution_count": null,
      "outputs": []
    },
    {
      "cell_type": "code",
      "metadata": {
        "id": "u7DFyhNkHwU_"
      },
      "source": [
        "'''\r\n",
        "Axes3D?\r\n",
        "Parameters\r\n",
        "----------\r\n",
        "fig : Figure\r\n",
        "    The parent figure.\r\n",
        "rect : (float, float, float, float)\r\n",
        "    The ``(left, bottom, width, height)`` axes position.\r\n",
        "azim : float, optional \r\n",
        "    Azimuthal viewing angle, defaults to -60.\r\n",
        "elev : float, optional \r\n",
        "    Elevation viewing angle, defaults to 30.\r\n",
        "zscale : {'function', 'functionlog', 'linear', 'log', 'logit', 'symlog'}, optional\r\n",
        "    The z scale.  Note that currently, only a linear scale is supported.\r\n",
        "sharez : Axes3D, optional\r\n",
        "    Other axes to share z-limits with.\r\n",
        "proj_type : {'persp', 'ortho'}\r\n",
        "    The projection type, default 'persp'.\r\n",
        "'''"
      ],
      "execution_count": null,
      "outputs": []
    },
    {
      "cell_type": "code",
      "metadata": {
        "id": "w-9A2eveIVkE"
      },
      "source": [
        "cross_tab=pd.crosstab(data['labels'],data[\"predict\"])\r\n",
        "cross_tab"
      ],
      "execution_count": null,
      "outputs": []
    },
    {
      "cell_type": "code",
      "metadata": {
        "id": "L4u914OuIz1B"
      },
      "source": [
        "# standarize value\r\n",
        "from sklearn.pipeline import make_pipeline\r\n",
        "from sklearn.preprocessing import StandardScaler\r\n",
        "\r\n",
        "features=pd.concat([data[\"sepal length (cm)\"],data[\"sepal width (cm)\"],\r\n",
        "                    data[\"petal length (cm)\"],data[\"petal width (cm)\"]],\r\n",
        "                   axis=1)\r\n",
        "scaler=StandardScaler()\r\n",
        "model=model=DBSCAN(min_samples=6)\r\n",
        "pipeline=make_pipeline(scaler,model)\r\n",
        "predict=pd.DataFrame(pipeline.fit_predict(features))\r\n",
        "data[\"predict\"]=predict\r\n",
        "\r\n",
        "# Cross Tab\r\n",
        "cross_tab=pd.crosstab(data[\"labels\"],data[\"predict\"])\r\n",
        "cross_tab\r\n"
      ],
      "execution_count": null,
      "outputs": []
    },
    {
      "cell_type": "code",
      "metadata": {
        "id": "-cvQc-RLRb9B"
      },
      "source": [
        ""
      ],
      "execution_count": null,
      "outputs": []
    }
  ]
}