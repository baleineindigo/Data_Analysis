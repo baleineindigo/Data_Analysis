{
  "nbformat": 4,
  "nbformat_minor": 0,
  "metadata": {
    "colab": {
      "name": "모형최적화.ipynb",
      "private_outputs": true,
      "provenance": [],
      "collapsed_sections": [],
      "authorship_tag": "ABX9TyNaBk3zM23vBd8lhK3qfeP3",
      "include_colab_link": true
    },
    "kernelspec": {
      "name": "python3",
      "display_name": "Python 3"
    },
    "accelerator": "GPU"
  },
  "cells": [
    {
      "cell_type": "markdown",
      "metadata": {
        "id": "view-in-github",
        "colab_type": "text"
      },
      "source": [
        "<a href=\"https://colab.research.google.com/github/baleineindigo/Data_Analysis/blob/master/%EB%AA%A8%ED%98%95%EC%B5%9C%EC%A0%81%ED%99%94.ipynb\" target=\"_parent\"><img src=\"https://colab.research.google.com/assets/colab-badge.svg\" alt=\"Open In Colab\"/></a>"
      ]
    },
    {
      "cell_type": "code",
      "metadata": {
        "id": "Cx4B60odETlM"
      },
      "source": [
        "import numpy as np\r\n",
        "import pandas as pd\r\n",
        "import matplotlib.pyplot as plt\r\n",
        "from sklearn.svm import SVC\r\n",
        "from sklearn.datasets import load_digits\r\n",
        "from sklearn.model_selection import validation_curve\r\n",
        "import torch\r\n",
        "\r\n",
        "device=torch.device(\"cuda\" if torch.cuda.is_available() else \"cpu\")\r\n",
        "device"
      ],
      "execution_count": null,
      "outputs": []
    },
    {
      "cell_type": "markdown",
      "metadata": {
        "id": "y57OX_I08VSF"
      },
      "source": [
        "## Scikit-Learn 의 모형 하이퍼 파라미터 튜닝 도구¶\r\n",
        "Scikit-Learn에서는 다음과 같은 모형 최적화 도구를 지원한다.\r\n",
        "\r\n",
        "- validation_curve : 단일 하이퍼 파라미터 최적화\r\n",
        "\r\n",
        "- GridSearchCV : 그리드를 사용한 복수 하이퍼 파라미터 최적화\r\n",
        "\r\n",
        "- ParameterGrid : 복수 파라미터 최적화용 그리드\r\n",
        "\r\n"
      ]
    },
    {
      "cell_type": "markdown",
      "metadata": {
        "id": "ps79fNRy8jF4"
      },
      "source": [
        "### validation_curve \r\n",
        "최적화할 파라미터 이름과 범위, 그리고 성능 기준을 param_name, param_range, scoring 인수로 받아 파라미터 범위의 모든 경우에 대해 성능 기준을 계산한다."
      ]
    },
    {
      "cell_type": "code",
      "metadata": {
        "id": "obMXanS98gFR"
      },
      "source": [
        "# 데이터 셋\r\n",
        "digits=load_digits()\r\n",
        "X,y=digits.data,digits.target\r\n",
        "\r\n",
        "param_range=np.logspace(-6,-1,10)\r\n",
        "\r\n",
        "# train, test 셋\r\n",
        "%time\r\n",
        "train_scores,test_scores=validation_curve(SVC(),X,y,\r\n",
        "                                          param_name=\"gamma\",param_range=param_range,\r\n",
        "                                          cv=10,scoring=\"accuracy\",n_jobs=1)\r\n"
      ],
      "execution_count": null,
      "outputs": []
    },
    {
      "cell_type": "code",
      "metadata": {
        "id": "e2NFmFVg85Fu"
      },
      "source": [
        "#  평균과 표준 편차 구하기\r\n",
        "train_scores_mean=np.mean(train_scores,axis=1)\r\n",
        "train_scores_std=np.std(train_scores,axis=1)\r\n",
        "test_scores_mean=np.mean(test_scores,axis=1)\r\n",
        "test_scores_std=np.std(test_scores,axis=1)"
      ],
      "execution_count": null,
      "outputs": []
    },
    {
      "cell_type": "code",
      "metadata": {
        "id": "foGZyj7R9Omi"
      },
      "source": [
        "#### 시각화\r\n",
        "plt.rcParams[\"font.family\"] = 'DejaVu Sans'\r\n",
        "plt.figure(figsize=(10,7))\r\n",
        "\r\n",
        "# Training Score의 평균과 std 선\r\n",
        "plt.semilogx(param_range,train_scores_mean,label=\"Training Score\",color=\"r\")\r\n",
        "plt.fill_between(param_range,train_scores_mean-train_scores_std,\r\n",
        "                        train_scores_mean+train_scores_std,alpha=0.2,color=\"r\")\r\n",
        "\r\n",
        "# Test Score의 평균과 std 선\r\n",
        "plt.semilogx(param_range,test_scores_mean, label=\"Cross-validation score\",color=\"c\")\r\n",
        "plt.fill_between(param_range,test_scores_mean-test_scores_std,\r\n",
        "                        test_scores_mean+test_scores_std,alpha=0.2,color=\"c\")\r\n",
        "\r\n",
        "plt.legend(loc=\"best\")\r\n",
        "plt.title(\"Validation Curve with SVM\")\r\n",
        "plt.xlabel(\"$\\gamma$\")\r\n",
        "plt.ylabel(\"Score\")\r\n",
        "plt.ylim(0.0,1.1)\r\n"
      ],
      "execution_count": null,
      "outputs": []
    },
    {
      "cell_type": "markdown",
      "metadata": {
        "id": "SBJ7vrgdB0dN"
      },
      "source": [
        "### GridSearchCV \r\n",
        "GridSearchCV 클래스는 validation_curve 함수와 달리 모형 래퍼(Wrapper) 성격의 클래스이다. 클래스 객체에 fit 메서드를 호출하면 grid search를 사용하여 자동으로 복수개의 내부 모형을 생성하고 이를 모두 실행시켜서 최적 파라미터를 찾아준다. 생성된 복수개와 내부 모형과 실행 결과는 다음 속성에 저장된다.\r\n",
        "\\\r\n",
        "- grid_scores_ : param_grid 의 모든 파리미터 조합에 대한 성능 결과. 각각의 원소는 다음 요소로 이루어진 튜플이다.\r\n",
        "\r\n",
        "- parameters: 사용된 파라미터\r\n",
        "\r\n",
        "- mean_validation_score: 교차 검증. (cross-validation) 결과의 평균값\r\n",
        "\r\n",
        "- cv_validation_scores: 모든 교차 검증(cross-validation) 결과\r\n",
        "\r\n",
        "- best_score_ : 최고 점수\r\n",
        "\r\n",
        "- best_params_ : 최고 점수를 낸 파라미터\r\n",
        "\r\n",
        "- best_estimator_ : 최고 점수를 낸 파라미터를 가진 모형\r\n"
      ]
    },
    {
      "cell_type": "code",
      "metadata": {
        "id": "oa6m1vC0-t7j"
      },
      "source": [
        "from sklearn.model_selection import GridSearchCV\r\n",
        "from sklearn.pipeline import Pipeline\r\n",
        "from sklearn.preprocessing import StandardScaler\r\n",
        "\r\n",
        "# scl는 스케일링, slf는 모델 적용함을 의미\r\n",
        "pipe_svc=Pipeline([('scl',StandardScaler()),('clf',SVC(random_state=1))])\r\n",
        "# param_range로 시험해볼 파라미터 범위 정해줌\r\n",
        "param_range=[10**i for i in range(-4,4)]\r\n",
        "param_grid = [\r\n",
        "    {'clf__C': param_range, 'clf__kernel': ['linear']}, # 선형SVC\r\n",
        "    {'clf__C': param_range, 'clf__gamma': param_range, 'clf__kernel': ['rbf']} # 커널SVC\r\n",
        "    ]\r\n",
        "\r\n",
        "gs=GridSearchCV(estimator=pipe_svc, param_grid=param_grid,\r\n",
        "                scoring=\"accuracy\",cv=10,n_jobs=1)\r\n"
      ],
      "execution_count": null,
      "outputs": []
    },
    {
      "cell_type": "code",
      "metadata": {
        "id": "DbX9GdAMAmEh"
      },
      "source": [
        "# 모델 학습 및 결과\r\n",
        "%time \r\n",
        "# gs = gs.fit(X, y)\r\n",
        "print(\"mean_test_score :\\n \",gs.cv_results_[\"mean_test_score\"])\r\n",
        "print(\"\\n best_score : \",gs.best_score_)\r\n",
        "print(\"\\n best_params_ : \",gs.best_params_)"
      ],
      "execution_count": null,
      "outputs": []
    },
    {
      "cell_type": "markdown",
      "metadata": {
        "id": "v8qhL16LNvqd"
      },
      "source": [
        "#### ParameterGrid\r\n",
        "때로는 scikit-learn 이 제공하는 GridSearchCV 이외의 방법으로 그리드 탐색을 해야하는 경우도 있다. 이 경우 파라미터를 조합하여 탐색 그리드를 생성해 주는 명령어가 ParameterGrid 이다. ParameterGrid 는 탐색을 위한 iterator 역할을 한다."
      ]
    },
    {
      "cell_type": "code",
      "metadata": {
        "id": "jSbHVThQDAMN"
      },
      "source": [
        "from sklearn.model_selection import ParameterGrid\r\n",
        "param_grid = {'a': [1, 2], 'b': [True, False]}\r\n",
        "list(ParameterGrid(param_grid))"
      ],
      "execution_count": null,
      "outputs": []
    },
    {
      "cell_type": "code",
      "metadata": {
        "id": "ubw3GcyxGPQW"
      },
      "source": [
        "param_grid = [{'kernel': ['linear']}, {'kernel': ['rbf'], 'gamma': [1, 10]}]\r\n",
        "list(ParameterGrid(param_grid))"
      ],
      "execution_count": null,
      "outputs": []
    },
    {
      "cell_type": "markdown",
      "metadata": {
        "id": "uLjgXOkDOBtP"
      },
      "source": [
        "#### 병렬 처리\r\n",
        "GridSearchCV 명령에는 n_jobs 라는 인수가 있다. 디폴트 값은 1인데 이 값을 증가시키면 내부적으로 멀티 프로세스를 사용하여 그리드서치를 수행한다. 만약 CPU 코어의 수가 충분하다면 n_jobs를 늘릴 수록 속도가 증가한다.\r\n",
        "실제 하드웨어의 코어 수가 부족하다면 병렬로 실행되지 않으므로 실행시간이 단축되지 않는다."
      ]
    },
    {
      "cell_type": "code",
      "metadata": {
        "id": "RqG1Sa9NN3uO"
      },
      "source": [
        "param_grid = {\"gamma\": np.logspace(-6, -1, 10)}\r\n",
        "gs1 = GridSearchCV(estimator=SVC(), param_grid=param_grid,\r\n",
        "                   scoring='accuracy', cv=5, n_jobs=1)\r\n",
        "gs2 = GridSearchCV(estimator=SVC(), param_grid=param_grid,\r\n",
        "                   scoring='accuracy', cv=5, n_jobs=2)\r\n",
        "\r\n"
      ],
      "execution_count": null,
      "outputs": []
    },
    {
      "cell_type": "code",
      "metadata": {
        "id": "TkEIu0obOHSS"
      },
      "source": [
        "%time\r\n",
        "gs1.fit(X, y)"
      ],
      "execution_count": null,
      "outputs": []
    },
    {
      "cell_type": "code",
      "metadata": {
        "id": "lTTZK653OcLD"
      },
      "source": [
        "%time\r\n",
        "gs2.fit(X, y)"
      ],
      "execution_count": null,
      "outputs": []
    },
    {
      "cell_type": "code",
      "metadata": {
        "id": "NbdwxIJSOeHL"
      },
      "source": [
        ""
      ],
      "execution_count": null,
      "outputs": []
    }
  ]
}