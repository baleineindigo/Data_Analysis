{
 "cells": [
  {
   "cell_type": "code",
   "execution_count": 37,
   "metadata": {},
   "outputs": [],
   "source": [
    "import keras\n",
    "from keras import layers,models\n",
    "import numpy as np"
   ]
  },
  {
   "cell_type": "code",
   "execution_count": 38,
   "metadata": {},
   "outputs": [],
   "source": [
    "# data generator\n",
    "x=np.array([0,1,2,3,4])\n",
    "y=2*x+1"
   ]
  },
  {
   "cell_type": "code",
   "execution_count": 39,
   "metadata": {},
   "outputs": [
    {
     "data": {
      "text/plain": [
       "'\\nunit : 히든레이어 유닛의 개수\\ninput_shape :input 받는 파라미터 없음.마지막에 **kwargs > 여기에 input데이터를 튜플형태로 삽입 \\n'"
      ]
     },
     "execution_count": 39,
     "metadata": {},
     "output_type": "execute_result"
    }
   ],
   "source": [
    "# Model\n",
    "model=models.Sequential()\n",
    "model.add(layers.Dense(1,input_shape=(1,)))\n",
    "\n",
    "#layers.Dense?\n",
    "'''\n",
    "unit : 히든레이어 유닛의 개수\n",
    "input_shape :input 받는 파라미터 없음.마지막에 **kwargs > 여기에 input데이터를 튜플형태로 삽입 \n",
    "'''"
   ]
  },
  {
   "cell_type": "code",
   "execution_count": 68,
   "metadata": {},
   "outputs": [
    {
     "name": "stdout",
     "output_type": "stream",
     "text": [
      "[7 9]\n"
     ]
    },
    {
     "data": {
      "text/plain": [
       "array([[6.9999943],\n",
       "       [8.999989 ]], dtype=float32)"
      ]
     },
     "execution_count": 68,
     "metadata": {},
     "output_type": "execute_result"
    }
   ],
   "source": [
    "# loss와 optimizer 정의를 compile로 한번에\n",
    "model.compile(optimizer=keras.optimizers.sgd(0.01),loss=\"mse\",metrics=['accuracy'])\n",
    "\n",
    "# Training\n",
    "# verbose 진행상황 메세지 띄우기 >> 성능저하되므로 0으로 지정\n",
    "model.fit(x[:4],y[:4],epochs=100,verbose=0)\n",
    "\n",
    "# Predict\n",
    "print(y[3:])\n",
    "model.predict(x[3:])"
   ]
  },
  {
   "cell_type": "code",
   "execution_count": 69,
   "metadata": {},
   "outputs": [
    {
     "name": "stdout",
     "output_type": "stream",
     "text": [
      "2/2 [==============================] - 0s 34ms/step\n",
      "Loss : 8.185452315956354e-11, Accuracy : 1.0\n"
     ]
    }
   ],
   "source": [
    "# Evaluate\n",
    "eval_model=model.evaluate(x[3:],y[3:])\n",
    "print(\"Loss : {}, Accuracy : {}\".format(*eval_model))"
   ]
  },
  {
   "cell_type": "code",
   "execution_count": null,
   "metadata": {},
   "outputs": [],
   "source": []
  },
  {
   "cell_type": "code",
   "execution_count": null,
   "metadata": {},
   "outputs": [],
   "source": []
  },
  {
   "cell_type": "code",
   "execution_count": null,
   "metadata": {},
   "outputs": [],
   "source": []
  }
 ],
 "metadata": {
  "kernelspec": {
   "display_name": "Python 3",
   "language": "python",
   "name": "python3"
  },
  "language_info": {
   "codemirror_mode": {
    "name": "ipython",
    "version": 3
   },
   "file_extension": ".py",
   "mimetype": "text/x-python",
   "name": "python",
   "nbconvert_exporter": "python",
   "pygments_lexer": "ipython3",
   "version": "3.7.7"
  }
 },
 "nbformat": 4,
 "nbformat_minor": 4
}
