{
  "nbformat": 4,
  "nbformat_minor": 0,
  "metadata": {
    "colab": {
      "name": "커널SVM.ipynb",
      "private_outputs": true,
      "provenance": [],
      "collapsed_sections": [],
      "authorship_tag": "ABX9TyOalkraUWprQzxyuugJtxjY",
      "include_colab_link": true
    },
    "kernelspec": {
      "name": "python3",
      "display_name": "Python 3"
    }
  },
  "cells": [
    {
      "cell_type": "markdown",
      "metadata": {
        "id": "view-in-github",
        "colab_type": "text"
      },
      "source": [
        "<a href=\"https://colab.research.google.com/github/baleineindigo/Data_Analysis/blob/master/%EC%BB%A4%EB%84%90SVM.ipynb\" target=\"_parent\"><img src=\"https://colab.research.google.com/assets/colab-badge.svg\" alt=\"Open In Colab\"/></a>"
      ]
    },
    {
      "cell_type": "code",
      "metadata": {
        "id": "Cx4B60odETlM"
      },
      "source": [
        "import numpy as np\r\n",
        "import pandas as pd\r\n",
        "import matplotlib.pyplot as plt\r\n",
        "from sklearn.svm import SVC\r\n",
        "from sklearn.preprocessing import FunctionTransformer\r\n",
        "from sklearn.pipeline import Pipeline"
      ],
      "execution_count": null,
      "outputs": []
    },
    {
      "cell_type": "markdown",
      "metadata": {
        "id": "jARi2EOZt_wp"
      },
      "source": [
        "## scikit-learn의 커널 SVM¶\r\n",
        "scikit-learn의 SVM 클래스는 kernel 인수를 지정하여 커널을 설정할 수 있다.\r\n",
        "\r\n",
        "1. kernel = \"linear\": 선형 SVM. \r\n",
        "2. kernel = \"poly\": 다항 커널. \r\n",
        "    - gamma\r\n",
        "    - coef0\r\n",
        "    - degree\r\n",
        "3. kernel = \"rbf\" 또는 kernel = None: RBF 커널. \r\n",
        "    - gamma \r\n",
        "4. kernel = \"sigmoid\": 시그모이드 커널. \r\n",
        "    - gamma \r\n",
        "    - coef0"
      ]
    },
    {
      "cell_type": "markdown",
      "metadata": {
        "id": "V9MQGoOpupOo"
      },
      "source": [
        "### 붓꽃 문제에의 응용"
      ]
    },
    {
      "cell_type": "code",
      "metadata": {
        "id": "fq-UC07zEtOF"
      },
      "source": [
        "from sklearn.datasets import load_iris\r\n",
        "from sklearn.model_selection import train_test_split\r\n",
        "from sklearn.preprocessing import StandardScaler\r\n",
        "\r\n",
        "# 데이터 셋\r\n",
        "iris =load_iris()\r\n",
        "X=iris.data[:,[2,3]]      # ['sepal length (cm)', 'sepal width (cm)', 'petal length (cm)', 'petal width (cm)'] 타겟 제외한 컬럼 추출 \r\n",
        "# print(X,iris.feature_names)\r\n",
        "Y=iris.target\r\n",
        "X_train,X_test,Y_train,Y_test=train_test_split(X,Y,test_size=0.3,random_state=0)\r\n",
        "\r\n",
        "# 스케일링 & 정규화\r\n",
        "sc = StandardScaler()\r\n",
        "sc.fit(X_train)\r\n",
        "X_train_std=sc.transform(X_train)\r\n",
        "X_test_std=sc.transform(X_test)\r\n",
        "X_combined_std=np.vstack((X_train_std,X_test_std))\r\n",
        "Y_combined_std=np.hstack((Y_train,Y_test))\r\n",
        "\r\n",
        "\r\n",
        "# 모델링\r\n",
        "model1=SVC(kernel='linear').fit(X_test_std,Y_test)\r\n",
        "model2=SVC(kernel='poly', random_state=0,gamma=10,C=1).fit(X_test_std,Y_test)\r\n",
        "model3=SVC(kernel='rbf',random_state=0,gamma=1,C=1).fit(X_test_std,Y_test)"
      ],
      "execution_count": null,
      "outputs": []
    },
    {
      "cell_type": "markdown",
      "metadata": {
        "id": "7YJYebqhw8rn"
      },
      "source": [
        "np.hstack : 두 배열을 왼쪽에서 오른쪽으로 붙이기 \r\n",
        "\r\n",
        "np.vstack : 두 배열을 위에서 아래로 붙이기 \r\n",
        "\r\n",
        "ravel() : Numpy 다차원 배열을 1차원으로 바꾸는 것을 지원하는 함수"
      ]
    },
    {
      "cell_type": "code",
      "metadata": {
        "id": "RYYqXaORDPeJ"
      },
      "source": [
        "## 시각화 함수\r\n",
        "def plot_iris(X,Y,model,title,xmin=-2.5,xmax=2.5, ymin=-2.5,ymax=2.5):\r\n",
        "    XX,YY=np.meshgrid(\r\n",
        "        np.arange(xmin,xmax,(xmax-xmin)/1000),\r\n",
        "        np.arange(ymin,ymax,(ymax-ymin)/1000))\r\n",
        "    ZZ=np.reshape(model.predict(np.array([XX.ravel(),YY.ravel()]).T),XX.shape)\r\n",
        "    plt.contourf(XX,YY,ZZ,cmap=plt.cm.Paired_r,alpha=0.5)\r\n",
        "    plt.scatter(X[Y == 0, 0], X[Y == 0, 1], c='r', marker='^', label='0', s=100)\r\n",
        "    plt.scatter(X[Y == 1, 0], X[Y == 1, 1], c='g', marker='o', label='1', s=100)\r\n",
        "    plt.scatter(X[Y == 2, 0], X[Y == 2, 1], c='b', marker='s', label='2', s=100)\r\n",
        "    plt.xlim(xmin, xmax)\r\n",
        "    plt.ylim(ymin, ymax)\r\n",
        "    plt.xlabel(\"sepal length\")\r\n",
        "    plt.ylabel(\"sepal width\")\r\n",
        "    plt.title(title)\r\n",
        "\r\n",
        "plt.figure(figsize=(8, 12))\r\n",
        "plt.subplot(311)\r\n",
        "plot_iris(X_test_std, Y_test, model1, \"Linear SVC\")\r\n",
        "plt.subplot(312)\r\n",
        "plot_iris(X_test_std, Y_test, model2, \"Poly kernel SVC\")\r\n",
        "plt.subplot(313)\r\n",
        "plot_iris(X_test_std, Y_test, model3, \"RBF kernel SVM\")\r\n",
        "plt.tight_layout()\r\n",
        "plt.show()"
      ],
      "execution_count": null,
      "outputs": []
    },
    {
      "cell_type": "code",
      "metadata": {
        "id": "H07HbvWfDR65"
      },
      "source": [
        ""
      ],
      "execution_count": null,
      "outputs": []
    },
    {
      "cell_type": "code",
      "metadata": {
        "id": "rXQVIZ_Um7Q9"
      },
      "source": [
        ""
      ],
      "execution_count": null,
      "outputs": []
    },
    {
      "cell_type": "code",
      "metadata": {
        "id": "xbV7rBW4DVCu"
      },
      "source": [
        ""
      ],
      "execution_count": null,
      "outputs": []
    }
  ]
}