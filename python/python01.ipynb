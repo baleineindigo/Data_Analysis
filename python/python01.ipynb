{
 "cells": [
  {
   "cell_type": "markdown",
   "metadata": {},
   "source": [
    "## 변수와 데이터 타입\n",
    "#### 파이썬 데이터 타입들\n",
    "<!-- 주석은 이렇게 -->"
   ]
  },
  {
   "cell_type": "code",
   "execution_count": null,
   "metadata": {},
   "outputs": [],
   "source": [
    "'''\n",
    "파이썬에서 데이터 타입\n",
    "int : 정수\n",
    "float : 실수\n",
    "bool : False,True\n",
    "str : 문자열\n",
    "\n",
    "list : 순서가 있는 값들의 집합\n",
    "tuple : 순서가 있고, 수정이 불가한 집합\n",
    "set : 순서는 없고 중복이 안되는 집합\n",
    "dic : 키와 값으로 데이터를 저장\n",
    "\n",
    "'''"
   ]
  },
  {
   "cell_type": "code",
   "execution_count": null,
   "metadata": {},
   "outputs": [],
   "source": [
    "str=\"Hello World~!\"\n",
    "print(str)\n",
    "str\n",
    "# 주석 달기 : ctrl+/ \n",
    "a=3\n",
    "b=3.5\n",
    "c=\"hello\"\n",
    "a,b,c\n",
    "print(type(a))\n",
    "print(type(b))\n",
    "print(type(c))"
   ]
  },
  {
   "cell_type": "code",
   "execution_count": null,
   "metadata": {},
   "outputs": [],
   "source": [
    "'''\n",
    "input()을 통해 값을 입력받아보자\n",
    "'''\n",
    "data=input(\"당신의 이름은? : \")\n",
    "print(\"이름 : \"+data)"
   ]
  },
  {
   "cell_type": "code",
   "execution_count": 2,
   "metadata": {},
   "outputs": [
    {
     "data": {
      "text/plain": [
       "True"
      ]
     },
     "execution_count": 2,
     "metadata": {},
     "output_type": "execute_result"
    }
   ],
   "source": [
    "d=3\n",
    "e=3.0\n",
    "d==e"
   ]
  },
  {
   "cell_type": "markdown",
   "metadata": {},
   "source": [
    "## 연산자와 포메팅"
   ]
  },
  {
   "cell_type": "code",
   "execution_count": 10,
   "metadata": {},
   "outputs": [
    {
     "name": "stdout",
     "output_type": "stream",
     "text": [
      "15\n",
      "1.6666666666666667\n",
      "1\n",
      "2\n"
     ]
    }
   ],
   "source": [
    "num1=5\n",
    "num2=3\n",
    "print(num1*num2)\n",
    "print(num1/num2) # 결과가 float으로 반환\n",
    "print(num1//num2) # 결과가 int로 반환\n",
    "remain=num1%num2\n",
    "print(remain) # 나머지 int로 반환...\n",
    "remain\n",
    "\n"
   ]
  },
  {
   "cell_type": "code",
   "execution_count": 11,
   "metadata": {
    "collapsed": true
   },
   "outputs": [
    {
     "data": {
      "text/plain": [
       "['__abs__',\n",
       " '__add__',\n",
       " '__and__',\n",
       " '__bool__',\n",
       " '__ceil__',\n",
       " '__class__',\n",
       " '__delattr__',\n",
       " '__dir__',\n",
       " '__divmod__',\n",
       " '__doc__',\n",
       " '__eq__',\n",
       " '__float__',\n",
       " '__floor__',\n",
       " '__floordiv__',\n",
       " '__format__',\n",
       " '__ge__',\n",
       " '__getattribute__',\n",
       " '__getnewargs__',\n",
       " '__gt__',\n",
       " '__hash__',\n",
       " '__index__',\n",
       " '__init__',\n",
       " '__init_subclass__',\n",
       " '__int__',\n",
       " '__invert__',\n",
       " '__le__',\n",
       " '__lshift__',\n",
       " '__lt__',\n",
       " '__mod__',\n",
       " '__mul__',\n",
       " '__ne__',\n",
       " '__neg__',\n",
       " '__new__',\n",
       " '__or__',\n",
       " '__pos__',\n",
       " '__pow__',\n",
       " '__radd__',\n",
       " '__rand__',\n",
       " '__rdivmod__',\n",
       " '__reduce__',\n",
       " '__reduce_ex__',\n",
       " '__repr__',\n",
       " '__rfloordiv__',\n",
       " '__rlshift__',\n",
       " '__rmod__',\n",
       " '__rmul__',\n",
       " '__ror__',\n",
       " '__round__',\n",
       " '__rpow__',\n",
       " '__rrshift__',\n",
       " '__rshift__',\n",
       " '__rsub__',\n",
       " '__rtruediv__',\n",
       " '__rxor__',\n",
       " '__setattr__',\n",
       " '__sizeof__',\n",
       " '__str__',\n",
       " '__sub__',\n",
       " '__subclasshook__',\n",
       " '__truediv__',\n",
       " '__trunc__',\n",
       " '__xor__',\n",
       " 'bit_length',\n",
       " 'conjugate',\n",
       " 'denominator',\n",
       " 'from_bytes',\n",
       " 'imag',\n",
       " 'numerator',\n",
       " 'real',\n",
       " 'to_bytes']"
      ]
     },
     "execution_count": 11,
     "metadata": {},
     "output_type": "execute_result"
    }
   ],
   "source": [
    "dir(num1)\n",
    "'''\n",
    "- 위의 셀에서 num1을 썼지만, 모든 셀에서 셋팅한 변수를 메모리에 올리고 셀마다 로드해서 쓰는 것.\n",
    "- dir로 보면 num1이라는 변수에 여러가지 속성(함수)을 갖고 있음. 자바에서는 객체만 속성을 갖고 있는데...\n",
    ">> 파이썬은 모든 변수를 객체라고 볼 수 있음.\n",
    "\n",
    "'''"
   ]
  },
  {
   "cell_type": "code",
   "execution_count": 27,
   "metadata": {},
   "outputs": [
    {
     "name": "stdout",
     "output_type": "stream",
     "text": [
      "0\n",
      "1\n"
     ]
    },
    {
     "data": {
      "text/plain": [
       "111.111"
      ]
     },
     "execution_count": 27,
     "metadata": {},
     "output_type": "execute_result"
    }
   ],
   "source": [
    "# 형변환 함수\n",
    "'''\n",
    "int()\n",
    "float()\n",
    "str()\n",
    "list()\n",
    "tuple()\n",
    "'''\n",
    "print(int(False))\n",
    "print(int(True))\n",
    "float(\"111.111\")"
   ]
  },
  {
   "cell_type": "code",
   "execution_count": 32,
   "metadata": {},
   "outputs": [
    {
     "name": "stdout",
     "output_type": "stream",
     "text": [
      "james의 나이는  55 세 입니다.\n"
     ]
    }
   ],
   "source": [
    "name=\"james\"\n",
    "age=55\n",
    "print(name+\"의 나이는 \",age,\"세 입니다.\")"
   ]
  },
  {
   "cell_type": "code",
   "execution_count": 41,
   "metadata": {},
   "outputs": [
    {
     "name": "stdout",
     "output_type": "stream",
     "text": [
      "정수 입력 :4\n"
     ]
    },
    {
     "data": {
      "text/plain": [
       "'4444'"
      ]
     },
     "execution_count": 41,
     "metadata": {},
     "output_type": "execute_result"
    }
   ],
   "source": [
    "num3=input(\"정수 입력 :\")\n",
    "num4=int(num3)\n",
    "type(num4)\n",
    "num3*num4"
   ]
  },
  {
   "cell_type": "markdown",
   "metadata": {},
   "source": [
    "### 문제 1.\n",
    "#### 키보드로 초를 입력받고 다음과 같이 출력 ex)3700 >> 1시간 1분 40초"
   ]
  },
  {
   "cell_type": "code",
   "execution_count": 79,
   "metadata": {},
   "outputs": [
    {
     "name": "stdout",
     "output_type": "stream",
     "text": [
      "초를 입력하세요 : 3700\n",
      "<class 'int'>\n",
      "3700 초는  1 시간  1 분  40 초 입니다.\n",
      "3700초는 1시간 1분 40초 입니다.\n"
     ]
    }
   ],
   "source": [
    "result=int(input(\"초를 입력하세요 : \"))\n",
    "print(type(second))\n",
    "hour=result//3600\n",
    "minuet=(result%3600)//60\n",
    "second=(result%60)\n",
    "print(result,\"초는 \",hour,\"시간 \",minuet,\"분 \",second,\"초 입니다.\")\n",
    "print(\"%d초는 %d시간 %d분 %d초 입니다.\" %(result,hour,minuet,second))\n"
   ]
  },
  {
   "cell_type": "code",
   "execution_count": 62,
   "metadata": {},
   "outputs": [
    {
     "name": "stdout",
     "output_type": "stream",
     "text": [
      "True\n",
      "False\n",
      "a: 2361535778160   b: 2361535778192\n"
     ]
    }
   ],
   "source": [
    "'''\n",
    "Immutable 타입 - Tuple\n",
    "int,float,str도 마찬가지\n",
    "'''\n",
    "a=257\n",
    "b=257\n",
    "print(a==b)#값은 같아\n",
    "print(a is b)#immutable 원리에 따라 서로 다른값으로 설정...서로 id(일종의 주소값)가 다르기 때문\n",
    "print(\"a:\",id(a),\"  b:\",id(b))"
   ]
  },
  {
   "cell_type": "code",
   "execution_count": 63,
   "metadata": {},
   "outputs": [
    {
     "name": "stdout",
     "output_type": "stream",
     "text": [
      "True\n",
      "True\n",
      "a: 140732436494960   b: 140732436494960\n"
     ]
    }
   ],
   "source": [
    "'''\n",
    "-5에서 256 사이의 정수값은 메모리 효율적으로 다루기 위해 이 범위에 있는 값은 한번객체만들고 나서는 다시 만들지 않는다.\n",
    "257의 경우 이 범위를 넘기때문에 immutable 원리가 적용되지 않음.\n",
    "'''\n",
    "a=200\n",
    "b=200\n",
    "print(a==b)\n",
    "print(a is b)\n",
    "print(\"a:\",id(a),\"  b:\",id(b))"
   ]
  },
  {
   "cell_type": "code",
   "execution_count": 67,
   "metadata": {},
   "outputs": [
    {
     "name": "stdout",
     "output_type": "stream",
     "text": [
      "hello\n",
      "World\n",
      "\n",
      "        This is\n",
      "            Mystr3 Test \n",
      "            Hello\n",
      "        \n"
     ]
    }
   ],
   "source": [
    "# 문자열 작은 따옴표(''), 큰 따옴표(\"\")와 함께 사용\n",
    "# 문자열을 여러줄로 만들어줄 경우에도 사용\n",
    "myStr1=\"hello\"\n",
    "myStr2='World'\n",
    "myStr3='''\n",
    "        This is\n",
    "            Mystr3 Test \n",
    "            Hello\n",
    "        '''\n",
    "print(myStr1)\n",
    "print(myStr2)\n",
    "print(myStr3)"
   ]
  },
  {
   "cell_type": "code",
   "execution_count": 77,
   "metadata": {},
   "outputs": [
    {
     "name": "stdout",
     "output_type": "stream",
     "text": [
      "손흥민의 나이는 28, 이번 경기 평점은 9.57\n",
      "현재 날짜 2020년 7월 6일 입니다.\n"
     ]
    }
   ],
   "source": [
    "#formating\n",
    "# 1. \n",
    "name=\"손흥민\"\n",
    "age=28\n",
    "grade=9.567\n",
    "print('%s의 나이는 %d, 이번 경기 평점은 %0.2f'%(name,age,grade))\n",
    "\n",
    "#2.\n",
    "import time\n",
    "now=time.localtime()\n",
    "print(\"현재 날짜 %d년 %d월 %d일 입니다.\" %(now.tm_year,now.tm_mon,now.tm_mday))"
   ]
  },
  {
   "cell_type": "code",
   "execution_count": null,
   "metadata": {},
   "outputs": [],
   "source": []
  }
 ],
 "metadata": {
  "kernelspec": {
   "display_name": "Python 3",
   "language": "python",
   "name": "python3"
  },
  "language_info": {
   "codemirror_mode": {
    "name": "ipython",
    "version": 3
   },
   "file_extension": ".py",
   "mimetype": "text/x-python",
   "name": "python",
   "nbconvert_exporter": "python",
   "pygments_lexer": "ipython3",
   "version": "3.7.6"
  }
 },
 "nbformat": 4,
 "nbformat_minor": 4
}
