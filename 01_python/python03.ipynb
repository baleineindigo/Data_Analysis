{
 "cells": [
  {
   "cell_type": "markdown",
   "metadata": {},
   "source": [
    "# Tuple - 데이터 조회만 가능 (Immutable)"
   ]
  },
  {
   "cell_type": "code",
   "execution_count": 1,
   "metadata": {},
   "outputs": [
    {
     "data": {
      "text/plain": [
       "'\\nTuple은 List와 거의 동일하며, 차이점은 아래와 같다.\\n1) 리스트는 []으로 값을 감싸고, 튜플은 ()을 쓴다.\\n2) 리스트는 그 값의 추가,삭제,수정이 가능하다\\n3) 튜플은 값의 변경이 안된다...읽기만 가능하다.\\n'"
      ]
     },
     "execution_count": 1,
     "metadata": {},
     "output_type": "execute_result"
    }
   ],
   "source": [
    "'''\n",
    "Tuple은 List와 거의 동일하며, 차이점은 아래와 같다.\n",
    "1) 리스트는 []으로 값을 감싸고, 튜플은 ()을 쓴다.\n",
    "2) 리스트는 그 값의 추가,삭제,수정이 가능하다\n",
    "3) 튜플은 값의 변경이 안된다...읽기만 가능하다.\n",
    "'''"
   ]
  },
  {
   "cell_type": "code",
   "execution_count": 14,
   "metadata": {},
   "outputs": [
    {
     "name": "stdout",
     "output_type": "stream",
     "text": [
      "(1, 2, 3, (5, 6, 7), 4)\n"
     ]
    },
    {
     "data": {
      "text/plain": [
       "'\\n프로그램이 실행되는 동안 그 값을 유지하려면, 튜플 사용.\\n필요시마다 값 변경이 필요하면, 리스트 사용\\n\\n'"
      ]
     },
     "execution_count": 14,
     "metadata": {},
     "output_type": "execute_result"
    }
   ],
   "source": [
    "# 1. 튜플 생성하기\n",
    "t1=(1,2,3,4)\n",
    "t2=(4,5,6)\n",
    "t3=(1,) # 값이 한개면 반드시 뒤에 ,를 찍어야 튜플로 인식함\n",
    "type(t3) \n",
    "t4=(1,2,3,(5,6,7),4)\n",
    "print(t4)\n",
    "'''\n",
    "프로그램이 실행되는 동안 그 값을 유지하려면, 튜플 사용.\n",
    "필요시마다 값 변경이 필요하면, 리스트 사용\n",
    "\n",
    "'''"
   ]
  },
  {
   "cell_type": "code",
   "execution_count": 27,
   "metadata": {},
   "outputs": [
    {
     "data": {
      "text/plain": [
       "[1, 2, 3, 4, 5, 6, 7, 8, 9, 10]"
      ]
     },
     "execution_count": 27,
     "metadata": {},
     "output_type": "execute_result"
    }
   ],
   "source": [
    "# 한줄에 나열도 가능\n",
    "a,b,c=3,4,5\n",
    "a=3,4,5 # ()생략하고 튜플로 만듬\n",
    "type(a)\n",
    "\n",
    "b=(3,4,5)\n",
    "a==b\n",
    "# t1을 튜플로 생성 >> 리스트로 변환\n",
    "t1=1,2,3,4,5,6,7,8,9,10\n",
    "t1=list(t1)\n",
    "t1"
   ]
  },
  {
   "cell_type": "code",
   "execution_count": 37,
   "metadata": {},
   "outputs": [
    {
     "name": "stdout",
     "output_type": "stream",
     "text": [
      "800048\n",
      "800064\n"
     ]
    }
   ],
   "source": [
    "# 튜플이 리스트보다 메모리 효율성이 뛰어나다\n",
    "import sys\n",
    "t=(1,2,3,4,5,6,7,8,9,10)*10000\n",
    "l=[1,2,3,4,5,6,7,8,9,10]*10000\n",
    "\n",
    "print(sys.getsizeof(t))\n",
    "print(sys.getsizeof(l))"
   ]
  },
  {
   "cell_type": "markdown",
   "metadata": {},
   "source": [
    "## Dictionary"
   ]
  },
  {
   "cell_type": "code",
   "execution_count": 43,
   "metadata": {},
   "outputs": [
    {
     "data": {
      "text/plain": [
       "{'n': 'name', 'a': 'name', 'm': 'name', 'e': 'name'}"
      ]
     },
     "execution_count": 43,
     "metadata": {},
     "output_type": "execute_result"
    }
   ],
   "source": [
    "# 1. 생성하기\n",
    "proDic={\"name\":\"Dram\",\"capacity\":\"32g\",\"brand\":\"SK-H\",\"price\":230000}\n"
   ]
  },
  {
   "cell_type": "code",
   "execution_count": 53,
   "metadata": {},
   "outputs": [
    {
     "name": "stdout",
     "output_type": "stream",
     "text": [
      "Dram\n",
      "SK-H\n"
     ]
    }
   ],
   "source": [
    "# 2.조회하기\n",
    "'''\n",
    "리스트,튜플은 데이터의 요소를 출력할 때 인덱싱이나 슬라이싱 기법을 사용해서 데이터를 추출\n",
    "딕셔너리는 key:value 를 이용해서 데이터 추출\n",
    "'''\n",
    "print(proDic.get('name'))\n",
    "print(proDic['brand'])"
   ]
  },
  {
   "cell_type": "code",
   "execution_count": 57,
   "metadata": {},
   "outputs": [
    {
     "data": {
      "text/plain": [
       "{'name': 'Gram', 'capacity': '32g', 'brand': 'SK-H', 'price': 320000}"
      ]
     },
     "execution_count": 57,
     "metadata": {},
     "output_type": "execute_result"
    }
   ],
   "source": [
    "# 3.수정하기\n",
    "proDic['price']=320000\n",
    "proDic"
   ]
  },
  {
   "cell_type": "code",
   "execution_count": 59,
   "metadata": {},
   "outputs": [
    {
     "data": {
      "text/plain": [
       "{'name': 'Gram',\n",
       " 'capacity': '32g',\n",
       " 'brand': 'SK-H',\n",
       " 'price': 320000,\n",
       " 'location': '이천',\n",
       " 'pop': 330000}"
      ]
     },
     "execution_count": 59,
     "metadata": {},
     "output_type": "execute_result"
    }
   ],
   "source": [
    "# 4.데이터 추가하기\n",
    "addInfo={\"location\":'이천','pop':330000}\n",
    "proDic.update(addInfo)\n",
    "proDic"
   ]
  },
  {
   "cell_type": "code",
   "execution_count": 64,
   "metadata": {},
   "outputs": [
    {
     "data": {
      "text/plain": [
       "{'name': 'Gram', 'brand': 'SK-H', 'price': 320000, 'location': '이천'}"
      ]
     },
     "execution_count": 64,
     "metadata": {},
     "output_type": "execute_result"
    }
   ],
   "source": [
    "# 5.삭제하기\n",
    "del proDic[\"pop\"]\n",
    "proDic"
   ]
  },
  {
   "cell_type": "code",
   "execution_count": null,
   "metadata": {},
   "outputs": [],
   "source": [
    "'''\n",
    "딕셔너리를 다룰 때 주의사항\n",
    "1) 값은 중복 가능하지만, 키가 중복될 경우 뒤에 있는 키 값으로 덮어씌운다.\n",
    "- error나지 않음\n",
    "2) 딕셔너리에서 리스트는 키값으로 올 수 없다. 튜플은 가능하다.\n",
    "- 덩어리를 키값으로 잡을 수는 있지만 \"key는 unique(=고유하고, 변경될 수 없는)\" 해야하기 때문에 리스트는 안되고 튜플은 가능\n",
    "\n",
    "'''"
   ]
  },
  {
   "cell_type": "code",
   "execution_count": 68,
   "metadata": {},
   "outputs": [],
   "source": [
    "aa={1:'a',1:'b'}\n",
    "aa\n",
    "# bb={[1,2]:\"hi\"}\n",
    "cc={(1,2):\"hello\"}"
   ]
  },
  {
   "cell_type": "markdown",
   "metadata": {},
   "source": [
    "## 딕셔너리에서 함수 사용하기"
   ]
  },
  {
   "cell_type": "code",
   "execution_count": 71,
   "metadata": {},
   "outputs": [
    {
     "data": {
      "text/plain": [
       "{'name': 'James', 'age': 33, 'address': 'newyork'}"
      ]
     },
     "execution_count": 71,
     "metadata": {},
     "output_type": "execute_result"
    }
   ],
   "source": [
    "dic={'name':'James','age':33,'address':'newyork'}\n",
    "dic"
   ]
  },
  {
   "cell_type": "code",
   "execution_count": 78,
   "metadata": {},
   "outputs": [
    {
     "name": "stdout",
     "output_type": "stream",
     "text": [
      "['name', 'age', 'address']\n",
      "['James', 33, 'newyork']\n"
     ]
    },
    {
     "data": {
      "text/plain": [
       "list"
      ]
     },
     "execution_count": 78,
     "metadata": {},
     "output_type": "execute_result"
    }
   ],
   "source": [
    "# 1.keys()\n",
    "dic_key=list(dic.keys())#dic.keys()는 dic_keys 라는 객체 타입으로 반환.\n",
    "dic_value=list(dic.values())\n",
    "print(dic_key)\n",
    "print(dic_value)\n",
    "type(dic_value)\n",
    "type(dic_key)\n",
    "\n",
    "'''\n",
    "dic_keys 객체는 리스트를 사용할 때와 차이가 없지만\n",
    "리스트 고유의 함수를 수행할 수 없다.\n",
    "- append(),insert(),remove(),pop(),sort()등 함수 수행 X\n",
    "\n",
    "리스트로 반환하고 for문과 연결...\n",
    "'''"
   ]
  },
  {
   "cell_type": "code",
   "execution_count": 100,
   "metadata": {},
   "outputs": [
    {
     "name": "stdout",
     "output_type": "stream",
     "text": [
      "keys: name \t -\tvalues: James\n",
      "keys: age \t -\tvalues: 33\n",
      "keys: address \t -\tvalues: newyork\n"
     ]
    }
   ],
   "source": [
    "for i,k in zip(dic_key,dic_value):\n",
    "    print(\"keys:\",i,\"\\t -\\tvalues:\",k)"
   ]
  },
  {
   "cell_type": "code",
   "execution_count": 97,
   "metadata": {},
   "outputs": [
    {
     "name": "stdout",
     "output_type": "stream",
     "text": [
      "name   age   address   "
     ]
    }
   ],
   "source": [
    "for i in dic_key:\n",
    "    print(i,' ', end=\" \")"
   ]
  },
  {
   "cell_type": "code",
   "execution_count": 107,
   "metadata": {},
   "outputs": [
    {
     "data": {
      "text/plain": [
       "dict_items([('name', 'James'), ('age', 33), ('address', 'newyork')])"
      ]
     },
     "execution_count": 107,
     "metadata": {},
     "output_type": "execute_result"
    }
   ],
   "source": [
    "dic.items() # key,value를 쌍으로 묶은 튜플로 리턴"
   ]
  },
  {
   "cell_type": "code",
   "execution_count": 111,
   "metadata": {},
   "outputs": [
    {
     "name": "stdout",
     "output_type": "stream",
     "text": [
      "{'name': 'James', 'age': 33, 'address': 'newyork'}\n",
      "newyork\n",
      "newyork\n",
      "newyork\n"
     ]
    }
   ],
   "source": [
    "print(dic)\n",
    "print(dic.get('address'))\n",
    "address=dic.get('address')\n",
    "print(address)\n",
    "\n",
    "'''\n",
    "None 출력되는 경우\n",
    "1) 반환값 없는 함수를 print()에 적용한 경우...sort()\n",
    "2) 존재하지 않는 키를 get으로 받아오면 None, dic['']이렇게 쓰면 에러남\n",
    "'''"
   ]
  },
  {
   "cell_type": "code",
   "execution_count": 113,
   "metadata": {},
   "outputs": [
    {
     "data": {
      "text/plain": [
       "False"
      ]
     },
     "execution_count": 113,
     "metadata": {},
     "output_type": "execute_result"
    }
   ],
   "source": [
    "# 딕셔너리 안에 키가 있는지 여부\n",
    "'name' in dic"
   ]
  },
  {
   "cell_type": "markdown",
   "metadata": {},
   "source": [
    "## SET"
   ]
  },
  {
   "cell_type": "code",
   "execution_count": null,
   "metadata": {},
   "outputs": [],
   "source": [
    "'''\n",
    "set은 중복허용하지 않으며, 순서가 없다.\n",
    "리스트나 튜플은 순서가 있기 때문에 인덱싱을 통해서 데이터를 추출\n",
    "만약. set에 저장된 값을 인덱싱, 슬라이싱으로 핸들링 한다면 리스트나 튜플로 변환 후 사용\n",
    "'''"
   ]
  },
  {
   "cell_type": "code",
   "execution_count": 163,
   "metadata": {},
   "outputs": [
    {
     "name": "stdout",
     "output_type": "stream",
     "text": [
      "here1 :  [7, 6, 5, 4, 3, 2, 1]\n",
      "here2 :  {1, 2, 3, 4, 5, 6, 7}\n"
     ]
    },
    {
     "ename": "AttributeError",
     "evalue": "'set' object has no attribute 'sort'",
     "output_type": "error",
     "traceback": [
      "\u001b[1;31m---------------------------------------------------------------------------\u001b[0m",
      "\u001b[1;31mAttributeError\u001b[0m                            Traceback (most recent call last)",
      "\u001b[1;32m<ipython-input-163-0a2e2cba3ca1>\u001b[0m in \u001b[0;36m<module>\u001b[1;34m\u001b[0m\n\u001b[0;32m     10\u001b[0m \u001b[1;31m# a1=list(a)\u001b[0m\u001b[1;33m\u001b[0m\u001b[1;33m\u001b[0m\u001b[1;33m\u001b[0m\u001b[0m\n\u001b[0;32m     11\u001b[0m \u001b[1;31m#a1.sort(reverse=True)\u001b[0m\u001b[1;33m\u001b[0m\u001b[1;33m\u001b[0m\u001b[1;33m\u001b[0m\u001b[0m\n\u001b[1;32m---> 12\u001b[1;33m \u001b[0ma\u001b[0m\u001b[1;33m.\u001b[0m\u001b[0msort\u001b[0m\u001b[1;33m(\u001b[0m\u001b[1;33m)\u001b[0m\u001b[1;33m\u001b[0m\u001b[1;33m\u001b[0m\u001b[0m\n\u001b[0m",
      "\u001b[1;31mAttributeError\u001b[0m: 'set' object has no attribute 'sort'"
     ]
    }
   ],
   "source": [
    "'''\n",
    "중복을 허용하지 않는 set의 특징은 다른 자료형에 담긴 데이터의 중복을 제거하기 위한 필터 역할을 한다.\n",
    "내부적으로 오름차순으로 정렬됨.\n",
    "'''\n",
    "# sort() 함수는  반환값이 없어서 print()하면 None출력됨\n",
    "# sorted()는 반환값이 있다...\n",
    "a={1,1,2,2,3,4,4,5,6,7,2}\n",
    "print(\"here1 : \",sorted(a,reverse=True))\n",
    "print(\"here2 : \",a)\n",
    "# a1=list(a)\n",
    "#a1.sort(reverse=True)"
   ]
  },
  {
   "cell_type": "code",
   "execution_count": 162,
   "metadata": {},
   "outputs": [
    {
     "name": "stdout",
     "output_type": "stream",
     "text": [
      "Variable    Type           Data/Info\n",
      "------------------------------------\n",
      "a           set            {1, 2, 3, 4, 5, 6, 7}\n",
      "a1          list           n=7\n",
      "aa          dict           n=1\n",
      "addInfo     dict           n=2\n",
      "address     str            newyork\n",
      "answer      str            \n",
      "b           tuple          n=3\n",
      "c           int            5\n",
      "cc          dict           n=1\n",
      "dic         dict           n=3\n",
      "dic_key     list           n=3\n",
      "dic_value   dict_values    dict_values(['James', 33, 'newyork'])\n",
      "i           str            address\n",
      "k           str            newyork\n",
      "l           list           n=100000\n",
      "proDic      dict           n=4\n",
      "sys         module         <module 'sys' (built-in)>\n",
      "t           tuple          n=100000\n",
      "t1          list           n=10\n",
      "t2          tuple          n=3\n",
      "t3          tuple          n=1\n",
      "t4          tuple          n=5\n"
     ]
    }
   ],
   "source": [
    "%whos"
   ]
  },
  {
   "cell_type": "markdown",
   "metadata": {},
   "source": [
    "## set관련 함수"
   ]
  },
  {
   "cell_type": "code",
   "execution_count": 191,
   "metadata": {},
   "outputs": [
    {
     "name": "stdout",
     "output_type": "stream",
     "text": [
      "{8, 1, 2}\n",
      "{1, 2, 3, 4, 5, 7, 8, 10}\n"
     ]
    }
   ],
   "source": [
    "# 1.값 추가\n",
    "b=set([1,2,8])\n",
    "print(b)\n",
    "b.add(7) #하나의 값만 추가할 수 있다...여러개 값 X\n",
    "b.update({5,4,3,10}) #여러개 값은 update()로\n",
    "print(b)\n",
    "# b.update(7) # update는 값 1개 넣으면 오류나"
   ]
  },
  {
   "cell_type": "code",
   "execution_count": 192,
   "metadata": {},
   "outputs": [
    {
     "data": {
      "text/plain": [
       "{1, 2, 3, 5, 7, 8, 10}"
      ]
     },
     "execution_count": 192,
     "metadata": {},
     "output_type": "execute_result"
    }
   ],
   "source": [
    "b.remove(4)\n",
    "b"
   ]
  }
 ],
 "metadata": {
  "kernelspec": {
   "display_name": "Python 3",
   "language": "python",
   "name": "python3"
  },
  "language_info": {
   "codemirror_mode": {
    "name": "ipython",
    "version": 3
   },
   "file_extension": ".py",
   "mimetype": "text/x-python",
   "name": "python",
   "nbconvert_exporter": "python",
   "pygments_lexer": "ipython3",
   "version": "3.7.6"
  }
 },
 "nbformat": 4,
 "nbformat_minor": 4
}
