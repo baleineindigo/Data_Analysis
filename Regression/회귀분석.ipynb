{
 "cells": [
  {
   "cell_type": "markdown",
   "metadata": {
    "id": "ekeUpwpd2YOZ"
   },
   "source": [
    "## 회귀분석\n",
    "### 보스턴 집값 예측\n",
    "    회귀식 세우고 predict 값이랑 비교\n",
    "    Accuracy는 predict 값이랑 test값과의 차의 제곱\n",
    "    "
   ]
  },
  {
   "cell_type": "code",
   "execution_count": null,
   "metadata": {
    "id": "QmdupKoL4y5n"
   },
   "outputs": [],
   "source": [
    "import torch\n",
    "import numpy as np\n",
    "import pandas as pd\n",
    "import warnings\n",
    "warnings.filterwarnings(action='ignore')\n",
    "import matplotlib.pyplot as plt\n",
    "import seaborn as sns\n",
    "import pandas_profiling\n",
    "from sklearn.datasets import load_boston\n",
    "from sklearn.datasets import make_regression\n",
    "import sklearn.linear_model as lm\n",
    "import statsmodels.api as sm\n",
    "import matplotlib.font_manager as fm\n",
    "from sklearn.preprocessing import StandardScaler\n",
    "from sklearn.decomposition import PCA\n",
    "\n",
    "\n",
    "# # 그래프에서 마이너스 폰트 깨지는 문제에 대한 대처\n",
    "# import matplotlib as mpl\n",
    "# mpl.rcParams['axes.unicode_minus'] = False\n",
    "\n",
    "# # GPU 설정 : 런타임 > 런타임 유형 변경 > GPU\n",
    "# # GPU 사용 가능한지 확인\n",
    "# device=torch.device(\"cuda\" if torch.cuda.is_available() else \"cpu\")\n",
    "# device"
   ]
  },
  {
   "cell_type": "code",
   "execution_count": null,
   "metadata": {
    "id": "WGy8gOWe4y3A"
   },
   "outputs": [],
   "source": [
    "# 실행시 등장하는 URL을 클릭하여 허용해주면 인증KEY가 나타난다. \n",
    "# 복사하여 URL아래 빈칸에 붙여넣으면 마운트에 성공하게된다.\n",
    "# from google.colab import drive\n",
    "# drive.mount('.playdata/ice/py_workspace/NLP/소설작가분류_NLP/data')\n",
    "# from google.colab import drive\n",
    "# drive.mount('/content/drive')"
   ]
  },
  {
   "cell_type": "code",
   "execution_count": null,
   "metadata": {
    "id": "lcIiKAjA4yu3"
   },
   "outputs": [],
   "source": [
    "# 특정파일을 가져오고 싶은 경우 다음과 같이 접근한다.\n",
    "bst=load_boston()\n",
    "dir(bst)\n",
    "bst"
   ]
  },
  {
   "cell_type": "code",
   "execution_count": null,
   "metadata": {
    "id": "Ua0nIXBo4ykZ"
   },
   "outputs": [],
   "source": [
    "# 데이터 프레임 형태로 가공\n",
    "bst_data=pd.DataFrame(data=bst.data,columns=bst.feature_names)\n",
    "bst_target=pd.DataFrame(data=bst.target,columns=[\"House_Price_Mediv\"]) \n",
    "bst_all=pd.concat([bst_data,bst_target],axis=1)"
   ]
  },
  {
   "cell_type": "code",
   "execution_count": null,
   "metadata": {
    "id": "a5HXvnqz3NAK"
   },
   "outputs": [],
   "source": [
    "# pairplot\n",
    "print(bst_all.columns)\n",
    "bst_all"
   ]
  },
  {
   "cell_type": "code",
   "execution_count": null,
   "metadata": {
    "id": "On59IhWn4s7z"
   },
   "outputs": [],
   "source": [
    "## 분포 그래프\n",
    "bst_plot=sns.pairplot(bst_all[[\"House_Price_Mediv\", \"RM\", \"AGE\", \"CHAS\"]])"
   ]
  },
  {
   "cell_type": "code",
   "execution_count": null,
   "metadata": {
    "id": "pwEWJb507xR5"
   },
   "outputs": [],
   "source": [
    "## Create Model\n",
    "bst_rg = lm.LinearRegression(fit_intercept=True)"
   ]
  },
  {
   "cell_type": "code",
   "execution_count": null,
   "metadata": {
    "id": "XapztaUNDAIQ"
   },
   "outputs": [],
   "source": [
    "## Create Traing set and Test set with Shuffling\n",
    "bst_shuffled=bst_all.sample(frac=1).reset_index(drop=True)\n",
    "bst_train=bst_shuffled.iloc[:int(len(bst_shuffled.index)*0.75)]\n",
    "bst_test=bst_shuffled.iloc[int(len(bst_shuffled.index)*0.75):]"
   ]
  },
  {
   "cell_type": "code",
   "execution_count": null,
   "metadata": {
    "id": "jOr7DsU19eN2"
   },
   "outputs": [],
   "source": [
    "## Train\n",
    "rg_model=bst_rg.fit(bst_train.iloc[:,:-1],bst_train.iloc[:,-1])"
   ]
  },
  {
   "cell_type": "code",
   "execution_count": null,
   "metadata": {
    "id": "DwjtLjrP_Lgi"
   },
   "outputs": [],
   "source": [
    "# 추정치\n",
    "print(rg_model.coef_)\n",
    "print(rg_model.intercept_)"
   ]
  },
  {
   "cell_type": "code",
   "execution_count": null,
   "metadata": {
    "id": "sKPKGX2UCBmv"
   },
   "outputs": [],
   "source": [
    "# Predict\n",
    "bst_predict=rg_model.predict(bst_test.iloc[:,:-1])"
   ]
  },
  {
   "cell_type": "code",
   "execution_count": null,
   "metadata": {
    "id": "BmJ_FYuX_qOu"
   },
   "outputs": [],
   "source": [
    "# 정확도 확인\n",
    "# print(bst_test.iloc[:,-1],\"\\n 길이 : \",len(bst_test.iloc[:,-1]))\n",
    "# print(bst_predict,\"\\n 길이 : \",len(bst_predict))\n",
    "def residual(predict,test):\n",
    "    diff_pred_test=np.array(predict)-np.array(test)\n",
    "    sqrt_diff=np.square(diff_pred_test)   \n",
    "    return np.sum(sqrt_diff)\n",
    "\n",
    "residual(bst_predict,bst_test.iloc[:,-1])"
   ]
  },
  {
   "cell_type": "code",
   "execution_count": null,
   "metadata": {
    "id": "eYScryQ2Bzm8"
   },
   "outputs": [],
   "source": [
    "plt.plot(bst_predict)\n",
    "plt.plot(bst_test.iloc[:,-1])\n",
    "plt.show()"
   ]
  },
  {
   "cell_type": "markdown",
   "metadata": {
    "id": "jBa3bU_IMETs"
   },
   "source": [
    "## 회귀분석\n",
    "### 보스턴 집값 예측\n",
    "    OLS 모델로 추정"
   ]
  },
  {
   "cell_type": "code",
   "execution_count": null,
   "metadata": {
    "id": "G884SfNU2dnE"
   },
   "outputs": [],
   "source": []
  },
  {
   "cell_type": "code",
   "execution_count": null,
   "metadata": {
    "id": "L8hSbGydIuzR"
   },
   "outputs": [],
   "source": [
    "## OLS 모델링\n",
    "bst_scale=StandardScaler().fit_transform(bst_all)\n",
    "bst_scale=pd.DataFrame(data=bst_scale,index=bst_all.index,columns=bst_all.columns)\n",
    "bst_train=bst_scale.iloc[:int(len(bst_scale.index)*0.75)]\n",
    "bst_test=bst_scale.iloc[int(len(bst_scale.index)*0.75):]\n",
    "\n",
    "bst_ols=sm.OLS.from_formula(\"House_Price_Mediv~NOX+RM+DIS+RAD+PTRATIO+LSTAT\"\n",
    "                            ,data=bst_train)"
   ]
  },
  {
   "cell_type": "code",
   "execution_count": null,
   "metadata": {
    "id": "D3vv_16eIxhX"
   },
   "outputs": [],
   "source": [
    "# Training the Model and Summary one \n",
    "model=bst_ols.fit()\n",
    "print(model.summary())"
   ]
  },
  {
   "cell_type": "code",
   "execution_count": null,
   "metadata": {
    "id": "huv57phJIyy3"
   },
   "outputs": [],
   "source": [
    "# Predict\n",
    "bst_predict=model.predict(bst_test.iloc[:,:-1])\n",
    "bst_predict"
   ]
  },
  {
   "cell_type": "code",
   "execution_count": null,
   "metadata": {
    "id": "Oa3LCwBATx7z"
   },
   "outputs": [],
   "source": [
    "# 잔차 그래프\n",
    "model.resid.plot(style=\"o\")\n",
    "plt.title(\"잔차 벡터\")\n",
    "plt.xlabel(\"데이터 번호\")\n",
    "plt.ylabel(\"잔차\")\n",
    "plt.show()"
   ]
  },
  {
   "cell_type": "code",
   "execution_count": null,
   "metadata": {
    "id": "7dCFYL9GT9tQ"
   },
   "outputs": [],
   "source": [
    "# 잔차\n",
    "print(model.resid.sum())"
   ]
  },
  {
   "cell_type": "code",
   "execution_count": null,
   "metadata": {
    "id": "AMo8BvC4UuMY"
   },
   "outputs": [],
   "source": [
    "residual(bst_predict,bst_test.iloc[:,-1])"
   ]
  },
  {
   "cell_type": "markdown",
   "metadata": {
    "id": "TetCXrjt6b6T"
   },
   "source": [
    "## 전처리 및 PCA 적용한 회귀분석\n",
    "1. Scaling(Normalize)\n",
    "2. Check Correlation & Multi Linear\n",
    "3. Principle Component Analysis\n",
    "4. Regression Analysis\n"
   ]
  },
  {
   "cell_type": "code",
   "execution_count": null,
   "metadata": {
    "id": "fiisVC8YwnUC"
   },
   "outputs": [],
   "source": [
    "## 변수간 상관관계 및 다중공선성\n",
    "cmap = sns.light_palette(\"darkgray\", as_cmap=True)\n",
    "sns.heatmap(bst_all.corr(), annot=True, cmap=cmap)\n",
    "plt.show()\n",
    "bst_all.corr()*100"
   ]
  },
  {
   "cell_type": "code",
   "execution_count": null,
   "metadata": {
    "id": "fgd-f1V4wnme"
   },
   "outputs": [],
   "source": [
    "## 스케일링\n",
    "bst_scale=StandardScaler().fit_transform(bst_all)\n",
    "bst_scale=pd.DataFrame(data=bst_scale,index=bst_all.index,columns=bst_all.columns)\n",
    "bst_scale"
   ]
  },
  {
   "cell_type": "code",
   "execution_count": null,
   "metadata": {
    "id": "_gcTKkCH2a4l"
   },
   "outputs": [],
   "source": [
    "# 주성분 분석\n",
    "## 주성분을 몇개로 할지 결정. 이거는 사람이 보고 정해줘야 함\n",
    "def min_pca():\n",
    "    pca_sum=[]\n",
    "    for i in range(1,len(bst_scale.columns)-1):\n",
    "        pca = PCA(n_components=i)\n",
    "        printcipalComponents = pca.fit_transform(bst_scale.iloc[:,:-1])\n",
    "        principalDf = pd.DataFrame(data=printcipalComponents)\n",
    "        pca_sum.append(round(sum(pca.explained_variance_ratio_),4))\n",
    "    return pca_sum\n",
    "min_pca()\n",
    "#[0,0.4722,0.5843,0.677,0.7448,0.81,0.8623,0.8994,0.9302,0.9513,0.9682,0.982,0.9948,1.0]\n"
   ]
  },
  {
   "cell_type": "code",
   "execution_count": null,
   "metadata": {
    "id": "UXpT471rVzU3"
   },
   "outputs": [],
   "source": [
    "# 주성분 5개까지 뽑기\n",
    "n=5\n",
    "pca = PCA(n_components=n)\n",
    "col_name=['pc'+str(i) for i in range(1,n+1)]\n",
    "printcipalComponents = pca.fit_transform(bst_scale.iloc[:,:-1])\n",
    "principalDf = pd.DataFrame(data=printcipalComponents,\n",
    "                           columns = col_name)\n",
    "principalDf\n",
    "pca_bst=pd.concat([principalDf.iloc[:len(bst_train),:],bst_train.iloc[:,-1]],axis=1)\n",
    "pca_bst"
   ]
  },
  {
   "cell_type": "code",
   "execution_count": null,
   "metadata": {
    "id": "5TeVh_CjwnWw"
   },
   "outputs": [],
   "source": [
    "# Create Traing set and Test set\n",
    "bst_train=pca_bst.iloc[:int(len(pca_bst.index)*0.75)]\n",
    "bst_test=pca_bst.iloc[int(len(pca_bst.index)*0.75):]\n",
    "bst_test"
   ]
  },
  {
   "cell_type": "code",
   "execution_count": null,
   "metadata": {
    "id": "AO2iW6x1uK6v"
   },
   "outputs": [],
   "source": [
    "## 회귀분석\n",
    "pca_bst_ols=sm.OLS.from_formula(\"House_Price_Mediv ~ pc1+pc2+pc3+pc4+pc5\"\n",
    "                                ,data=bst_train)\n",
    "pca_bst_model=pca_bst_ols.fit()"
   ]
  },
  {
   "cell_type": "code",
   "execution_count": null,
   "metadata": {
    "id": "WyDiX1xOCfYj"
   },
   "outputs": [],
   "source": [
    "print(pca_bst_model.summary())"
   ]
  },
  {
   "cell_type": "code",
   "execution_count": null,
   "metadata": {
    "id": "PUF68iT3CwNX"
   },
   "outputs": [],
   "source": [
    "# Predict# Predict\n",
    "bst_predict=pca_bst_model.predict(bst_test.iloc[:,:-1])\n",
    "bst_predict"
   ]
  },
  {
   "cell_type": "code",
   "execution_count": null,
   "metadata": {
    "id": "HNRBw_YcD4vv"
   },
   "outputs": [],
   "source": [
    "# 잔차\n",
    "pca_bst_model.resid.sum()"
   ]
  },
  {
   "cell_type": "code",
   "execution_count": null,
   "metadata": {
    "id": "RXt5B8KSGjEv"
   },
   "outputs": [],
   "source": [
    "print(\"[bst_predict]\\n\",bst_predict,\"\\n\\n [bst_test] \\n\",bst_test.iloc[:,-1])\n",
    "print(\"========================================================\")\n",
    "residual(bst_predict,bst_test.iloc[:,-1])"
   ]
  },
  {
   "cell_type": "code",
   "execution_count": null,
   "metadata": {
    "id": "Fcs5GfyHIHfN"
   },
   "outputs": [],
   "source": []
  },
  {
   "cell_type": "code",
   "execution_count": null,
   "metadata": {
    "id": "cmuClhhRKFHb"
   },
   "outputs": [],
   "source": []
  },
  {
   "cell_type": "code",
   "execution_count": null,
   "metadata": {
    "id": "hPLxr16LMxli"
   },
   "outputs": [],
   "source": []
  }
 ],
 "metadata": {
  "accelerator": "GPU",
  "colab": {
   "authorship_tag": "ABX9TyOmLLFDB23gr+g6VKynzB8S",
   "collapsed_sections": [],
   "name": "회귀분석.ipynb",
   "private_outputs": true,
   "provenance": []
  },
  "kernelspec": {
   "display_name": "Python 3",
   "language": "python",
   "name": "python3"
  },
  "language_info": {
   "codemirror_mode": {
    "name": "ipython",
    "version": 3
   },
   "file_extension": ".py",
   "mimetype": "text/x-python",
   "name": "python",
   "nbconvert_exporter": "python",
   "pygments_lexer": "ipython3",
   "version": "3.7.7"
  }
 },
 "nbformat": 4,
 "nbformat_minor": 1
}
