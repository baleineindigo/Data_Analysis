{
 "cells": [
  {
   "cell_type": "markdown",
   "metadata": {},
   "source": [
    "## 시계열 데이터 분석 with Pandas\n",
    "\n",
    "- DataRime Index\n",
    "- Time Resampling : 연/월/주/시/분/초 단위로 집계\n",
    "- Time Shifting : 시간을 lag하는 경우\n",
    "- Rolling and Expanding : 노이즈를 포함하는 데이터에서 일반적인 트렌드를 구하기 위해 rolling mean 사용"
   ]
  },
  {
   "cell_type": "code",
   "execution_count": 2,
   "metadata": {},
   "outputs": [],
   "source": [
    "import numpy as np\n",
    "import pandas as pd\n",
    "import matplotlib.pyplot as plt\n",
    "from datetime import datetime"
   ]
  },
  {
   "cell_type": "code",
   "execution_count": 6,
   "metadata": {},
   "outputs": [
    {
     "data": {
      "text/plain": [
       "datetime.datetime(2020, 10, 24, 0, 0)"
      ]
     },
     "execution_count": 6,
     "metadata": {},
     "output_type": "execute_result"
    }
   ],
   "source": [
    "# 날짜 형식의 자료 만들기\n",
    "today=datetime(2020,10,24)\n",
    "print(today)"
   ]
  },
  {
   "cell_type": "code",
   "execution_count": 21,
   "metadata": {},
   "outputs": [
    {
     "name": "stdout",
     "output_type": "stream",
     "text": [
      "dates :  [datetime.datetime(2020, 10, 24, 0, 0), datetime.datetime(2020, 10, 25, 0, 0), datetime.datetime(2019, 10, 25, 0, 0)]\n",
      "dt_idx :  DatetimeIndex(['2020-10-24', '2020-10-25', '2019-10-25'], dtype='datetime64[ns]', freq=None)\n"
     ]
    }
   ],
   "source": [
    "# 날짜 인덱싱\n",
    "dates=[datetime(2020,10,24),datetime(2020,10,25),datetime(2019,10,16)]\n",
    "print(\"dates : \",dates)\n",
    "dt_idx=pd.DatetimeIndex(dates)\n",
    "print(\"dt_idx : \",dt_idx)"
   ]
  },
  {
   "cell_type": "code",
   "execution_count": 27,
   "metadata": {},
   "outputs": [
    {
     "name": "stdout",
     "output_type": "stream",
     "text": [
      "                   A         B\n",
      "2020-10-24  0.709739 -0.374505\n",
      "2020-10-25  1.448306 -0.671488\n",
      "2019-10-25 -0.280037 -1.144889\n"
     ]
    }
   ],
   "source": [
    "# dataFrame\n",
    "data=np.random.randn(3,2)\n",
    "cols=[\"A\",\"B\"]\n",
    "df=pd.DataFrame(data=data,index=dt_idx,columns=cols)\n",
    "print(df)"
   ]
  },
  {
   "cell_type": "code",
   "execution_count": 33,
   "metadata": {},
   "outputs": [
    {
     "name": "stdout",
     "output_type": "stream",
     "text": [
      "2019-10-25 00:00:00\n",
      "2020-10-25 00:00:00\n",
      "Index(['Saturday', 'Sunday', 'Friday'], dtype='object')\n",
      "[2 0 1]\n"
     ]
    }
   ],
   "source": [
    "print(df.index.min()) # 가장 작은 값\n",
    "print(df.index.max()) # 가장 큰 값\n",
    "print(df.index.day_name()) #요일\n",
    "print(df.index.argsort()) # 작은 값부터 데이터의 인덱스 반환"
   ]
  },
  {
   "cell_type": "markdown",
   "metadata": {},
   "source": [
    "### Resampling"
   ]
  },
  {
   "cell_type": "code",
   "execution_count": 43,
   "metadata": {},
   "outputs": [
    {
     "name": "stdout",
     "output_type": "stream",
     "text": [
      "         Date        Open        High         Low       Close   Adj Close  \\\n",
      "0  2014-09-29  100.589996  100.690002   98.040001   99.620003   93.514290   \n",
      "1  2014-10-06   99.949997  102.379997   98.309998  100.730003   94.556244   \n",
      "2  2014-10-13  101.330002  101.779999   95.180000   97.669998   91.683792   \n",
      "3  2014-10-20   98.320000  105.489998   98.220001  105.220001   98.771042   \n",
      "4  2014-10-27  104.849998  108.040001  104.699997  108.000000  101.380676   \n",
      "\n",
      "      Volume  \n",
      "0  142718700  \n",
      "1  280258200  \n",
      "2  358539800  \n",
      "3  358532900  \n",
      "4  220230600  \n",
      "<class 'pandas.core.frame.DataFrame'>\n",
      "RangeIndex: 184 entries, 0 to 183\n",
      "Data columns (total 7 columns):\n",
      " #   Column     Non-Null Count  Dtype  \n",
      "---  ------     --------------  -----  \n",
      " 0   Date       184 non-null    object \n",
      " 1   Open       184 non-null    float64\n",
      " 2   High       184 non-null    float64\n",
      " 3   Low        184 non-null    float64\n",
      " 4   Close      184 non-null    float64\n",
      " 5   Adj Close  184 non-null    float64\n",
      " 6   Volume     184 non-null    int64  \n",
      "dtypes: float64(5), int64(1), object(1)\n",
      "memory usage: 10.2+ KB\n",
      "None\n",
      "             Open        High         Low       Close   Adj Close  \\\n",
      "count  184.000000  184.000000  184.000000  184.000000  184.000000   \n",
      "mean   127.040245  129.918098  124.340381  127.352663  123.838032   \n",
      "std     24.314449   24.577906   24.176736   24.356534   25.655569   \n",
      "min     92.389999   93.769997   89.470001   90.519997   87.796822   \n",
      "25%    108.882500  112.362499  106.152502  109.204998  105.301766   \n",
      "50%    118.895000  120.865002  116.870003  119.190003  114.999730   \n",
      "75%    144.935005  147.695000  143.227494  144.704994  143.039467   \n",
      "max    180.289993  183.500000  177.619995  179.979996  179.979996   \n",
      "\n",
      "             Volume  \n",
      "count  1.840000e+02  \n",
      "mean   1.910168e+08  \n",
      "std    8.160281e+07  \n",
      "min    3.839850e+07  \n",
      "25%    1.273706e+08  \n",
      "50%    1.744112e+08  \n",
      "75%    2.207755e+08  \n",
      "max    5.003630e+08  \n"
     ]
    }
   ],
   "source": [
    "df=pd.read_csv('../data/AAPL.csv')\n",
    "print(df.head())\n",
    "print(df.info())\n",
    "print(df.describe())"
   ]
  },
  {
   "cell_type": "code",
   "execution_count": 58,
   "metadata": {},
   "outputs": [],
   "source": [
    "# 날짜형식으로 컬럼 형식 변경\n",
    "df['Date']=df['Date'].apply(pd.to_datetime)\n",
    "df.set_index(\"Date\",inplace=True)"
   ]
  },
  {
   "cell_type": "code",
   "execution_count": 66,
   "metadata": {
    "scrolled": true
   },
   "outputs": [
    {
     "name": "stdout",
     "output_type": "stream",
     "text": [
      "Date\n",
      "2014-09-29     9\n",
      "2014-10-06    10\n",
      "2014-10-13    10\n",
      "2014-10-20    10\n",
      "2014-10-27    10\n",
      "              ..\n",
      "2018-03-05     3\n",
      "2018-03-12     3\n",
      "2018-03-19     3\n",
      "2018-03-26     3\n",
      "2018-03-29     3\n",
      "Name: month, Length: 184, dtype: int64\n",
      "Date\n",
      "2014-09-29    2014\n",
      "2014-10-06    2014\n",
      "2014-10-13    2014\n",
      "2014-10-20    2014\n",
      "2014-10-27    2014\n",
      "              ... \n",
      "2018-03-05    2018\n",
      "2018-03-12    2018\n",
      "2018-03-19    2018\n",
      "2018-03-26    2018\n",
      "2018-03-29    2018\n",
      "Name: year, Length: 184, dtype: int64\n",
      "Date\n",
      "2014-09-29    29\n",
      "2014-10-06     6\n",
      "2014-10-13    13\n",
      "2014-10-20    20\n",
      "2014-10-27    27\n",
      "              ..\n",
      "2018-03-05     5\n",
      "2018-03-12    12\n",
      "2018-03-19    19\n",
      "2018-03-26    26\n",
      "2018-03-29    29\n",
      "Name: day, Length: 184, dtype: int64\n"
     ]
    },
    {
     "data": {
      "text/html": [
       "<div>\n",
       "<style scoped>\n",
       "    .dataframe tbody tr th:only-of-type {\n",
       "        vertical-align: middle;\n",
       "    }\n",
       "\n",
       "    .dataframe tbody tr th {\n",
       "        vertical-align: top;\n",
       "    }\n",
       "\n",
       "    .dataframe thead th {\n",
       "        text-align: right;\n",
       "    }\n",
       "</style>\n",
       "<table border=\"1\" class=\"dataframe\">\n",
       "  <thead>\n",
       "    <tr style=\"text-align: right;\">\n",
       "      <th></th>\n",
       "      <th>Open</th>\n",
       "      <th>High</th>\n",
       "      <th>Low</th>\n",
       "      <th>Close</th>\n",
       "      <th>Adj Close</th>\n",
       "      <th>Volume</th>\n",
       "      <th>month</th>\n",
       "      <th>year</th>\n",
       "      <th>day</th>\n",
       "    </tr>\n",
       "    <tr>\n",
       "      <th>Date</th>\n",
       "      <th></th>\n",
       "      <th></th>\n",
       "      <th></th>\n",
       "      <th></th>\n",
       "      <th></th>\n",
       "      <th></th>\n",
       "      <th></th>\n",
       "      <th></th>\n",
       "      <th></th>\n",
       "    </tr>\n",
       "  </thead>\n",
       "  <tbody>\n",
       "    <tr>\n",
       "      <th>2014-09-29</th>\n",
       "      <td>100.589996</td>\n",
       "      <td>100.690002</td>\n",
       "      <td>98.040001</td>\n",
       "      <td>99.620003</td>\n",
       "      <td>93.514290</td>\n",
       "      <td>142718700</td>\n",
       "      <td>9</td>\n",
       "      <td>2014</td>\n",
       "      <td>29</td>\n",
       "    </tr>\n",
       "    <tr>\n",
       "      <th>2014-10-06</th>\n",
       "      <td>99.949997</td>\n",
       "      <td>102.379997</td>\n",
       "      <td>98.309998</td>\n",
       "      <td>100.730003</td>\n",
       "      <td>94.556244</td>\n",
       "      <td>280258200</td>\n",
       "      <td>10</td>\n",
       "      <td>2014</td>\n",
       "      <td>6</td>\n",
       "    </tr>\n",
       "    <tr>\n",
       "      <th>2014-10-13</th>\n",
       "      <td>101.330002</td>\n",
       "      <td>101.779999</td>\n",
       "      <td>95.180000</td>\n",
       "      <td>97.669998</td>\n",
       "      <td>91.683792</td>\n",
       "      <td>358539800</td>\n",
       "      <td>10</td>\n",
       "      <td>2014</td>\n",
       "      <td>13</td>\n",
       "    </tr>\n",
       "    <tr>\n",
       "      <th>2014-10-20</th>\n",
       "      <td>98.320000</td>\n",
       "      <td>105.489998</td>\n",
       "      <td>98.220001</td>\n",
       "      <td>105.220001</td>\n",
       "      <td>98.771042</td>\n",
       "      <td>358532900</td>\n",
       "      <td>10</td>\n",
       "      <td>2014</td>\n",
       "      <td>20</td>\n",
       "    </tr>\n",
       "    <tr>\n",
       "      <th>2014-10-27</th>\n",
       "      <td>104.849998</td>\n",
       "      <td>108.040001</td>\n",
       "      <td>104.699997</td>\n",
       "      <td>108.000000</td>\n",
       "      <td>101.380676</td>\n",
       "      <td>220230600</td>\n",
       "      <td>10</td>\n",
       "      <td>2014</td>\n",
       "      <td>27</td>\n",
       "    </tr>\n",
       "    <tr>\n",
       "      <th>...</th>\n",
       "      <td>...</td>\n",
       "      <td>...</td>\n",
       "      <td>...</td>\n",
       "      <td>...</td>\n",
       "      <td>...</td>\n",
       "      <td>...</td>\n",
       "      <td>...</td>\n",
       "      <td>...</td>\n",
       "      <td>...</td>\n",
       "    </tr>\n",
       "    <tr>\n",
       "      <th>2018-03-05</th>\n",
       "      <td>175.210007</td>\n",
       "      <td>180.000000</td>\n",
       "      <td>174.270004</td>\n",
       "      <td>179.979996</td>\n",
       "      <td>179.979996</td>\n",
       "      <td>139852700</td>\n",
       "      <td>3</td>\n",
       "      <td>2018</td>\n",
       "      <td>5</td>\n",
       "    </tr>\n",
       "    <tr>\n",
       "      <th>2018-03-12</th>\n",
       "      <td>180.289993</td>\n",
       "      <td>183.500000</td>\n",
       "      <td>177.619995</td>\n",
       "      <td>178.020004</td>\n",
       "      <td>178.020004</td>\n",
       "      <td>155417500</td>\n",
       "      <td>3</td>\n",
       "      <td>2018</td>\n",
       "      <td>12</td>\n",
       "    </tr>\n",
       "    <tr>\n",
       "      <th>2018-03-19</th>\n",
       "      <td>177.320007</td>\n",
       "      <td>177.470001</td>\n",
       "      <td>164.940002</td>\n",
       "      <td>164.940002</td>\n",
       "      <td>164.940002</td>\n",
       "      <td>172670700</td>\n",
       "      <td>3</td>\n",
       "      <td>2018</td>\n",
       "      <td>19</td>\n",
       "    </tr>\n",
       "    <tr>\n",
       "      <th>2018-03-26</th>\n",
       "      <td>168.070007</td>\n",
       "      <td>175.149994</td>\n",
       "      <td>165.190002</td>\n",
       "      <td>167.779999</td>\n",
       "      <td>167.779999</td>\n",
       "      <td>157898400</td>\n",
       "      <td>3</td>\n",
       "      <td>2018</td>\n",
       "      <td>26</td>\n",
       "    </tr>\n",
       "    <tr>\n",
       "      <th>2018-03-29</th>\n",
       "      <td>167.804993</td>\n",
       "      <td>171.750000</td>\n",
       "      <td>166.899994</td>\n",
       "      <td>167.779999</td>\n",
       "      <td>167.779999</td>\n",
       "      <td>38398505</td>\n",
       "      <td>3</td>\n",
       "      <td>2018</td>\n",
       "      <td>29</td>\n",
       "    </tr>\n",
       "  </tbody>\n",
       "</table>\n",
       "<p>184 rows × 9 columns</p>\n",
       "</div>"
      ],
      "text/plain": [
       "                  Open        High         Low       Close   Adj Close  \\\n",
       "Date                                                                     \n",
       "2014-09-29  100.589996  100.690002   98.040001   99.620003   93.514290   \n",
       "2014-10-06   99.949997  102.379997   98.309998  100.730003   94.556244   \n",
       "2014-10-13  101.330002  101.779999   95.180000   97.669998   91.683792   \n",
       "2014-10-20   98.320000  105.489998   98.220001  105.220001   98.771042   \n",
       "2014-10-27  104.849998  108.040001  104.699997  108.000000  101.380676   \n",
       "...                ...         ...         ...         ...         ...   \n",
       "2018-03-05  175.210007  180.000000  174.270004  179.979996  179.979996   \n",
       "2018-03-12  180.289993  183.500000  177.619995  178.020004  178.020004   \n",
       "2018-03-19  177.320007  177.470001  164.940002  164.940002  164.940002   \n",
       "2018-03-26  168.070007  175.149994  165.190002  167.779999  167.779999   \n",
       "2018-03-29  167.804993  171.750000  166.899994  167.779999  167.779999   \n",
       "\n",
       "               Volume  month  year  day  \n",
       "Date                                     \n",
       "2014-09-29  142718700      9  2014   29  \n",
       "2014-10-06  280258200     10  2014    6  \n",
       "2014-10-13  358539800     10  2014   13  \n",
       "2014-10-20  358532900     10  2014   20  \n",
       "2014-10-27  220230600     10  2014   27  \n",
       "...               ...    ...   ...  ...  \n",
       "2018-03-05  139852700      3  2018    5  \n",
       "2018-03-12  155417500      3  2018   12  \n",
       "2018-03-19  172670700      3  2018   19  \n",
       "2018-03-26  157898400      3  2018   26  \n",
       "2018-03-29   38398505      3  2018   29  \n",
       "\n",
       "[184 rows x 9 columns]"
      ]
     },
     "execution_count": 66,
     "metadata": {},
     "output_type": "execute_result"
    }
   ],
   "source": [
    "# index에서 연월일 추출\n",
    "df['month']=df.index.month\n",
    "print(df['month'])\n",
    "df['year']=df.index.year\n",
    "print(df['year'])\n",
    "df['day']=df.index.day\n",
    "print(df['day'])\n",
    "df"
   ]
  },
  {
   "cell_type": "code",
   "execution_count": null,
   "metadata": {},
   "outputs": [],
   "source": []
  }
 ],
 "metadata": {
  "kernelspec": {
   "display_name": "Python 3",
   "language": "python",
   "name": "python3"
  },
  "language_info": {
   "codemirror_mode": {
    "name": "ipython",
    "version": 3
   },
   "file_extension": ".py",
   "mimetype": "text/x-python",
   "name": "python",
   "nbconvert_exporter": "python",
   "pygments_lexer": "ipython3",
   "version": "3.7.7"
  }
 },
 "nbformat": 4,
 "nbformat_minor": 4
}
