{
  "nbformat": 4,
  "nbformat_minor": 0,
  "metadata": {
    "colab": {
      "name": "SVM.ipynb",
      "private_outputs": true,
      "provenance": [],
      "collapsed_sections": [],
      "authorship_tag": "ABX9TyNWDSU+9pW+zEWfJsZEL64b",
      "include_colab_link": true
    },
    "kernelspec": {
      "name": "python3",
      "display_name": "Python 3"
    }
  },
  "cells": [
    {
      "cell_type": "markdown",
      "metadata": {
        "id": "view-in-github",
        "colab_type": "text"
      },
      "source": [
        "<a href=\"https://colab.research.google.com/github/baleineindigo/Data_Analysis/blob/master/SVM.ipynb\" target=\"_parent\"><img src=\"https://colab.research.google.com/assets/colab-badge.svg\" alt=\"Open In Colab\"/></a>"
      ]
    },
    {
      "cell_type": "code",
      "metadata": {
        "id": "Cx4B60odETlM"
      },
      "source": [
        "import numpy as np\r\n",
        "import pandas as pd\r\n",
        "import matplotlib.pyplot as plt"
      ],
      "execution_count": null,
      "outputs": []
    },
    {
      "cell_type": "markdown",
      "metadata": {
        "id": "KAD1pUtZF4TD"
      },
      "source": [
        "## SVM 연습\r\n",
        "붓꽃 문제를 서포트 벡터 머신으로 풀어보자. 다음과 같은 데이터만 사용한 이진 분류 문제로 바꾸어 풀어본다.\r\n",
        "\r\n",
        "\r\n",
        "    특징 변수를 꽃받침의 길이와 폭만 사용한다.\r\n",
        "    붓꽃 종을 Setosa와 Versicolour만 대상으로 한다.\r\n"
      ]
    },
    {
      "cell_type": "code",
      "metadata": {
        "id": "fq-UC07zEtOF"
      },
      "source": [
        "# 데이터 셋\r\n",
        "from sklearn.datasets import load_iris\r\n",
        "\r\n",
        "X1=load_iris().data[:100,:2]\r\n",
        "Y1=load_iris().target[:100]\r\n",
        "# X1,Y1"
      ],
      "execution_count": null,
      "outputs": []
    },
    {
      "cell_type": "code",
      "metadata": {
        "id": "Eosh_Km-FMMT"
      },
      "source": [
        "# 모델\r\n",
        "from sklearn.svm import SVC\r\n",
        "model1=SVC(kernel=\"linear\",C=1e10).fit(X1,Y1)"
      ],
      "execution_count": null,
      "outputs": []
    },
    {
      "cell_type": "code",
      "metadata": {
        "id": "cXXBMpIDFini"
      },
      "source": [
        "# 평가\r\n",
        "from sklearn.metrics import classification_report\r\n",
        "print(classification_report(Y1,model1.predict(X1)))"
      ],
      "execution_count": null,
      "outputs": []
    },
    {
      "cell_type": "markdown",
      "metadata": {
        "id": "vcCS_33PF9kz"
      },
      "source": [
        "### 슬랙 변수\r\n",
        "선형 분리가 불가능한 경우 slack variable을 사용하여 개별적인 오차를 허용할 수 있다.\r\n",
        "\r\n",
        "    특징 변수를 꽃잎의 길이와 폭만 사용한다.\r\n",
        "    붓꽃 종을 Virginica와 Versicolour만 대상으로 한다."
      ]
    },
    {
      "cell_type": "code",
      "metadata": {
        "id": "lJlo17YlFtDJ"
      },
      "source": [
        "# 데이터 셋 마련\r\n",
        "X2=load_iris().data[50:,2:]\r\n",
        "Y2=load_iris().target[50:]-1\r\n",
        "# X2,Y2"
      ],
      "execution_count": null,
      "outputs": []
    },
    {
      "cell_type": "code",
      "metadata": {
        "id": "iHQUrjmlGu3o"
      },
      "source": [
        "# 모델\r\n",
        "model2=SVC(kernel=\"linear\",C=1e10).fit(X2,Y2)\r\n",
        "# 평가\r\n",
        "print(classification_report(Y2,model2.predict(X2)))"
      ],
      "execution_count": null,
      "outputs": []
    },
    {
      "cell_type": "code",
      "metadata": {
        "id": "OqHcU0TdG6bs"
      },
      "source": [
        "plotnum = 1\r\n",
        "for name, penalty in (('C=1e10', 1e10), ('C=0.1', 0.1)):\r\n",
        "    clf = SVC(kernel='linear', C=penalty).fit(X2, Y2)\r\n",
        "    xx = np.linspace(2, 8)\r\n",
        "\r\n",
        "    x_jin = 2\r\n",
        "    x_jax = 8\r\n",
        "    y_jin = 0\r\n",
        "    y_jax = 3\r\n",
        "    XX, YY = np.mgrid[x_jin:x_jax:200j, y_jin:y_jax:200j]\r\n",
        "\r\n",
        "    levels = [-1, 0, 1]\r\n",
        "    linestyles = ['dashed', 'solid', 'dashed']\r\n",
        "    Z = clf.decision_function(np.c_[XX.ravel(), YY.ravel()])\r\n",
        "    Z = Z.reshape(XX.shape)\r\n",
        "    \r\n",
        "    plt.subplot(1, 2, plotnum)\r\n",
        "    plt.contour(XX, YY, Z, levels, colors='k', linestyles=linestyles)\r\n",
        "    plt.scatter(clf.support_vectors_[:, 0], clf.support_vectors_[:, 1], s=120, linewidth=4)\r\n",
        "    plt.scatter(X2[:, 0], X2[:, 1], c=Y2, s=60, linewidth=1, cmap=plt.cm.Paired)\r\n",
        "    plt.xlim(x_jin, x_jax)\r\n",
        "    plt.ylim(y_jin, y_jax)\r\n",
        "    plt.title(name)\r\n",
        "\r\n",
        "    plotnum += 1\r\n",
        "\r\n",
        "plt.suptitle(\"Influ of Slack Variable : C\")\r\n",
        "plt.tight_layout()\r\n",
        "plt.show()"
      ],
      "execution_count": null,
      "outputs": []
    },
    {
      "cell_type": "code",
      "metadata": {
        "id": "d-gx85doHNXf"
      },
      "source": [
        "# 얼굴 이미지 인식\r\n",
        "from sklearn.datasets import fetch_olivetti_faces\r\n",
        "faces=fetch_olivetti_faces()"
      ],
      "execution_count": null,
      "outputs": []
    },
    {
      "cell_type": "code",
      "metadata": {
        "id": "fmxnKpE0HwX0"
      },
      "source": [
        "# 원래 데이터 분포\r\n",
        "N=2\r\n",
        "M=5\r\n",
        "np.random.seed(100)\r\n",
        "fig=plt.figure(figsize=(9,5))\r\n",
        "plt.subplots_adjust(top=1,bottom=0,hspace=0,wspace=0.05)\r\n",
        "klist=np.random.choice(range(len(faces.data)),N*M)\r\n",
        "\r\n",
        "for i in range(N):\r\n",
        "    for j in range(M):\r\n",
        "        k=klist[i*M+j]\r\n",
        "        ax=fig.add_subplot(N,M,i*M+j+1)\r\n",
        "        ax.imshow(faces.images[k],cmap=plt.cm.bone)\r\n",
        "        ax.grid(False)\r\n",
        "\r\n",
        "plt.tight_layout()\r\n",
        "plt.show()"
      ],
      "execution_count": null,
      "outputs": []
    },
    {
      "cell_type": "code",
      "metadata": {
        "id": "Deo5KeY2IyIt"
      },
      "source": [
        "# 모델 예측\r\n",
        "# train & test set\r\n",
        "from sklearn.model_selection import train_test_split\r\n",
        "X_train,X_test,Y_train,Y_test=train_test_split(faces.data,faces.target,test_size=0.4,random_state=0)\r\n",
        "# print(len(X_train),len(X_test),len(Y_train),len(Y_test))\r\n",
        "\r\n",
        "# 모델 학습\r\n",
        "svc=SVC(kernel=\"linear\").fit(X_train,Y_train)\r\n",
        "\r\n",
        "# 그래프 틀\r\n",
        "N=5\r\n",
        "M=5\r\n",
        "np.random.seed(100)\r\n",
        "fig=plt.figure(figsize=(15,11))\r\n",
        "plt.subplots_adjust(top=0.01,bottom=0,hspace=0,wspace=0.01)\r\n",
        "klist=np.random.choice(range(len(Y_test)),N*M) # 보여줄 사진 번호 임의로 뽑기\r\n",
        "\r\n",
        "for i in range(N):\r\n",
        "    for j in range(M):\r\n",
        "        k=klist[i*M+j]\r\n",
        "        ax=fig.add_subplot(N,M,i*M+j+1)\r\n",
        "        ax.imshow(X_test[k:(k + 1), :].reshape(64, 64),cmap=plt.cm.bone)\r\n",
        "        ax.grid(False)\r\n",
        "        if Y_test[k] == svc.predict(X_test[k:(k+1),:])[0]:\r\n",
        "            plt.title(\"%d == %d\" % (Y_test[k],svc.predict(X_test[k:(k+1),:])[0]))\r\n",
        "        else:\r\n",
        "            plt.title(\"%d != %d\" % (Y_test[k],svc.predict(X_test[k:(k+1),:])[0]))\r\n",
        "\r\n",
        "\r\n",
        "plt.tight_layout()\r\n",
        "plt.show()"
      ],
      "execution_count": null,
      "outputs": []
    },
    {
      "cell_type": "code",
      "metadata": {
        "id": "Tm1xz40hhBT5"
      },
      "source": [
        "from sklearn.metrics import classification_report, accuracy_score\r\n",
        "\r\n",
        "Y_pred_train = svc.predict(X_train)\r\n",
        "Y_pred_test = svc.predict(X_test)"
      ],
      "execution_count": null,
      "outputs": []
    },
    {
      "cell_type": "code",
      "metadata": {
        "id": "QyA476DsmYSr"
      },
      "source": [
        "print(classification_report(y_train, y_pred_train))"
      ],
      "execution_count": null,
      "outputs": []
    },
    {
      "cell_type": "code",
      "metadata": {
        "id": "QSj1oCoMms2S"
      },
      "source": [
        "classification_report(y_test, y_pred_test)\r\n",
        "print(classification_report(y_test, y_pred_test))"
      ],
      "execution_count": null,
      "outputs": []
    },
    {
      "cell_type": "code",
      "metadata": {
        "id": "rXQVIZ_Um7Q9"
      },
      "source": [
        ""
      ],
      "execution_count": null,
      "outputs": []
    }
  ]
}